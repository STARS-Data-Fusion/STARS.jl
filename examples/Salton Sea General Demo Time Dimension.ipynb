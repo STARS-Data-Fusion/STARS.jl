{
 "cells": [
  {
   "cell_type": "code",
   "execution_count": 12,
   "metadata": {},
   "outputs": [],
   "source": [
    "using Nullables\n",
    "using DataFrames\n",
    "using Rasters\n",
    "using Plots\n",
    "using Dates\n",
    "import STARS.coarse_fine_data_fusion\n",
    "import STARS.DataFusionState"
   ]
  },
  {
   "cell_type": "code",
   "execution_count": 13,
   "metadata": {},
   "outputs": [
    {
     "name": "stdout",
     "output_type": "stream",
     "text": [
      "fine images directory: /Users/halverso/Projects/STARS.jl/examples/salton_sea_fine_NIR\n",
      "coarse images directory: /Users/halverso/Projects/STARS.jl/examples/salton_sea_coarse_NIR\n"
     ]
    }
   ],
   "source": [
    "const FINE_IMAGES_DIRECTORY = joinpath(@__DIR__, \"salton_sea_fine_NIR\")\n",
    "const COARSE_IMAGES_DIRECTORY = joinpath(@__DIR__, \"salton_sea_coarse_NIR\")\n",
    "println(\"fine images directory: $(FINE_IMAGES_DIRECTORY)\")\n",
    "println(\"coarse images directory: $(COARSE_IMAGES_DIRECTORY)\")"
   ]
  },
  {
   "cell_type": "code",
   "execution_count": 14,
   "metadata": {},
   "outputs": [
    {
     "data": {
      "text/plain": [
       "20×20×92 Raster{Float64,3}\u001b[90m with dimensions: \u001b[39m\n",
       "  \u001b[31mX\u001b[39m Projected{Float64} \u001b[36mLinRange{Float64}(649980.0, 659290.0, 20)\u001b[39m ForwardOrdered Regular Intervals crs: WellKnownText,\n",
       "  \u001b[31mY\u001b[39m Projected{Float64} \u001b[36mLinRange{Float64}(3.65935e6, 3.65004e6, 20)\u001b[39m ReverseOrdered Regular Intervals crs: WellKnownText,\n",
       "  \u001b[31mTi\u001b[39m Sampled{Date} \u001b[36mDate[2020-10-01, …, 2020-12-31]\u001b[39m ForwardOrdered Irregular Points\n",
       "\u001b[90mextent: \u001b[39mExtent(X = (649980.0, 659780.0), Y = (3.65004e6, 3.65984e6), Ti = (Date(\"2020-10-01\"), Date(\"2020-12-31\")))\u001b[90mmissingval: \u001b[39mNaN\u001b[90mcrs: \u001b[39mPROJCS[\"WGS 84 / UTM zone 11N\",GEOGCS[\"WGS 84\",DATUM[\"WGS_1984\",SPHEROID[\"WGS 84\",6378137,298.257223563,AUTHORITY[\"EPSG\",\"7030\"]],AUTHORITY[\"EPSG\",\"6326\"]],PRIMEM[\"Greenwich\",0,AUTHORITY[\"EPSG\",\"8901\"]],UNIT[\"degree\",0.0174532925199433,AUTHORITY[\"EPSG\",\"9122\"]],AUTHORITY[\"EPSG\",\"4326\"]],PROJECTION[\"Transverse_Mercator\"],PARAMETER[\"latitude_of_origin\",0],PARAMETER[\"central_meridian\",-117],PARAMETER[\"scale_factor\",0.9996],PARAMETER[\"false_easting\",500000],PARAMETER[\"false_northing\",0],UNIT[\"metre\",1,AUTHORITY[\"EPSG\",\"9001\"]],AXIS[\"Easting\",EAST],AXIS[\"Northing\",NORTH],AUTHORITY[\"EPSG\",\"32611\"]]\n",
       "\u001b[90mvalues: \u001b[39m[:, :, 1]\n",
       "      \u001b[90m \u001b[39m    \u001b[90m3.65935e6\u001b[39m  \u001b[90m3.65886e6\u001b[39m  …  \u001b[90m3.65102e6\u001b[39m  \u001b[90m3.65053e6\u001b[39m  \u001b[90m3.65004e6\u001b[39m\n",
       " \u001b[90m649980.0\u001b[39m  0.2876     0.3672        0.3226     0.4534     0.4495\n",
       " \u001b[90m650470.0\u001b[39m  0.2089     0.2781        0.2736     0.3744     0.3779\n",
       " \u001b[90m650960.0\u001b[39m  0.2517     0.2474        0.2735     0.3524     0.3535\n",
       " \u001b[90m651450.0\u001b[39m  0.2986     0.3168        0.2711     0.3546     0.3739\n",
       " \u001b[90m651940.0\u001b[39m  0.2624     0.3053     …  0.2962     0.3427     0.3493\n",
       "      ⋮                          ⋱                        ⋮\n",
       " \u001b[90m656840.0\u001b[39m  0.3409     0.3479        0.3148     0.424      0.3805\n",
       " \u001b[90m657330.0\u001b[39m  0.3465     0.3377        0.3029     0.3521     0.4133\n",
       " \u001b[90m657820.0\u001b[39m  0.333      0.3251        0.3125     0.31       0.3659\n",
       " \u001b[90m658310.0\u001b[39m  0.3476     0.3386     …  0.3145     0.3245     0.3133\n",
       " \u001b[90m658800.0\u001b[39m  0.3555     0.3424        0.3382     0.3373     0.3333\n",
       " \u001b[90m659290.0\u001b[39m  0.3522     0.3381        0.34       0.3422     0.3351\n",
       "\u001b[90m[and 91 more slices...]\u001b[39m"
      ]
     },
     "metadata": {},
     "output_type": "display_data"
    },
    {
     "name": "stdout",
     "output_type": "stream",
     "text": [
      "\n",
      "\n"
     ]
    }
   ],
   "source": [
    "coarse_image_filenames = filter(x -> endswith(x, \".tif\"), readdir(COARSE_IMAGES_DIRECTORY, join=true))\n",
    "coarse_dates = map(filename -> Date(split(basename(filename), \"_\")[1]), coarse_image_filenames)\n",
    "coarse_x = Raster(coarse_image_filenames[1]).dims[1]\n",
    "coarse_y = Raster(coarse_image_filenames[1]).dims[2]\n",
    "coarse_dims = (coarse_x, coarse_y, Ti(coarse_dates))\n",
    "coarse_images = Raster(cat(Raster.(coarse_image_filenames, missingval=NaN)..., dims=3), dims=coarse_dims)"
   ]
  },
  {
   "cell_type": "code",
   "execution_count": 15,
   "metadata": {},
   "outputs": [
    {
     "data": {
      "text/plain": [
       "X{Projected{Float64, LinRange{Float64, Int64}, DimensionalData.Dimensions.LookupArrays.ForwardOrdered, DimensionalData.Dimensions.LookupArrays.Regular{Float64}, DimensionalData.Dimensions.LookupArrays.Intervals{DimensionalData.Dimensions.LookupArrays.Start}, DimensionalData.Dimensions.LookupArrays.Metadata{Rasters.GDALfile, Dict{String, Any}}, WellKnownText{GeoFormatTypes.CRS}, Nothing, X{Colon}}}"
      ]
     },
     "metadata": {},
     "output_type": "display_data"
    }
   ],
   "source": [
    "typeof(coarse_images.dims[1])"
   ]
  },
  {
   "cell_type": "code",
   "execution_count": 16,
   "metadata": {},
   "outputs": [
    {
     "data": {
      "text/plain": [
       "2020-10-15"
      ]
     },
     "metadata": {},
     "output_type": "display_data"
    }
   ],
   "source": [
    "coarse_dates[12:17][4]"
   ]
  },
  {
   "cell_type": "code",
   "execution_count": 17,
   "metadata": {},
   "outputs": [
    {
     "data": {
      "text/plain": [
       "140×140×92 Raster{Float64,3}\u001b[90m with dimensions: \u001b[39m\n",
       "  \u001b[31mX\u001b[39m Projected{Float64} \u001b[36mLinRange{Float64}(649980.0, 659710.0, 140)\u001b[39m ForwardOrdered Regular Intervals crs: WellKnownText,\n",
       "  \u001b[31mY\u001b[39m Projected{Float64} \u001b[36mLinRange{Float64}(3.65977e6, 3.65004e6, 140)\u001b[39m ReverseOrdered Regular Intervals crs: WellKnownText,\n",
       "  \u001b[31mTi\u001b[39m Sampled{Date} \u001b[36mDate[2020-10-01, …, 2020-12-31]\u001b[39m ForwardOrdered Irregular Points\n",
       "\u001b[90mextent: \u001b[39mExtent(X = (649980.0, 659780.0), Y = (3.65004e6, 3.65984e6), Ti = (Date(\"2020-10-01\"), Date(\"2020-12-31\")))\u001b[90mmissingval: \u001b[39mNaN\u001b[90mcrs: \u001b[39mPROJCS[\"WGS 84 / UTM zone 11N\",GEOGCS[\"WGS 84\",DATUM[\"WGS_1984\",SPHEROID[\"WGS 84\",6378137,298.257223563,AUTHORITY[\"EPSG\",\"7030\"]],AUTHORITY[\"EPSG\",\"6326\"]],PRIMEM[\"Greenwich\",0,AUTHORITY[\"EPSG\",\"8901\"]],UNIT[\"degree\",0.0174532925199433,AUTHORITY[\"EPSG\",\"9122\"]],AUTHORITY[\"EPSG\",\"4326\"]],PROJECTION[\"Transverse_Mercator\"],PARAMETER[\"latitude_of_origin\",0],PARAMETER[\"central_meridian\",-117],PARAMETER[\"scale_factor\",0.9996],PARAMETER[\"false_easting\",500000],PARAMETER[\"false_northing\",0],UNIT[\"metre\",1,AUTHORITY[\"EPSG\",\"9001\"]],AXIS[\"Easting\",EAST],AXIS[\"Northing\",NORTH],AUTHORITY[\"EPSG\",\"32611\"]]\n",
       "\u001b[90mvalues: \u001b[39m[:, :, 1]\n",
       "      \u001b[90m \u001b[39m      \u001b[90m3.65977e6\u001b[39m    \u001b[90m3.6597e6\u001b[39m    \u001b[90m3.65963e6\u001b[39m  …    \u001b[90m3.65011e6\u001b[39m    \u001b[90m3.65004e6\u001b[39m\n",
       " \u001b[90m649980.0\u001b[39m  NaN          NaN         NaN             NaN          NaN\n",
       " \u001b[90m650050.0\u001b[39m  NaN          NaN         NaN             NaN          NaN\n",
       " \u001b[90m650120.0\u001b[39m  NaN          NaN         NaN             NaN          NaN\n",
       " \u001b[90m650190.0\u001b[39m  NaN          NaN         NaN             NaN          NaN\n",
       " \u001b[90m650260.0\u001b[39m  NaN          NaN         NaN          …  NaN          NaN\n",
       "      ⋮                                          ⋱    ⋮          \n",
       " \u001b[90m659360.0\u001b[39m  NaN          NaN         NaN             NaN          NaN\n",
       " \u001b[90m659430.0\u001b[39m  NaN          NaN         NaN             NaN          NaN\n",
       " \u001b[90m659500.0\u001b[39m  NaN          NaN         NaN             NaN          NaN\n",
       " \u001b[90m659570.0\u001b[39m  NaN          NaN         NaN          …  NaN          NaN\n",
       " \u001b[90m659640.0\u001b[39m  NaN          NaN         NaN             NaN          NaN\n",
       " \u001b[90m659710.0\u001b[39m  NaN          NaN         NaN             NaN          NaN\n",
       "\u001b[90m[and 91 more slices...]\u001b[39m"
      ]
     },
     "metadata": {},
     "output_type": "display_data"
    },
    {
     "name": "stdout",
     "output_type": "stream",
     "text": [
      "\n",
      "\n"
     ]
    }
   ],
   "source": [
    "fine_image_filenames = filter(x -> endswith(x, \".tif\"), readdir(FINE_IMAGES_DIRECTORY, join=true))\n",
    "fine_dates = map(filename -> Date(split(basename(filename), \"_\")[1]), fine_image_filenames)\n",
    "fine_x = Raster(fine_image_filenames[1]).dims[1]\n",
    "fine_y = Raster(fine_image_filenames[1]).dims[2]\n",
    "fine_dims = (fine_x, fine_y, Ti(fine_dates))\n",
    "fine_images = Raster(cat(Raster.(fine_image_filenames, missingval=NaN)..., dims=3), dims=fine_dims)"
   ]
  },
  {
   "cell_type": "code",
   "execution_count": 18,
   "metadata": {},
   "outputs": [
    {
     "data": {
      "text/plain": [
       "140×140×1 Raster{Float64,3}\u001b[90m with dimensions: \u001b[39m\n",
       "  \u001b[31mX\u001b[39m Projected{Float64} \u001b[36mLinRange{Float64}(649980.0, 659710.0, 140)\u001b[39m ForwardOrdered Regular Intervals crs: WellKnownText,\n",
       "  \u001b[31mY\u001b[39m Projected{Float64} \u001b[36mLinRange{Float64}(3.65977e6, 3.65004e6, 140)\u001b[39m ReverseOrdered Regular Intervals crs: WellKnownText,\n",
       "  \u001b[31mTi\u001b[39m Sampled{Date} \u001b[36mDate[Date(\"2020-10-01\")]\u001b[39m ForwardOrdered Irregular Points\n",
       "\u001b[90mextent: \u001b[39mExtent(X = (649980.0, 659780.0), Y = (3.65004e6, 3.65984e6), Ti = (Date(\"2020-10-01\"), Date(\"2020-10-01\")))\u001b[90mmissingval: \u001b[39mNaN\u001b[90mcrs: \u001b[39mPROJCS[\"WGS 84 / UTM zone 11N\",GEOGCS[\"WGS 84\",DATUM[\"WGS_1984\",SPHEROID[\"WGS 84\",6378137,298.257223563,AUTHORITY[\"EPSG\",\"7030\"]],AUTHORITY[\"EPSG\",\"6326\"]],PRIMEM[\"Greenwich\",0,AUTHORITY[\"EPSG\",\"8901\"]],UNIT[\"degree\",0.0174532925199433,AUTHORITY[\"EPSG\",\"9122\"]],AUTHORITY[\"EPSG\",\"4326\"]],PROJECTION[\"Transverse_Mercator\"],PARAMETER[\"latitude_of_origin\",0],PARAMETER[\"central_meridian\",-117],PARAMETER[\"scale_factor\",0.9996],PARAMETER[\"false_easting\",500000],PARAMETER[\"false_northing\",0],UNIT[\"metre\",1,AUTHORITY[\"EPSG\",\"9001\"]],AXIS[\"Easting\",EAST],AXIS[\"Northing\",NORTH],AUTHORITY[\"EPSG\",\"32611\"]]\n",
       "\u001b[90mvalues: \u001b[39m[:, :, 1]\n",
       "      \u001b[90m \u001b[39m      \u001b[90m3.65977e6\u001b[39m    \u001b[90m3.6597e6\u001b[39m    \u001b[90m3.65963e6\u001b[39m  …    \u001b[90m3.65011e6\u001b[39m    \u001b[90m3.65004e6\u001b[39m\n",
       " \u001b[90m649980.0\u001b[39m  NaN          NaN         NaN             NaN          NaN\n",
       " \u001b[90m650050.0\u001b[39m  NaN          NaN         NaN             NaN          NaN\n",
       " \u001b[90m650120.0\u001b[39m  NaN          NaN         NaN             NaN          NaN\n",
       " \u001b[90m650190.0\u001b[39m  NaN          NaN         NaN             NaN          NaN\n",
       " \u001b[90m650260.0\u001b[39m  NaN          NaN         NaN          …  NaN          NaN\n",
       "      ⋮                                          ⋱    ⋮          \n",
       " \u001b[90m659360.0\u001b[39m  NaN          NaN         NaN             NaN          NaN\n",
       " \u001b[90m659430.0\u001b[39m  NaN          NaN         NaN             NaN          NaN\n",
       " \u001b[90m659500.0\u001b[39m  NaN          NaN         NaN             NaN          NaN\n",
       " \u001b[90m659570.0\u001b[39m  NaN          NaN         NaN          …  NaN          NaN\n",
       " \u001b[90m659640.0\u001b[39m  NaN          NaN         NaN             NaN          NaN\n",
       " \u001b[90m659710.0\u001b[39m  NaN          NaN         NaN             NaN          NaN"
      ]
     },
     "metadata": {},
     "output_type": "display_data"
    },
    {
     "name": "stdout",
     "output_type": "stream",
     "text": [
      "\n",
      "\n"
     ]
    }
   ],
   "source": [
    "fine_images[:,:,[1]]"
   ]
  },
  {
   "cell_type": "code",
   "execution_count": 19,
   "metadata": {},
   "outputs": [
    {
     "data": {
      "text/plain": [
       "140×140×2 Raster{Float64,3}\u001b[90m with dimensions: \u001b[39m\n",
       "  \u001b[31mX\u001b[39m Projected{Float64} \u001b[36mLinRange{Float64}(649980.0, 659710.0, 140)\u001b[39m ForwardOrdered Regular Intervals crs: WellKnownText,\n",
       "  \u001b[31mY\u001b[39m Projected{Float64} \u001b[36mLinRange{Float64}(3.65977e6, 3.65004e6, 140)\u001b[39m ReverseOrdered Regular Intervals crs: WellKnownText,\n",
       "  \u001b[31mTi\u001b[39m Sampled{Date} \u001b[36mDate[Date(\"2020-10-01\"), Date(\"2020-10-02\")]\u001b[39m ForwardOrdered Irregular Points\n",
       "\u001b[90mextent: \u001b[39mExtent(X = (649980.0, 659780.0), Y = (3.65004e6, 3.65984e6), Ti = (Date(\"2020-10-01\"), Date(\"2020-10-02\")))\u001b[90mmissingval: \u001b[39mNaN\u001b[90mcrs: \u001b[39mPROJCS[\"WGS 84 / UTM zone 11N\",GEOGCS[\"WGS 84\",DATUM[\"WGS_1984\",SPHEROID[\"WGS 84\",6378137,298.257223563,AUTHORITY[\"EPSG\",\"7030\"]],AUTHORITY[\"EPSG\",\"6326\"]],PRIMEM[\"Greenwich\",0,AUTHORITY[\"EPSG\",\"8901\"]],UNIT[\"degree\",0.0174532925199433,AUTHORITY[\"EPSG\",\"9122\"]],AUTHORITY[\"EPSG\",\"4326\"]],PROJECTION[\"Transverse_Mercator\"],PARAMETER[\"latitude_of_origin\",0],PARAMETER[\"central_meridian\",-117],PARAMETER[\"scale_factor\",0.9996],PARAMETER[\"false_easting\",500000],PARAMETER[\"false_northing\",0],UNIT[\"metre\",1,AUTHORITY[\"EPSG\",\"9001\"]],AXIS[\"Easting\",EAST],AXIS[\"Northing\",NORTH],AUTHORITY[\"EPSG\",\"32611\"]]\n",
       "\u001b[90mvalues: \u001b[39m[:, :, 1]\n",
       "      \u001b[90m \u001b[39m      \u001b[90m3.65977e6\u001b[39m    \u001b[90m3.6597e6\u001b[39m    \u001b[90m3.65963e6\u001b[39m  …    \u001b[90m3.65011e6\u001b[39m    \u001b[90m3.65004e6\u001b[39m\n",
       " \u001b[90m649980.0\u001b[39m  NaN          NaN         NaN             NaN          NaN\n",
       " \u001b[90m650050.0\u001b[39m  NaN          NaN         NaN             NaN          NaN\n",
       " \u001b[90m650120.0\u001b[39m  NaN          NaN         NaN             NaN          NaN\n",
       " \u001b[90m650190.0\u001b[39m  NaN          NaN         NaN             NaN          NaN\n",
       " \u001b[90m650260.0\u001b[39m  NaN          NaN         NaN          …  NaN          NaN\n",
       "      ⋮                                          ⋱    ⋮          \n",
       " \u001b[90m659360.0\u001b[39m  NaN          NaN         NaN             NaN          NaN\n",
       " \u001b[90m659430.0\u001b[39m  NaN          NaN         NaN             NaN          NaN\n",
       " \u001b[90m659500.0\u001b[39m  NaN          NaN         NaN             NaN          NaN\n",
       " \u001b[90m659570.0\u001b[39m  NaN          NaN         NaN          …  NaN          NaN\n",
       " \u001b[90m659640.0\u001b[39m  NaN          NaN         NaN             NaN          NaN\n",
       " \u001b[90m659710.0\u001b[39m  NaN          NaN         NaN             NaN          NaN\n",
       "\u001b[90m[and 1 more slices...]\u001b[39m"
      ]
     },
     "metadata": {},
     "output_type": "display_data"
    },
    {
     "name": "stdout",
     "output_type": "stream",
     "text": [
      "\n",
      "\n"
     ]
    }
   ],
   "source": [
    "fine_images[:,:,At([Date(\"2020-10-01\"), Date(\"2020-10-02\")])]"
   ]
  },
  {
   "cell_type": "code",
   "execution_count": 20,
   "metadata": {},
   "outputs": [
    {
     "data": {
      "text/plain": [
       "140×140×1 Raster{Float64,3}\u001b[90m with dimensions: \u001b[39m\n",
       "  \u001b[31mX\u001b[39m Projected{Float64} \u001b[36mLinRange{Float64}(649980.0, 659710.0, 140)\u001b[39m ForwardOrdered Regular Intervals crs: WellKnownText,\n",
       "  \u001b[31mY\u001b[39m Projected{Float64} \u001b[36mLinRange{Float64}(3.65977e6, 3.65004e6, 140)\u001b[39m ReverseOrdered Regular Intervals crs: WellKnownText,\n",
       "  \u001b[31mTi\u001b[39m Sampled{Date} \u001b[36mDate[Date(\"2020-10-04\")]\u001b[39m ForwardOrdered Irregular Points\n",
       "\u001b[90mextent: \u001b[39mExtent(X = (649980.0, 659780.0), Y = (3.65004e6, 3.65984e6), Ti = (Date(\"2020-10-04\"), Date(\"2020-10-04\")))\u001b[90mmissingval: \u001b[39mNaN\u001b[90mcrs: \u001b[39mPROJCS[\"WGS 84 / UTM zone 11N\",GEOGCS[\"WGS 84\",DATUM[\"WGS_1984\",SPHEROID[\"WGS 84\",6378137,298.257223563,AUTHORITY[\"EPSG\",\"7030\"]],AUTHORITY[\"EPSG\",\"6326\"]],PRIMEM[\"Greenwich\",0,AUTHORITY[\"EPSG\",\"8901\"]],UNIT[\"degree\",0.0174532925199433,AUTHORITY[\"EPSG\",\"9122\"]],AUTHORITY[\"EPSG\",\"4326\"]],PROJECTION[\"Transverse_Mercator\"],PARAMETER[\"latitude_of_origin\",0],PARAMETER[\"central_meridian\",-117],PARAMETER[\"scale_factor\",0.9996],PARAMETER[\"false_easting\",500000],PARAMETER[\"false_northing\",0],UNIT[\"metre\",1,AUTHORITY[\"EPSG\",\"9001\"]],AXIS[\"Easting\",EAST],AXIS[\"Northing\",NORTH],AUTHORITY[\"EPSG\",\"32611\"]]\n",
       "\u001b[90mvalues: \u001b[39m[:, :, 1]\n",
       "      \u001b[90m \u001b[39m      \u001b[90m3.65977e6\u001b[39m    \u001b[90m3.6597e6\u001b[39m    \u001b[90m3.65963e6\u001b[39m  …    \u001b[90m3.65011e6\u001b[39m    \u001b[90m3.65004e6\u001b[39m\n",
       " \u001b[90m649980.0\u001b[39m  NaN          NaN         NaN             NaN          NaN\n",
       " \u001b[90m650050.0\u001b[39m  NaN          NaN         NaN             NaN          NaN\n",
       " \u001b[90m650120.0\u001b[39m  NaN          NaN         NaN             NaN          NaN\n",
       " \u001b[90m650190.0\u001b[39m  NaN          NaN         NaN             NaN          NaN\n",
       " \u001b[90m650260.0\u001b[39m  NaN          NaN         NaN          …  NaN          NaN\n",
       "      ⋮                                          ⋱    ⋮          \n",
       " \u001b[90m659360.0\u001b[39m  NaN          NaN         NaN             NaN          NaN\n",
       " \u001b[90m659430.0\u001b[39m  NaN          NaN         NaN             NaN          NaN\n",
       " \u001b[90m659500.0\u001b[39m  NaN          NaN         NaN             NaN          NaN\n",
       " \u001b[90m659570.0\u001b[39m  NaN          NaN         NaN          …  NaN          NaN\n",
       " \u001b[90m659640.0\u001b[39m  NaN          NaN         NaN             NaN          NaN\n",
       " \u001b[90m659710.0\u001b[39m  NaN          NaN         NaN             NaN          NaN"
      ]
     },
     "metadata": {},
     "output_type": "display_data"
    },
    {
     "name": "stdout",
     "output_type": "stream",
     "text": [
      "\n",
      "\n"
     ]
    }
   ],
   "source": [
    "fine_images[:,:,[4]]"
   ]
  },
  {
   "attachments": {},
   "cell_type": "markdown",
   "metadata": {},
   "source": [
    "##### Fuse single target date "
   ]
  },
  {
   "cell_type": "code",
   "execution_count": 21,
   "metadata": {},
   "outputs": [
    {
     "name": "stderr",
     "output_type": "stream",
     "text": [
      "\r\u001b[32mProgress:   0%|▎                                        |  ETA: 0:21:07\u001b[39m\u001b[K"
     ]
    },
    {
     "name": "stderr",
     "output_type": "stream",
     "text": [
      "\r\u001b[32mProgress:   3%|█▎                                       |  ETA: 0:03:43\u001b[39m\u001b[K"
     ]
    },
    {
     "name": "stderr",
     "output_type": "stream",
     "text": [
      "\r\u001b[32mProgress:   5%|██▏                                      |  ETA: 0:02:09\u001b[39m\u001b[K"
     ]
    },
    {
     "name": "stderr",
     "output_type": "stream",
     "text": [
      "\r\u001b[32mProgress:   6%|██▌                                      |  ETA: 0:01:55\u001b[39m\u001b[K"
     ]
    },
    {
     "name": "stderr",
     "output_type": "stream",
     "text": [
      "\r\u001b[32mProgress:   6%|██▋                                      |  ETA: 0:01:47\u001b[39m\u001b[K"
     ]
    },
    {
     "name": "stderr",
     "output_type": "stream",
     "text": [
      "\r\u001b[32mProgress:   7%|██▉                                      |  ETA: 0:01:41\u001b[39m\u001b[K"
     ]
    },
    {
     "name": "stderr",
     "output_type": "stream",
     "text": [
      "\r\u001b[32mProgress:   8%|███▏                                     |  ETA: 0:01:35\u001b[39m\u001b[K"
     ]
    },
    {
     "name": "stderr",
     "output_type": "stream",
     "text": [
      "\r\u001b[32mProgress:   8%|███▎                                     |  ETA: 0:01:30\u001b[39m\u001b[K"
     ]
    },
    {
     "name": "stderr",
     "output_type": "stream",
     "text": [
      "\r\u001b[32mProgress:   8%|███▌                                     |  ETA: 0:01:26\u001b[39m\u001b[K"
     ]
    },
    {
     "name": "stderr",
     "output_type": "stream",
     "text": [
      "\r\u001b[32mProgress:   9%|███▊                                     |  ETA: 0:01:22\u001b[39m\u001b[K"
     ]
    },
    {
     "name": "stderr",
     "output_type": "stream",
     "text": [
      "\r\u001b[32mProgress:  10%|███▉                                     |  ETA: 0:01:19\u001b[39m\u001b[K"
     ]
    },
    {
     "name": "stderr",
     "output_type": "stream",
     "text": [
      "\r\u001b[32mProgress:  10%|████▏                                    |  ETA: 0:01:15\u001b[39m\u001b[K"
     ]
    },
    {
     "name": "stderr",
     "output_type": "stream",
     "text": [
      "\r\u001b[32mProgress:  11%|████▌                                    |  ETA: 0:01:09\u001b[39m\u001b[K"
     ]
    },
    {
     "name": "stderr",
     "output_type": "stream",
     "text": [
      "\r\u001b[32mProgress:  12%|████▊                                    |  ETA: 0:01:07\u001b[39m\u001b[K"
     ]
    },
    {
     "name": "stderr",
     "output_type": "stream",
     "text": [
      "\r\u001b[32mProgress:  12%|████▉                                    |  ETA: 0:01:05\u001b[39m\u001b[K"
     ]
    },
    {
     "name": "stderr",
     "output_type": "stream",
     "text": [
      "\r\u001b[32mProgress:  12%|█████▏                                   |  ETA: 0:01:03\u001b[39m\u001b[K"
     ]
    },
    {
     "name": "stderr",
     "output_type": "stream",
     "text": [
      "\r\u001b[32mProgress:  13%|█████▍                                   |  ETA: 0:01:01\u001b[39m\u001b[K"
     ]
    },
    {
     "name": "stderr",
     "output_type": "stream",
     "text": [
      "\r\u001b[32mProgress:  14%|█████▌                                   |  ETA: 0:00:59\u001b[39m\u001b[K"
     ]
    },
    {
     "name": "stderr",
     "output_type": "stream",
     "text": [
      "\r\u001b[32mProgress:  14%|█████▊                                   |  ETA: 0:00:58\u001b[39m\u001b[K"
     ]
    },
    {
     "name": "stderr",
     "output_type": "stream",
     "text": [
      "\r\u001b[32mProgress:  14%|██████                                   |  ETA: 0:00:56\u001b[39m\u001b[K"
     ]
    },
    {
     "name": "stderr",
     "output_type": "stream",
     "text": [
      "\r\u001b[32mProgress:  15%|██████▏                                  |  ETA: 0:00:55\u001b[39m\u001b[K"
     ]
    },
    {
     "name": "stderr",
     "output_type": "stream",
     "text": [
      "\r\u001b[32mProgress:  16%|██████▌                                  |  ETA: 0:00:52\u001b[39m\u001b[K"
     ]
    },
    {
     "name": "stderr",
     "output_type": "stream",
     "text": [
      "\r\u001b[32mProgress:  16%|██████▊                                  |  ETA: 0:00:51\u001b[39m\u001b[K"
     ]
    },
    {
     "name": "stderr",
     "output_type": "stream",
     "text": [
      "\r\u001b[32mProgress:  17%|███████                                  |  ETA: 0:00:50\u001b[39m\u001b[K"
     ]
    },
    {
     "name": "stderr",
     "output_type": "stream",
     "text": [
      "\r\u001b[32mProgress:  18%|███████▏                                 |  ETA: 0:00:49\u001b[39m\u001b[K"
     ]
    },
    {
     "name": "stderr",
     "output_type": "stream",
     "text": [
      "\r\u001b[32mProgress:  18%|███████▎                                 |  ETA: 0:00:48\u001b[39m\u001b[K"
     ]
    },
    {
     "name": "stderr",
     "output_type": "stream",
     "text": [
      "\r\u001b[32mProgress:  18%|███████▌                                 |  ETA: 0:00:47\u001b[39m\u001b[K"
     ]
    },
    {
     "name": "stderr",
     "output_type": "stream",
     "text": [
      "\r\u001b[32mProgress:  19%|███████▊                                 |  ETA: 0:00:46\u001b[39m\u001b[K"
     ]
    },
    {
     "name": "stderr",
     "output_type": "stream",
     "text": [
      "\r\u001b[32mProgress:  19%|███████▉                                 |  ETA: 0:00:46\u001b[39m\u001b[K"
     ]
    },
    {
     "name": "stderr",
     "output_type": "stream",
     "text": [
      "\r\u001b[32mProgress:  20%|████████▏                                |  ETA: 0:00:45\u001b[39m\u001b[K"
     ]
    },
    {
     "name": "stderr",
     "output_type": "stream",
     "text": [
      "\r\u001b[32mProgress:  20%|████████▍                                |  ETA: 0:00:43\u001b[39m\u001b[K"
     ]
    },
    {
     "name": "stderr",
     "output_type": "stream",
     "text": [
      "\r\u001b[32mProgress:  21%|████████▋                                |  ETA: 0:00:42\u001b[39m\u001b[K"
     ]
    },
    {
     "name": "stderr",
     "output_type": "stream",
     "text": [
      "\r\u001b[32mProgress:  22%|████████▉                                |  ETA: 0:00:42\u001b[39m\u001b[K"
     ]
    },
    {
     "name": "stderr",
     "output_type": "stream",
     "text": [
      "\r\u001b[32mProgress:  22%|█████████                                |  ETA: 0:00:41\u001b[39m\u001b[K"
     ]
    },
    {
     "name": "stderr",
     "output_type": "stream",
     "text": [
      "\r\u001b[32mProgress:  22%|█████████▎                               |  ETA: 0:00:40\u001b[39m\u001b[K"
     ]
    },
    {
     "name": "stderr",
     "output_type": "stream",
     "text": [
      "\r\u001b[32mProgress:  23%|█████████▍                               |  ETA: 0:00:39\u001b[39m\u001b[K"
     ]
    },
    {
     "name": "stderr",
     "output_type": "stream",
     "text": [
      "\r\u001b[32mProgress:  24%|█████████▋                               |  ETA: 0:00:39\u001b[39m\u001b[K"
     ]
    },
    {
     "name": "stderr",
     "output_type": "stream",
     "text": [
      "\r\u001b[32mProgress:  24%|█████████▉                               |  ETA: 0:00:38\u001b[39m\u001b[K"
     ]
    },
    {
     "name": "stderr",
     "output_type": "stream",
     "text": [
      "\r\u001b[32mProgress:  24%|██████████                               |  ETA: 0:00:38\u001b[39m\u001b[K"
     ]
    },
    {
     "name": "stderr",
     "output_type": "stream",
     "text": [
      "\r\u001b[32mProgress:  25%|██████████▎                              |  ETA: 0:00:37\u001b[39m\u001b[K"
     ]
    },
    {
     "name": "stderr",
     "output_type": "stream",
     "text": [
      "\r\u001b[32mProgress:  26%|██████████▋                              |  ETA: 0:00:36\u001b[39m\u001b[K"
     ]
    },
    {
     "name": "stderr",
     "output_type": "stream",
     "text": [
      "\r\u001b[32mProgress:  26%|██████████▉                              |  ETA: 0:00:35\u001b[39m\u001b[K"
     ]
    },
    {
     "name": "stderr",
     "output_type": "stream",
     "text": [
      "\r\u001b[32mProgress:  27%|███████████▏                             |  ETA: 0:00:35\u001b[39m\u001b[K"
     ]
    },
    {
     "name": "stderr",
     "output_type": "stream",
     "text": [
      "\r\u001b[32mProgress:  28%|███████████▎                             |  ETA: 0:00:34\u001b[39m\u001b[K"
     ]
    },
    {
     "name": "stderr",
     "output_type": "stream",
     "text": [
      "\r\u001b[32mProgress:  28%|███████████▌                             |  ETA: 0:00:34\u001b[39m\u001b[K"
     ]
    },
    {
     "name": "stderr",
     "output_type": "stream",
     "text": [
      "\r\u001b[32mProgress:  28%|███████████▋                             |  ETA: 0:00:33\u001b[39m\u001b[K"
     ]
    },
    {
     "name": "stderr",
     "output_type": "stream",
     "text": [
      "\r\u001b[32mProgress:  29%|███████████▉                             |  ETA: 0:00:33\u001b[39m\u001b[K"
     ]
    },
    {
     "name": "stderr",
     "output_type": "stream",
     "text": [
      "\r\u001b[32mProgress:  30%|████████████▏                            |  ETA: 0:00:32\u001b[39m\u001b[K"
     ]
    },
    {
     "name": "stderr",
     "output_type": "stream",
     "text": [
      "\r\u001b[32mProgress:  30%|████████████▎                            |  ETA: 0:00:32\u001b[39m\u001b[K"
     ]
    },
    {
     "name": "stderr",
     "output_type": "stream",
     "text": [
      "\r\u001b[32mProgress:  31%|████████████▊                            |  ETA: 0:00:31\u001b[39m\u001b[K"
     ]
    },
    {
     "name": "stderr",
     "output_type": "stream",
     "text": [
      "\r\u001b[32mProgress:  32%|████████████▉                            |  ETA: 0:00:31\u001b[39m\u001b[K"
     ]
    },
    {
     "name": "stderr",
     "output_type": "stream",
     "text": [
      "\r\u001b[32mProgress:  32%|█████████████▏                           |  ETA: 0:00:30\u001b[39m\u001b[K"
     ]
    },
    {
     "name": "stderr",
     "output_type": "stream",
     "text": [
      "\r\u001b[32mProgress:  32%|█████████████▍                           |  ETA: 0:00:30\u001b[39m\u001b[K"
     ]
    },
    {
     "name": "stderr",
     "output_type": "stream",
     "text": [
      "\r\u001b[32mProgress:  33%|█████████████▌                           |  ETA: 0:00:29\u001b[39m\u001b[K"
     ]
    },
    {
     "name": "stderr",
     "output_type": "stream",
     "text": [
      "\r\u001b[32mProgress:  34%|█████████████▊                           |  ETA: 0:00:29\u001b[39m\u001b[K"
     ]
    },
    {
     "name": "stderr",
     "output_type": "stream",
     "text": [
      "\r\u001b[32mProgress:  34%|██████████████                           |  ETA: 0:00:29\u001b[39m\u001b[K"
     ]
    },
    {
     "name": "stderr",
     "output_type": "stream",
     "text": [
      "\r\u001b[32mProgress:  34%|██████████████▏                          |  ETA: 0:00:28\u001b[39m\u001b[K"
     ]
    },
    {
     "name": "stderr",
     "output_type": "stream",
     "text": [
      "\r\u001b[32mProgress:  35%|██████████████▍                          |  ETA: 0:00:28\u001b[39m\u001b[K"
     ]
    },
    {
     "name": "stderr",
     "output_type": "stream",
     "text": [
      "\r\u001b[32mProgress:  36%|██████████████▋                          |  ETA: 0:00:27\u001b[39m\u001b[K"
     ]
    },
    {
     "name": "stderr",
     "output_type": "stream",
     "text": [
      "\r\u001b[32mProgress:  36%|██████████████▉                          |  ETA: 0:00:27\u001b[39m\u001b[K"
     ]
    },
    {
     "name": "stderr",
     "output_type": "stream",
     "text": [
      "\r\u001b[32mProgress:  37%|███████████████▏                         |  ETA: 0:00:27\u001b[39m\u001b[K"
     ]
    },
    {
     "name": "stderr",
     "output_type": "stream",
     "text": [
      "\r\u001b[32mProgress:  37%|███████████████▎                         |  ETA: 0:00:26\u001b[39m\u001b[K"
     ]
    },
    {
     "name": "stderr",
     "output_type": "stream",
     "text": [
      "\r\u001b[32mProgress:  38%|███████████████▌                         |  ETA: 0:00:26\u001b[39m\u001b[K"
     ]
    },
    {
     "name": "stderr",
     "output_type": "stream",
     "text": [
      "\r\u001b[32mProgress:  38%|███████████████▋                         |  ETA: 0:00:26\u001b[39m\u001b[K"
     ]
    },
    {
     "name": "stderr",
     "output_type": "stream",
     "text": [
      "\r\u001b[32mProgress:  39%|███████████████▉                         |  ETA: 0:00:25\u001b[39m\u001b[K"
     ]
    },
    {
     "name": "stderr",
     "output_type": "stream",
     "text": [
      "\r\u001b[32mProgress:  39%|████████████████▏                        |  ETA: 0:00:25\u001b[39m\u001b[K"
     ]
    },
    {
     "name": "stderr",
     "output_type": "stream",
     "text": [
      "\r\u001b[32mProgress:  40%|████████████████▎                        |  ETA: 0:00:25\u001b[39m\u001b[K"
     ]
    },
    {
     "name": "stderr",
     "output_type": "stream",
     "text": [
      "\r\u001b[32mProgress:  40%|████████████████▋                        |  ETA: 0:00:24\u001b[39m\u001b[K"
     ]
    },
    {
     "name": "stderr",
     "output_type": "stream",
     "text": [
      "\r\u001b[32mProgress:  41%|████████████████▊                        |  ETA: 0:00:24\u001b[39m\u001b[K"
     ]
    },
    {
     "name": "stderr",
     "output_type": "stream",
     "text": [
      "\r\u001b[32mProgress:  42%|█████████████████                        |  ETA: 0:00:23\u001b[39m\u001b[K"
     ]
    },
    {
     "name": "stderr",
     "output_type": "stream",
     "text": [
      "\r\u001b[32mProgress:  42%|█████████████████▎                       |  ETA: 0:00:23\u001b[39m\u001b[K"
     ]
    },
    {
     "name": "stderr",
     "output_type": "stream",
     "text": [
      "\r\u001b[32mProgress:  42%|█████████████████▍                       |  ETA: 0:00:23\u001b[39m\u001b[K"
     ]
    },
    {
     "name": "stderr",
     "output_type": "stream",
     "text": [
      "\r\u001b[32mProgress:  43%|█████████████████▋                       |  ETA: 0:00:23\u001b[39m\u001b[K"
     ]
    },
    {
     "name": "stderr",
     "output_type": "stream",
     "text": [
      "\r\u001b[32mProgress:  44%|█████████████████▉                       |  ETA: 0:00:22\u001b[39m\u001b[K"
     ]
    },
    {
     "name": "stderr",
     "output_type": "stream",
     "text": [
      "\r\u001b[32mProgress:  44%|██████████████████                       |  ETA: 0:00:22\u001b[39m\u001b[K"
     ]
    },
    {
     "name": "stderr",
     "output_type": "stream",
     "text": [
      "\r\u001b[32mProgress:  44%|██████████████████▎                      |  ETA: 0:00:22\u001b[39m\u001b[K"
     ]
    },
    {
     "name": "stderr",
     "output_type": "stream",
     "text": [
      "\r\u001b[32mProgress:  45%|██████████████████▌                      |  ETA: 0:00:22\u001b[39m\u001b[K"
     ]
    },
    {
     "name": "stderr",
     "output_type": "stream",
     "text": [
      "\r\u001b[32mProgress:  46%|██████████████████▉                      |  ETA: 0:00:21\u001b[39m\u001b[K"
     ]
    },
    {
     "name": "stderr",
     "output_type": "stream",
     "text": [
      "\r\u001b[32mProgress:  46%|███████████████████▏                     |  ETA: 0:00:21\u001b[39m\u001b[K"
     ]
    },
    {
     "name": "stderr",
     "output_type": "stream",
     "text": [
      "\r\u001b[32mProgress:  47%|███████████████████▎                     |  ETA: 0:00:20\u001b[39m\u001b[K"
     ]
    },
    {
     "name": "stderr",
     "output_type": "stream",
     "text": [
      "\r\u001b[32mProgress:  48%|███████████████████▌                     |  ETA: 0:00:20\u001b[39m\u001b[K"
     ]
    },
    {
     "name": "stderr",
     "output_type": "stream",
     "text": [
      "\r\u001b[32mProgress:  48%|███████████████████▋                     |  ETA: 0:00:20\u001b[39m\u001b[K"
     ]
    },
    {
     "name": "stderr",
     "output_type": "stream",
     "text": [
      "\r\u001b[32mProgress:  48%|███████████████████▉                     |  ETA: 0:00:20\u001b[39m\u001b[K"
     ]
    },
    {
     "name": "stderr",
     "output_type": "stream",
     "text": [
      "\r\u001b[32mProgress:  49%|████████████████████▏                    |  ETA: 0:00:19\u001b[39m\u001b[K"
     ]
    },
    {
     "name": "stderr",
     "output_type": "stream",
     "text": [
      "\r\u001b[32mProgress:  50%|████████████████████▎                    |  ETA: 0:00:19\u001b[39m\u001b[K"
     ]
    },
    {
     "name": "stderr",
     "output_type": "stream",
     "text": [
      "\r\u001b[32mProgress:  50%|████████████████████▌                    |  ETA: 0:00:19\u001b[39m\u001b[K"
     ]
    },
    {
     "name": "stderr",
     "output_type": "stream",
     "text": [
      "\r\u001b[32mProgress:  51%|████████████████████▉                    |  ETA: 0:00:18\u001b[39m\u001b[K"
     ]
    },
    {
     "name": "stderr",
     "output_type": "stream",
     "text": [
      "\r\u001b[32mProgress:  52%|█████████████████████▏                   |  ETA: 0:00:18\u001b[39m\u001b[K"
     ]
    },
    {
     "name": "stderr",
     "output_type": "stream",
     "text": [
      "\r\u001b[32mProgress:  52%|█████████████████████▍                   |  ETA: 0:00:18\u001b[39m\u001b[K"
     ]
    },
    {
     "name": "stderr",
     "output_type": "stream",
     "text": [
      "\r\u001b[32mProgress:  52%|█████████████████████▌                   |  ETA: 0:00:18\u001b[39m\u001b[K"
     ]
    },
    {
     "name": "stderr",
     "output_type": "stream",
     "text": [
      "\r\u001b[32mProgress:  53%|█████████████████████▋                   |  ETA: 0:00:18\u001b[39m\u001b[K"
     ]
    },
    {
     "name": "stderr",
     "output_type": "stream",
     "text": [
      "\r\u001b[32mProgress:  53%|█████████████████████▉                   |  ETA: 0:00:17\u001b[39m\u001b[K"
     ]
    },
    {
     "name": "stderr",
     "output_type": "stream",
     "text": [
      "\r\u001b[32mProgress:  54%|██████████████████████                   |  ETA: 0:00:17\u001b[39m\u001b[K"
     ]
    },
    {
     "name": "stderr",
     "output_type": "stream",
     "text": [
      "\r\u001b[32mProgress:  54%|██████████████████████▎                  |  ETA: 0:00:17\u001b[39m\u001b[K"
     ]
    },
    {
     "name": "stderr",
     "output_type": "stream",
     "text": [
      "\r\u001b[32mProgress:  55%|██████████████████████▌                  |  ETA: 0:00:17\u001b[39m\u001b[K"
     ]
    },
    {
     "name": "stderr",
     "output_type": "stream",
     "text": [
      "\r\u001b[32mProgress:  55%|██████████████████████▋                  |  ETA: 0:00:16\u001b[39m\u001b[K"
     ]
    },
    {
     "name": "stderr",
     "output_type": "stream",
     "text": [
      "\r\u001b[32mProgress:  56%|███████████████████████                  |  ETA: 0:00:16\u001b[39m\u001b[K"
     ]
    },
    {
     "name": "stderr",
     "output_type": "stream",
     "text": [
      "\r\u001b[32mProgress:  56%|███████████████████████▏                 |  ETA: 0:00:16\u001b[39m\u001b[K"
     ]
    },
    {
     "name": "stderr",
     "output_type": "stream",
     "text": [
      "\r\u001b[32mProgress:  57%|███████████████████████▍                 |  ETA: 0:00:16\u001b[39m\u001b[K"
     ]
    },
    {
     "name": "stderr",
     "output_type": "stream",
     "text": [
      "\r\u001b[32mProgress:  58%|███████████████████████▋                 |  ETA: 0:00:16\u001b[39m\u001b[K"
     ]
    },
    {
     "name": "stderr",
     "output_type": "stream",
     "text": [
      "\r\u001b[32mProgress:  58%|███████████████████████▊                 |  ETA: 0:00:15\u001b[39m\u001b[K"
     ]
    },
    {
     "name": "stderr",
     "output_type": "stream",
     "text": [
      "\r\u001b[32mProgress:  58%|████████████████████████                 |  ETA: 0:00:15\u001b[39m\u001b[K"
     ]
    },
    {
     "name": "stderr",
     "output_type": "stream",
     "text": [
      "\r\u001b[32mProgress:  59%|████████████████████████▎                |  ETA: 0:00:15\u001b[39m\u001b[K"
     ]
    },
    {
     "name": "stderr",
     "output_type": "stream",
     "text": [
      "\r\u001b[32mProgress:  60%|████████████████████████▍                |  ETA: 0:00:15\u001b[39m\u001b[K"
     ]
    },
    {
     "name": "stderr",
     "output_type": "stream",
     "text": [
      "\r\u001b[32mProgress:  60%|████████████████████████▋                |  ETA: 0:00:14\u001b[39m\u001b[K"
     ]
    },
    {
     "name": "stderr",
     "output_type": "stream",
     "text": [
      "\r\u001b[32mProgress:  61%|█████████████████████████                |  ETA: 0:00:14\u001b[39m\u001b[K"
     ]
    },
    {
     "name": "stderr",
     "output_type": "stream",
     "text": [
      "\r\u001b[32mProgress:  62%|█████████████████████████▎               |  ETA: 0:00:14\u001b[39m\u001b[K"
     ]
    },
    {
     "name": "stderr",
     "output_type": "stream",
     "text": [
      "\r\u001b[32mProgress:  62%|█████████████████████████▍               |  ETA: 0:00:14\u001b[39m\u001b[K"
     ]
    },
    {
     "name": "stderr",
     "output_type": "stream",
     "text": [
      "\r\u001b[32mProgress:  62%|█████████████████████████▋               |  ETA: 0:00:13\u001b[39m\u001b[K"
     ]
    },
    {
     "name": "stderr",
     "output_type": "stream",
     "text": [
      "\r\u001b[32mProgress:  63%|█████████████████████████▉               |  ETA: 0:00:13\u001b[39m\u001b[K"
     ]
    },
    {
     "name": "stderr",
     "output_type": "stream",
     "text": [
      "\r\u001b[32mProgress:  63%|█████████████████████████▉               |  ETA: 0:00:13\u001b[39m\u001b[K"
     ]
    },
    {
     "name": "stderr",
     "output_type": "stream",
     "text": [
      "\r\u001b[32mProgress:  64%|██████████████████████████▏              |  ETA: 0:00:13\u001b[39m\u001b[K"
     ]
    },
    {
     "name": "stderr",
     "output_type": "stream",
     "text": [
      "\r\u001b[32mProgress:  64%|██████████████████████████▍              |  ETA: 0:00:13\u001b[39m\u001b[K"
     ]
    },
    {
     "name": "stderr",
     "output_type": "stream",
     "text": [
      "\r\u001b[32mProgress:  65%|██████████████████████████▌              |  ETA: 0:00:13\u001b[39m\u001b[K"
     ]
    },
    {
     "name": "stderr",
     "output_type": "stream",
     "text": [
      "\r\u001b[32mProgress:  66%|██████████████████████████▉              |  ETA: 0:00:12\u001b[39m\u001b[K"
     ]
    },
    {
     "name": "stderr",
     "output_type": "stream",
     "text": [
      "\r\u001b[32mProgress:  66%|███████████████████████████              |  ETA: 0:00:12\u001b[39m\u001b[K"
     ]
    },
    {
     "name": "stderr",
     "output_type": "stream",
     "text": [
      "\r\u001b[32mProgress:  66%|███████████████████████████▎             |  ETA: 0:00:12\u001b[39m\u001b[K"
     ]
    },
    {
     "name": "stderr",
     "output_type": "stream",
     "text": [
      "\r\u001b[32mProgress:  67%|███████████████████████████▌             |  ETA: 0:00:12\u001b[39m\u001b[K"
     ]
    },
    {
     "name": "stderr",
     "output_type": "stream",
     "text": [
      "\r\u001b[32mProgress:  68%|███████████████████████████▋             |  ETA: 0:00:11\u001b[39m\u001b[K"
     ]
    },
    {
     "name": "stderr",
     "output_type": "stream",
     "text": [
      "\r\u001b[32mProgress:  68%|███████████████████████████▉             |  ETA: 0:00:11\u001b[39m\u001b[K"
     ]
    },
    {
     "name": "stderr",
     "output_type": "stream",
     "text": [
      "\r\u001b[32mProgress:  68%|████████████████████████████▏            |  ETA: 0:00:11\u001b[39m\u001b[K"
     ]
    },
    {
     "name": "stderr",
     "output_type": "stream",
     "text": [
      "\r\u001b[32mProgress:  69%|████████████████████████████▎            |  ETA: 0:00:11\u001b[39m\u001b[K"
     ]
    },
    {
     "name": "stderr",
     "output_type": "stream",
     "text": [
      "\r\u001b[32mProgress:  70%|████████████████████████████▌            |  ETA: 0:00:11\u001b[39m\u001b[K"
     ]
    },
    {
     "name": "stderr",
     "output_type": "stream",
     "text": [
      "\r\u001b[32mProgress:  70%|████████████████████████████▊            |  ETA: 0:00:10\u001b[39m\u001b[K"
     ]
    },
    {
     "name": "stderr",
     "output_type": "stream",
     "text": [
      "\r\u001b[32mProgress:  71%|█████████████████████████████▏           |  ETA: 0:00:10\u001b[39m\u001b[K"
     ]
    },
    {
     "name": "stderr",
     "output_type": "stream",
     "text": [
      "\r\u001b[32mProgress:  72%|█████████████████████████████▍           |  ETA: 0:00:10\u001b[39m\u001b[K"
     ]
    },
    {
     "name": "stderr",
     "output_type": "stream",
     "text": [
      "\r\u001b[32mProgress:  72%|█████████████████████████████▌           |  ETA: 0:00:10\u001b[39m\u001b[K"
     ]
    },
    {
     "name": "stderr",
     "output_type": "stream",
     "text": [
      "\r\u001b[32mProgress:  72%|█████████████████████████████▊           |  ETA: 0:00:09\u001b[39m\u001b[K"
     ]
    },
    {
     "name": "stderr",
     "output_type": "stream",
     "text": [
      "\r\u001b[32mProgress:  73%|█████████████████████████████▉           |  ETA: 0:00:09\u001b[39m\u001b[K"
     ]
    },
    {
     "name": "stderr",
     "output_type": "stream",
     "text": [
      "\r\u001b[32mProgress:  74%|██████████████████████████████▏          |  ETA: 0:00:09\u001b[39m\u001b[K"
     ]
    },
    {
     "name": "stderr",
     "output_type": "stream",
     "text": [
      "\r\u001b[32mProgress:  74%|██████████████████████████████▍          |  ETA: 0:00:09\u001b[39m\u001b[K"
     ]
    },
    {
     "name": "stderr",
     "output_type": "stream",
     "text": [
      "\r\u001b[32mProgress:  74%|██████████████████████████████▌          |  ETA: 0:00:09\u001b[39m\u001b[K"
     ]
    },
    {
     "name": "stderr",
     "output_type": "stream",
     "text": [
      "\r\u001b[32mProgress:  75%|██████████████████████████████▋          |  ETA: 0:00:09\u001b[39m\u001b[K"
     ]
    },
    {
     "name": "stderr",
     "output_type": "stream",
     "text": [
      "\r\u001b[32mProgress:  76%|███████████████████████████████          |  ETA: 0:00:08\u001b[39m\u001b[K"
     ]
    },
    {
     "name": "stderr",
     "output_type": "stream",
     "text": [
      "\r\u001b[32mProgress:  76%|███████████████████████████████▏         |  ETA: 0:00:08\u001b[39m\u001b[K"
     ]
    },
    {
     "name": "stderr",
     "output_type": "stream",
     "text": [
      "\r\u001b[32mProgress:  76%|███████████████████████████████▍         |  ETA: 0:00:08\u001b[39m\u001b[K"
     ]
    },
    {
     "name": "stderr",
     "output_type": "stream",
     "text": [
      "\r\u001b[32mProgress:  77%|███████████████████████████████▋         |  ETA: 0:00:08\u001b[39m\u001b[K"
     ]
    },
    {
     "name": "stderr",
     "output_type": "stream",
     "text": [
      "\r\u001b[32mProgress:  78%|███████████████████████████████▊         |  ETA: 0:00:08\u001b[39m\u001b[K"
     ]
    },
    {
     "name": "stderr",
     "output_type": "stream",
     "text": [
      "\r\u001b[32mProgress:  78%|████████████████████████████████         |  ETA: 0:00:07\u001b[39m\u001b[K"
     ]
    },
    {
     "name": "stderr",
     "output_type": "stream",
     "text": [
      "\r\u001b[32mProgress:  78%|████████████████████████████████▏        |  ETA: 0:00:07\u001b[39m\u001b[K"
     ]
    },
    {
     "name": "stderr",
     "output_type": "stream",
     "text": [
      "\r\u001b[32mProgress:  79%|████████████████████████████████▍        |  ETA: 0:00:07\u001b[39m\u001b[K"
     ]
    },
    {
     "name": "stderr",
     "output_type": "stream",
     "text": [
      "\r\u001b[32mProgress:  80%|████████████████████████████████▋        |  ETA: 0:00:07\u001b[39m\u001b[K"
     ]
    },
    {
     "name": "stderr",
     "output_type": "stream",
     "text": [
      "\r\u001b[32mProgress:  80%|████████████████████████████████▊        |  ETA: 0:00:07\u001b[39m\u001b[K"
     ]
    },
    {
     "name": "stderr",
     "output_type": "stream",
     "text": [
      "\r\u001b[32mProgress:  81%|█████████████████████████████████▎       |  ETA: 0:00:06\u001b[39m\u001b[K"
     ]
    },
    {
     "name": "stderr",
     "output_type": "stream",
     "text": [
      "\r\u001b[32mProgress:  82%|█████████████████████████████████▍       |  ETA: 0:00:06\u001b[39m\u001b[K"
     ]
    },
    {
     "name": "stderr",
     "output_type": "stream",
     "text": [
      "\r\u001b[32mProgress:  82%|█████████████████████████████████▋       |  ETA: 0:00:06\u001b[39m\u001b[K"
     ]
    },
    {
     "name": "stderr",
     "output_type": "stream",
     "text": [
      "\r\u001b[32mProgress:  82%|█████████████████████████████████▉       |  ETA: 0:00:06\u001b[39m\u001b[K"
     ]
    },
    {
     "name": "stderr",
     "output_type": "stream",
     "text": [
      "\r\u001b[32mProgress:  83%|██████████████████████████████████       |  ETA: 0:00:06\u001b[39m\u001b[K"
     ]
    },
    {
     "name": "stderr",
     "output_type": "stream",
     "text": [
      "\r\u001b[32mProgress:  84%|██████████████████████████████████▎      |  ETA: 0:00:06\u001b[39m\u001b[K"
     ]
    },
    {
     "name": "stderr",
     "output_type": "stream",
     "text": [
      "\r\u001b[32mProgress:  84%|██████████████████████████████████▌      |  ETA: 0:00:05\u001b[39m\u001b[K"
     ]
    },
    {
     "name": "stderr",
     "output_type": "stream",
     "text": [
      "\r\u001b[32mProgress:  84%|██████████████████████████████████▋      |  ETA: 0:00:05\u001b[39m\u001b[K"
     ]
    },
    {
     "name": "stderr",
     "output_type": "stream",
     "text": [
      "\r\u001b[32mProgress:  85%|██████████████████████████████████▉      |  ETA: 0:00:05\u001b[39m\u001b[K"
     ]
    },
    {
     "name": "stderr",
     "output_type": "stream",
     "text": [
      "\r\u001b[32mProgress:  86%|███████████████████████████████████▏     |  ETA: 0:00:05\u001b[39m\u001b[K"
     ]
    },
    {
     "name": "stderr",
     "output_type": "stream",
     "text": [
      "\r\u001b[32mProgress:  86%|███████████████████████████████████▍     |  ETA: 0:00:05\u001b[39m\u001b[K"
     ]
    },
    {
     "name": "stderr",
     "output_type": "stream",
     "text": [
      "\r\u001b[32mProgress:  87%|███████████████████████████████████▋     |  ETA: 0:00:04\u001b[39m\u001b[K"
     ]
    },
    {
     "name": "stderr",
     "output_type": "stream",
     "text": [
      "\r\u001b[32mProgress:  87%|███████████████████████████████████▊     |  ETA: 0:00:04\u001b[39m\u001b[K"
     ]
    },
    {
     "name": "stderr",
     "output_type": "stream",
     "text": [
      "\r\u001b[32mProgress:  88%|████████████████████████████████████     |  ETA: 0:00:04\u001b[39m\u001b[K"
     ]
    },
    {
     "name": "stderr",
     "output_type": "stream",
     "text": [
      "\r\u001b[32mProgress:  88%|████████████████████████████████████▏    |  ETA: 0:00:04\u001b[39m\u001b[K"
     ]
    },
    {
     "name": "stderr",
     "output_type": "stream",
     "text": [
      "\r\u001b[32mProgress:  89%|████████████████████████████████████▍    |  ETA: 0:00:04\u001b[39m\u001b[K"
     ]
    },
    {
     "name": "stderr",
     "output_type": "stream",
     "text": [
      "\r\u001b[32mProgress:  89%|████████████████████████████████████▋    |  ETA: 0:00:04\u001b[39m\u001b[K"
     ]
    },
    {
     "name": "stderr",
     "output_type": "stream",
     "text": [
      "\r\u001b[32mProgress:  90%|████████████████████████████████████▊    |  ETA: 0:00:03\u001b[39m\u001b[K"
     ]
    },
    {
     "name": "stderr",
     "output_type": "stream",
     "text": [
      "\r\u001b[32mProgress:  90%|████████████████████████████████████▉    |  ETA: 0:00:03\u001b[39m\u001b[K"
     ]
    },
    {
     "name": "stderr",
     "output_type": "stream",
     "text": [
      "\r\u001b[32mProgress:  91%|█████████████████████████████████████▎   |  ETA: 0:00:03\u001b[39m\u001b[K"
     ]
    },
    {
     "name": "stderr",
     "output_type": "stream",
     "text": [
      "\r\u001b[32mProgress:  91%|█████████████████████████████████████▍   |  ETA: 0:00:03\u001b[39m\u001b[K"
     ]
    },
    {
     "name": "stderr",
     "output_type": "stream",
     "text": [
      "\r\u001b[32mProgress:  92%|█████████████████████████████████████▋   |  ETA: 0:00:03\u001b[39m\u001b[K"
     ]
    },
    {
     "name": "stderr",
     "output_type": "stream",
     "text": [
      "\r\u001b[32mProgress:  92%|█████████████████████████████████████▉   |  ETA: 0:00:03\u001b[39m\u001b[K"
     ]
    },
    {
     "name": "stderr",
     "output_type": "stream",
     "text": [
      "\r\u001b[32mProgress:  93%|██████████████████████████████████████   |  ETA: 0:00:02\u001b[39m\u001b[K"
     ]
    },
    {
     "name": "stderr",
     "output_type": "stream",
     "text": [
      "\r\u001b[32mProgress:  93%|██████████████████████████████████████▎  |  ETA: 0:00:02\u001b[39m\u001b[K"
     ]
    },
    {
     "name": "stderr",
     "output_type": "stream",
     "text": [
      "\r\u001b[32mProgress:  94%|██████████████████████████████████████▌  |  ETA: 0:00:02\u001b[39m\u001b[K"
     ]
    },
    {
     "name": "stderr",
     "output_type": "stream",
     "text": [
      "\r\u001b[32mProgress:  94%|██████████████████████████████████████▋  |  ETA: 0:00:02\u001b[39m\u001b[K"
     ]
    },
    {
     "name": "stderr",
     "output_type": "stream",
     "text": [
      "\r\u001b[32mProgress:  95%|██████████████████████████████████████▉  |  ETA: 0:00:02\u001b[39m\u001b[K"
     ]
    },
    {
     "name": "stderr",
     "output_type": "stream",
     "text": [
      "\r\u001b[32mProgress:  95%|███████████████████████████████████████  |  ETA: 0:00:02\u001b[39m\u001b[K"
     ]
    },
    {
     "name": "stderr",
     "output_type": "stream",
     "text": [
      "\r\u001b[32mProgress:  96%|███████████████████████████████████████▋ |  ETA: 0:00:01\u001b[39m\u001b[K"
     ]
    },
    {
     "name": "stderr",
     "output_type": "stream",
     "text": [
      "\r\u001b[32mProgress:  98%|████████████████████████████████████████ |  ETA: 0:00:01\u001b[39m\u001b[K"
     ]
    },
    {
     "name": "stderr",
     "output_type": "stream",
     "text": [
      "\r\u001b[32mProgress:  98%|████████████████████████████████████████▍|  ETA: 0:00:00\u001b[39m\u001b[K"
     ]
    },
    {
     "name": "stderr",
     "output_type": "stream",
     "text": [
      "\r\u001b[32mProgress: 100%|████████████████████████████████████████▊|  ETA: 0:00:00\u001b[39m\u001b[K"
     ]
    },
    {
     "name": "stderr",
     "output_type": "stream",
     "text": [
      "\r\u001b[32mProgress: 100%|█████████████████████████████████████████| Time: 0:00:32\u001b[39m\u001b[K\n"
     ]
    },
    {
     "data": {
      "image/png": "[encoded data removed]",
      "image/svg+xml": [
       "<?xml version=\"1.0\" encoding=\"utf-8\"?>\n",
       "<svg xmlns=\"http://www.w3.org/2000/svg\" xmlns:xlink=\"http://www.w3.org/1999/xlink\" width=\"600\" height=\"400\" viewBox=\"0 0 2400 1600\">\n",
       "<defs>\n",
       "  <clipPath id=\"clip970\">\n",
       "    <rect x=\"0\" y=\"0\" width=\"2400\" height=\"1600\"/>\n",
       "  </clipPath>\n",
       "</defs>\n",
       "<path clip-path=\"url(#clip970)\" d=\"M0 1600 L2400 1600 L2400 0 L0 0  Z\" fill=\"#ffffff\" fill-rule=\"evenodd\" fill-opacity=\"1\"/>\n",
       "<defs>\n",
       "  <clipPath id=\"clip971\">\n",
       "    <rect x=\"480\" y=\"0\" width=\"1681\" height=\"1600\"/>\n",
       "  </clipPath>\n",
       "</defs>\n",
       "<path clip-path=\"url(#clip970)\" d=\"M581.799 1351.04 L1885.59 1351.04 L1885.59 47.2441 L581.799 47.2441  Z\" fill=\"#ffffff\" fill-rule=\"evenodd\" fill-opacity=\"1\"/>\n",
       "<defs>\n",
       "  <clipPath id=\"clip972\">\n",
       "    <rect x=\"581\" y=\"47\" width=\"1305\" height=\"1305\"/>\n",
       "  </clipPath>\n",
       "</defs>\n",
       "<polyline clip-path=\"url(#clip972)\" style=\"stroke:#000000; stroke-linecap:round; stroke-linejoin:round; stroke-width:2; stroke-opacity:0.2; fill:none\" points=\"584.46,1351.04 584.46,47.2441 \"/>\n",
       "<polyline clip-path=\"url(#clip972)\" style=\"stroke:#000000; stroke-linecap:round; stroke-linejoin:round; stroke-width:2; stroke-opacity:0.2; fill:none\" points=\"850.54,1351.04 850.54,47.2441 \"/>\n",
       "<polyline clip-path=\"url(#clip972)\" style=\"stroke:#000000; stroke-linecap:round; stroke-linejoin:round; stroke-width:2; stroke-opacity:0.2; fill:none\" points=\"1116.62,1351.04 1116.62,47.2441 \"/>\n",
       "<polyline clip-path=\"url(#clip972)\" style=\"stroke:#000000; stroke-linecap:round; stroke-linejoin:round; stroke-width:2; stroke-opacity:0.2; fill:none\" points=\"1382.7,1351.04 1382.7,47.2441 \"/>\n",
       "<polyline clip-path=\"url(#clip972)\" style=\"stroke:#000000; stroke-linecap:round; stroke-linejoin:round; stroke-width:2; stroke-opacity:0.2; fill:none\" points=\"1648.78,1351.04 1648.78,47.2441 \"/>\n",
       "<polyline clip-path=\"url(#clip970)\" style=\"stroke:#4c4c4c; stroke-linecap:round; stroke-linejoin:round; stroke-width:4; stroke-opacity:1; fill:none\" points=\"581.799,1351.04 1885.59,1351.04 \"/>\n",
       "<polyline clip-path=\"url(#clip970)\" style=\"stroke:#4c4c4c; stroke-linecap:round; stroke-linejoin:round; stroke-width:4; stroke-opacity:1; fill:none\" points=\"581.799,47.2441 1885.59,47.2441 \"/>\n",
       "<polyline clip-path=\"url(#clip970)\" style=\"stroke:#4c4c4c; stroke-linecap:round; stroke-linejoin:round; stroke-width:4; stroke-opacity:1; fill:none\" points=\"584.46,1351.04 584.46,1369.93 \"/>\n",
       "<polyline clip-path=\"url(#clip970)\" style=\"stroke:#4c4c4c; stroke-linecap:round; stroke-linejoin:round; stroke-width:4; stroke-opacity:1; fill:none\" points=\"850.54,1351.04 850.54,1369.93 \"/>\n",
       "<polyline clip-path=\"url(#clip970)\" style=\"stroke:#4c4c4c; stroke-linecap:round; stroke-linejoin:round; stroke-width:4; stroke-opacity:1; fill:none\" points=\"1116.62,1351.04 1116.62,1369.93 \"/>\n",
       "<polyline clip-path=\"url(#clip970)\" style=\"stroke:#4c4c4c; stroke-linecap:round; stroke-linejoin:round; stroke-width:4; stroke-opacity:1; fill:none\" points=\"1382.7,1351.04 1382.7,1369.93 \"/>\n",
       "<polyline clip-path=\"url(#clip970)\" style=\"stroke:#4c4c4c; stroke-linecap:round; stroke-linejoin:round; stroke-width:4; stroke-opacity:1; fill:none\" points=\"1648.78,1351.04 1648.78,1369.93 \"/>\n",
       "<path clip-path=\"url(#clip970)\" d=\"M594.502 1405.57 Q592.276 1403.34 589.444 1403.56 Q586.629 1403.79 583.977 1406.44 Q581.342 1409.07 581.096 1411.91 Q580.883 1414.74 583.109 1416.96 Q585.336 1419.19 588.151 1418.96 Q590.999 1418.73 593.634 1416.1 Q596.286 1413.44 596.499 1410.61 Q596.728 1407.8 594.502 1405.57 M611.426 1401.77 L608.415 1404.79 Q607.76 1402.95 606.794 1401.36 Q605.845 1399.79 604.601 1398.55 Q601.327 1395.28 597.382 1395.75 Q593.454 1396.24 588.74 1400.46 Q591.13 1400.01 593.34 1400.71 Q595.566 1401.4 597.317 1403.15 Q601 1406.83 600.885 1411.2 Q600.803 1415.57 596.957 1419.42 Q593.192 1423.18 588.691 1423.23 Q584.19 1423.28 580.491 1419.58 Q576.251 1415.34 577.25 1409.86 Q578.264 1404.36 584.435 1398.19 Q590.23 1392.39 596.417 1391.71 Q602.62 1391 607.252 1395.64 Q608.496 1396.88 609.511 1398.39 Q610.542 1399.91 611.426 1401.77 Z\" fill=\"#4c4c4c\" fill-rule=\"nonzero\" fill-opacity=\"1\" /><path clip-path=\"url(#clip970)\" d=\"M619.283 1408.55 L632.263 1421.53 L629.48 1424.31 L619.529 1414.36 L613.538 1420.35 Q614.504 1420.83 615.338 1421.43 Q616.189 1422.02 616.91 1422.74 Q621.002 1426.83 621.149 1431.47 Q621.296 1436.1 617.466 1439.93 Q613.521 1443.87 608.873 1443.61 Q604.241 1443.33 599.772 1438.86 Q598.234 1437.32 596.891 1435.46 Q595.566 1433.61 594.387 1431.38 L597.71 1428.06 Q598.381 1430.34 599.559 1432.3 Q600.738 1434.26 602.489 1436.02 Q605.321 1438.85 608.464 1439.01 Q611.606 1439.17 614.16 1436.62 Q616.713 1434.07 616.55 1430.93 Q616.386 1427.78 613.554 1424.95 Q612.228 1423.62 610.608 1422.59 Q609.004 1421.58 607.007 1420.83 L619.283 1408.55 Z\" fill=\"#4c4c4c\" fill-rule=\"nonzero\" fill-opacity=\"1\" /><path clip-path=\"url(#clip970)\" d=\"M645.472 1439.09 Q642.919 1436.54 639.105 1437.77 Q635.324 1438.99 630.282 1444.04 Q625.257 1449.06 624.013 1452.86 Q622.802 1456.66 625.356 1459.21 Q627.925 1461.78 631.706 1460.55 Q635.52 1459.32 640.545 1454.3 Q645.587 1449.26 646.798 1445.46 Q648.042 1441.66 645.472 1439.09 M648.091 1436.47 Q652.199 1440.58 651.103 1446 Q650.039 1451.42 643.852 1457.61 Q637.681 1463.78 632.247 1464.86 Q626.845 1465.94 622.737 1461.83 Q618.628 1457.72 619.692 1452.3 Q620.789 1446.88 626.96 1440.71 Q633.147 1434.53 638.548 1433.45 Q643.982 1432.37 648.091 1436.47 Z\" fill=\"#4c4c4c\" fill-rule=\"nonzero\" fill-opacity=\"1\" /><path clip-path=\"url(#clip970)\" d=\"M666.8 1460.42 Q664.246 1457.87 660.432 1459.09 Q656.651 1460.32 651.61 1465.36 Q646.585 1470.39 645.341 1474.19 Q644.13 1477.98 646.683 1480.54 Q649.253 1483.11 653.034 1481.88 Q656.848 1480.65 661.873 1475.63 Q666.914 1470.59 668.125 1466.79 Q669.369 1462.99 666.8 1460.42 M669.419 1457.8 Q673.527 1461.91 672.43 1467.33 Q671.366 1472.75 665.179 1478.93 Q659.008 1485.1 653.574 1486.18 Q648.173 1487.26 644.064 1483.16 Q639.956 1479.05 641.02 1473.63 Q642.117 1468.21 648.287 1462.04 Q654.474 1455.85 659.876 1454.77 Q665.31 1453.69 669.419 1457.8 Z\" fill=\"#4c4c4c\" fill-rule=\"nonzero\" fill-opacity=\"1\" /><path clip-path=\"url(#clip970)\" d=\"M688.127 1481.75 Q685.574 1479.19 681.76 1480.42 Q677.979 1481.65 672.938 1486.69 Q667.913 1491.72 666.669 1495.51 Q665.457 1499.31 668.011 1501.86 Q670.581 1504.43 674.362 1503.21 Q678.176 1501.98 683.201 1496.95 Q688.242 1491.91 689.453 1488.12 Q690.697 1484.32 688.127 1481.75 M690.746 1479.13 Q694.855 1483.24 693.758 1488.66 Q692.694 1494.07 686.507 1500.26 Q680.336 1506.43 674.902 1507.51 Q669.5 1508.59 665.392 1504.48 Q661.284 1500.38 662.348 1494.96 Q663.444 1489.54 669.615 1483.37 Q675.802 1477.18 681.204 1476.1 Q686.638 1475.02 690.746 1479.13 Z\" fill=\"#4c4c4c\" fill-rule=\"nonzero\" fill-opacity=\"1\" /><path clip-path=\"url(#clip970)\" d=\"M709.455 1503.08 Q706.902 1500.52 703.088 1501.75 Q699.307 1502.98 694.265 1508.02 Q689.24 1513.04 687.996 1516.84 Q686.785 1520.64 689.339 1523.19 Q691.908 1525.76 695.689 1524.53 Q699.503 1523.31 704.528 1518.28 Q709.57 1513.24 710.781 1509.44 Q712.025 1505.65 709.455 1503.08 M712.074 1500.46 Q716.182 1504.57 715.086 1509.98 Q714.022 1515.4 707.835 1521.59 Q701.664 1527.76 696.23 1528.84 Q690.828 1529.92 686.72 1525.81 Q682.611 1521.7 683.675 1516.28 Q684.772 1510.87 690.943 1504.7 Q697.13 1498.51 702.531 1497.43 Q707.965 1496.35 712.074 1500.46 Z\" fill=\"#4c4c4c\" fill-rule=\"nonzero\" fill-opacity=\"1\" /><path clip-path=\"url(#clip970)\" d=\"M860.582 1405.57 Q858.356 1403.34 855.524 1403.56 Q852.709 1403.79 850.057 1406.44 Q847.422 1409.07 847.176 1411.91 Q846.963 1414.74 849.189 1416.96 Q851.415 1419.19 854.231 1418.96 Q857.079 1418.73 859.714 1416.1 Q862.366 1413.44 862.579 1410.61 Q862.808 1407.8 860.582 1405.57 M877.506 1401.77 L874.495 1404.79 Q873.84 1402.95 872.874 1401.36 Q871.925 1399.79 870.681 1398.55 Q867.407 1395.28 863.462 1395.75 Q859.534 1396.24 854.82 1400.46 Q857.21 1400.01 859.42 1400.71 Q861.646 1401.4 863.397 1403.15 Q867.08 1406.83 866.965 1411.2 Q866.883 1415.57 863.037 1419.42 Q859.272 1423.18 854.771 1423.23 Q850.27 1423.28 846.571 1419.58 Q842.331 1415.34 843.33 1409.86 Q844.344 1404.36 850.515 1398.19 Q856.31 1392.39 862.497 1391.71 Q868.7 1391 873.332 1395.64 Q874.576 1396.88 875.591 1398.39 Q876.622 1399.91 877.506 1401.77 Z\" fill=\"#4c4c4c\" fill-rule=\"nonzero\" fill-opacity=\"1\" /><path clip-path=\"url(#clip970)\" d=\"M885.363 1408.55 L898.343 1421.53 L895.56 1424.31 L885.609 1414.36 L879.618 1420.35 Q880.583 1420.83 881.418 1421.43 Q882.269 1422.02 882.99 1422.74 Q887.082 1426.83 887.229 1431.47 Q887.376 1436.1 883.546 1439.93 Q879.601 1443.87 874.953 1443.61 Q870.321 1443.33 865.852 1438.86 Q864.314 1437.32 862.971 1435.46 Q861.646 1433.61 860.467 1431.38 L863.79 1428.06 Q864.461 1430.34 865.639 1432.3 Q866.818 1434.26 868.569 1436.02 Q871.401 1438.85 874.544 1439.01 Q877.686 1439.17 880.24 1436.62 Q882.793 1434.07 882.63 1430.93 Q882.466 1427.78 879.634 1424.95 Q878.308 1423.62 876.688 1422.59 Q875.084 1421.58 873.087 1420.83 L885.363 1408.55 Z\" fill=\"#4c4c4c\" fill-rule=\"nonzero\" fill-opacity=\"1\" /><path clip-path=\"url(#clip970)\" d=\"M887.851 1454.35 L899.39 1465.89 L896.608 1468.67 L881.091 1453.15 L883.873 1450.37 Q887.704 1450.3 894.218 1450.27 Q900.765 1450.24 902.55 1450.12 Q905.921 1449.93 907.771 1449.32 Q909.653 1448.72 910.848 1447.52 Q912.796 1445.57 912.649 1442.97 Q912.518 1440.39 910.324 1438.19 Q908.769 1436.64 906.494 1435.44 Q904.235 1434.26 901.175 1433.4 L904.514 1430.06 Q907.313 1431.25 909.457 1432.58 Q911.601 1433.9 913.041 1435.34 Q916.839 1439.14 917.199 1443.3 Q917.559 1447.46 914.384 1450.63 Q912.878 1452.14 910.946 1452.92 Q909.048 1453.71 905.725 1454.05 Q904.841 1454.12 900.373 1454.2 Q895.92 1454.27 887.851 1454.35 Z\" fill=\"#4c4c4c\" fill-rule=\"nonzero\" fill-opacity=\"1\" /><path clip-path=\"url(#clip970)\" d=\"M932.88 1460.42 Q930.326 1457.87 926.512 1459.09 Q922.731 1460.32 917.69 1465.36 Q912.665 1470.39 911.421 1474.19 Q910.21 1477.98 912.763 1480.54 Q915.333 1483.11 919.114 1481.88 Q922.928 1480.65 927.953 1475.63 Q932.994 1470.59 934.205 1466.79 Q935.449 1462.99 932.88 1460.42 M935.499 1457.8 Q939.607 1461.91 938.51 1467.33 Q937.446 1472.75 931.259 1478.93 Q925.088 1485.1 919.654 1486.18 Q914.253 1487.26 910.144 1483.16 Q906.036 1479.05 907.1 1473.63 Q908.197 1468.21 914.367 1462.04 Q920.554 1455.85 925.956 1454.77 Q931.39 1453.69 935.499 1457.8 Z\" fill=\"#4c4c4c\" fill-rule=\"nonzero\" fill-opacity=\"1\" /><path clip-path=\"url(#clip970)\" d=\"M954.207 1481.75 Q951.654 1479.19 947.84 1480.42 Q944.059 1481.65 939.018 1486.69 Q933.993 1491.72 932.749 1495.51 Q931.537 1499.31 934.091 1501.86 Q936.661 1504.43 940.442 1503.21 Q944.255 1501.98 949.281 1496.95 Q954.322 1491.91 955.533 1488.12 Q956.777 1484.32 954.207 1481.75 M956.826 1479.13 Q960.935 1483.24 959.838 1488.66 Q958.774 1494.07 952.587 1500.26 Q946.416 1506.43 940.982 1507.51 Q935.58 1508.59 931.472 1504.48 Q927.364 1500.38 928.428 1494.96 Q929.524 1489.54 935.695 1483.37 Q941.882 1477.18 947.284 1476.1 Q952.718 1475.02 956.826 1479.13 Z\" fill=\"#4c4c4c\" fill-rule=\"nonzero\" fill-opacity=\"1\" /><path clip-path=\"url(#clip970)\" d=\"M975.535 1503.08 Q972.982 1500.52 969.168 1501.75 Q965.387 1502.98 960.345 1508.02 Q955.32 1513.04 954.076 1516.84 Q952.865 1520.64 955.419 1523.19 Q957.988 1525.76 961.769 1524.53 Q965.583 1523.31 970.608 1518.28 Q975.65 1513.24 976.861 1509.44 Q978.105 1505.65 975.535 1503.08 M978.154 1500.46 Q982.262 1504.57 981.166 1509.98 Q980.102 1515.4 973.915 1521.59 Q967.744 1527.76 962.31 1528.84 Q956.908 1529.92 952.8 1525.81 Q948.691 1521.7 949.755 1516.28 Q950.852 1510.87 957.023 1504.7 Q963.21 1498.51 968.611 1497.43 Q974.045 1496.35 978.154 1500.46 Z\" fill=\"#4c4c4c\" fill-rule=\"nonzero\" fill-opacity=\"1\" /><path clip-path=\"url(#clip970)\" d=\"M1126.66 1405.57 Q1124.44 1403.34 1121.6 1403.56 Q1118.79 1403.79 1116.14 1406.44 Q1113.5 1409.07 1113.26 1411.91 Q1113.04 1414.74 1115.27 1416.96 Q1117.5 1419.19 1120.31 1418.96 Q1123.16 1418.73 1125.79 1416.1 Q1128.45 1413.44 1128.66 1410.61 Q1128.89 1407.8 1126.66 1405.57 M1143.59 1401.77 L1140.57 1404.79 Q1139.92 1402.95 1138.95 1401.36 Q1138 1399.79 1136.76 1398.55 Q1133.49 1395.28 1129.54 1395.75 Q1125.61 1396.24 1120.9 1400.46 Q1123.29 1400.01 1125.5 1400.71 Q1127.73 1401.4 1129.48 1403.15 Q1133.16 1406.83 1133.05 1411.2 Q1132.96 1415.57 1129.12 1419.42 Q1125.35 1423.18 1120.85 1423.23 Q1116.35 1423.28 1112.65 1419.58 Q1108.41 1415.34 1109.41 1409.86 Q1110.42 1404.36 1116.6 1398.19 Q1122.39 1392.39 1128.58 1391.71 Q1134.78 1391 1139.41 1395.64 Q1140.66 1396.88 1141.67 1398.39 Q1142.7 1399.91 1143.59 1401.77 Z\" fill=\"#4c4c4c\" fill-rule=\"nonzero\" fill-opacity=\"1\" /><path clip-path=\"url(#clip970)\" d=\"M1151.44 1408.55 L1164.42 1421.53 L1161.64 1424.31 L1151.69 1414.36 L1145.7 1420.35 Q1146.66 1420.83 1147.5 1421.43 Q1148.35 1422.02 1149.07 1422.74 Q1153.16 1426.83 1153.31 1431.47 Q1153.46 1436.1 1149.63 1439.93 Q1145.68 1443.87 1141.03 1443.61 Q1136.4 1443.33 1131.93 1438.86 Q1130.39 1437.32 1129.05 1435.46 Q1127.73 1433.61 1126.55 1431.38 L1129.87 1428.06 Q1130.54 1430.34 1131.72 1432.3 Q1132.9 1434.26 1134.65 1436.02 Q1137.48 1438.85 1140.62 1439.01 Q1143.77 1439.17 1146.32 1436.62 Q1148.87 1434.07 1148.71 1430.93 Q1148.55 1427.78 1145.71 1424.95 Q1144.39 1423.62 1142.77 1422.59 Q1141.16 1421.58 1139.17 1420.83 L1151.44 1408.55 Z\" fill=\"#4c4c4c\" fill-rule=\"nonzero\" fill-opacity=\"1\" /><path clip-path=\"url(#clip970)\" d=\"M1178.94 1441.81 L1157.55 1446.51 L1165.9 1454.86 L1178.94 1441.81 M1180.95 1438.06 L1185.11 1442.22 L1169.19 1458.15 L1172.67 1461.63 L1169.92 1464.38 L1166.44 1460.9 L1160.67 1466.66 L1157.38 1463.37 L1163.15 1457.61 L1152.11 1446.57 L1155.31 1443.38 L1180.95 1438.06 Z\" fill=\"#4c4c4c\" fill-rule=\"nonzero\" fill-opacity=\"1\" /><path clip-path=\"url(#clip970)\" d=\"M1198.96 1460.42 Q1196.41 1457.87 1192.59 1459.09 Q1188.81 1460.32 1183.77 1465.36 Q1178.75 1470.39 1177.5 1474.19 Q1176.29 1477.98 1178.84 1480.54 Q1181.41 1483.11 1185.19 1481.88 Q1189.01 1480.65 1194.03 1475.63 Q1199.07 1470.59 1200.29 1466.79 Q1201.53 1462.99 1198.96 1460.42 M1201.58 1457.8 Q1205.69 1461.91 1204.59 1467.33 Q1203.53 1472.75 1197.34 1478.93 Q1191.17 1485.1 1185.73 1486.18 Q1180.33 1487.26 1176.22 1483.16 Q1172.12 1479.05 1173.18 1473.63 Q1174.28 1468.21 1180.45 1462.04 Q1186.63 1455.85 1192.04 1454.77 Q1197.47 1453.69 1201.58 1457.8 Z\" fill=\"#4c4c4c\" fill-rule=\"nonzero\" fill-opacity=\"1\" /><path clip-path=\"url(#clip970)\" d=\"M1220.29 1481.75 Q1217.73 1479.19 1213.92 1480.42 Q1210.14 1481.65 1205.1 1486.69 Q1200.07 1491.72 1198.83 1495.51 Q1197.62 1499.31 1200.17 1501.86 Q1202.74 1504.43 1206.52 1503.21 Q1210.34 1501.98 1215.36 1496.95 Q1220.4 1491.91 1221.61 1488.12 Q1222.86 1484.32 1220.29 1481.75 M1222.91 1479.13 Q1227.01 1483.24 1225.92 1488.66 Q1224.85 1494.07 1218.67 1500.26 Q1212.5 1506.43 1207.06 1507.51 Q1201.66 1508.59 1197.55 1504.48 Q1193.44 1500.38 1194.51 1494.96 Q1195.6 1489.54 1201.77 1483.37 Q1207.96 1477.18 1213.36 1476.1 Q1218.8 1475.02 1222.91 1479.13 Z\" fill=\"#4c4c4c\" fill-rule=\"nonzero\" fill-opacity=\"1\" /><path clip-path=\"url(#clip970)\" d=\"M1241.61 1503.08 Q1239.06 1500.52 1235.25 1501.75 Q1231.47 1502.98 1226.43 1508.02 Q1221.4 1513.04 1220.16 1516.84 Q1218.95 1520.64 1221.5 1523.19 Q1224.07 1525.76 1227.85 1524.53 Q1231.66 1523.31 1236.69 1518.28 Q1241.73 1513.24 1242.94 1509.44 Q1244.18 1505.65 1241.61 1503.08 M1244.23 1500.46 Q1248.34 1504.57 1247.25 1509.98 Q1246.18 1515.4 1239.99 1521.59 Q1233.82 1527.76 1228.39 1528.84 Q1222.99 1529.92 1218.88 1525.81 Q1214.77 1521.7 1215.84 1516.28 Q1216.93 1510.87 1223.1 1504.7 Q1229.29 1498.51 1234.69 1497.43 Q1240.13 1496.35 1244.23 1500.46 Z\" fill=\"#4c4c4c\" fill-rule=\"nonzero\" fill-opacity=\"1\" /><path clip-path=\"url(#clip970)\" d=\"M1392.74 1405.57 Q1390.52 1403.34 1387.68 1403.56 Q1384.87 1403.79 1382.22 1406.44 Q1379.58 1409.07 1379.34 1411.91 Q1379.12 1414.74 1381.35 1416.96 Q1383.58 1419.19 1386.39 1418.96 Q1389.24 1418.73 1391.87 1416.1 Q1394.53 1413.44 1394.74 1410.61 Q1394.97 1407.8 1392.74 1405.57 M1409.67 1401.77 L1406.65 1404.79 Q1406 1402.95 1405.03 1401.36 Q1404.08 1399.79 1402.84 1398.55 Q1399.57 1395.28 1395.62 1395.75 Q1391.69 1396.24 1386.98 1400.46 Q1389.37 1400.01 1391.58 1400.71 Q1393.81 1401.4 1395.56 1403.15 Q1399.24 1406.83 1399.13 1411.2 Q1399.04 1415.57 1395.2 1419.42 Q1391.43 1423.18 1386.93 1423.23 Q1382.43 1423.28 1378.73 1419.58 Q1374.49 1415.34 1375.49 1409.86 Q1376.5 1404.36 1382.68 1398.19 Q1388.47 1392.39 1394.66 1391.71 Q1400.86 1391 1405.49 1395.64 Q1406.74 1396.88 1407.75 1398.39 Q1408.78 1399.91 1409.67 1401.77 Z\" fill=\"#4c4c4c\" fill-rule=\"nonzero\" fill-opacity=\"1\" /><path clip-path=\"url(#clip970)\" d=\"M1417.52 1408.55 L1430.5 1421.53 L1427.72 1424.31 L1417.77 1414.36 L1411.78 1420.35 Q1412.74 1420.83 1413.58 1421.43 Q1414.43 1422.02 1415.15 1422.74 Q1419.24 1426.83 1419.39 1431.47 Q1419.54 1436.1 1415.71 1439.93 Q1411.76 1443.87 1407.11 1443.61 Q1402.48 1443.33 1398.01 1438.86 Q1396.47 1437.32 1395.13 1435.46 Q1393.81 1433.61 1392.63 1431.38 L1395.95 1428.06 Q1396.62 1430.34 1397.8 1432.3 Q1398.98 1434.26 1400.73 1436.02 Q1403.56 1438.85 1406.7 1439.01 Q1409.85 1439.17 1412.4 1436.62 Q1414.95 1434.07 1414.79 1430.93 Q1414.63 1427.78 1411.79 1424.95 Q1410.47 1423.62 1408.85 1422.59 Q1407.24 1421.58 1405.25 1420.83 L1417.52 1408.55 Z\" fill=\"#4c4c4c\" fill-rule=\"nonzero\" fill-opacity=\"1\" /><path clip-path=\"url(#clip970)\" d=\"M1435.4 1448.23 Q1433.17 1446 1430.34 1446.21 Q1427.52 1446.44 1424.87 1449.09 Q1422.24 1451.73 1421.99 1454.56 Q1421.78 1457.39 1424 1459.62 Q1426.23 1461.84 1429.05 1461.62 Q1431.89 1461.39 1434.53 1458.75 Q1437.18 1456.1 1437.39 1453.27 Q1437.62 1450.45 1435.4 1448.23 M1452.32 1444.43 L1449.31 1447.44 Q1448.66 1445.61 1447.69 1444.02 Q1446.74 1442.45 1445.5 1441.2 Q1442.22 1437.93 1438.28 1438.41 Q1434.35 1438.9 1429.64 1443.12 Q1432.03 1442.66 1434.23 1443.36 Q1436.46 1444.05 1438.21 1445.8 Q1441.9 1449.49 1441.78 1453.86 Q1441.7 1458.23 1437.85 1462.07 Q1434.09 1465.84 1429.59 1465.89 Q1425.09 1465.94 1421.39 1462.24 Q1417.15 1458 1418.14 1452.51 Q1419.16 1447.01 1425.33 1440.84 Q1431.12 1435.05 1437.31 1434.36 Q1443.52 1433.66 1448.15 1438.29 Q1449.39 1439.53 1450.41 1441.04 Q1451.44 1442.56 1452.32 1444.43 Z\" fill=\"#4c4c4c\" fill-rule=\"nonzero\" fill-opacity=\"1\" /><path clip-path=\"url(#clip970)\" d=\"M1465.04 1460.42 Q1462.49 1457.87 1458.67 1459.09 Q1454.89 1460.32 1449.85 1465.36 Q1444.82 1470.39 1443.58 1474.19 Q1442.37 1477.98 1444.92 1480.54 Q1447.49 1483.11 1451.27 1481.88 Q1455.09 1480.65 1460.11 1475.63 Q1465.15 1470.59 1466.37 1466.79 Q1467.61 1462.99 1465.04 1460.42 M1467.66 1457.8 Q1471.77 1461.91 1470.67 1467.33 Q1469.61 1472.75 1463.42 1478.93 Q1457.25 1485.1 1451.81 1486.18 Q1446.41 1487.26 1442.3 1483.16 Q1438.2 1479.05 1439.26 1473.63 Q1440.36 1468.21 1446.53 1462.04 Q1452.71 1455.85 1458.12 1454.77 Q1463.55 1453.69 1467.66 1457.8 Z\" fill=\"#4c4c4c\" fill-rule=\"nonzero\" fill-opacity=\"1\" /><path clip-path=\"url(#clip970)\" d=\"M1486.37 1481.75 Q1483.81 1479.19 1480 1480.42 Q1476.22 1481.65 1471.18 1486.69 Q1466.15 1491.72 1464.91 1495.51 Q1463.7 1499.31 1466.25 1501.86 Q1468.82 1504.43 1472.6 1503.21 Q1476.42 1501.98 1481.44 1496.95 Q1486.48 1491.91 1487.69 1488.12 Q1488.94 1484.32 1486.37 1481.75 M1488.99 1479.13 Q1493.09 1483.24 1492 1488.66 Q1490.93 1494.07 1484.75 1500.26 Q1478.58 1506.43 1473.14 1507.51 Q1467.74 1508.59 1463.63 1504.48 Q1459.52 1500.38 1460.59 1494.96 Q1461.68 1489.54 1467.85 1483.37 Q1474.04 1477.18 1479.44 1476.1 Q1484.88 1475.02 1488.99 1479.13 Z\" fill=\"#4c4c4c\" fill-rule=\"nonzero\" fill-opacity=\"1\" /><path clip-path=\"url(#clip970)\" d=\"M1507.69 1503.08 Q1505.14 1500.52 1501.33 1501.75 Q1497.55 1502.98 1492.51 1508.02 Q1487.48 1513.04 1486.24 1516.84 Q1485.03 1520.64 1487.58 1523.19 Q1490.15 1525.76 1493.93 1524.53 Q1497.74 1523.31 1502.77 1518.28 Q1507.81 1513.24 1509.02 1509.44 Q1510.26 1505.65 1507.69 1503.08 M1510.31 1500.46 Q1514.42 1504.57 1513.33 1509.98 Q1512.26 1515.4 1506.07 1521.59 Q1499.9 1527.76 1494.47 1528.84 Q1489.07 1529.92 1484.96 1525.81 Q1480.85 1521.7 1481.92 1516.28 Q1483.01 1510.87 1489.18 1504.7 Q1495.37 1498.51 1500.77 1497.43 Q1506.21 1496.35 1510.31 1500.46 Z\" fill=\"#4c4c4c\" fill-rule=\"nonzero\" fill-opacity=\"1\" /><path clip-path=\"url(#clip970)\" d=\"M1658.82 1405.57 Q1656.6 1403.34 1653.76 1403.56 Q1650.95 1403.79 1648.3 1406.44 Q1645.66 1409.07 1645.42 1411.91 Q1645.2 1414.74 1647.43 1416.96 Q1649.66 1419.19 1652.47 1418.96 Q1655.32 1418.73 1657.95 1416.1 Q1660.61 1413.44 1660.82 1410.61 Q1661.05 1407.8 1658.82 1405.57 M1675.75 1401.77 L1672.73 1404.79 Q1672.08 1402.95 1671.11 1401.36 Q1670.16 1399.79 1668.92 1398.55 Q1665.65 1395.28 1661.7 1395.75 Q1657.77 1396.24 1653.06 1400.46 Q1655.45 1400.01 1657.66 1400.71 Q1659.89 1401.4 1661.64 1403.15 Q1665.32 1406.83 1665.21 1411.2 Q1665.12 1415.57 1661.28 1419.42 Q1657.51 1423.18 1653.01 1423.23 Q1648.51 1423.28 1644.81 1419.58 Q1640.57 1415.34 1641.57 1409.86 Q1642.58 1404.36 1648.76 1398.19 Q1654.55 1392.39 1660.74 1391.71 Q1666.94 1391 1671.57 1395.64 Q1672.82 1396.88 1673.83 1398.39 Q1674.86 1399.91 1675.75 1401.77 Z\" fill=\"#4c4c4c\" fill-rule=\"nonzero\" fill-opacity=\"1\" /><path clip-path=\"url(#clip970)\" d=\"M1683.6 1408.55 L1696.58 1421.53 L1693.8 1424.31 L1683.85 1414.36 L1677.86 1420.35 Q1678.82 1420.83 1679.66 1421.43 Q1680.51 1422.02 1681.23 1422.74 Q1685.32 1426.83 1685.47 1431.47 Q1685.62 1436.1 1681.79 1439.93 Q1677.84 1443.87 1673.19 1443.61 Q1668.56 1443.33 1664.09 1438.86 Q1662.55 1437.32 1661.21 1435.46 Q1659.89 1433.61 1658.71 1431.38 L1662.03 1428.06 Q1662.7 1430.34 1663.88 1432.3 Q1665.06 1434.26 1666.81 1436.02 Q1669.64 1438.85 1672.78 1439.01 Q1675.93 1439.17 1678.48 1436.62 Q1681.03 1434.07 1680.87 1430.93 Q1680.71 1427.78 1677.87 1424.95 Q1676.55 1423.62 1674.93 1422.59 Q1673.32 1421.58 1671.33 1420.83 L1683.6 1408.55 Z\" fill=\"#4c4c4c\" fill-rule=\"nonzero\" fill-opacity=\"1\" /><path clip-path=\"url(#clip970)\" d=\"M1699.14 1449.75 Q1696.78 1447.39 1694.16 1447.29 Q1691.56 1447.21 1689.35 1449.42 Q1687.14 1451.63 1687.22 1454.23 Q1687.32 1456.85 1689.68 1459.21 Q1692.03 1461.57 1694.65 1461.66 Q1697.29 1461.75 1699.48 1459.55 Q1701.69 1457.34 1701.59 1454.72 Q1701.51 1452.12 1699.14 1449.75 M1697.24 1445.03 Q1695.63 1442.38 1695.9 1439.73 Q1696.17 1437.1 1698.27 1435 Q1701.2 1432.07 1704.98 1432.45 Q1708.78 1432.84 1712.41 1436.47 Q1716.06 1440.12 1716.44 1443.9 Q1716.81 1447.69 1713.88 1450.62 Q1711.79 1452.71 1709.14 1452.97 Q1706.5 1453.25 1703.87 1451.66 Q1705.7 1454.61 1705.41 1457.56 Q1705.13 1460.52 1702.79 1462.86 Q1699.23 1466.41 1695.16 1466.13 Q1691.1 1465.87 1687.06 1461.83 Q1683.01 1457.79 1682.74 1453.71 Q1682.47 1449.65 1686.03 1446.1 Q1688.37 1443.76 1691.33 1443.48 Q1694.29 1443.2 1697.24 1445.03 M1701.25 1438.6 Q1699.35 1440.5 1699.46 1442.74 Q1699.59 1445 1701.74 1447.15 Q1703.87 1449.27 1706.13 1449.4 Q1708.4 1449.55 1710.3 1447.65 Q1712.2 1445.75 1712.05 1443.48 Q1711.92 1441.22 1709.79 1439.09 Q1707.65 1436.95 1705.39 1436.82 Q1703.15 1436.7 1701.25 1438.6 Z\" fill=\"#4c4c4c\" fill-rule=\"nonzero\" fill-opacity=\"1\" /><path clip-path=\"url(#clip970)\" d=\"M1731.12 1460.42 Q1728.57 1457.87 1724.75 1459.09 Q1720.97 1460.32 1715.93 1465.36 Q1710.9 1470.39 1709.66 1474.19 Q1708.45 1477.98 1711 1480.54 Q1713.57 1483.11 1717.35 1481.88 Q1721.17 1480.65 1726.19 1475.63 Q1731.23 1470.59 1732.45 1466.79 Q1733.69 1462.99 1731.12 1460.42 M1733.74 1457.8 Q1737.85 1461.91 1736.75 1467.33 Q1735.69 1472.75 1729.5 1478.93 Q1723.33 1485.1 1717.89 1486.18 Q1712.49 1487.26 1708.38 1483.16 Q1704.28 1479.05 1705.34 1473.63 Q1706.44 1468.21 1712.61 1462.04 Q1718.79 1455.85 1724.2 1454.77 Q1729.63 1453.69 1733.74 1457.8 Z\" fill=\"#4c4c4c\" fill-rule=\"nonzero\" fill-opacity=\"1\" /><path clip-path=\"url(#clip970)\" d=\"M1752.45 1481.75 Q1749.89 1479.19 1746.08 1480.42 Q1742.3 1481.65 1737.26 1486.69 Q1732.23 1491.72 1730.99 1495.51 Q1729.78 1499.31 1732.33 1501.86 Q1734.9 1504.43 1738.68 1503.21 Q1742.5 1501.98 1747.52 1496.95 Q1752.56 1491.91 1753.77 1488.12 Q1755.02 1484.32 1752.45 1481.75 M1755.07 1479.13 Q1759.17 1483.24 1758.08 1488.66 Q1757.01 1494.07 1750.83 1500.26 Q1744.66 1506.43 1739.22 1507.51 Q1733.82 1508.59 1729.71 1504.48 Q1725.6 1500.38 1726.67 1494.96 Q1727.76 1489.54 1733.93 1483.37 Q1740.12 1477.18 1745.52 1476.1 Q1750.96 1475.02 1755.07 1479.13 Z\" fill=\"#4c4c4c\" fill-rule=\"nonzero\" fill-opacity=\"1\" /><path clip-path=\"url(#clip970)\" d=\"M1773.77 1503.08 Q1771.22 1500.52 1767.41 1501.75 Q1763.63 1502.98 1758.59 1508.02 Q1753.56 1513.04 1752.32 1516.84 Q1751.11 1520.64 1753.66 1523.19 Q1756.23 1525.76 1760.01 1524.53 Q1763.82 1523.31 1768.85 1518.28 Q1773.89 1513.24 1775.1 1509.44 Q1776.34 1505.65 1773.77 1503.08 M1776.39 1500.46 Q1780.5 1504.57 1779.41 1509.98 Q1778.34 1515.4 1772.15 1521.59 Q1765.98 1527.76 1760.55 1528.84 Q1755.15 1529.92 1751.04 1525.81 Q1746.93 1521.7 1748 1516.28 Q1749.09 1510.87 1755.26 1504.7 Q1761.45 1498.51 1766.85 1497.43 Q1772.29 1496.35 1776.39 1500.46 Z\" fill=\"#4c4c4c\" fill-rule=\"nonzero\" fill-opacity=\"1\" /><path clip-path=\"url(#clip970)\" d=\"M1215.52 1556.6 L1222.43 1556.6 L1234.24 1574.26 L1246.11 1556.6 L1253.01 1556.6 L1237.74 1579.42 L1254.03 1604.12 L1247.13 1604.12 L1233.76 1583.9 L1220.3 1604.12 L1213.36 1604.12 L1230.32 1578.75 L1215.52 1556.6 Z\" fill=\"#000000\" fill-rule=\"nonzero\" fill-opacity=\"1\" /><polyline clip-path=\"url(#clip972)\" style=\"stroke:#000000; stroke-linecap:round; stroke-linejoin:round; stroke-width:2; stroke-opacity:0.2; fill:none\" points=\"581.799,1090.28 1885.59,1090.28 \"/>\n",
       "<polyline clip-path=\"url(#clip972)\" style=\"stroke:#000000; stroke-linecap:round; stroke-linejoin:round; stroke-width:2; stroke-opacity:0.2; fill:none\" points=\"581.799,824.198 1885.59,824.198 \"/>\n",
       "<polyline clip-path=\"url(#clip972)\" style=\"stroke:#000000; stroke-linecap:round; stroke-linejoin:round; stroke-width:2; stroke-opacity:0.2; fill:none\" points=\"581.799,558.118 1885.59,558.118 \"/>\n",
       "<polyline clip-path=\"url(#clip972)\" style=\"stroke:#000000; stroke-linecap:round; stroke-linejoin:round; stroke-width:2; stroke-opacity:0.2; fill:none\" points=\"581.799,292.038 1885.59,292.038 \"/>\n",
       "<polyline clip-path=\"url(#clip970)\" style=\"stroke:#4c4c4c; stroke-linecap:round; stroke-linejoin:round; stroke-width:4; stroke-opacity:1; fill:none\" points=\"581.799,1351.04 581.799,47.2441 \"/>\n",
       "<polyline clip-path=\"url(#clip970)\" style=\"stroke:#4c4c4c; stroke-linecap:round; stroke-linejoin:round; stroke-width:4; stroke-opacity:1; fill:none\" points=\"1885.59,1351.04 1885.59,47.2441 \"/>\n",
       "<polyline clip-path=\"url(#clip970)\" style=\"stroke:#4c4c4c; stroke-linecap:round; stroke-linejoin:round; stroke-width:4; stroke-opacity:1; fill:none\" points=\"581.799,1090.28 569.468,1090.28 \"/>\n",
       "<polyline clip-path=\"url(#clip970)\" style=\"stroke:#4c4c4c; stroke-linecap:round; stroke-linejoin:round; stroke-width:4; stroke-opacity:1; fill:none\" points=\"581.799,824.198 569.468,824.198 \"/>\n",
       "<polyline clip-path=\"url(#clip970)\" style=\"stroke:#4c4c4c; stroke-linecap:round; stroke-linejoin:round; stroke-width:4; stroke-opacity:1; fill:none\" points=\"581.799,558.118 569.468,558.118 \"/>\n",
       "<polyline clip-path=\"url(#clip970)\" style=\"stroke:#4c4c4c; stroke-linecap:round; stroke-linejoin:round; stroke-width:4; stroke-opacity:1; fill:none\" points=\"581.799,292.038 569.468,292.038 \"/>\n",
       "<path clip-path=\"url(#clip970)\" d=\"M339.05 1088.92 Q342.406 1089.64 344.281 1091.91 Q346.18 1094.18 346.18 1097.51 Q346.18 1102.63 342.661 1105.43 Q339.143 1108.23 332.661 1108.23 Q330.485 1108.23 328.17 1107.79 Q325.879 1107.37 323.425 1106.52 L323.425 1102 Q325.37 1103.14 327.684 1103.72 Q329.999 1104.29 332.522 1104.29 Q336.92 1104.29 339.212 1102.56 Q341.527 1100.82 341.527 1097.51 Q341.527 1094.46 339.374 1092.74 Q337.244 1091.01 333.425 1091.01 L329.397 1091.01 L329.397 1087.16 L333.61 1087.16 Q337.059 1087.16 338.888 1085.8 Q340.717 1084.41 340.717 1081.82 Q340.717 1079.16 338.819 1077.74 Q336.944 1076.31 333.425 1076.31 Q331.504 1076.31 329.305 1076.72 Q327.106 1077.14 324.467 1078.02 L324.467 1073.85 Q327.129 1073.11 329.444 1072.74 Q331.782 1072.37 333.842 1072.37 Q339.166 1072.37 342.268 1074.8 Q345.369 1077.21 345.369 1081.33 Q345.369 1084.2 343.726 1086.19 Q342.082 1088.16 339.05 1088.92 Z\" fill=\"#4c4c4c\" fill-rule=\"nonzero\" fill-opacity=\"1\" /><path clip-path=\"url(#clip970)\" d=\"M365.624 1088.41 Q362.476 1088.41 360.624 1090.57 Q358.795 1092.72 358.795 1096.47 Q358.795 1100.2 360.624 1102.37 Q362.476 1104.53 365.624 1104.53 Q368.772 1104.53 370.601 1102.37 Q372.453 1100.2 372.453 1096.47 Q372.453 1092.72 370.601 1090.57 Q368.772 1088.41 365.624 1088.41 M374.906 1073.76 L374.906 1078.02 Q373.147 1077.19 371.342 1076.75 Q369.559 1076.31 367.8 1076.31 Q363.17 1076.31 360.717 1079.43 Q358.286 1082.56 357.939 1088.88 Q359.305 1086.86 361.365 1085.8 Q363.425 1084.71 365.902 1084.71 Q371.11 1084.71 374.119 1087.88 Q377.152 1091.03 377.152 1096.47 Q377.152 1101.79 374.004 1105.01 Q370.855 1108.23 365.624 1108.23 Q359.629 1108.23 356.457 1103.65 Q353.286 1099.04 353.286 1090.31 Q353.286 1082.12 357.175 1077.26 Q361.064 1072.37 367.615 1072.37 Q369.374 1072.37 371.156 1072.72 Q372.962 1073.07 374.906 1073.76 Z\" fill=\"#4c4c4c\" fill-rule=\"nonzero\" fill-opacity=\"1\" /><path clip-path=\"url(#clip970)\" d=\"M385.253 1073 L403.61 1073 L403.61 1076.93 L389.536 1076.93 L389.536 1085.4 Q390.554 1085.06 391.573 1084.9 Q392.591 1084.71 393.61 1084.71 Q399.397 1084.71 402.777 1087.88 Q406.156 1091.05 406.156 1096.47 Q406.156 1102.05 402.684 1105.15 Q399.212 1108.23 392.892 1108.23 Q390.716 1108.23 388.448 1107.86 Q386.203 1107.49 383.795 1106.75 L383.795 1102.05 Q385.878 1103.18 388.101 1103.74 Q390.323 1104.29 392.8 1104.29 Q396.804 1104.29 399.142 1102.19 Q401.48 1100.08 401.48 1096.47 Q401.48 1092.86 399.142 1090.75 Q396.804 1088.65 392.8 1088.65 Q390.925 1088.65 389.05 1089.06 Q387.198 1089.48 385.253 1090.36 L385.253 1073 Z\" fill=\"#4c4c4c\" fill-rule=\"nonzero\" fill-opacity=\"1\" /><path clip-path=\"url(#clip970)\" d=\"M419.397 1103.62 L435.716 1103.62 L435.716 1107.56 L413.772 1107.56 L413.772 1103.62 Q416.434 1100.87 421.017 1096.24 Q425.624 1091.59 426.804 1090.24 Q429.05 1087.72 429.929 1085.98 Q430.832 1084.22 430.832 1082.53 Q430.832 1079.78 428.888 1078.04 Q426.966 1076.31 423.864 1076.31 Q421.665 1076.31 419.212 1077.07 Q416.781 1077.84 414.003 1079.39 L414.003 1074.66 Q416.827 1073.53 419.281 1072.95 Q421.735 1072.37 423.772 1072.37 Q429.142 1072.37 432.337 1075.06 Q435.531 1077.74 435.531 1082.23 Q435.531 1084.36 434.721 1086.28 Q433.934 1088.18 431.827 1090.78 Q431.249 1091.45 428.147 1094.66 Q425.045 1097.86 419.397 1103.62 Z\" fill=\"#4c4c4c\" fill-rule=\"nonzero\" fill-opacity=\"1\" /><path clip-path=\"url(#clip970)\" d=\"M455.531 1076.08 Q451.92 1076.08 450.091 1079.64 Q448.286 1083.18 448.286 1090.31 Q448.286 1097.42 450.091 1100.98 Q451.92 1104.53 455.531 1104.53 Q459.165 1104.53 460.971 1100.98 Q462.799 1097.42 462.799 1090.31 Q462.799 1083.18 460.971 1079.64 Q459.165 1076.08 455.531 1076.08 M455.531 1072.37 Q461.341 1072.37 464.397 1076.98 Q467.475 1081.56 467.475 1090.31 Q467.475 1099.04 464.397 1103.65 Q461.341 1108.23 455.531 1108.23 Q449.721 1108.23 446.642 1103.65 Q443.587 1099.04 443.587 1090.31 Q443.587 1081.56 446.642 1076.98 Q449.721 1072.37 455.531 1072.37 Z\" fill=\"#4c4c4c\" fill-rule=\"nonzero\" fill-opacity=\"1\" /><path clip-path=\"url(#clip970)\" d=\"M485.693 1076.08 Q482.082 1076.08 480.253 1079.64 Q478.447 1083.18 478.447 1090.31 Q478.447 1097.42 480.253 1100.98 Q482.082 1104.53 485.693 1104.53 Q489.327 1104.53 491.133 1100.98 Q492.961 1097.42 492.961 1090.31 Q492.961 1083.18 491.133 1079.64 Q489.327 1076.08 485.693 1076.08 M485.693 1072.37 Q491.503 1072.37 494.558 1076.98 Q497.637 1081.56 497.637 1090.31 Q497.637 1099.04 494.558 1103.65 Q491.503 1108.23 485.693 1108.23 Q479.883 1108.23 476.804 1103.65 Q473.748 1099.04 473.748 1090.31 Q473.748 1081.56 476.804 1076.98 Q479.883 1072.37 485.693 1072.37 Z\" fill=\"#4c4c4c\" fill-rule=\"nonzero\" fill-opacity=\"1\" /><path clip-path=\"url(#clip970)\" d=\"M515.855 1076.08 Q512.244 1076.08 510.415 1079.64 Q508.609 1083.18 508.609 1090.31 Q508.609 1097.42 510.415 1100.98 Q512.244 1104.53 515.855 1104.53 Q519.489 1104.53 521.294 1100.98 Q523.123 1097.42 523.123 1090.31 Q523.123 1083.18 521.294 1079.64 Q519.489 1076.08 515.855 1076.08 M515.855 1072.37 Q521.665 1072.37 524.72 1076.98 Q527.799 1081.56 527.799 1090.31 Q527.799 1099.04 524.72 1103.65 Q521.665 1108.23 515.855 1108.23 Q510.044 1108.23 506.966 1103.65 Q503.91 1099.04 503.91 1090.31 Q503.91 1081.56 506.966 1076.98 Q510.044 1072.37 515.855 1072.37 Z\" fill=\"#4c4c4c\" fill-rule=\"nonzero\" fill-opacity=\"1\" /><path clip-path=\"url(#clip970)\" d=\"M339.05 822.844 Q342.406 823.561 344.281 825.83 Q346.18 828.098 346.18 831.431 Q346.18 836.547 342.661 839.348 Q339.143 842.149 332.661 842.149 Q330.485 842.149 328.17 841.709 Q325.879 841.292 323.425 840.436 L323.425 835.922 Q325.37 837.056 327.684 837.635 Q329.999 838.214 332.522 838.214 Q336.92 838.214 339.212 836.478 Q341.527 834.742 341.527 831.431 Q341.527 828.376 339.374 826.663 Q337.244 824.927 333.425 824.927 L329.397 824.927 L329.397 821.084 L333.61 821.084 Q337.059 821.084 338.888 819.719 Q340.717 818.33 340.717 815.737 Q340.717 813.075 338.819 811.663 Q336.944 810.228 333.425 810.228 Q331.504 810.228 329.305 810.644 Q327.106 811.061 324.467 811.941 L324.467 807.774 Q327.129 807.033 329.444 806.663 Q331.782 806.293 333.842 806.293 Q339.166 806.293 342.268 808.723 Q345.369 811.131 345.369 815.251 Q345.369 818.121 343.726 820.112 Q342.082 822.08 339.05 822.844 Z\" fill=\"#4c4c4c\" fill-rule=\"nonzero\" fill-opacity=\"1\" /><path clip-path=\"url(#clip970)\" d=\"M365.624 822.334 Q362.476 822.334 360.624 824.487 Q358.795 826.64 358.795 830.39 Q358.795 834.117 360.624 836.293 Q362.476 838.445 365.624 838.445 Q368.772 838.445 370.601 836.293 Q372.453 834.117 372.453 830.39 Q372.453 826.64 370.601 824.487 Q368.772 822.334 365.624 822.334 M374.906 807.682 L374.906 811.941 Q373.147 811.107 371.342 810.668 Q369.559 810.228 367.8 810.228 Q363.17 810.228 360.717 813.353 Q358.286 816.478 357.939 822.797 Q359.305 820.783 361.365 819.719 Q363.425 818.631 365.902 818.631 Q371.11 818.631 374.119 821.802 Q377.152 824.95 377.152 830.39 Q377.152 835.714 374.004 838.931 Q370.855 842.149 365.624 842.149 Q359.629 842.149 356.457 837.566 Q353.286 832.959 353.286 824.232 Q353.286 816.038 357.175 811.177 Q361.064 806.293 367.615 806.293 Q369.374 806.293 371.156 806.64 Q372.962 806.987 374.906 807.682 Z\" fill=\"#4c4c4c\" fill-rule=\"nonzero\" fill-opacity=\"1\" /><path clip-path=\"url(#clip970)\" d=\"M385.253 806.918 L403.61 806.918 L403.61 810.853 L389.536 810.853 L389.536 819.325 Q390.554 818.978 391.573 818.816 Q392.591 818.631 393.61 818.631 Q399.397 818.631 402.777 821.802 Q406.156 824.973 406.156 830.39 Q406.156 835.968 402.684 839.07 Q399.212 842.149 392.892 842.149 Q390.716 842.149 388.448 841.779 Q386.203 841.408 383.795 840.667 L383.795 835.968 Q385.878 837.103 388.101 837.658 Q390.323 838.214 392.8 838.214 Q396.804 838.214 399.142 836.107 Q401.48 834.001 401.48 830.39 Q401.48 826.779 399.142 824.672 Q396.804 822.566 392.8 822.566 Q390.925 822.566 389.05 822.982 Q387.198 823.399 385.253 824.279 L385.253 806.918 Z\" fill=\"#4c4c4c\" fill-rule=\"nonzero\" fill-opacity=\"1\" /><path clip-path=\"url(#clip970)\" d=\"M428.216 810.992 L416.411 829.441 L428.216 829.441 L428.216 810.992 M426.989 806.918 L432.869 806.918 L432.869 829.441 L437.799 829.441 L437.799 833.33 L432.869 833.33 L432.869 841.478 L428.216 841.478 L428.216 833.33 L412.614 833.33 L412.614 828.816 L426.989 806.918 Z\" fill=\"#4c4c4c\" fill-rule=\"nonzero\" fill-opacity=\"1\" /><path clip-path=\"url(#clip970)\" d=\"M455.531 809.996 Q451.92 809.996 450.091 813.561 Q448.286 817.103 448.286 824.232 Q448.286 831.339 450.091 834.904 Q451.92 838.445 455.531 838.445 Q459.165 838.445 460.971 834.904 Q462.799 831.339 462.799 824.232 Q462.799 817.103 460.971 813.561 Q459.165 809.996 455.531 809.996 M455.531 806.293 Q461.341 806.293 464.397 810.899 Q467.475 815.482 467.475 824.232 Q467.475 832.959 464.397 837.566 Q461.341 842.149 455.531 842.149 Q449.721 842.149 446.642 837.566 Q443.587 832.959 443.587 824.232 Q443.587 815.482 446.642 810.899 Q449.721 806.293 455.531 806.293 Z\" fill=\"#4c4c4c\" fill-rule=\"nonzero\" fill-opacity=\"1\" /><path clip-path=\"url(#clip970)\" d=\"M485.693 809.996 Q482.082 809.996 480.253 813.561 Q478.447 817.103 478.447 824.232 Q478.447 831.339 480.253 834.904 Q482.082 838.445 485.693 838.445 Q489.327 838.445 491.133 834.904 Q492.961 831.339 492.961 824.232 Q492.961 817.103 491.133 813.561 Q489.327 809.996 485.693 809.996 M485.693 806.293 Q491.503 806.293 494.558 810.899 Q497.637 815.482 497.637 824.232 Q497.637 832.959 494.558 837.566 Q491.503 842.149 485.693 842.149 Q479.883 842.149 476.804 837.566 Q473.748 832.959 473.748 824.232 Q473.748 815.482 476.804 810.899 Q479.883 806.293 485.693 806.293 Z\" fill=\"#4c4c4c\" fill-rule=\"nonzero\" fill-opacity=\"1\" /><path clip-path=\"url(#clip970)\" d=\"M515.855 809.996 Q512.244 809.996 510.415 813.561 Q508.609 817.103 508.609 824.232 Q508.609 831.339 510.415 834.904 Q512.244 838.445 515.855 838.445 Q519.489 838.445 521.294 834.904 Q523.123 831.339 523.123 824.232 Q523.123 817.103 521.294 813.561 Q519.489 809.996 515.855 809.996 M515.855 806.293 Q521.665 806.293 524.72 810.899 Q527.799 815.482 527.799 824.232 Q527.799 832.959 524.72 837.566 Q521.665 842.149 515.855 842.149 Q510.044 842.149 506.966 837.566 Q503.91 832.959 503.91 824.232 Q503.91 815.482 506.966 810.899 Q510.044 806.293 515.855 806.293 Z\" fill=\"#4c4c4c\" fill-rule=\"nonzero\" fill-opacity=\"1\" /><path clip-path=\"url(#clip970)\" d=\"M339.05 556.764 Q342.406 557.481 344.281 559.75 Q346.18 562.018 346.18 565.351 Q346.18 570.467 342.661 573.268 Q339.143 576.069 332.661 576.069 Q330.485 576.069 328.17 575.629 Q325.879 575.212 323.425 574.356 L323.425 569.842 Q325.37 570.976 327.684 571.555 Q329.999 572.134 332.522 572.134 Q336.92 572.134 339.212 570.398 Q341.527 568.662 341.527 565.351 Q341.527 562.296 339.374 560.583 Q337.244 558.847 333.425 558.847 L329.397 558.847 L329.397 555.004 L333.61 555.004 Q337.059 555.004 338.888 553.639 Q340.717 552.25 340.717 549.657 Q340.717 546.995 338.819 545.583 Q336.944 544.148 333.425 544.148 Q331.504 544.148 329.305 544.565 Q327.106 544.981 324.467 545.861 L324.467 541.694 Q327.129 540.953 329.444 540.583 Q331.782 540.213 333.842 540.213 Q339.166 540.213 342.268 542.643 Q345.369 545.051 345.369 549.171 Q345.369 552.041 343.726 554.032 Q342.082 556 339.05 556.764 Z\" fill=\"#4c4c4c\" fill-rule=\"nonzero\" fill-opacity=\"1\" /><path clip-path=\"url(#clip970)\" d=\"M365.624 556.254 Q362.476 556.254 360.624 558.407 Q358.795 560.56 358.795 564.31 Q358.795 568.037 360.624 570.213 Q362.476 572.365 365.624 572.365 Q368.772 572.365 370.601 570.213 Q372.453 568.037 372.453 564.31 Q372.453 560.56 370.601 558.407 Q368.772 556.254 365.624 556.254 M374.906 541.602 L374.906 545.861 Q373.147 545.027 371.342 544.588 Q369.559 544.148 367.8 544.148 Q363.17 544.148 360.717 547.273 Q358.286 550.398 357.939 556.717 Q359.305 554.703 361.365 553.639 Q363.425 552.551 365.902 552.551 Q371.11 552.551 374.119 555.722 Q377.152 558.87 377.152 564.31 Q377.152 569.634 374.004 572.851 Q370.855 576.069 365.624 576.069 Q359.629 576.069 356.457 571.486 Q353.286 566.879 353.286 558.152 Q353.286 549.958 357.175 545.097 Q361.064 540.213 367.615 540.213 Q369.374 540.213 371.156 540.56 Q372.962 540.907 374.906 541.602 Z\" fill=\"#4c4c4c\" fill-rule=\"nonzero\" fill-opacity=\"1\" /><path clip-path=\"url(#clip970)\" d=\"M385.253 540.838 L403.61 540.838 L403.61 544.773 L389.536 544.773 L389.536 553.245 Q390.554 552.898 391.573 552.736 Q392.591 552.551 393.61 552.551 Q399.397 552.551 402.777 555.722 Q406.156 558.893 406.156 564.31 Q406.156 569.888 402.684 572.99 Q399.212 576.069 392.892 576.069 Q390.716 576.069 388.448 575.699 Q386.203 575.328 383.795 574.587 L383.795 569.888 Q385.878 571.023 388.101 571.578 Q390.323 572.134 392.8 572.134 Q396.804 572.134 399.142 570.027 Q401.48 567.921 401.48 564.31 Q401.48 560.699 399.142 558.592 Q396.804 556.486 392.8 556.486 Q390.925 556.486 389.05 556.902 Q387.198 557.319 385.253 558.199 L385.253 540.838 Z\" fill=\"#4c4c4c\" fill-rule=\"nonzero\" fill-opacity=\"1\" /><path clip-path=\"url(#clip970)\" d=\"M425.948 556.254 Q422.8 556.254 420.948 558.407 Q419.119 560.56 419.119 564.31 Q419.119 568.037 420.948 570.213 Q422.8 572.365 425.948 572.365 Q429.096 572.365 430.925 570.213 Q432.776 568.037 432.776 564.31 Q432.776 560.56 430.925 558.407 Q429.096 556.254 425.948 556.254 M435.23 541.602 L435.23 545.861 Q433.471 545.027 431.665 544.588 Q429.883 544.148 428.124 544.148 Q423.494 544.148 421.04 547.273 Q418.61 550.398 418.263 556.717 Q419.628 554.703 421.688 553.639 Q423.749 552.551 426.225 552.551 Q431.434 552.551 434.443 555.722 Q437.475 558.87 437.475 564.31 Q437.475 569.634 434.327 572.851 Q431.179 576.069 425.948 576.069 Q419.952 576.069 416.781 571.486 Q413.61 566.879 413.61 558.152 Q413.61 549.958 417.499 545.097 Q421.388 540.213 427.938 540.213 Q429.698 540.213 431.48 540.56 Q433.286 540.907 435.23 541.602 Z\" fill=\"#4c4c4c\" fill-rule=\"nonzero\" fill-opacity=\"1\" /><path clip-path=\"url(#clip970)\" d=\"M455.531 543.916 Q451.92 543.916 450.091 547.481 Q448.286 551.023 448.286 558.152 Q448.286 565.259 450.091 568.824 Q451.92 572.365 455.531 572.365 Q459.165 572.365 460.971 568.824 Q462.799 565.259 462.799 558.152 Q462.799 551.023 460.971 547.481 Q459.165 543.916 455.531 543.916 M455.531 540.213 Q461.341 540.213 464.397 544.819 Q467.475 549.402 467.475 558.152 Q467.475 566.879 464.397 571.486 Q461.341 576.069 455.531 576.069 Q449.721 576.069 446.642 571.486 Q443.587 566.879 443.587 558.152 Q443.587 549.402 446.642 544.819 Q449.721 540.213 455.531 540.213 Z\" fill=\"#4c4c4c\" fill-rule=\"nonzero\" fill-opacity=\"1\" /><path clip-path=\"url(#clip970)\" d=\"M485.693 543.916 Q482.082 543.916 480.253 547.481 Q478.447 551.023 478.447 558.152 Q478.447 565.259 480.253 568.824 Q482.082 572.365 485.693 572.365 Q489.327 572.365 491.133 568.824 Q492.961 565.259 492.961 558.152 Q492.961 551.023 491.133 547.481 Q489.327 543.916 485.693 543.916 M485.693 540.213 Q491.503 540.213 494.558 544.819 Q497.637 549.402 497.637 558.152 Q497.637 566.879 494.558 571.486 Q491.503 576.069 485.693 576.069 Q479.883 576.069 476.804 571.486 Q473.748 566.879 473.748 558.152 Q473.748 549.402 476.804 544.819 Q479.883 540.213 485.693 540.213 Z\" fill=\"#4c4c4c\" fill-rule=\"nonzero\" fill-opacity=\"1\" /><path clip-path=\"url(#clip970)\" d=\"M515.855 543.916 Q512.244 543.916 510.415 547.481 Q508.609 551.023 508.609 558.152 Q508.609 565.259 510.415 568.824 Q512.244 572.365 515.855 572.365 Q519.489 572.365 521.294 568.824 Q523.123 565.259 523.123 558.152 Q523.123 551.023 521.294 547.481 Q519.489 543.916 515.855 543.916 M515.855 540.213 Q521.665 540.213 524.72 544.819 Q527.799 549.402 527.799 558.152 Q527.799 566.879 524.72 571.486 Q521.665 576.069 515.855 576.069 Q510.044 576.069 506.966 571.486 Q503.91 566.879 503.91 558.152 Q503.91 549.402 506.966 544.819 Q510.044 540.213 515.855 540.213 Z\" fill=\"#4c4c4c\" fill-rule=\"nonzero\" fill-opacity=\"1\" /><path clip-path=\"url(#clip970)\" d=\"M339.05 290.684 Q342.406 291.401 344.281 293.67 Q346.18 295.938 346.18 299.271 Q346.18 304.387 342.661 307.188 Q339.143 309.989 332.661 309.989 Q330.485 309.989 328.17 309.549 Q325.879 309.132 323.425 308.276 L323.425 303.762 Q325.37 304.896 327.684 305.475 Q329.999 306.054 332.522 306.054 Q336.92 306.054 339.212 304.318 Q341.527 302.582 341.527 299.271 Q341.527 296.216 339.374 294.503 Q337.244 292.767 333.425 292.767 L329.397 292.767 L329.397 288.924 L333.61 288.924 Q337.059 288.924 338.888 287.559 Q340.717 286.17 340.717 283.577 Q340.717 280.915 338.819 279.503 Q336.944 278.068 333.425 278.068 Q331.504 278.068 329.305 278.485 Q327.106 278.901 324.467 279.781 L324.467 275.614 Q327.129 274.873 329.444 274.503 Q331.782 274.133 333.842 274.133 Q339.166 274.133 342.268 276.563 Q345.369 278.971 345.369 283.091 Q345.369 285.961 343.726 287.952 Q342.082 289.92 339.05 290.684 Z\" fill=\"#4c4c4c\" fill-rule=\"nonzero\" fill-opacity=\"1\" /><path clip-path=\"url(#clip970)\" d=\"M365.624 290.174 Q362.476 290.174 360.624 292.327 Q358.795 294.48 358.795 298.23 Q358.795 301.957 360.624 304.133 Q362.476 306.285 365.624 306.285 Q368.772 306.285 370.601 304.133 Q372.453 301.957 372.453 298.23 Q372.453 294.48 370.601 292.327 Q368.772 290.174 365.624 290.174 M374.906 275.522 L374.906 279.781 Q373.147 278.947 371.342 278.508 Q369.559 278.068 367.8 278.068 Q363.17 278.068 360.717 281.193 Q358.286 284.318 357.939 290.637 Q359.305 288.623 361.365 287.559 Q363.425 286.471 365.902 286.471 Q371.11 286.471 374.119 289.642 Q377.152 292.79 377.152 298.23 Q377.152 303.554 374.004 306.771 Q370.855 309.989 365.624 309.989 Q359.629 309.989 356.457 305.406 Q353.286 300.799 353.286 292.072 Q353.286 283.878 357.175 279.017 Q361.064 274.133 367.615 274.133 Q369.374 274.133 371.156 274.48 Q372.962 274.827 374.906 275.522 Z\" fill=\"#4c4c4c\" fill-rule=\"nonzero\" fill-opacity=\"1\" /><path clip-path=\"url(#clip970)\" d=\"M385.253 274.758 L403.61 274.758 L403.61 278.693 L389.536 278.693 L389.536 287.165 Q390.554 286.818 391.573 286.656 Q392.591 286.471 393.61 286.471 Q399.397 286.471 402.777 289.642 Q406.156 292.813 406.156 298.23 Q406.156 303.808 402.684 306.91 Q399.212 309.989 392.892 309.989 Q390.716 309.989 388.448 309.619 Q386.203 309.248 383.795 308.508 L383.795 303.808 Q385.878 304.943 388.101 305.498 Q390.323 306.054 392.8 306.054 Q396.804 306.054 399.142 303.947 Q401.48 301.841 401.48 298.23 Q401.48 294.619 399.142 292.512 Q396.804 290.406 392.8 290.406 Q390.925 290.406 389.05 290.822 Q387.198 291.239 385.253 292.119 L385.253 274.758 Z\" fill=\"#4c4c4c\" fill-rule=\"nonzero\" fill-opacity=\"1\" /><path clip-path=\"url(#clip970)\" d=\"M425.369 292.906 Q422.036 292.906 420.114 294.688 Q418.216 296.471 418.216 299.596 Q418.216 302.72 420.114 304.503 Q422.036 306.285 425.369 306.285 Q428.702 306.285 430.624 304.503 Q432.545 302.697 432.545 299.596 Q432.545 296.471 430.624 294.688 Q428.725 292.906 425.369 292.906 M420.693 290.915 Q417.684 290.174 415.994 288.114 Q414.327 286.054 414.327 283.091 Q414.327 278.947 417.267 276.54 Q420.23 274.133 425.369 274.133 Q430.531 274.133 433.471 276.54 Q436.411 278.947 436.411 283.091 Q436.411 286.054 434.721 288.114 Q433.054 290.174 430.068 290.915 Q433.448 291.702 435.323 293.994 Q437.221 296.285 437.221 299.596 Q437.221 304.619 434.142 307.304 Q431.087 309.989 425.369 309.989 Q419.651 309.989 416.573 307.304 Q413.517 304.619 413.517 299.596 Q413.517 296.285 415.415 293.994 Q417.313 291.702 420.693 290.915 M418.98 283.531 Q418.98 286.216 420.647 287.721 Q422.337 289.225 425.369 289.225 Q428.378 289.225 430.068 287.721 Q431.781 286.216 431.781 283.531 Q431.781 280.846 430.068 279.341 Q428.378 277.836 425.369 277.836 Q422.337 277.836 420.647 279.341 Q418.98 280.846 418.98 283.531 Z\" fill=\"#4c4c4c\" fill-rule=\"nonzero\" fill-opacity=\"1\" /><path clip-path=\"url(#clip970)\" d=\"M455.531 277.836 Q451.92 277.836 450.091 281.401 Q448.286 284.943 448.286 292.072 Q448.286 299.179 450.091 302.744 Q451.92 306.285 455.531 306.285 Q459.165 306.285 460.971 302.744 Q462.799 299.179 462.799 292.072 Q462.799 284.943 460.971 281.401 Q459.165 277.836 455.531 277.836 M455.531 274.133 Q461.341 274.133 464.397 278.739 Q467.475 283.322 467.475 292.072 Q467.475 300.799 464.397 305.406 Q461.341 309.989 455.531 309.989 Q449.721 309.989 446.642 305.406 Q443.587 300.799 443.587 292.072 Q443.587 283.322 446.642 278.739 Q449.721 274.133 455.531 274.133 Z\" fill=\"#4c4c4c\" fill-rule=\"nonzero\" fill-opacity=\"1\" /><path clip-path=\"url(#clip970)\" d=\"M485.693 277.836 Q482.082 277.836 480.253 281.401 Q478.447 284.943 478.447 292.072 Q478.447 299.179 480.253 302.744 Q482.082 306.285 485.693 306.285 Q489.327 306.285 491.133 302.744 Q492.961 299.179 492.961 292.072 Q492.961 284.943 491.133 281.401 Q489.327 277.836 485.693 277.836 M485.693 274.133 Q491.503 274.133 494.558 278.739 Q497.637 283.322 497.637 292.072 Q497.637 300.799 494.558 305.406 Q491.503 309.989 485.693 309.989 Q479.883 309.989 476.804 305.406 Q473.748 300.799 473.748 292.072 Q473.748 283.322 476.804 278.739 Q479.883 274.133 485.693 274.133 Z\" fill=\"#4c4c4c\" fill-rule=\"nonzero\" fill-opacity=\"1\" /><path clip-path=\"url(#clip970)\" d=\"M515.855 277.836 Q512.244 277.836 510.415 281.401 Q508.609 284.943 508.609 292.072 Q508.609 299.179 510.415 302.744 Q512.244 306.285 515.855 306.285 Q519.489 306.285 521.294 302.744 Q523.123 299.179 523.123 292.072 Q523.123 284.943 521.294 281.401 Q519.489 277.836 515.855 277.836 M515.855 274.133 Q521.665 274.133 524.72 278.739 Q527.799 283.322 527.799 292.072 Q527.799 300.799 524.72 305.406 Q521.665 309.989 515.855 309.989 Q510.044 309.989 506.966 305.406 Q503.91 300.799 503.91 292.072 Q503.91 283.322 506.966 278.739 Q510.044 274.133 515.855 274.133 Z\" fill=\"#4c4c4c\" fill-rule=\"nonzero\" fill-opacity=\"1\" /><path clip-path=\"url(#clip970)\" d=\"M243.649 719.176 L243.649 712.269 L263.192 699.092 L243.649 686.011 L243.649 679.104 L268.539 695.909 L291.169 695.909 L291.169 702.371 L268.539 702.371 L243.649 719.176 Z\" fill=\"#000000\" fill-rule=\"nonzero\" fill-opacity=\"1\" /><g clip-path=\"url(#clip972)\">\n",
       "<image width=\"1304\" height=\"1304\" xlink:href=\"data:image/png;base64,\n",
       "iVBORw0KGgoAAAANSUhEUgAABRgAAAUYCAYAAADDGL4dAAAgAElEQVR4nOzay859SZrf9d867b3f\n",
       "0/+QWVmd1dXlrq52C9nItkAeITOAGXfAPXALXASXwJgRgjGICUI2jYUEBmFc3UVXl+uUmf/Te9h7\n",
       "rxOD9MQy6ufL6uXETX8/40cRsZ6IeCJ2vG/zn/yn/2ANcF76MqYF7XTNQrpDcW3qoc9pUH//zS//\n",
       "sIz58LFDbSEo699xdyBo3XHcLUjn3X29DtaVzfHQ1W317X4f2DR1Wy2I6eCYyH4g3zfDfPZgjy5g\n",
       "/z2NA+qP5GpoWX2p3PQjivtnv7gvY5a5bmcFMUmyLnUOmq7O+e//6Iz6+/HduzLm0NSDJ3NH435z\n",
       "qXP+j/7nN6i/5fwdF2JwSDYg5uOfXMuYFW6F/lCvl/6mHlR/w+rG3/0H9dj/8O6rMua2Y3v0vqv7\n",
       "+3yo98N9P6H+/sahPthGMDkvYK8nyTswrP/853+vjPntxyPqj/jBm5cyhtSWWzB3CTuLSMypZXM8\n",
       "reS2W6Nn7QrvsRU6bnKXGEFbTxNbU2Slj2u9rw5g/o5wjkmmrmBMeI5BHLlPLTuuqWHHs/2mres1\n",
       "+b4L+C2asPOBrBeyF+j+JJki3zcu+/0WJb+16Vl7BeMi64XcKRNWg0jdoHuGnCEzGNMJ5vMI8kDm\n",
       "j6xPejb0YEwvS/2bblpYf6QmPIJzhv42fOjqu2AH2roF9S5JPk6nMoa8Yz1NB9Tfsa3nbwAx5Bzd\n",
       "55YkSZIkSZIk6a8lHxglSZIkSZIkbeYDoyRJkiRJkqTNfGCUJEmSJEmStJkPjJIkSZIkSZI284FR\n",
       "kiRJkiRJ0mY+MEqSJEmSJEnazAdGSZIkSZIkSZv5wChJkiRJkiRps35dGxR4XfoyZl3rdtoGBCU5\n",
       "tHMZMzR1zBr2fSgPZOisOxYH+mPZ/H8T+Bdr4JM0+TzSFkonXFPNXlNM5xgg+2HH7rKAD2zgYiFj\n",
       "b0FbA9jrCcs7GTtrhyGZWhcSBDco6rAOWWDdJ3ET+DtVF5KE3T7vr4F6XhpYFxE2fawpVINIO2wN\n",
       "T2u9Psnn0f5msEInENPCInRq67b+nTe/KGP+q1/+pIx58xlbCNOyz9+uO7jbSX0h64DEJKwGfZyO\n",
       "ZcxDd0X9HdupjHmcD6gtYq+r7rGrx50kH8c6V91Od6XzPICopGvqNUV+X5BxJ0H32BnsK/obi8T1\n",
       "IAf0vti3+7VF3LRjGbOA+XsB64X+JiDXPFKD6J2ZXisrpJYlrE6Rc/SaDvVHPo+8E5xgnbqAd5C9\n",
       "9lXC5pnUoCuoG/R+cwP28QXMzF1f788kGcHY1x7ch1Fvyae5XuvDAnLQsHPmDNbUm+GljDkMrCaQ\n",
       "9Yn26FLvUf+DUZIkSZIkSdJmPjBKkiRJkiRJ2swHRkmSJEmSJEmb+cAoSZIkSZIkaTMfGCVJkiRJ\n",
       "kiRt5gOjJEmSJEmSpM18YJQkSZIkSZK0mQ+MkiRJkiRJkjbrm2aFgUsZM4H3ygb1lqxgWNe1Ay2x\n",
       "HhfQH8kU/b694HySQPKB9TLATZE5XsjA2RJOujqwA/uB7pkGDL3dccGQ/vZspwM1YV5BTYD9sSVc\n",
       "R5FxN3BRteBPNGTL0CWMkgBi0L4KnD/QDpmXJOlBtlYw9pXWKVL496qdSRrSGPmzHymeEGlqBUFk\n",
       "XpLkppvKmGNbx/Qtm2SSqU/ToYz5weEJ9XdohjJmAvmceVUofXZ4KWO6etjYh5c6n81D/X0LrBvn\n",
       "hQy+7q9v2N/cD+0M2qr7m0B9TZJDwH4gd3TYH4kj/ZGzNkkOx/r7nsAeHde+jJlgnRrA2juAOtXC\n",
       "ffw8199H8knWZpIMII7cgxa4psjYj009JnJ+JOxc63e6M+Ocg+/77fWujKH3N7KPX8C6uy50juuk\n",
       "vx7OZcyhYXN8245lzAjeCS5LXTcSNs+0xhLk3vxxOpYxE5i/7/psoJdmsqYeuksZQ+8STeq7BKmd\n",
       "78Yb2F/tZa7HdNvVeyHZ7y3vFuTc/2CUJEmSJEmStJkPjJIkSZIkSZI284FRkiRJkiRJ0mY+MEqS\n",
       "JEmSJEnazAdGSZIkSZIkSZv5wChJkiRJkiRpMx8YJUmSJEmSJG3mA6MkSZIkSZKkzfo3/RkFPnTX\n",
       "MmZamzKmrUOwJmsZ87IMrC0wrhY8x5J2koCR0yAItIW6g99HwhryvA0GNS+gnSTzQtZnHdPBHLSp\n",
       "B0bWMM1529Rtof6gFQysa+ocdGDcSbKiNVyPibSzwKTf3NWNjYe6rQWszSRoP5AaRHNO5o+su76Z\n",
       "YX91W2id0z+dgVw1tKgTZFykwOw47hb015CYnvVHalAP1h3Zx0kyg6Q/g3vCb8ce9fd9cOXowdyc\n",
       "F3awkZr3CtzfvvhsLGM+PLH7VNeBurh0Zcza1WNK2N2FrM4F3GGph/5SxnwYT6itUzeVMSQHLTz/\n",
       "Z5Ctea33FdnHCcv7oa3PkEPqmJeZrWFyzpBxk/qTJA3oj5zHp5btGXZfrH2C+STz9wzWFL3BHkF/\n",
       "A1gvt6B2khqcJFdQ816D3+T0fvrV9a6MeQbzNy1sDY9r/X2XpT5Hv3d4Qv296uoaS3IFry6ZyX5H\n",
       "ZwjL5+O0Tz4JMndJcpO6vrwZ6jU8gb2eJE9zPa4FtEV/+5I6RcZO6k/C9tan6VjG7LUOEvZ77dLW\n",
       "8+J/MEqSJEmSJEnazAdGSZIkSZIkSZv5wChJkiRJkiRpMx8YJUmSJEmSJG3mA6MkSZIkSZKkzXxg\n",
       "lCRJkiRJkrSZD4ySJEmSJEmSNvOBUZIkSZIkSdJmPjBKkiRJkiRJ2qz/8nhGgdelfoscmrWMaUFM\n",
       "kryA/siY1qlB/R36pYzph7q/hnWHrCBVSz1s3FbY1OyG5KrrwJqCz+Snfi5jhg6sg5YlfWjquAbs\n",
       "h4ZODFl7oKkVNZScuqmMIfud7pnr0pUxZJ2T7+tgnerB+pznuj+aA/J9pC261UmumtTrnK6paa3j\n",
       "ZhBDNSRZO9Z0lHiyhlEJYrO8kBSAGruOrL9DW9fhHxwfy5h30xH1N6/14HtQq3/3UNe7JBmaelwr\n",
       "mJs9l90J5Px7p+cy5qt3r1F/3U0d826sgwYw7iQ5tvXc3PdX1BZBzuQjGPt72B85+8gavqw96m8l\n",
       "NRaekQTZo3u1Q/JE27qu9byMYO4Sdp8iMS/LgPojeSAxdBU8z2xclQ7OXwtG1rZ1DLnH4yzstEcX\n",
       "eAd61de/72+7ui6+G29Rf2Stk1p9WVidejfVZ8gE3gnu4NmwV516ntn33XZjGfPQX8qYy1zPywT/\n",
       "3+wDyDnJE1kHtC1SEwb4u52ctUNTn+0deEtIkpuhnuMzqOlk3AnL1UjONRDjfzBKkiRJkiRJ2swH\n",
       "RkmSJEmSJEmb+cAoSZIkSZIkaTMfGCVJkiRJkiRt5gOjJEmSJEmSpM18YJQkSZIkSZK0mQ+MkiRJ\n",
       "kiRJkjbzgVGSJEmSJEnSZv0vLzcocFy/27fIeaf+5rVBcU3WMmatQ3a1Z3+krXWpYxqWTga01bX1\n",
       "wNuGJerUT2XMsZvrMTUgUUl6ENe1dcyeKSdof6duLGOuSwf6q2O+javnea/1SfpK4L4CMQtbUuj7\n",
       "WH8sUROow0NT75k9dWS/73lckaWw59kA2mrI98ExfcfHWlpQF3/ncAXtsJGTO8AB1OEBFpcWVNBD\n",
       "U9e8ExhTkiyp474BG+JHN+/LmP+zf43GdHusa8LQ1jG0nC9gjl/moYwhZ3aSzGADkvVJaydd6xV6\n",
       "rvVw7VXouN8M5zLmPPdlzNN82G1Ml6WeY3IWHfsL6o8g67MFd+aE3WPJ77BxZfe3l7mOI3NzaOt7\n",
       "fMLWOulvAXVjr/2ZJC0Y9/NSjynh+73ydnhGcQdQ0x+nYxlzXuq9niSfQFvkbDjDfB7B2iP9XeGe\n",
       "IeMiNYGcM3d9feei/ZFVR35bJMkFrAWyZz5OLOek5pE7LBlTklya+vsWcBO6Bb/Hk+QGxA3g+17A\n",
       "eex/MEqSJEmSJEnazAdGSZIkSZIkSZv5wChJkiRJkiRpMx8YJUmSJEmSJG3mA6MkSZIkSZKkzXxg\n",
       "lCRJkiRJkrSZD4ySJEmSJEmSNvOBUZIkSZIkSdJm/av+igKn9bt9i1zWOmYGY7ruOO4VjKlpdusu\n",
       "Af2RMSXJuuwUA7+vBWknMX1bD2pe2KCW1HEknWTdfdtW3d801221DZvkDsS14AvbBiwE2BZqB34f\n",
       "meV9RrQvskeXmbXVgKVHahDZV0kyNPXAerBeOrimyJ4h667paKHaacXQZkjpIDF7LvS9zoaZDWoB\n",
       "9fMEckDq3bdt1YN/1dfrfIQ5n0CyFjCBB3iZWMFBOoIz8rPhpYy5v2WFCt1LwGWigQv91E1lzF1X\n",
       "33Vf5gH1t4Cxk5gB1uFpqeeYrBZyB0qSAdbrCp2/DhQhMvJbMMdkXpLk1NZr6uN0LGPobwJy1l6X\n",
       "royh96mAOjy09ZhInpLkutOhRffo83woY+6WSxlzA2rLAeaAnH1kzxxhf5e5L2O+GW/LGLIOEjYu\n",
       "UlvomiLvEg3YD0f4fSQPZ5DzZq33ccJqAvm9dgF1Y4S/a8n9+wDydNONqD/y+4Ls9RHkIGF5uOtA\n",
       "rV7rdZAkTVOvdXJmvRtvUH/kDCH7mMyf/8EoSZIkSZIkaTMfGCVJkiRJkiRt5gOjJEmSJEmSpM18\n",
       "YJQkSZIkSZK0mQ+MkiRJkiRJkjbzgVGSJEmSJEnSZj4wSpIkSZIkSdrMB0ZJkiRJkiRJm/nAKEmS\n",
       "JEmSJGmzvmtWFLiuIA60ta4N6y91HBn5tLI3VNLfMoN2FtRdSDpJDEoC1JCpYdOXBqR9GOrBvz5e\n",
       "yphP1yMZUshaJ5/Xwj3TN/ViaMAEdi1bVGTsHRgTGXeSfHn8VMb8Xy9vyxiaTzJ2tt/32zQLrGcV\n",
       "tNcTNHTS1tCxOT62UxlzaOvC2OBzps7n74B11x4+R/0tVzB/qA7vt6ZIHW7afdbdt22BmI40xMY0\n",
       "rnVjZHX++AQO5CTPcz03B5BPdAdK8qvxWsbcgP46mM+npc7WdalzPoO9R2v1ZaoXFRkTvb+9zEMZ\n",
       "83Z4KWPI2kz2q/vkTEuS57m+49x19brrYD4Jsl4aeGH8BL7vAtbLXnegb+PqtU7W1DNYm0nycTqV\n",
       "MTOYv4f+jPq77UYUt5cB3BO+d3guY2g+SU0gNYi0Q+7xXL2KRzDub+Pq9fI41XvvcTqg/v7m/Vdl\n",
       "DMkVyXnC7p4L2DNPM6uLr8lvOlCEyF5IWK0iZ3JD7uhoRMwjqOf0rEXXLjB4Whefl3qtT2DsfcPm\n",
       "mHwfWQe0LnZNX8ZcljrmvNT9+R+MkiRJkiRJkjbzgVGSJEmSJEnSZj4wSpIkSZIkSdrMB0ZJkiRJ\n",
       "kiRJm/nAKEmSJEmSJGkzHxglSZIkSZIkbeYDoyRJkiRJkqTNfGCUJEmSJEmStFk/LeyNcUpTxqyo\n",
       "rRX1RywrGBOISZK7YSxjHo89aIl9HxkXaWldUHdpWBrq/uD0dV0d+MX9uYz53dPHMubPljdoTENb\n",
       "J2toZ9QW0TZ1Dvqm7q9v2CTP6O8F9UKY1g719+vrPWirHtN9d0X9jW3d1nWpx77TVkiSvL251EG3\n",
       "dQipZUnSgqpA9vpDD8ad5GU+lDFL6tpJs07qy6mbypjf/1FdWxK2XkitnmFdJG0duromXP9wKGN6\n",
       "UO8SVhdJLevael6S5PXwUsb8jx/fljG0Lo5gjkndn0EtS5LzUt8Tnud6/k4wn2Rubrt6j5J8/p23\n",
       "v0Zj+u9++sMy5nxX5wmffWBffRhPZQzJZcLWVANq9WHH+wbRwO8j58wI7gntjvPXg7FfwLxQKziM\n",
       "FnCukTwlyamt9+gd2MdHcD4mydNU16DzWu9R+n034Psep/q+QX9Bvu7rOwBZL+R8JPUgYffhCzg/\n",
       "6O+UFazP276+f4/w7HuajmVMN7C7GUHWwgGco3QNX0EceVOhdZjcOa4LqZ3woQAg98pb8JvuAH77\n",
       "JsmnuV5Tl6neM+emrncJ+01+BLWMnFdJ8gnsGVKnyF5Pkhdw9yRtzWu9r/wPRkmSJEmSJEmb+cAo\n",
       "SZIkSZIkaTMfGCVJkiRJkiRt5gOjJEmSJEmSpM18YJQkSZIkSZK0mQ+MkiRJkiRJkjbzgVGSJEmS\n",
       "JEnSZj4wSpIkSZIkSdqs/x/e/x4KnNb6LXJcujJmRb0lDYlp6tboC+pnh5cy5vBmhq3V5rX+wpdp\n",
       "KGOerz3qr+8WFFdZwLgTNjekrXfjbRnzk7tv0JheD+cyZmh2nGOwileQgxbkMkmmBezRtd6jZG0m\n",
       "Sd/Wa+r9eANiTqg/YgF1imRzRRUo+VuvflPG/P7N+zLmAHKZsLVw29Zr+A9hyj/r6vm7BzHUf/nN\n",
       "pzLmaa7r4se7I+qPnFmkTk1gX1H3/aWM+cXzqzLmMrMx/eZDnavpWrfTwMP2z0LWyw/qkB0vE5+9\n",
       "mcqYP3rFzplnsD6fpkMZM4B9nLA6PIO6+Gao70Cv+voMpbqmHje5dybJAeZqr/5aMHZy1nYrq/s3\n",
       "3VjGkLHTuwTZM2T+FniOkg6Pbb1Hydf1YNwJrPvgzkX2XpIcdvq+EYwpSRowNScwpu91z6g/skdJ\n",
       "f+T8T5JvwN3zaa7Pvtu1PvwGen9LHXcCe526AeMid6AJxCTJhwncJcB+ILUlSd6CtbfX+Ujdgd/a\n",
       "9Hf0FeT9rqv3Fck5PftewP67LvW7xF1X33OT5AHEHZq6bnyc2O8UkgfyfQ/gHp8kHVifR7BcaN0n\n",
       "v20bcNJcwNr0PxglSZIkSZIkbeYDoyRJkiRJkqTNfGCUJEmSJEmStJkPjJIkSZIkSZI284FRkiRJ\n",
       "kiRJ0mY+MEqSJEmSJEnazAdGSZIkSZIkSZv5wChJkiRJkiRpMx8YJUmSJEmSJG3W//Evvo8C15UE\n",
       "/eUG8y9p6pAWxHQ97K6pB//0AXS4Zw5AWw19Im5B4I5zTNbLb9d6ct58cShj/vbv/ZoMKTftWMb0\n",
       "zVLGzPBdvkvd1tDWMR1YmwnaMsi0spampc7Dnz59XsascOQdmJuumcuYl7led5+u9bpLkr/1/a/K\n",
       "mP/g1W0Z89DeoP7ISjg0QxlzbE+ov67pQFv12G/7t6i//7j5P8qYn491zn/2Uq+VJJlSf9/Q1mtq\n",
       "nOp2kmRa6z3zNNVr76c/redveaGHEcgVKHlgqXwbRw5uYEWXkqBN8+unevAfn9hd6YvXlzKGnDPk\n",
       "TpIk/Vq3RVJFYlo4pq4uQej8eD+yuvjF8bGMQfmEZx+JIufVAupBkhxBDfoE6sapmVB/Ldg0ZA1f\n",
       "V1YUZpD3p7n+PnLHI/U8ScalHjuZvh7c8XB/oB16Xzy21zJmAPcpWhMewfw14Asf+nrcSXJq67X+\n",
       "bqxjzkt9X7yAuUuSBaxzch8m+yVhdWoEi/jDhd2Hf+e23n93fX0+PoCYJHkGNe/Dhd11idfDuYz5\n",
       "bHguY46wJtx2dT5JS2QdkHqesP3wMtcXgE/TEfVH6j75Hf2qr+cuYfWM/Ea+wppAziNSF7uOzR85\n",
       "28n8kXH7H4ySJEmSJEmSNvOBUZIkSZIkSdJmPjBKkiRJkiRJ2swHRkmSJEmSJEmb+cAoSZIkSZIk\n",
       "aTMfGCVJkiRJkiRt5gOjJEmSJEmSpM18YJQkSZIkSZK0WT+P322HTUMD65AFPI82C+tuXesOl8vK\n",
       "GiPA95FUNQeWUBK1gs9baT6XfXI1L/XIn+cBtXVZujKG5GkBayVJerD4hnYuY9qwXLZNHUdamlf2\n",
       "d4cDGDvpr4ObFH0f6PAIxj31ExlSHro6rmvqfE6BOQArtG/q/XBoj7C/es8c2tsyZoVr+Pfv/m4Z\n",
       "c/vy0zLm2D6i/iZQE1qwPjuwNpNkBLWDrHOUTrIZvu2Qxe1kRQcNaQj2B7YWOdvPH1h/432939ue\n",
       "1DI2LwuoCWR9LuDvzR1M+o8+fy5jfvWxrhsPn19Rf+TknsCFkZxpSbKC/o5tfTa8wLtLD84HcmqP\n",
       "a13vkmQB/e1ZNUjNm8F+GMHdZZrZ/Ybsma+vd2XMV5c6JkleH85lzA9PdRF6nA6ovy+P9RnZgByM\n",
       "4AxN2H4gtWyC99OPU33HIf3ddXUNIvUgSc5Lj+Iq9I5OfvPcgDvsjx/eo/5IHj6ON2UM/c3z2aE+\n",
       "Z94ML/WYphPqj8wfqQmvwZiS5NDU5xH5nUneXejZR36v3bT1wxIZd5J8M9b3hAHkidYNck941V/K\n",
       "mB7UjYTtGfLmQGp1wr6P9HfT1XPsfzBKkiRJkiRJ2swHRkmSJEmSJEmb+cAoSZIkSZIkaTMfGCVJ\n",
       "kiRJkiRt5gOjJEmSJEmSpM18YJQkSZIkSZK0mQ+MkiRJkiRJkjbzgVGSJEmSJEnSZj0NXBcQ1Pwl\n",
       "RvKvdLhPMwsc055D/y6heQlMJwhaVzgxO80f6e6mHVFbfVMnawUrYV7ZammbevDHdi5jGpjMA2jr\n",
       "0NY5uC77/d3h1E5lzLh2qC2SBTJ/pJ0e5ClJerAU+tTfd2gG1B9ZeX1Tl/Ue9nfsHsqYrq3bonVj\n",
       "Weu93DZ1PsleT9haIDk/gHWeJNNa762bDtQzMChaqhsUCDqEZ9F3ftiSzwNjp2ftDC4d41yv4RWe\n",
       "M9elbmsAZ8Ndf6n7grX6J3fflDE/+/Vt3R/4tiQZwZl1C5oiZ3bC91aF1qkFrIUGjJ2uKXKOBvTX\n",
       "wrvLAPJAckXytMACRJYCuXP9Ww+/Rf2RNXWe67OdjClJvhlvyphTV59rLSz8N+iuW3s/nlB/l6XO\n",
       "FbnLL00dQ+prktx21zLm01R/H1kHSTKDjJI9Q+vUCdxdSE2YwT0pSV7m+u5JassR3t/I9z1NxzKG\n",
       "jDtJPixkrdfz93p4KWPoWUv2DPndR/fM54enMobkk9QD6gXsv75la5jsB/K7ga/hOo7EvAL3Rf+D\n",
       "UZIkSZIkSdJmPjBKkiRJkiRJ2swHRkmSJEmSJEmb+cAoSZIkSZIkaTMfGCVJkiRJkiRt5gOjJEmS\n",
       "JEmSpM18YJQkSZIkSZK0mQ+MkiRJkiRJkjbzgVGSJEmSJEnSZn1WGNn8ax3Htv7A2OmwV5qHvYD+\n",
       "VjL4GQ58Bv2RpmieSBx43iZj6psFdJbc9yOKq0xoYtjaO7T1xKywP9LWfVfHXFvW33WpJ7Bp6gns\n",
       "yeJMMq5dGdOChdeAz1tW9reXhw58X0PGvd/fep6WpzLmul5QW8f5uYwZ2gNoia2peZ3KmPfTuzKG\n",
       "1gQS14GYI1gHSbKAPHQ7rWESsyd8hpI4MnY2xVnJGQnaWme6huu4lpz/oL4mbA23Td3WdenLmAnW\n",
       "RXIW9XV3WeDZ92k6lTG3XX3+Hxp2FgWca2jkoJ2ErSky9seF1GpWp8i5vcK6fwFr79TW8ze09V6Y\n",
       "4RomcZ8N9fn42fCC+iN75jfXO9QW8XE6ljG/vd6XMW9BDpJkXq9lTAf2wxmslSR5mYcypgX9XZf6\n",
       "/jaBXNL+yB12hvdFkoMG9Efr/vNU1xdSEwawF5LkZa77W9r6TvkM8kSR77uBdZ/c4S5zvT4fwfqk\n",
       "d+YbcI6SPfo4sz1Dzj4y9oee/eYh91hyNpB7fMKuwyewhp/AXkiSx6nO56v+XMac53qO/Q9GSZIk\n",
       "SZIkSZv5wChJkiRJkiRpMx8YJUmSJEmSJG3mA6MkSZIkSZKkzXxglCRJkiRJkrSZD4ySJEmSJEmS\n",
       "NvOBUZIkSZIkSdJmPjBKkiRJkiRJ2qxPAyPXfTpcYTtoWDs+jzY0D/+GoflEFtLhd9vfutYTM7Rk\n",
       "4EkDBt83dVsNXHgkVQfSH1ybB5CHrgE5YN3l0M1lzG03ljHfOzyh/mawFohlredvBDFJ8ifnYxnz\n",
       "q+tXZcyxZRurAfNH8nRZ2Pc9gDmewdCvMJ9kXJelK2N+dGL5/PHN+zJmAafRx6leBzRuBDlYxvr7\n",
       "ljMs1iBsJQcN3J4kbF3A99Wl5V/E7XNo9fesneuX9fpswOHX0sJfd5d1rtu6gn1FztAk+ZPnz8qY\n",
       "P/jisYx5ngbU35vhpYwht4Tzwk6/G3Cukf7oidaCuk9mhvZH5nkFrXXgfkP7I3V4IbUTjYjdrfuu\n",
       "bu15YWuYxJF8knmhHvpzGUPWZsLu1te1rkHkN0HC9gM5a79r9/21jLku9b0sSVqw2skxQ3NO9tap\n",
       "ncoYUl+T5GWu98w3420ZQ/KUJKeuHvtddyljyF5Ikis43MlvAnKukXlJkt9c7suYt8NzGUNz0IJ6\n",
       "dgRjn+BvEFLPSH9nsDYT9luT/I5+BWp1AvMAtjup1f/mVVdJkiRJkiRJf2X4wChJkiRJkiRpMx8Y\n",
       "JUmSJEmSJG3mA6MkSZIkSZKkzXxglCRJkiRJkrSZD4ySJEmSJEmSNvOBUZIkSZIkSdJmPjBKkiRJ\n",
       "kiRJ2qxvOxa4Lv96B/KvaEAIiYFPqOtKglhbCBj7rv2B+VtREvbTgCQsYNzzSpKZLKC/61JviBlN\n",
       "XtI1dT4voL++YZtvXerFfgUxDRh3kgwg7s3wUsb8R599QP2NoAi1YGom8Hkz3AsXEAdLLDKjqHpM\n",
       "v7qywvjFUCf0vNT9PZGNnOTU1nHzWmeBtJMk4PPytNRBI9hXSXJu+jJmAQcbSEGWy371fJ2/27Nh\n",
       "mUgMG9M8gjgQQu8Sy1LPMUEz3oBI0lYL6vkKz76H/lLG/Ief/6yM+c/+yd9H/X1xqqssGfkAz9oz\n",
       "mONDw6o1Qe4AZG4OLRvTtNaLndwXZ/g/DOT7LnOdczLuAZ4N5ApwBmM6taCYQR3I0wTvw2/B3Yzs\n",
       "h3fjDeqP3IdPTZ2rth1Rf+18LGMep0MZQ9bUnvvqPchnD2sLqelkjq8ru8WeQB5uu3r+yLiT5BU4\n",
       "ZwYwppd5QP09gfVyAWfD677ee0lyBLWD/K4lFYHcIxJ2l3gEe29PqO7DPTOCtU7eHI6wJty31zKG\n",
       "3DeuO/7SvAF7FN0p//JDkSRJkiRJkvTXlQ+MkiRJkiRJkjbzgVGSJEmSJEnSZj4wSpIkSZIkSdrM\n",
       "B0ZJkiRJkiRJm/nAKEmSJEmSJGkzHxglSZIkSZIkbeYDoyRJkiRJkqTNfGCUJEmSJEmStFm/rvs1\n",
       "Rppqmv36Q2B/3/WwWLJAzAK7W0CHsC0EjJPwdusAACAASURBVH3tQAwYNl3C01q/p7egNdLOt+qE\n",
       "krF3eNPUrTVNHdOBmCRpQRwZ+WVlC+8K1vAEckBmb4aLaq+ad6X7GMT0OxazV91QxhybuYyZM6H+\n",
       "RpCHK2jnvLA9OsK1Xnk7kFElz0udT7JHG1A78Z8PQc5RHabnBzmKwAak/eFxfYfGuZ6crmVrc27A\n",
       "uQbaGpd6Ua0rKy4vc73Of3Kq2+m6/S6oCxg72Z9JMoCat4DCT/NJztoVnLY0mzMYV7fjvyeQ7+vb\n",
       "eiMfUs8Lqa9JMoEz5HE+ljHnpUf9PfQXEFWP6aZjZ23f1Pkk9+HXwxn19wLyQPqj12Hyk2cGd/mb\n",
       "btylnSTpQM6f50MZc4B7j4QN4Pto3biCOSZ1+BVcU+1Oa/jYsj2zgKLXk/swXC8vc51PUs+epnpN\n",
       "3fbsDvsK1CmyZ8gdIUlG/Hv7L0bOxyS5aeuxf5rquv8Mv+8W3HHY2cC8G2/KmA8ghtQy/4NRkiRJ\n",
       "kiRJ0mY+MEqSJEmSJEnazAdGSZIkSZIkSZv5wChJkiRJkiRpMx8YJUmSJEmSJG3mA6MkSZIkSZKk\n",
       "zXxglCRJkiRJkrSZD4ySJEmSJEmSNutxZLNLSBoSBLXgebSF/a1o8Kyt3awgZs8xfcc5QE2BHLwf\n",
       "b1B/bUMSWpsW9i5/aGcQM5UxPRx31ywgpm6LjDtJBtDfAjbWtLLvW8BiWEBT9ag5Ul/ImChSPzsQ\n",
       "06LiknTgb1AnsB0+Q70l17aenReQ0OvKZnkC65Psv/uO7Znn+VzGfEPq2Xdd90kz9Kwlbe3UTpI0\n",
       "YH12Q90j/b4FLL09p4/kgdT9vfpKkstcXy1/Wm+F/Pjtp936I+d/A79wWutF1YEaRO8ke0XRuk+Q\n",
       "tmZ0sWbr8wjuStPSlTGHhtXqhRQOkM5xrceUJI/TsYw5tWMZQ++nJJ8rqFQjyPm3bdUasA7mha2p\n",
       "y1LXBLKPybwM8M5Mck7u3yfQTpK8zEMZ8zwfyhhyT0qSu65en3fdtYy5wDU1pY6bwP4jv8OSZF7r\n",
       "uCtYd6+HF9RfN9f7gczxx+lUxuC3GbAWyG/RVz24ACRZQA0iOacnH9nLnx+ed+uPzN9vL/e79Udq\n",
       "OqlBpHb6H4ySJEmSJEmSNvOBUZIkSZIkSdJmPjBKkiRJkiRJ2swHRkmSJEmSJEmb+cAoSZIkSZIk\n",
       "aTMfGCVJkiRJkiRt5gOjJEmSJEmSpM18YJQkSZIkSZK0WZ+VBa4krvlLjeVfbgq0Rca0LKy/ljy1\n",
       "ku+D+UT27G/HudmtPzLHoJnL0oOopG/mMqZt6h5XmMwFxI1rV7eDNl9yAGt42nF9riANZPtN8PuI\n",
       "AYypBcWlh/tlaOqkj2udBTovO22rvOnrvZAkr7qbMmZe67buW/aBDfib18+uH8qYX1xZTXgL8vCm\n",
       "q8fUkAMryWfDWMacQT1rurq/lmyGJGB5hkwf3cYNCFxBPls2xaheg22chhYFoAHnDDmLqJkUa+DY\n",
       "Tiju0Nb76s/P92XM94+PqL//9d3vlDG/e1PXjdf9GfVHzvY9r2/neShjSM7JukuSrqmLwhXcXXrQ\n",
       "TgLveSAH41pv5Pv+Anpj98qvrndlDMllkrwdXsqYm64+P8idMknmuc4VGTud4xnsiBeQc3r/fp4P\n",
       "9ZhAXezAnhkXlnOiAbthAus8SfqW3D3BHXZh/X0C+fw4HcsYuqZIvT619Z55BGslYTWd7BlSN5Jk\n",
       "Afm8769lDKkt8Kkkz6AOk0SR/Zmwmn4Av+1JO0lyC2rsm6FedyhPYXnowD4+z+xCTO6VpC6SdvwP\n",
       "RkmSJEmSJEmb+cAoSZIkSZIkaTMfGCVJkiRJkiRt5gOjJEmSJEmSpM18YJQkSZIkSZK0mQ+MkiRJ\n",
       "kiRJkjbzgVGSJEmSJEnSZj4wSpIkSZIkSdqsT8MCYdh+SIcgpoEDb9u1bos8xy6sPwSMfa2H/S+a\n",
       "Io2xtmCHNZBPMn9dw5Leg7i2qZMwwt3QgoSiNIExJWzpkf6mlf3dgYxrWru6HZjPbqciNIBF1cHC\n",
       "QaKOoHAM8NuuSz3LZB2sMOd9U8/fvJIx0eIylxE/PQ9lzJ+fH1Bv7c2HMubzvv6+C5iXhP1F77ab\n",
       "ypibt/X8XQ496C2s7u94AVgXctaSw531R7YyOdvR+Z/k81fXMuZhqGOGtt4LCavDAzj7Pjs8lTFv\n",
       "hxc0po+HUxnzm8s9GNMz6u/lWk/OZan3A62LJGpZ6yhyJ0mSZ3AmgzKcQ8PWFFkvZ5BPenchUaSt\n",
       "Zalz/svLK9BbQkZF5o/kKUn++bke18NwLmPo/Y2sz1M7ljED+O2UJONc54HsqxfQzp5IHabHI/mt\n",
       "QmKObX1HSJKXub4rkZp329XrIGE1dgbrk6zNJPnNtT5DyO+wEe6ZjtQgMHZ6thPkDeAGzF8D7+hk\n",
       "7Oh39FL/tkiSBaxPUmPpWfs4HXeJOcE9Q/Y72TP0+8jckN03LvWY/A9GSZIkSZIkSZv5wChJkiRJ\n",
       "kiRpMx8YJUmSJEmSJG3mA6MkSZIkSZKkzXxglCRJkiRJkrSZD4ySJEmSJEmSNvOBUZIkSZIkSdJm\n",
       "PjBKkiRJkiRJ2swHRkmSJEmSJEmb9Xd3626NNc1+bfVd3VYL+iMxSfLqcC1jPhyPZQzNQdvUMU1A\n",
       "W6CdJCFNobbgFLdtHUi6G9q5jPn6egdaSua17rEBg1pAO0nSN0sZQ9I5Lh3qbwUZ7cCYDiDnSdKC\n",
       "tua1/hvGf/3VD1F/E2iLzA39vu8SXVOknpE8Uf/Fr27KmOtcr89jx3I+LfXYr2A/nOce9feP8qMy\n",
       "huS8b+u9kLCa/uZwLmP+zg++LmPI3kuScWX1pbLCs2EhlR/shwusiwSpi6+Gy25tvbvW+yrw+0g9\n",
       "u4A5/sXL6zLmdV+vzSQZmnpMpE4dQDsJuy++u96WMad2Qv29Huo8kO1A76e33VjGPE71/bTvaJ2q\n",
       "7XW/SVitIvvqpqvnj5wf1BfHxzLmw3hCbc3g/z3IXfDQsDU8N+A+BcZE80nW8GWpz+0JnldHsJev\n",
       "oK0zGBOtG0SH7ngsB2zP1PNC61Q713FkDZNxJ8mHqd5bE+hvzzo1gjssyXmSfHZ4LmPIvjov9RfS\n",
       "fYzu38tQxpDzI2G5GsAPd5pzsva+AXeJ5/mA+mvB6rvr67vnAnJO3YP+nqb6+/wPRkmSJEmSJEmb\n",
       "+cAoSZIkSZIkaTMfGCVJkiRJkiRt5gOjJEmSJEmSpM18YJQkSZIkSZK0mQ+MkiRJkiRJkjbzgVGS\n",
       "JEmSJEnSZj4wSpIkSZIkSdqs/8HD026Ntc1ad9gsqK0Oxu2F9LekKWOm5a/um+1aT1/Wps5BkoCm\n",
       "Mi+kra6M+OXLA2iHrc9DO5cxDWiH9kfWC8t4Mq11WwP4vttuRP3d91fQ1qWMYdlM/vf3X+zSVgfm\n",
       "ZVlZ1k89yGdf55Pm4AjmjyDrIEn+2devyxhSEvqOfWHX1nHjXK/zcYJ1CgwLVSn4fSQPK+jxOtd1\n",
       "8QryRPsjeSJzl7A7ADlryZiSpAfjAqUz57lH/ZH98DwNZczQsjsQSQM518h5ReYlSWaQ0Of5UMZ8\n",
       "cWD307//xS/LmP/pqx+UMb9z/IT6a0DWB5DPu64+Q5Pkq/G2jHkC+byBZzu6D4MzsoXrhaw9ss5b\n",
       "MO77fgItJS9zvUef5mMZ82o4o/4GMHZybg8NO9sv6P5dOy91npLkutT1k6xhcs9NWL0m9ezU1uul\n",
       "xTe4Ghn3GeQyYWfIZalj4M8+lAdSW0h9TZKbtq5nF9DWuNT3qSRpwf7rwf4j52OSvB9vyhhSp8jv\n",
       "hhM8G8gckzGdV7aGyX44dvUepW9KN10ddwvObXKvTlg+Sc2jb08nkCsyf+Qs+qv7GiZJkiRJkiTp\n",
       "/3M+MEqSJEmSJEnazAdGSZIkSZIkSZv5wChJkiRJkiRpMx8YJUmSJEmSJG3mA6MkSZIkSZKkzXxg\n",
       "lCRJkiRJkrSZD4ySJEmSJEmSNuufpwEFLmsDotYy4rafUH91SwkZUdOQlpKhncuYy9SVMdMK32zB\n",
       "sBrygShTCcnWCpqiva1kdlAOFhDDRjUt9dzcdGMZ08L+HvpLGXNZ+jIG5TLJea7bIrkal3qdJ8nH\n",
       "6VjHrHXMnz89oP6ez/W42p32DNt7yWWq19RTS+aYuR3qOtW39Z6576+ov3Hcp25cYUJJ1FJ/Hgc6\n",
       "JENf0fmYLEsdR+rUDPoj7SSsJpBx0z0zgjOS3DfYnSRZ1nrB3IBzhgP5BGMn+yqB6wXEHLv6bva/\n",
       "fPgBGtPnx6cyhpy1Czz7fu/0oYz57y8/LGNm+Df3DuwZMi8vC7t/d2BNtSDmCs/2vqv3AxkT7e+u\n",
       "q8+jM8jVXr8bkuQAfhNMa72Gjy37zYPu6KAVel88gXFd13r+yNlA2xqaOucNvC01bR1H9nEPxkTr\n",
       "FDm3Z3A+DuCOl7AzpAN5ot9HsN88zBHs0a6p9+gZ/qZDv41Aqk6g3iXsPeEK8knWOf3d14O7Eqmd\n",
       "j1M97oT9npnA2M8N64+cRej8h/dT8n1D9sl5ktyCe9cn8Nue7FL/g1GSJEmSJEnSZj4wSpIkSZIk\n",
       "SdrMB0ZJkiRJkiRJm/nAKEmSJEmSJGkzHxglSZIkSZIkbeYDoyRJkiRJkqTNfGCUJEmSJEmStJkP\n",
       "jJIkSZIkSZI284FRkiRJkiRJ0mb9dd7vjbEDTb3MPWqrzVrHNHU7QzvD/mpL6g4bMO4kaUCH4PNw\n",
       "fyRqBR2urDsUR/prmrqhlTQUNqbr0pUxC+yPGNqljLnQPQNyNa/1wnua9uvv1E11f891zhM2fxPa\n",
       "7vvNX9fXbU3dfmt4AvX62Ndr6gDr4lJPX5a6O1aAkqxkWKR2wmOtAWlvwfIkKUiSFQSSM7kDe69r\n",
       "YdKBGazPy7jfviL7gX7dAi4KpKaPC1tUrw+XMoac2+RsSFgdJjH7zV7yqq9z8GZ42aWdJLks9Zn1\n",
       "9v5axnx1uUP93Xf1uMjd86ZhdfhmGMuYp/lQxpD7TZIc27rw9+D7Rvj7YgL3ErJnyDqndYOMnPxO\n",
       "eZyOqL8f3bzfpb+vRraGR7AW2qauQR2ISdiaIntmgnX4a5CHp2koY+5BDephDlZQZUdwFpF7fMLO\n",
       "UZJzejaQtl715zLm6/EW9fd+PIH+6vkj9TxJlg7cS0DOSe2kbU1rvY/JHu3hWXTb1WcRmeNnEJOw\n",
       "s/1lqfcxXcPkHP0GrE9Sq5PkBuSTGOD8kbsuGRP5TeB/MEqSJEmSJEnazAdGSZIkSZIkSZv5wChJ\n",
       "kiRJkiRpMx8YJUmSJEmSJG3mA6MkSZIkSZKkzXxglCRJkiRJkrSZD4ySJEmSJEmSNvOBUZIkSZIk\n",
       "SdJmfdusuzXWpm6rgW317VL3B8Z+6kbUX0MH9v9je6aArKoV9LiudQxdw+NSv6e/TH0ZQ9dKO9fj\n",
       "ehzrMZ3nekxJ0jf1nllAzqeZ/d3hNExlDJmZpR52kmQGW3mdQcx+JS9znYIMx/12FtkPXVvHkHXw\n",
       "bX8gBuSA5pzsrV3rFBgXWZ/4GAVx81rvv0NXJ30I3FjAAtbUPLG6gc6GHfcoaWpa6u87dqw/ch4d\n",
       "u7pQkTsQdV3qwY/g781/+9VvUH9fHJ7KGHJezaDeJUkDZvnffl2P/Y+/+l3U3x/cflPGHNt6jr93\n",
       "OKP+DiBXX4+3Zcyn6Yj6I1ln9322kcldkOyrBawX0leSNCDnxNN8QHGXpb7n/fD4uFt/ZG+d56GM\n",
       "ObbgApBkBYf7FeRggWfDXXctY27B70Oyhsm6S5ILqMNknR8amHMQQ+4b9M5F8vCy7Lemlq4eO9kP\n",
       "d90F9XcC964J/M6kGSVrYWjqc4asYfJtCatTH8Ac0z3zAn7/krvSLagHSfLQ13EnsD6vK7swkjyQ\n",
       "+xvZV0lyAOtlBGPvwPnofzBKkiRJkiRJ2swHRkmSJEmSJEmb+cAoSZIkSZIkaTMfGCVJkiRJkiRt\n",
       "5gOjJEmSJEmSpM18YJQkSZIkSZK0mQ+MkiRJkiRJkjbzgVGSJEmSJEnSZv2yNrs1tqZuq1lpW7UW\n",
       "NHbsJtRfT3qEYyfI2PfUgMGTlUCXC/m8ZiVjqmNAM0mScanf08l+oHNHUkX6mxeW9DkdiqvsVxGS\n",
       "Fszfq/sZtTXO9cimCdQg8IF9t9/+fDiNZUwH11TXLGXM0NYxPWgnST77jNXPEiwcDcgDmT+6R0mu\n",
       "SM570A71ariUMeT7SO1MkqFh+28vL/OhjHk/nsoYuobJHYDUKXqXOLR1Pl8P513GlLD1eV36Xdr5\n",
       "COYlSb6+3pYx5OvGhZ1ptx2psfX3XUb2N/d3400ZcwJjep7reUmSN8d6vXxxeCpjfn15QP3dtPXY\n",
       "b/t9zqJkv3vXAm4vKzyLevL7oq1rwvfAvCTJtNZr759f7suYcWV75kDuEn19FpF6lyTP81DGkHvQ\n",
       "if6ma65lzBM4i0jdoLX6tNZjR795drylk99Fe/7muYKaPoO9QNsiyJ0kYfWF5ID+/B/A3iK/f9Hb\n",
       "DBlQWM0jMdS01jWP1E56l/iA7jh10q8rO9vZ+0U9OyeYc1KvSU0gefI/GCVJkiRJkiRt5gOjJEmS\n",
       "JEmSpM18YJQkSZIkSZK0mQ+MkiRJkiRJkjbzgVGSJEmSJEnSZj4wSpIkSZIkSdrMB0ZJkiRJkiRJ\n",
       "m/nAKEmSJEmSJGkzHxglSZIkSZIkbdaPM3tjbJp9OqTNrGsdM3RLGTMtHeqvaecyZlz2e49dwAeu\n",
       "a52tadlpYpIsoD8yL3vqu7rD+8O4W3/zDHIOV/EI2mpBUzTnC1gLpCm+1/sy4s3hXMb80etvaIcl\n",
       "soZnEDOAepAkH8dTGfM8DWVM27BJJnND6tTt4Yr6ew3iyNgb+H2k5pH+7vsL6u+zw3MZ8wDaetvX\n",
       "6zxJ+rY+s85zva/+9OVtGfPl8RMa02fDSxnzuq9r7BWej//b4/fKmK+vN2XMsrKz/funxzLmcTqW\n",
       "Mcd2Qv39+PZdGfP5UK+XG1iDrmDPfJoOZcyfvbwuY75/fEJj+vGpXnsf57ou/uTEzvYRHJL/7Tdf\n",
       "ljE3B5bzn4NckdpygffTEZzt78Z6z3wA51WSvAL1bFnr/TA0LJ8va70WhtRtreButsCzaFrrekb6\n",
       "a9Gti6lPD3Z+JOwcfQ3WAclBktz34M4BUvUM6kaSXNDdmtTOes8sMAdkP9x0dc1bdvwdRu6UT3N9\n",
       "fiT73d+6hqx0djebwT7+BM7/JBlBHNnvHb0PgxhyLzkvdU0g5wdFzo9bsM6T5AfHj2XMBXwfXVMH\n",
       "cO8iczzC+ylxBfeEr8db1NZX17syhuTg1Nbz538wSpIkSZIkSdrMB0ZJkiRJkiRJm/nAKEmSJEmS\n",
       "JGkzHxglSZIkSZIkbeYDoyRJkiRJkqTNfGCUJEmSJEmStJkPjJIkSZIkSZI284FRkiRJkiRJ0mb9\n",
       "OLE3xqZdy5i2qdtpm7qdJJnWurFl7sqYJqy/l/RlzNff1DEr6w5ZFxBEYhKWBdIWmOMkaUBcU09f\n",
       "+mMd072Cc3yt1/oyww8E+nq5BCzzLHCOl6VujKxPMndJ0oLAy1wn4QxikmQFi++6U0049RMaExn7\n",
       "++dDPSaYczR/oKT3oJ4nyacRjB3kk34fCevaekP0ICZJFrABb7uxjPnicGb9gZjLUq/h9+NNGXPX\n",
       "XUFv7Pvu1no/0MrZgTvADGrZw8C+rwXr8wbkYFrZXYnUvOFQr4QjXMPrUo/rtqvnj6yD7w0vaEw/\n",
       "OdU5+JNzPaYZ3qd+cnwoY/7p6UMZ873bz1F/v/p0Vwe9rkM+H1jd+LIuw/nVtZ4bWhPIWqd3a4LU\n",
       "DnL+d029Z+YVXDyTzDvlgIw7YXXjCPYxneMR5IHE0FVwaOYyhpztC8wnWQsrOP9b0M4E1xS5bxCH\n",
       "ts5lkjxO9Q+oGeSTjnsA41rgOUqQvdWDdUfO/yS5LOS3Sr0jSJ4SVoPIHn3oLmUMrVPEp+lUxpyX\n",
       "AbU1gPkjNehpBocobOvL42MZ81nP7krkPnwGvwnue1b3ye8L8ruWrDv/g1GSJEmSJEnSZj4wSpIk\n",
       "SZIkSdrMB0ZJkiRJkiRJm/nAKEmSJEmSJGkzHxglSZIkSZIkbeYDoyRJkiRJkqTNfGCUJEmSJEmS\n",
       "tJkPjJIkSZIkSZI26+eVBTZzU8asdUjmBgQl6dZ6YG1Tx0wNe0Nt27qteQQN4YSCGNIUS2dAOnft\n",
       "Ly0IXOoQMu5lx5ST5dKgRLE1RdLUwT8DzHMdg5YBzCexgKzT/hZQYEhTy1onlPSV0G0Mxg32QsLW\n",
       "eseaQrqGDIwWBdLSPotvXtiY5p3Wwnlhm7QDZxZqB+RpXNhK+DQdy5jbdipjJrhnrmBcE8gn/T4y\n",
       "x+e5L2NOXZ2DJOnbuhCf2npfzTCfA1hTC9jH9/2ljBlBLr+Nq3P1Aub4Ny8D6q9vHsuYL+tlnrfD\n",
       "C+rvT8/3ZQypG7DsZwaH5AGsO7I2E7ZHybnWwnrOzplaA/YCLcFkTPSeQFzWugZ90T+VMaTeJcl5\n",
       "qb/vCZwNdE2x+9t+90Xy268Hc3wCZ98algOCjInEJOw3Mjn/Z/g7mqy9Fe0Z2l8d04C2+H1/n3eJ\n",
       "A1hT1AM4t8l6eZ7ZWfsC4gZQE25a8qDCPM4HELXfHL8bT2XMBOswOSOfQM7500zdH7nrft7VdyX/\n",
       "g1GSJEmSJEnSZj4wSpIkSZIkSdrMB0ZJkiRJkiRJm/nAKEmSJEmSJGkzHxglSZIkSZIkbeYDoyRJ\n",
       "kiRJkqTNfGCUJEmSJEmStJkPjJIkSZIkSZI284FRkiRJkiRJ0mb9eGlYJAhrwXNlA7ubQVttWze2\n",
       "rKzDYz/XQUsdsoIYjAx9hW2ROBID52/dqTGSzxXOcUfWFBh307CkDx2dnL/YCptp+jpwWUDOcT5B\n",
       "f6CtcWF/50B7GeSqBfNHc9DstV5oGQbzR/rrG1Dvkpz6em7I+lzgB5K8dw0oCjCfn6ZTGXNZnsuY\n",
       "57lH/XVgbp6mQxlz6KYy5qYb0ZgGsBbI/IHjOAmbP3JPeIE5fz/Wc0z6axdWiMma+tW1npsHOH83\n",
       "XT1/A8j5stZ7/bJ0aEy3oKR/NlzKmH/4/oeov/fjhzLm7z28L2OGltXFYajXws9f3pQxf3BbjylJ\n",
       "Ps31fr8DNYEWxsfpWMa8Gc5lzG13Rf314HI9grVHallLLvJJZvD/F+Qu0cD+jm09fx/BvLzu632V\n",
       "JN8/1HE/m+uz6ALrMKmx5D7Vk/M/yRWslxmslxswL/SmfyBtgTsQvU+R+8bb4WWXdpLkEdxdXuah\n",
       "jLmu7JwhNYGsF/qbjoSR+xtZ50lyB+rnAd7lKzM4/xP6+6luZ4L9kXGRPdPDs53sd4LeT0ew1juy\n",
       "XuAaRnUR5PP9eFPG+B+MkiRJkiRJkjbzgVGSJEmSJEnSZj4wSpIkSZIkSdrMB0ZJkiRJkiRJm/nA\n",
       "KEmSJEmSJGkzHxglSZIkSZIkbeYDoyRJkiRJkqTNfGCUJEmSJEmStFnfwCfGFsSRttpmRf01DWkL\n",
       "NbWbdWVjR/Ya+45DQmOC66UhE/gdI6kiU9zAySPrpW3rmG7HVC6gra6dUVvHvo5j+WTWtY5sQH3Z\n",
       "c2mStuZ5vw5JPkmtXmDWG7BrUD5hnVpYWN0dWCtJ8jwPZcyfn1+XMR+nI+pvaOovfFl61FaFrjpy\n",
       "Jk8gnwvM+QwOkTfHcxlzgHXqb9y8K2OuIOeXneYlYevu8+GC2urJ/IHV8PnwUsaclw6N6brWc0Oy\n",
       "Oa3swvF2qNfL53099td93U6S/OjNUxnzZ59elTHH77GK99uxXi8/e6nr1K9e7lF/rw91HkhJ7+B9\n",
       "n1T+CfzAIHWf1J+E1s/9LuDjUo/rea3XwZ437w583wXu0Ql83213LWPGldUg0l/X1evuCvrrG3YW\n",
       "LSBXp3YqY2Z41j7NhzKmR+coq1PkTCbzt5AfKgm6fJIdOsFzjbR1RPPH9gypVY9zffd86Ou7xD3Y\n",
       "ewk7k9+NN7u0kyRP4Pvo3ZO4A3lowT3+pqvXQcLWywHUlyO8D5/BPfYK9sMFxPgfjJIkSZIkSZI2\n",
       "84FRkiRJkiRJ0mY+MEqSJEmSJEnazAdGSZIkSZIkSZv5wChJkiRJkiRpMx8YJUmSJEmSJG3mA6Mk\n",
       "SZIkSZKkzXxglCRJkiRJkrRZ3zQssAFPkV277hKTJNNcD2xa6nZ6+H3zAj4Q9LeyzwvN+27guPZq\n",
       "ZwWBTfZJAl1TQwcmEFhXNu69+msb9n0LGBcZeQ/zeduNZcwC/obx6dqh/salHn0HPrDt9toMSdfs\n",
       "M8czqHe8rTqGrJUk6eDaq/Qty9NE6jBYxXTPzCAP57kvY04tW8MrKPykvpAYujJprip0rTTgbHjo\n",
       "L2XMAPceWev3oL9lZHtmBGv4t9e7MqaH3/f5cC5jTmD/ve6nMubT5YDGNK3XMuaLYShj/v23f4b6\n",
       "+5s3dcyvrnUODi0onkk+PzyXMT9/X89xA/fMuNT15Suwplh9Tea1jnue6rVwbOs1lbC1TurGvNOd\n",
       "klpBf/S+OIGck3l5met9lSQ/PH4qYx7beo6vKzv72G8HcseDdR+ctZelPtvXpq4JPbzrk99FZA3T\n",
       "swGda2B9krWZsLkhNeEK6l2SjGBcA6jppLYkbC8fu/r76N2lA7c4cod9P55AO2yOT239uw/NMawb\n",
       "ZE2NYB/f9fWdJGHzR9bLAq/VZP89LXUd/jjRs6+OI3vmBuTJ/2CUJEmSJEmStJkPjJIkSZIkSZI2\n",
       "84FRkiRJkiRJ0mY+MEqSJEmSJEnazAdGSZIkSZIkSZv5wChJkiRJkiRpMx8YJUmSJEmSJG3mA6Mk\n",
       "SZIkSZKkzXxglCRJkiRJkrRZPwwrC+xYXKXZpZVvrWvd2rKwtpoeBJLn2Jn1FzIukiw4LfvMXti4\n",
       "kzRk7C0YFZjjeWGragFt7ZjynMeu7g90uMIOSVttUzc2NuzvDk/ToYw5dhNoic0fWlLg+0jdmFaW\n",
       "g9tuLGNI7aRzvO5UQUkOkqQB+ST7iv4li8xfs181S9/UBY2MnbSTJH1bx62gqQ7099nwQoaExn5q\n",
       "64OtA3OXJPfdtYz5p5++KGMGMKaEiJJFewAAIABJREFU7eUfnj6UMZ+mI+qPIOv8A6gtSfK7x+cy\n",
       "5qGrc9XueDn74091rh7noYx5O5xRf//4cZ8aROp5krwC43q4qc++f/j+h6i/f/fVL8uYH54+ljFf\n",
       "Hj+h/v7Jpy/LmKe5Pv9PM8vnqSX3hBo5G/j5AX5fkN8g8Ky9LuC+CNq5gHaS5OfnV2XMfV/X6gXe\n",
       "Sc5LX7eF7hJs/kiN7dEPtnpM9PwnOSDnFb2/kbkh+ZzhHI9zvfbIPYEeRSTvR1BbFnjfH0HcDGJo\n",
       "f48LqLHgzDqCu9IM19S41nP8ONfn/6llZwO5696BOjU07L5IzoeP06mMOcAzjayXE/odzZDqSe66\n",
       "57muZf4HoyRJkiRJkqTNfGCUJEmSJEmStJkPjJIkSZIkSZI284FRkiRJkiRJ0mY+MEqSJEmSJEna\n",
       "zAdGSZIkSZIkSZv5wChJkiRJkiRpMx8YJUmSJEmSJG3WT1ODAhsQ1rdrGTPXIUmSFjx9rrAtgnxf\n",
       "29dBCx3UXmNn07dbfyRPSdjTNWkMhHRg3SVsveDvAxqQ9BVP4D5Ib3QJX+d6kk9d3U7fLqi/Za37\n",
       "22v+yNwlyaGdy5i+q9ui417B5JD+yLiTpG3qttqmnr8etEMta52sEayVJHmehjLmuvRlzAz3cQ9y\n",
       "RXJ+XeqN9avLAxrTTTeWMeN6KWNu27qdJOlADsgcP14PqL+91st5rtdKkgxgb51Ars5g3SXJN2Od\n",
       "h0N7rhsCW/RxYjknu/3jdCpjyH5J2Ll2B9b5u/EG9Tcu9Xr5o1dflzH/+Ldfov7+vTe/KGO+f3gu\n",
       "Y2g+Se14nI5lzATr8AJmsAOr6rqCCwc828k9iNzf6B2P5ICYYN1Yci1jZlA7ST1PkhbkndS8w47/\n",
       "FrOAHyrkLkjOmCR51dfnKFl3T/N+Zx/ZDXgNkzt66vVCztCErT0ydrLOE3ZvbjOVMXS99E2dT/J9\n",
       "5L5I6884122ROyU9i05NnU/yfZ/AeZUkH6a6LVITvjx+Qv0dWrJe9it6ZL+Te1BL3sxAX5IkSZIk\n",
       "SZL0/8gHRkmSJEmSJEmb+cAoSZIkSZIkaTMfGCVJkiRJkiRt5gOjJEmSJEmSpM18YJQkSZIkSZK0\n",
       "mQ+MkiRJkiRJ/ze79tJrS5IleH2Zuft+nHPuK268MiJfyqwWJSipmmLCY8QIiRFfoMWn4GMwREJC\n",
       "jHrOhCFD1GoQNE03SKXu6srKzqyMyLgZcePec89j7+3u5gxuCaSmxfqXp+cFpP9vvGRme5nZMnM7\n",
       "R9JqPjBKkiRJkiRJWq0fhgUF1pLHkZYK6o211XV51NA11N+hn/L+dn0aUyr7hQtLe94fTSix0Zgi\n",
       "Ak00GXs/5DFHMHcREXOXdzjUfL0UmKhpAe/3oKmZtAPtujmN6QvbM0QP8vmif0RttSWfvw7UqS0X\n",
       "+pP+ksb8+Emeg7bhHO9rvh8O3YjaurQujdnVfE11G+6ZU8vr8GnKYyLY3prAdri0A+qPlGtSX8i4\n",
       "vz8fQW/sLCL7mHq2O6cxpylfd+PM9swZxL277NKYz6/uUH/3U97Wv7h9ljcEy9Q/qD9KY8hZexzy\n",
       "ffwnL74hQ4qn/SmNeTHkdR+docH2wxnUMjLuCFbzHuf88vKP22eov+/GfE19NORnEd3F113eFvl9\n",
       "9O6C7lTkGwQ0g88i8P8X5Hyk9ymypsgdqMGvrA6Mi5y1CxgTRb4zyZgi2LhIfyRPDw18qETEuOTr\n",
       "pYL+BrBWIiL6Bdw9wXqhdZjEjSBmgWt4aqStHF7BYCuT+/cefIdFRBzA6Mk6fwTr8wDGHcH2w1XN\n",
       "vy/u5/xMi4g4z+DdBUwg/X0jOETIeUV/X93s7IN7Buy/I/g+PIF58T8YJUmSJEmSJK3mA6MkSZIk\n",
       "SZKk1XxglCRJkiRJkrSaD4ySJEmSJEmSVvOBUZIkSZIkSdJqPjBKkiRJkiRJWs0HRkmSJEmSJEmr\n",
       "+cAoSZIkSZIkabX+05tHFNiWksZMbbv3ylKWNKYDMQsYd0TE/dinMc+fzaA/1F2QsI4MHeQgIqK1\n",
       "vDHSEs3nDPojDkOe8wpzQKLIOm8LW+ekLTImmsnLnI/rPG23Rxcwsr62NKarbP5IfSG5YnsvH3dE\n",
       "xHf1Ko1587BLY2jdqGD6SD6vdyPqj+T8esjb2tV8H0fANQXm5vaS5zwi4tf/cqO5gfNHFmgBMZuO\n",
       "CSBj6q5Ypfr3f3abxrz6+nkaM92yPRo1H1cd8nV++vIZ6o7sv9tf5zFtZBNYSEkHOeiOXRrz5XVe\n",
       "7yIiPtndpzHnlvd3agfUHzlrnw2nNKYLtqauugnFZX7w9AHF/aO3X6Yx//Env0hjCiwKH+/ycb26\n",
       "3KQx55bfqyNY3a9gboYC7ujwRkX6Iy2RtRkR0UgOwF2XnI8RETuQq4d5SGPI2RDBxrUH94QOXpYm\n",
       "cE8/z/n6nEGBneE3wVLzu1IP8vmwsPtNBfudrLsLqNUR7N5MviHhyY6+L8g+vsA6dWr5fiBrYbew\n",
       "+3AF+ST9kS06wjkm5ewerM8TzPkR7BnyFjS2PeqP1OtP9vn9huy9iIjzkud9v+G59m7K71TX/TmN\n",
       "IfPifzBKkiRJkiRJWs0HRkmSJEmSJEmr+cAoSZIkSZIkaTUfGCVJkiRJkiSt5gOjJEmSJEmSpNV8\n",
       "YJQkSZIkSZK0mg+MkiRJkiRJklbzgVGSJEmSJEnSaj4wSpIkSZIkSVqtf3Pab9bYspCYsll/teYd\n",
       "NjCmiIjvf9f9nqP5WyJpADEFppPMTaD5Y/0RZOz9y/wN/PUDW8M0V5kPnYO5sYGfz9vtLaIDW+YA\n",
       "pmYe2bjHCfw9BMxNKXlQKaweDH3e1sPddvNC1kvt8qBaetRfB2rsdX9JY47dhPo7t3xcj/OQxpwm\n",
       "9vvahSwY0BCtCaCtzcoLLHgkjBzbdJV3peVtge1X8mXwXt5dtDHP+ve/Yt0Nz/M6VYa8v0oTSuYG\n",
       "1IQF5Glc2N+kG1gwM2iLtBMRcWn5giExA8z56/GQxvRgnf/s+jXq73/45ss05hHclY51Rv398HCX\n",
       "xrwej2nMt5dr1B9ZC7sKzhByhwXjiYio4J7Qlzyf48LuEmTpkf1A6msEO2t3YL2cGivEFeSqgtkh\n",
       "MRERBcSRuyDJ+bFj+2oBs9yBMZFaHRExg/7QNwis+1vVdLpHSa4GcIcltToioq8w8Qnaygj26ATO\n",
       "NZJPWjcaWApgWuJYR9Tft2N+hlx3+TcI2esREc+GUxqDaieodxT55hlgf0/6/PeRmk768z8YJUmS\n",
       "JEmSJK3mA6MkSZIkSZKk1XxglCRJkiRJkrSaD4ySJEmSJEmSVvOBUZIkSZIkSdJqPjBKkiRJkiRJ\n",
       "Ws0HRkmSJEmSJEmr+cAoSZIkSZIkabW+tYICa13SmDwiopEgaIFjR21tOC6CjLxs9/PY5GwVE4Em\n",
       "eqn5D5wb6YoliuSzFPADaQ7IsEBb48h+H1nDW66pzbYMnD/0+1A7G03MlmB3ZOgkTywHEeOcx01L\n",
       "B2LARo6IGYwLxdCz4QNP84ftj3W2gF1DyuJ8Zv39o28+T2MON3k748D+PorOdnQ2oO6igmHVZ3lj\n",
       "+H6z4dgzT/oziruAmjCCGLpd+pLXl7HlE3OJfEwRERWM7Kob05iXuwfUH5nku3nYoJX3djXP58sh\n",
       "H/vdtEf9kTscObM6UKjoNw9pa6hzGjPObE0VsKbIyMleiIgYl3w/kN/Xlzwmgt2tu2BjJ9D3KMgV\n",
       "qWUTyGVExLHmNYH1x9YUmmOQA7qmbsF+J7VzB9ZdRMTYwDkD6j7Z6xERA1jrpJbNcP4qGFcFc3Nq\n",
       "+dlA1/D9vEtjyD2B3DsjIvZ1SmPI+uzgGib9XVqfxpDaSb0dD2nMt/MVauvY5b/vpsvnj+TT/2CU\n",
       "JEmSJEmStJoPjJIkSZIkSZJW84FRkiRJkiRJ0mo+MEqSJEmSJElazQdGSZIkSZIkSav5wChJkiRJ\n",
       "kiRpNR8YJUmSJEmSJK3mA6MkSZIkSZKk1fp5YYHzXLbpcWHtkGFVEFU2Gvb7xkAI7Y/EbdkfeEpe\n",
       "SNIb7A8MDI2d5AA0874/sF5QQ7BD0hRoa+jhJgUDI3Nc4J8d+m6bfNJfhwK33O8AHvtG7YAljOaY\n",
       "9kfa6kteFArskbR13V3SmLfdDvVXdx0IAg1tt0U3q4t4M2w0pgJSGRExTXkMWXdzvgzet8XCUrS0\n",
       "zCCm0YsXUOo2RY/M37Sww4HczYipsUV1bn0a89iGNGZfweKMiAbusTMoHNfBFvFPnt2mMf/09rM0\n",
       "5t99/hvU35spz9Wz4ZzGPBlPqL9pyeeZrPIOnB8NXprJWh9Af7tKKgLTgQt4Ry4JEVFBHFnnpJ2I\n",
       "iF3J8zB94P95Gck3AYiZGxv3iA5JMC/wNCJ1eADr83HO60FExAHUT1Kr6e8juRpBbWnww7YHpzsp\n",
       "L2QvUAvYM0+6vFbTfUzq4qGOaczr8Yj6I2tv7vNzlJwNEREPc/7tQNqie4beqTK07s+gppOWLmAf\n",
       "+x+MkiRJkiRJklbzgVGSJEmSJEnSaj4wSpIkSZIkSVrNB0ZJkiRJkiRJq/nAKEmSJEmSJGk1Hxgl\n",
       "SZIkSZIkreYDoyRJkiRJkqTVfGCUJEmSJEmStJoPjJIkSZIkSZJW62OBkQXEgLZod8SybDSoLW3Y\n",
       "3ULyCftbGmlru8GjmQHz1xppienAczrpbYZjaiCdDcwLzQFpi6zPAlNOlgvN1Vb9bYeNu3zo+rIR\n",
       "mkuyFi6ty/tj3cW0gE0K6kZfWI/9NfiBZCmQvUdtdaxtt/VQWxX+ubLr88G3Oe+w5Mvuva226IZb\n",
       "vdSN1h0M+9DLZQatVTCqrrKNVUBBa6BuzKT+BKv7pMaSMUVE/PTqdRrzD179OI35s2dfo/7upyGN\n",
       "edKPaUwH6/AF5GGr7dcXtqZOrU9jhjr/vsP5P5E1RfJ5BudxRMQC9ugBNNXDw++85PlsYEz4zgVy\n",
       "RfYoWS8z3MfkrkT625UJ9fe45Pt4RGNi6/wC5pjsGTrHZA2j6xus++c5zyc5+waYzwrrZwq0Q9Zm\n",
       "RMQZ1MUHkCcydxER+41q7CMY0/v+8r31YjilMXTu3k0HEEXmL5+XCHbnuJv2aUwP7mb+B6MkSZIk\n",
       "SZKk1XxglCRJkiRJkrSaD4ySJEmSJEmSVvOBUZIkSZIkSdJqPjBKkiRJkiRJWs0HRkmSJEmSJEmr\n",
       "+cAoSZIkSZIkaTUfGCVJkiRJkiSt1kcUFLgsG/UI2yFhJKb/wE+oOE3tDzmKlbaaY9hUAYuqbZin\n",
       "ubC1nqFjIntmWfIx0b2H4tCYWH+tgbHXDRcVQMZOlsFm9Q72t2VbW8VERNSyTSIaWOcREQ/jkMZM\n",
       "S17Up8YKP1ovqJih7lh/rKkPa8O6sZC6sdUF4G8TtxWy/7a8l2xV91EzbHWSKLKP6ZrqCjmU8/7G\n",
       "1qH+dnUCMXMaQ3IQEfFy95DGjHPe1gzrcF/zfD6CXB1AniIibqcD6C8/G67qmMYUeKaRNTWD+es2\n",
       "vOzPYGeRMUWw3/c45zmnZ/se7IcBxDRYg8he3oP1eW59GtPBQ5uMqXb5+uzgodaDOSb7ocL+rrp8\n",
       "/93NO9QWQeoUGTq9c5GaPoK7J1lTERHnOY/b6o7ewXYOYI7JOn8Evy0i4qY/g/7AN8HCzvZP+vs0\n",
       "5ov9XRrzz+9fov7IHYDsqy+vXqP+noN8vh7z8/gBnA3+B6MkSZIkSZKk1XxglCRJkiRJkrSaD4yS\n",
       "JEmSJEmSVvOBUZIkSZIkSdJqPjBKkiRJkiRJWs0HRkmSJEmSJEmr+cAoSZIkSZIkaTUfGCVJkiRJ\n",
       "kiSt1tPAslWPmzXEmiq0PxK3bNTOlsiYImJZYOCHhIaUJ3QcWXdzy2MqmD+ayq1STtdwBX8uIGPa\n",
       "8veRMY0T7A/MXwNjIvnEdQMo5M84G25PMvZaWIdTyxs7z/kxctVfUH+HPl8M85IndJzh38422g94\n",
       "+jZqa8v1Sc4s1N+GdYPENFAP3jcGYrasCeT3TXlQ6T7wZQKMe17YmPqST86uzmkMPYumuQP9gYMG\n",
       "/j7UFvBu2qO4Pejv6SG/CL26XKP+fnh4l8acW15jDx3LUwGLr4G5IculgfMjgq3hccnXHT1rSRzJ\n",
       "wR7mfALzRyzwo+f1eExjPtvfpTEDmJeIQP8+sy+gBpFvELAOIiIqGDu5T5F2ItjnKFnnpP5EsDwM\n",
       "IOfkjkeR/T5tWBM6EEPX8B3IZx9g/kBNIDU4guWK1CmSp4iIS8v3A1nnHw33qD9yx/nd5SqN6Sv7\n",
       "fY/TkLdVzmkMqa8REbfgzrGAHNzNuzTG/2CUJEmSJEmStJoPjJIkSZIkSZJW84FRkiRJkiRJ0mo+\n",
       "MEqSJEmSJElazQdGSZIkSZIkSav5wChJkiRJkiRpNR8YJUmSJEmSJK3mA6MkSZIkSZKk1XxglCRJ\n",
       "kiRJkrRaH2X5f3sM/1psWCWNaA32t1kQBJ52Fzj2D2rD5bKAfC4b9ldBf32fd0jH1No2C2bTHIB1\n",
       "V2BNIG1tCqSTZLxsuY8J0h+cYzT2rWIiYgGb9PY8pDHvLnkM1YH12VWW0OHw+47mvS336Fbrs3aw\n",
       "P9IWyGcH68FhmNMYks6Hgf1AUvdJEkgOIgINfpxIIYZ1eKP1QvbMsRtRW/fzLo153j+mMdc9629Z\n",
       "7tKYCvJ5aWxNfXO+SWN+e36yyZgiIuYlXy8/vn6Txvz68Rnq7+9c5W2dQK5mcskLVtOJCeSpK+xi\n",
       "3YGhX8AdD6YgSuTj6kGexoWt4WXLiwIwgfXyZjymMT88vEX9dWAtHCuoLyAFt+MejCjQd18Dl4kC\n",
       "L4xk9sgePbUe9VfBuPqar/PLBC8vYI4PYI5J3YhgeSC1+jyzfA41vyvtQMxNd05jvgd7LyJiAvWF\n",
       "3Idpze/LlMYMYE2d4Rq+gJgHcL95OpxQf9dd3uMZ1M6nfT7HEexuRs7IAcT4H4ySJEmSJEmSVvOB\n",
       "UZIkSZIkSdJqPjBKkiRJkiRJWs0HRkmSJEmSJEmr+cAoSZIkSZIkaTUfGCVJkiRJkiSt5gOjJEmS\n",
       "JEmSpNV8YJQkSZIkSZK0Wk8Dyx9yFCs7LGX5w4/jD2QhQ0cxMAeNheX9bRe21fQVuDi3Wi+V9tfl\n",
       "/bWt5iUi6kZ/LsD5BDENpHzLXbxVnSowlxWsKZJP2h/5gWQdDJUtvJ+8eJvGXHUjaosoYDWQVNXC\n",
       "ft/0ZJtNs+X5SOrUu2mfxny2v0P9deBwIGPqYH0lc9xARtvCsk7iFtAfGTf12IY05g7McUREBeM6\n",
       "dFMa04E9c6h5OxERexBHamcPLy59R8Y+pzGvLkfU3z9792k+JtDfs+GM+huXvE59vn+Xxvz3r36K\n",
       "+vuPPv5lGjOA9fLN+Qb1R/Yo2X/j0qUxPTwbyM2E7JkJzF1ExAGcyTNoa8v71Azmhdbhq/6ySX8k\n",
       "5xGsVp3bNuuF1LKIiAa+1xqY47bh/waR82OBqyqveBFHcl/MpyUiIm6nQxpTQE3YwXOtA/NHMnXd\n",
       "5XshgtWO85w/45D7IrkDRbA6PIGcT/TpAtSEXT2B/tiiQt8gYL/fTzvU3wncBUnNuyzsOe95/5jG\n",
       "kPsGWZv+B6MkSZIkSZKk1XxglCRJkiRJkrSaD4ySJEmSJEmSVvOBUZIkSZIkSdJqPjBKkiRJkiRJ\n",
       "Ws0HRkmSJEmSJEmr+cAoSZIkSZIkaTUfGCVJkiRJkiSt1rdWUCCKAkGst4iFdLfkUZU+oZKxg7bA\n",
       "kN63ReI60N/M+tsK/Hl4ntN2KpjjhfXWgXwOXcv7gz8ub4mtl3Fii5i0hfYDnOQG4nrQDl0rhQRu\n",
       "tPBoMxVsZJJzWjc+tEOdNolpcI+iur9ROxERfSH7fbvJKWBk5Pc96c9pzB7MSwTLAUF+2/u43LTk\n",
       "mwbVA9gfWTF8FeQ97sp2B/dQ8/kjczzUfEyHbkRj+nx3n8ZMoCbswJgiIg4gB8SvHl+guLHl67MD\n",
       "Y6Jragb7gRztjxd2l3gAv+9hzk/3aQGXrog4t7ytq+6Sxgwb7qsO1H2yZ6Z5u//jIGfRDL/pZngm\n",
       "b4WsYVKnyFqJiPjB8TaN+avHp2nM7XTYbEz9Ruuzw2d2PsfknsDXSh53AnWDfmPtwNgvYG7GxurU\n",
       "NahB6A4L75R7cm6DNfUw79KYBX2xRnTgm5ysqQXezMjvu4D5I+sggt1xLnPe35M+XysREZ/v36Ux\n",
       "d1M+f49tQP29Hq9QXIacx/4HoyRJkiRJkqTVfGCUJEmSJEmStJoPjJIkSZIkSZJW84FRkiRJkiRJ\n",
       "0mo+MEqSJEmSJElazQdGSZIkSZIkSav5wChJkiRJkiRpNR8YJUmSJEmSJK3mA6MkSZIkSZKk1Xoa\n",
       "uGwVVFh/BTRWQFu1oJFH2eiplYzpfWAesoChl4oTugmYTtQfyXlfwTroGhhQxGGY05h9n8fQVJJU\n",
       "tZa39ljYNiVtoS0KJ3lZ8v46MH90CXeb7VG6iHO7Pl97+30eQ3K5paGyPXM/79KYx3lIY+aFTV5X\n",
       "8nGhTME57sCOIGdIBeOOYGPvNurvbsrnjvbH5gXWDZAFsl5ofw38HXWz+02w+lJBY8+HR9QfaasH\n",
       "+30Ac0xiIiLeTvs0poF18Njy8zgiogc5H1u+DvrC+nt5eEhjdqCtm/6M+nsANfYEYugZ+vX5Oo0h\n",
       "df80s7vLDPYovltn7WzTTESwvUdiIiLOLc/VANYUOdMiImawZyZUhxlSr8m59nY6oP7eTXn93FeS\n",
       "z3xMDZ4NpOb1IAcnsFYiIo7diOIydA2T+tm22sgRcey2ub+dYZ2iay+zA+sugu2ZBr4dyOzROSY1\n",
       "6HHJ84nrBggkZy19CyJ7htyH6Vfmoeb9PZT8rL3AmhB1YnEJcv77H4ySJEmSJEmSVvOBUZIkSZIk\n",
       "SdJqPjBKkiRJkiRJWs0HRkmSJEmSJEmr+cAoSZIkSZIkaTUfGCVJkiRJkiSt5gOjJEmSJEmSpNV8\n",
       "YJQkSZIkSZK0Wv/sOKLAUpY0pkYeUwrqDsl7izh0M2rrZtelMTvQFn2xnZc8EUvkMWReIiIKyFYF\n",
       "bU2N/UKWq7y/Xc3bGUBMRMQCct6VlsaQPEVENNBfI3OMemNjZ/3RNZWbl3y9fH85ov7I2NH8bVin\n",
       "yBwfuimNIXs9ImIBU7PVuouIePV4ncaQfTU3+PtAzDTnbfUdW8Nv3uZ1v4KSV/NmIiKisVKV+k/+\n",
       "zl+kMf/ZFx+htvoypDH7mu/RffcE9UfU0ucxNR93RMSy5DUBgUXhn9z+wzTm77/Kx07OvghWzyqq\n",
       "izlSXyMixiXfEF3kbU3g/Hgfl8/NCO4ur843qL+/evMsjak1n5d9z/J5GvN8HoZ8vfzgyT3q739+\n",
       "88M05o+uv0tjGrwRn+Z8vz/M+Z55CvJJ728kilQEepcgdyVSE/rK1tSM7vJ5fzOcY1KnpgYOUrDX\n",
       "IyL++pyfR/uyTT5BM+/jwNDZr2NRJOcEvZ9u9X1B9kJExKXldWMAk7MDtTMi4t24T2MeW16n6JWE\n",
       "3K3J90VHco5GFHE379IY8k5Av2tHUBPINw+t+3tQYw81zzm5A0VE/OLhZRpD7l3PhwfU3wmco2+n\n",
       "QxrzMOXt+B+MkiRJkiRJklbzgVGSJEmSJEnSaj4wSpIkSZIkSVrNB0ZJkiRJkiRJq/nAKEmSJEmS\n",
       "JGk1HxglSZIkSZIkreYDoyRJkiRJkqTVfGCUJEmSJEmStFr/H3z8SxTYlSWNqdHSmAbfNB/nPo2Z\n",
       "lryt35yeof72NW9rXLo8Zs5jIiJalDSmgpzv6oz660o+N8Qe9pePnI39urukMf/k209BbxEPD/kc\n",
       "N/DzCnyWB0sqwDKIPt8Kf9NfnvW+y2P2A1sr+y5PFlkHbx52qD/y+4h+ozxFRJwu+X6/vweTDH8a\n",
       "CQO90e5iAUsBxbCyEUsDIwP9dUd4zvxyzIO2SnpERKGB/88O/8aUxvz4h/8pa6wOeUwB5xqJiWAL\n",
       "BvUHC+OS5wpNMhl3RPz88k0ac2lfoba2UsDvI/eNCisHaWsBd8ETuAdGRJxbvl7I3fN+2qP+Lpd8\n",
       "Hxew11tj9WABaT+P+e/76OkD6u9/+nV+p/rjP3qVxuwrqK8RMZR8j5K1cNXl/RWwViIi9jUf00zu\n",
       "8eTAiogFXCzJN09b2JqaYVzmAOf4seX3vPs5P4sW+A1Cfh3JJ9FXNsekfrIxsTo8g5rXgXONnB8U\n",
       "qcMznJdzy2vCOfL9Tt43IiJu+vx7dJ7APm7s9xUwLrKPST5p3SBvCbs+36M0B0w+9gVe0h9ADSqR\n",
       "r7trsFYi2HftY8vHROePjOsCzsjX8zGN8T8YJUmSJEmSJK3mA6MkSZIkSZKk1XxglCRJkiRJkrSa\n",
       "D4ySJEmSJEmSVvOBUZIkSZIkSdJqPjBKkiRJkiRJWs0HRkmSJEmSJEmr+cAoSZIkSZIkaTUfGCVJ\n",
       "kiRJkiSt1v/0eIsCu1jSmGOXx7ydOtTfvJQ05n4e0phX5yeov4e2S2MuLR/7eWa/j6glz2cDeYqI\n",
       "6EvLY2oeMzX2Jk3Gdal5rkgOppmNaZ7ymCVPQYBUvm8LTE0By6WxKY6IPHDGbeWGOqcxZL00mM9S\n",
       "8sGT9TKC9TLlPy0iAlTFiAW2hYD5I2PC3W20hmGZioUsdvADQWl53xSYG1ITqALWJ5ljchbFfM5j\n",
       "IiIWktD8rP3wf66khZjEoZ0M+8vjvrtcpzEdPWg+ILR+I6KDcRl63zi3fqP+WKFqoG6QGkS2XkTE\n",
       "rt8mn+R8jGDj+gbcrW86VoNI1skck7pYK8tBA6Mi+2HfgYtnRJzA98y85PuBfDtFRFRQzybQ3xTs\n",
       "sL3qLmnMCPc78QjySWrsAGL2hc3xZclzRb7V5sLyROaY9DeCcUew+VvIdwpcw8du3GRMtC6S/bAr\n",
       "+eEwdOyjgGSB1Kmh5Hm6m/egtwiSKnJu05yTHJD7RoX3KXKGkHVH32auQFtP+1MaM294AX8+PKYx\n",
       "N31+tvsfjJIkSZIkSZJW84FRkiRJkiRJ0mo+MEqSJEmSJElazQdGSZIkSZIkSav5wChJkiRJkiRp\n",
       "NR8YJUmSJEmSJK3mA6MkSZJW7PkrAAAgAElEQVQkSZKk1XxglCRJkiRJkrRafzvtUOChTiCqpRHT\n",
       "wt40u7JNW6SdiIip5W2NIKaH/R17ks/cvJRN2omIWEBbV/0I28pjZjB/JJ+kL6qA5Vm2Szlqi/68\n",
       "BpbelmN/tjunMW8uh836Y2tqmx/YYNJJPjtSYmF/aK2DMeEsbdQWXcMLK58pso8jIkqXxywziYG/\n",
       "kIwLLCrUG/lxERF1ADFgEZOYiOCrYaN2aB426q+C/l5frtIYuhW2KumF/D7YWQfaItmsheWc3F0K\n",
       "aIvcA9/3l8eQ83ieWUJnVDfyQbF7fMSffPkmjfnz7z5OY/7DL/4K9fe7800ag+YP3CnpNwi5n6I9\n",
       "A5G22JiYQ5evhTvwfXhuPeqvgT26B+tzgb+QzHMDbR27/JvnBu6r22mfxpxafh6PjZ1paHWC7cD3\n",
       "TJ7PoeaF8QjzSdZCjTxX9Pf1Jb8MzuDySdqJYOsTrQWwZcj+jIh4BDVh6PLfd1XZWwJ5AyDrjtbF\n",
       "l7sH0Fa+sy6wLpI7zg+Pt2kMnb+HOa8vO7D/vj4/TWP8D0ZJkiRJkiRJq/nAKEmSJEmSJGk1Hxgl\n",
       "SZIkSZIkreYDoyRJkiRJkqTVfGCUJEmSJEmStJoPjJIkSZIkSZJW84FRkiRJkiRJ0mo+MEqSJEmS\n",
       "JElarT/WCQV2ZUlj5jwkLo29ac5Ll8aUyDtcoqD+boZzGnNo+Zhgd7EHed/VOY2ZF9YhiSpgjqkK\n",
       "5ubc+k366jo27lLyLCykKZgm0lYj7ZCgYMOaa56DuwLWeUT8ttyguK00kIfW8t9H2jkeWNIb2H9g\n",
       "2UX50H/qgXWqA+MidQMsu79pLA+pNe+PrIOIiHekJkz5WphHVhTQXgb5fDftQTtwUXWHPKYOoJ0j\n",
       "64+YTyAIFmJ0+JGax9ZUX/N87rr7NIbUloiIBcZlyD7m25jUhO3uG/NGfyun96n5ksdUsKQmuoRB\n",
       "ndrvyH2Y+Wz/Lo3589PzNOa6A4mKiF9tdBfclfzOTKF9BUJoztE3FvnmgR2O4HumgR94qCPqj/w+\n",
       "kq2HeYf662t+2JLvFBJD192PDrdpzPdjfn68K+y7/dTyc5usg66w+zDZMuc53+szvLt0YI4PXb4+\n",
       "54X1R87kHqyFC3jfiIgYQN5v+vztooHfVwZy52ImsKZG+BbUwNl36PL9UOEavgV3a3KukXUXEfE4\n",
       "53v0u0t+t/7ycIf6O4GzlqyXHXjD8j8YJUmSJEmSJK3mA6MkSZIkSZKk1XxglCRJkiRJkrSaD4yS\n",
       "JEmSJEmSVvOBUZIkSZIkSdJqPjBKkiRJkiRJWs0HRkmSJEmSJEmr+cAoSZIkSZIkaTUfGCVJkiRJ\n",
       "kiSt1l91Mwq8m/s0ZlpKGnNqeTsREQ20dT8PacyyoO5ibF0aMy35e+w45+1ERNS+pTFdyWP2dUL9\n",
       "dSVPRI08pkU+LxEsV7uar72+sPWJkKGD9ULXFEHaWvJlgDXQ1uXE5vg28r089GBNNdbfZrkC3Y0T\n",
       "+9tLrdssBjrHpDeSzQL/tERyXkCHDaYJbVHQVgfnZfdpXq/nhzxZy8T6I3FlyLNAavXy+Bs0pjI/\n",
       "5kFkgdb8PI6IiP46j9m9YG0RaBGDcxsW/q7kebiAe8IMztAIdiajFJDOWKlGd5et7iQRrC5uiWwH\n",
       "Mn207pNze+jyoAIzdd1d0pgvPsrrxqvzDepvAOvl2/NVGnMDxl3AuouImMFi70A+6Rom/S3gu4js\n",
       "vYgIEkXmhX4TkG86UhPIfSMiYgb9VVKDQMyxY99hz/sxjbkD37V9ZXPcL/n30wISSutrBwIbyOcZ\n",
       "fI9HRJymQxrzpD+nMaTeRUT04JuV1NgFfvOQdwliAOM+0LeE3UMacwbvPPfTDvU3tvwgPXb5vtrB\n",
       "t4TDkOeB1FhSqyMiLiDuuzG/Mz/p2RomY3837fOGSH0lA5IkSZIkSZKkfx0fGCVJkiRJkiSt5gOj\n",
       "JEmSJEmSpNV8YJQkSZIkSZK0mg+MkiRJkiRJklbzgVGSJEmSJEnSaj4wSpIkSZIkSVrNB0ZJkiRJ\n",
       "kiRJq/XfjTsU+Ho8pjH7OqUxBfUW0ZY8soHWallQfwXE3V+GNGYB446IKJHnnfw+6qob05hpyd+b\n",
       "6ZjI/BF9aWnMwqY4gsZ9SPnPw8MuIOUkV21m/Z1PoMMDa4sgYy/gTyYkTzTrl3Pe2P1vwSTPrD+8\n",
       "1hMkTxERUfPfh9siwO8jKehv2KA6sj5JU7DeLWApkHzuu/ysbfMDGFFEOedtLfNj3k7pUX919zIP\n",
       "2n+SxyywUJEi2/LzkVrACiU1iJ6gHegPZAChYyL3IJKnxoo16m+rHFCkVtN63jYa/BHcAyMidjXf\n",
       "W//286/SmP/uNz9D/f17n/91GvPN6SaNIffTsXVoTEOX56CCNYy/QcAKbWBeZvwNko+LfNPRb4K7\n",
       "aZ/G9IXW9FwH8k76u6r5ntlVtkE/GvL+vp/Itxpbw+Q7bAbffXRNzaBed2Cddx3LJ6ln6BsS9cbW\n",
       "VAP9DWAfR/B6nenAmCZYF88gjuz1y8z6I3ddsoZpzglyPg6wll3H5fcdTkREvLpcoziyH0jdOLX8\n",
       "vu9/MEqSJEmSJElazQdGSZIkSZIkSav5wChJkiRJkiRpNR8YJUmSJEmSJK3mA6MkSZIkSZKk1Xxg\n",
       "lCRJkiRJkrSaD4ySJEmSJEmSVvOBUZIkSZIkSdJq/e20R4FLlDQmj+C60tKYl8NjGvPN+Qnq7+Pd\n",
       "Qxpz013SmL7m446IONZxk7YOoJ2IiLbks0PmuG04yyWWTdqp8Jm8kKGDIYFUcqAt+leAhaRzy7ED\n",
       "reUd1krXAWkrb4X0h3IZEQ3EtUdQE1jZYOMCMaVj/RWQzwW2hZDfRzYEmZiI6AZwrlUSg7qLNoOg\n",
       "bcpiLA2eDfN9GnMZ34CWWHHZTe/SmIFsiOufof7Q5lpIDJk81t/Y8gXzMA6sO5B2UjfI+VgLW5wk\n",
       "rgObht4R5iVva6NtxZG7BD1npjzm8ZIX4gkW66Ge0phLy9saevYDR9JWzfffw5zvmV1h+3iq+Zgq\n",
       "mGR074yIHnzzkGy2pUf9kT1KxkTmLiJiAHkn3xeknQj2zXNe8vXyZjqkMS+GMxrTCCbwQNY5zAGZ\n",
       "v7t5l8ZMcI7JN2sF5yM9Z9gnHXm7YP2d5nxvFTD2QwUFPdg7yLzRt30FfUWwnJN8kt/2Pm6bj54T\n",
       "OBsiIp6BdyUyJnI2RETsu3wt7MF6WeDDBBnVqbEzJON/MEqSJEmSJElazQdGSZIkSZIkSav5wChJ\n",
       "kiRJkiRpNR8YJUmSJEmSJK3mA6MkSZIkSZKk1XxglCRJkiRJkrSaD4ySJEmSJEmSVvOBUZIkSZIk\n",
       "SdJqPQ2ssaQx85K/V05LQf1dWj60QzelMX1pqL+n/SmNebmb05gO5CkiopQ8rgMxu5KPKSKigrbI\n",
       "yCcwxxERC5rnvMdTG9KYq12+DiIi5mO+phoZN5vi/9+qlf3ACpbCrs/33zixNdXAViYxZG32PctB\n",
       "BypoqXl/ywLrBgki6WRlmMdtBfRXyJhQEOuvy0sQ7q52LC7z5+8+S2P+81/+N6it+zlfxG+nQxpD\n",
       "z4ZDzev1n968TWNuOtbfBeytBrbfBAv/d2M+yT+6+kHeX9toscR29425sZz/6uFZPiaQT1A6IyJi\n",
       "InUfbHbaH0KWC7xLkONhmvLBX9UL6u9pl8e9m/ZpzL/14hXq76/uP0pjXu4f8jGN+ZjonfnQjWnM\n",
       "VPL90AXrj3ypkD1Kr6dk/5GYvrLftwf3rkdw38e/D+SKIGff2+kRtfWsz8++BurULdh7ERFn8B1N\n",
       "9sOuY3Pc13wVk7eEHVxT9/MujenAGwD67gt2xyHn9q/B+RgR8ZPrN2kMebt4BHc8ultIDsgcH8H7\n",
       "TUTEHsTtwJ1yD9cUWQlvx7wm0KvEzXLOg8B35jU4s6mHOa/DR3A++h+MkiRJkiRJklbzgVGSJEmS\n",
       "JEnSaj4wSpIkSZIkSVrNB0ZJkiRJkiRJq/nAKEmSJEmSJGk1HxglSZIkSZIkreYDoyRJkiRJkqTV\n",
       "fGCUJEmSJEmStJoPjJIkSZIkSZJW67+7XKHAWpY05qa/pDFL3sz7OBDTlpLGHLsR9ff5/i6N+d/f\n",
       "fZbGvB0PqD8y9hYgBrQTEbGAtgrI+rb95cj8XQ0TaImtYTKqLdfwAvLJxh1RQEJJW7tuRv0NNY8b\n",
       "W5fGvHrH9gzNe4bkadc31tiS/42m9KAdMqgItqgI2B2Ko20R5PdV0CFNJ5lm0l2+zCMiooI4MvRf\n",
       "fPckjfkvXv0ZaCliAuWz5Uc7y2VEdPs85tc/+zqN+Xi4R/3N4O+ou5LXsh2odxFsCX+5v01jaN2f\n",
       "QA3a6ix6bANoKeJXD8/SGDLuXWGLipxZ5CzqKlzEW6F3CRDXwNDfTEfU3xeH/D58Afn8aHhE/f2P\n",
       "rz9PY/6dn/91GvOP33yZxpwbOZAj7uddGnMTeWEktSUioqv5JJfIJ7mHhxHZf+QsonWK1E/yzUPG\n",
       "HRExg7hKNiCoi3RMX5/zu+7tnB+QDfZH5qYHNbbAOSY5R+cVLMMD3FsZeraTXD2Apq569i7x6nyT\n",
       "xlx3eQ3qQZ7I3EVEPOnPaUwH8jQurE7ta35BJeuAjCki4g7sP4LumXdT3h8Z+9TY/JE3lYeZ3fMy\n",
       "/gejJEmSJEmSpNV8YJQkSZIkSZK0mg+MkiRJkiRJklbzgVGSJEmSJEnSaj4wSpIkSZIkSVrNB0ZJ\n",
       "kiRJkiRJq/nAKEmSJEmSJGk1HxglSZIkSZIkrdY/zDsWWOc0pkwLaKmg/uYlj+tLS2P2dUL9DaAt\n",
       "kqt34x71t4BUNZADkidqAXNDxv2+rRwZ+TRs9/tIPkkMTAFc6Tk6xySqFjr63ALGddWPaUwpB9Rf\n",
       "2SihfZ/n4NDn9Y53mA+8fOg/9TS2Dsh+R2Onyw60Rfqj+awgruVHA66LAZYV6A7lk4w7ImIhcWDv\n",
       "lY71R+bmcR7ymC6PiYi47i5pDJm+S4M/ECigDtNSPS15Qsm5tuXZMIMxzW2b8zgiYgfup//m02/S\n",
       "mN+cnqH+Xj/P73m15vnsO5ZzcvYNXb6Rh8LOta/ON2nM9+NVGvOD/S3q73jIx076ezqc0xhyz41g\n",
       "3xc78H3RbXnnAmMneyEi4jL1eX8gBx2IiYjY123y+XZi90WC1Kl9t90cn1qec7LuaM4vLT8jF3Dj\n",
       "2MP++pLnqm142SXfRuhbFM5fD3L1pM/vG/Nyj/oje3lseT5J3aBnLVl7qAbB+ynp77Lkd7MF3Dci\n",
       "Ik5zvkfJ75tgPp/2+Zk1gt9H7swREbcTuLtsdGb5H4ySJEmSJEmSVvOBUZIkSZIkSdJqPjBKkiRJ\n",
       "kiRJWs0HRkmSJEmSJEmr+cAoSZIkSZIkaTUfGCVJkiRJkiSt5gOjJEmSJEmSpNV8YJQkSZIkSZK0\n",
       "Wv/YBhQ4Tfs05m1Z0phdnVF/Q8njSFvHbkT9XZb8rXVeShrT8hT8jbytkodEB3IeEbGAsS8B2gJj\n",
       "imDjqiDm0E2b9EXjFtBUA7mMCJQr0hJdUqStAeyZPcg57e/z/bs05u56h/o7z10aQ9ZUX1sac92z\n",
       "unHo8zHdf3GF2tpKAX82gis4xkseQ/YMiYmI6Po8htTF4yGf44iIw5DvB1I7C6xBZH0WsOPJ/JHz\n",
       "KoL9vkZ6pHNc88A7cN8gMRERu0rqWf77KvyBteRr7910SGPuR3Y3I/NM5phM4LFnZ8PnR1D3wfzR\n",
       "NUzm5hf3L9OYl7sH1N/f+6N/msY87/PiOcC6QarZ8y6P+otHdhZ9e8njfnb1XRrz0XBC/f38xZs0\n",
       "5p/dfpzGfH68S2MuLT+zI9iamsF3QwT75iFtdaC20LO9B99Y5LyidXFCvy9v6wp+070dj2kMWQs9\n",
       "yPnY2P/qvBjOacwR3L//cmZnA7lLNPB/RiM820l/I1gHI9yjW33zXNh1EXmc8+8Zso8j2JWKzB95\n",
       "T5kXlvNzyy/pZK9TJAekdtI1Rd6V2J2SIe8JJAeXBXw8Bav7pOaRnPsfjJIkSZIkSZJW84FRkiRJ\n",
       "kiRJ0mo+MEqSJEmSJElazQdGSZIkSZIkSav5wChJkiRJkiRpNR8YJUmSJEmSJK3mA6MkSZIkSZKk\n",
       "1XxglCRJkiRJkrSaD4ySJEmSJEmSVutvx/1mjbWl5B2WBbVVQNz34xH011B/z4bHNGZf5zTm6e6C\n",
       "+iNZmFr+/ruAnEdEFBBG5o/MS0TEDuRqAU2RcVeUzYgR5JNkc4Y5P126NOYy5WOaJtbfnKc8hiGP\n",
       "2Q1sz0xzPq5f1SdpzPMD2zNkTf3x09+lMT+/ep3G/HB/QmPagz/RzD8i7cB9DGJmsLG+uvSov//y\n",
       "L/4sjSH7mK7hCvJ53OfrYOjYGiYqqHkkhstzte+nNOZhBJs92FnUSBCsiw1MzauHq7w7mHJyrhFd\n",
       "ZR32Nf+B37zK52Z+3HBNgRQUsPeef5afaRERP7p6m8a0Lu/wqmNnw3Wfxw0lrxuHmu+riIi/9/En\n",
       "aUwFf7+/LOz3fT+/S2O+GD5NY+b4S9QfOWv3YJ3/ZM/y2ZZfpzH/1dd/mvd3nfc3NraGpyWfP1Jb\n",
       "6H2RfKuQMVHkzELfBHBIFRRs8s0zwG86crIduzGNIXm67vN2IiK+3J/TmAO4C359Zv3dz/k500We\n",
       "T36GgrsLqC3XYF4i+N7aygz236HmY5+W7WoQycH1kJ8zdI7J2C8t/76gbwnjlPdH5oXepgawPkmm\n",
       "6DfBSMYO5obcbyIiduCOQ9YCeXfxPxglSZIkSZIkreYDoyRJkiRJkqTVfGCUJEmSJEmStJoPjJIk\n",
       "SZIkSZJW84FRkiRJkiRJ0mo+MEqSJEmSJElazQdGSZIkSZIkSav5wChJkiRJkiRptf6X396gwGX5\n",
       "A4/kX1HKNjEVPqHeHJ+kMXenPo0Zz6y/2uUx8wQagvOCwkBQgfnc7fOYWvMOyRxf70miInrUXx5T\n",
       "YdIfTvkkXx7zdqYz66+BuMshn8DzkU3yMoOYyCdwWcBiiYjDkHf4MO/SmB/s8036p1cv0JiOJR/7\n",
       "sR7SmD2IiYiYQdIf20Ma81H/CvU3TWT+QENgH0dEtJbHTHO+Pulx1YGaEEs+eFI3KFLzdmBMDQ6p\n",
       "gbZwQoEF9De37X4f6a+C+dvyDoRqJ9gLFNl+pL/7O3Y2/GL/URrT17zDrrC6eOzyOwCZ459ff4v6\n",
       "24G6f9/u8zHBwkjOmXO7pDF3oHZGRLwc8rYGMPRvR/b7PtvBi3OCnP9btkXW8D7Y/bTRQzJrh9Tz\n",
       "iBjA2HclL1T7yn7fruZtvR6PaQwtwy+G/HJNztpLAx9r0LHmHZ7BQTPTOS75HJO7ywRzQNbCDsSM\n",
       "C+uvB7+PIN8p7+O2uQQMYF9FRHToEpCP6WEe0phHEPO+tzxXB3AeX3es5p9a/u5yO+b3BHL+R7Dv\n",
       "e1KraR0m99Npyc/tXWF1mNwGycgL2Hv+B6MkSZIkSZKk1XxglCRJkiRJkrSaD4ySJEmSJEmSVvOB\n",
       "UZIkSZIkSdJqPjBKkiRJkiRJWs0HRkmSJEmSJEmr+cAoSZIkSZIkaTUfGCVJkiRJkiSt1i+NBS7L\n",
       "H3Yg/7f+Sh4DQvC455a3Nk95Ow3mk1hmEESSEBGx0fzRfJK4BnLedXlDC1ksEVHLNpPTaNJJGFnn\n",
       "lfVXwJ8LSEyFf3aYyVoAa7gWtqiuhnwDfrS7T2OONe9vKD0a067sUFzm3E4obgJFoYHNfqjs9221\n",
       "/wqc4wKWeiXzB8YdEdHXvCagcwb1xpD+yHm14MNhGzQH5GzYqHS+jwNrj5RYsjZpHKrVsD+SzwUF\n",
       "gRCw7iIi7s55fdn1+d47gpofEXFpXRrTgb3e0Tq10d4itToiYl/zc+a+PaQxl8YOdzKqA8jnAPNJ\n",
       "on7wIj8jvz0d05jPjvkdIYKtKTLwtrCc07WQGcC8REQ0cG7PIGZcQJ4iYoh8XD24oz/OA+rv0OW1\n",
       "4+Mh3zO/Oj1LY353vkJj+rq/pDENLIMJrilyt34A+TzWEfU31G0+WvHZDmLIriLrLiKiA3Fkbirc\n",
       "6+QOV0BbI3jo2aG5izjN4GwHbeHvvi5fe1ve0Z/1+TlDzgb6TtDA//ltuYZJTSfrk6xN/4NRkiRJ\n",
       "kiRJ0mo+MEqSJEmSJElazQdGSZIkSZIkSav5wChJkiRJkiRpNR8YJUmSJEmSJK3mA6MkSZIkSZKk\n",
       "1XxglCRJkiRJkrSaD4ySJEmSJEmSVvOBUZIkSZIkSdJq/bKwQBq3GdJf2aidiJgX0liuwGaWBmJQ\n",
       "Q6w/BLRVNuyPNFVrHgVSGRERU8vf06eWT+AMYiIi5imPaXMes8ws6UsDuQL9zRP7faQtMskN7r1d\n",
       "zTs81jzp93Pe3+vpHRpT33d5TOQxDW7kc7ukMaclj3k35zERERX8CaqBdUfaiYgYwdpjZxHssAch\n",
       "Na8w+BxFhxZoZ8l/Hx0TGtGGZy0KAwdN2SiXtD+K5L1s+KdddufYMFcAOSOnGZzHHUtUX/I9OoCV\n",
       "R++BBST94/7TNObUHlB/Q92lMa/Gb9KYx5afRRERr8dDGvOkz8+Qm25E/f3mdJPGfHGVn8n/y1ef\n",
       "gN7YHL/c53NTQd2ga6ot+WHUgXVeYeFnZ1EeQ/t7nPPfR/JJK/UJ9BdDHvKjw20a824CDQXbf2cQ\n",
       "c2rgt0XE/bRPY355/yKN+bvPv0L9HcD9uwNzTHIQwXZyBXvmAvs7t3yeyXdKgav4ustrLGnpYc7H\n",
       "vYCYCDZ/5DwmayUi4nGjnNP78ATu1mTddXCOyWc0ySepnRRZnzPIk//BKEmSJEmSJGk1HxglSZIk\n",
       "SZIkreYDoyRJkiRJkqTVfGCUJEmSJEmStJoPjJIkSZIkSZJW84FRkiRJkiRJ0mo+MEqSJEmSJEla\n",
       "zQdGSZIkSZIkSav1ywIjQRxqq7DuSBgaOvx9S4MD2wjO+2YdfuDuQH8k491mCyGigbhaSBDrr4Cx\n",
       "f9hVxywNBoI4MjUo5xHxyf4uj9k9pDHHmve3Kz0aUy35YihgwRSSzIhYQEbPy5jG3M4z6m/ot5nk\n",
       "trCV/nDO42ZQFBqs56Qm9PXD7tIOrE9Sg/CoN6pTCz7U8tYWsF7oHLN7Sd4WrVNov5P5o3/+3eiM\n",
       "RGna8Owj/U0z6/BhGdKY05zX9Hlh/e3LIQ8COfho/0PU365/msa8Hr9LYyb4+z4F5+hjy/P5OHeo\n",
       "P7IW/uTJb9OY/7V+ksZ8f78DvUVMoL483z2mMbvKztoZnZF5pgqc46HkZzsZ02lhd6VDndKYAn4f\n",
       "XcN30z6NGZd8ff70+CaNOXb5b4uIeAA16C0Yd4M52IGc//DqLegP3qdA0ZtaPnayViLgGgZjonX/\n",
       "SXdOY0gOaD4fwXrpQQ52Ja9BhZXqKOAeRPq77i+ovyeR53wBOb+AdRcR8djyu8TY8mSdwfkYEVFB\n",
       "zWvgTknuzBERHVgvAzizRvBp6H8wSpIkSZIkSVrNB0ZJkiRJkiRJq/nAKEmSJEmSJGk1HxglSZIk\n",
       "SZIkreYDoyRJkiRJkqTVfGCUJEmSJEmStJoPjJIkSZIkSZJW84FRkiRJkiRJ0mp9LCxwIXGwrc36\n",
       "A8+jZcMxlQKCaD7n32so/1c79PeRsRNw3K3lMV2XxxQwgW2BPw7kat/lA59hzgt5vt/wib+gBbod\n",
       "lAawDvYDCIqIz/Z3KC5zqHmezsuE2npoj7/vcCIi4r6dUdwICgeZl4fG1gqpLzNsi6ioJoB2Ktuk\n",
       "YClEB9qiGZhArrY6ssZ5u+KyZR1u4Ac2kKd5Zv2NlzyG1GpaX6cBrBfQX3eEq2qrewlopx9AO1AP\n",
       "9lUPzuOIiL7kcQ38wAJ3383u03xM/ZM0Zp5PqL/LdJvGfLb7Io15OXyD+hvBXn435Yv4qmfn6B9f\n",
       "v01jPu7zdv7b6zGNucC6eH/OOyQ17zSDgUfEUMHlGuzReWG/b6s9Q/sjZWoPcnCobE3NXT6uhzkv\n",
       "aP/y8Vka88nuHo2JOLd8vZBxR0Qcar4fPgZjv532qL/rLj9sK7hLnBu4CEbE/bJLY2awR8mYItie\n",
       "IXZkr0fEAnYNzVVmV9iYXs9XaczvpnxefnR8g/qbQH25gByQWhYRsYD1gp6n4Joiv4+sO3R+BPum\n",
       "Izkga9j/YJQkSZIkSZK0mg+MkiRJkiRJklbzgVGSJEmSJEnSaj4wSpIkSZIkSVrNB0ZJkiRJkiRJ\n",
       "q/nAKEmSJEmSJGk1HxglSZIkSZIkreYDoyRJkiRJkqTVfGCUJEmSJEmStFrfGowEcQtopsDutmpr\n",
       "gR2i/ujgiY3awmNCyfp9RvKvdAf6IzELGTgcd1fyRVwKaGzLRfWhkX1Mx73R76uwoZ8c36YxPz1M\n",
       "acyh5n9XaXBMpzamMV3J+5sWVogPZUhjxpjzdir7fQtY661tVxj7Po8h63PLWt2BmlBhPtvS5W2B\n",
       "dsqmxXqjZkjtjIhKOiRlH+Z8t9/m8KNrCpSXzc5HihxZW15vyB4le4bsPWqooMbCJNyN36Yx0/k3\n",
       "oCXW4VB3acy5ndIYWvffXvJzZgZjRzmPiOuOrIV8Y31x/S6N+effvUBjOu7ycxSdDRuuYbaR6VmU\n",
       "t0VWJz2LZnpvTuxqPi8REePC4jKPLd8Lt9MetfXR8JjG7Gt+h71dDqi/ecn3zNjyO8nT/oz6Izqw\n",
       "XuhSmcFBg85a1h2y5af2GczNd5erNObZkJ8NNAcf7+7SmF3J1yf5bRERJ7D/SA5o3XgxPKQxZF/R\n",
       "utiRj3KA1POIiB68gxy6vAZNIAf+B6MkSZIkSZKk1XxglCRJkiRJkrSaD4ySJEmSJEmSVvOBUZIk\n",
       "SZIkSdJqPjBKkiRJkiRJWs0HRkmSJEmSJEmr+cAoSZIkSZIkaTUfGCVJkiRJkiSt1i8NRoK4BTRD\n",
       "YiIiykZtLaShiFhAY7XmQQvtkNiwKZIskgPc3UZtkXbKhnmaW94YidkUzOUCklU2XVQ5Mqbz1KG2\n",
       "7ucBRE1pxLzhQp9iTmNObUxjruoO9TeUPo1pbbvfV0re1jznf6eiKd9qauZ5u3V+KfnvK/QcBUjO\n",
       "Sc0j7VAV9Ed7W0gk+Bt5Y2EAACAASURBVNMnr/sfNp/sDvCBz5APrO/yXHVonbOcTy1fMG3O2zqh\n",
       "MyZiXvKa/np6ncaclwvq75P+ZRozLfnZ97sL+30Pc37O7Ep+9s3wPnwP6vUVuH//0dV3acz/9tVH\n",
       "aEyl5PeSaSFnA7vf7MHvm0GhKlt+gwAkBxHsjLwsea4a/H3nRtZwvmd2NV/nExh3BDtHPxpOacwF\n",
       "rqkZzM3dnN89F3ifKuCs/Wz/Lo3p4YWKnNsDeLx4N+1Zf+D39eTMgufa68tVGvNmPKYxd+D33fRn\n",
       "NKYXw2Ma88nuHrTD+nsDxr6v+T5+hGf7EbR1ArWF1kWiB2dtpfdTcPc8gfO/A3vU/2CUJEmSJEmS\n",
       "tJoPjJIkSZIkSZJW84FRkiRJkiRJ0mo+MEqSJEmSJElazQdGSZIkSZIkSav5wChJkiRJkiRpNR8Y\n",
       "JUmSJEmSJK3mA6MkSZIkSZKk1foCAxcSuPw+Q/nbo2PfygJ6XNqmHW4TQ8NIEF4woKmSBy2gnQra\n",
       "oQr4fWRMf5u4vKGN2vn/qBn+vrfTHsQ8pjFn0N+PdyMZEtoP+9KlMQe4WObIC8wCFsyxso3c17yt\n",
       "CmLoXpjnbar6lnt0bvmYSN2IYLVqAYdtBeuAImMntRrPHAisGxY9Mq6O/D74A8l6qV3+t915Yv1t\n",
       "lSpyx9tynXc1X8NkXiIiGkhCB+rUpeW1OiLi68vXm4yJ+m76Po3pSr6m6F3pfh7SmKf9BbTTo/6u\n",
       "wFr4fsrH/snuIe8MTsvzq/z3/fbxSRrzcg/GFBFdAfsBHFikVlMNFIUBjDsiooFK3IPJof0dh/wu\n",
       "eN3lc/zV6Wk+pjqjMZE77P2U770Z/m/QvORxI6h5h47dhw81P7TIyOkck3vCtOS/j6yDCJZPUmNP\n",
       "jdVFkve/e5WfDWTc76YdGtOry00a8wDy+fU5r53v5XXjCvT3tD+h3shefmj5HiW1M2K79wsyxxER\n",
       "b8fDJv1dg/Pf/2CUJEmSJEmStJoPjJIkSZIkSZJW84FRkiRJkiRJ0mo+MEqSJEmSJElazQdGSZIk\n",
       "SZIkSav5wChJkiRJkiRpNR8YJUmSJEmSJK3mA6MkSZIkSZKk1XxglCRJkiRJkrRaX3oWWFoes5CG\n",
       "UFBElE1ConawO9RfPvilkVFBGzaF875ROx+yO9rXvOQJraCxBU4MWlOkqS3XAbHV5EG7HhSXiPhi\n",
       "f5fGHMEEvhvzovD1OKMx7Ure3+dD/necx2VE/RUQNy/5mCY4xxX8PgKt84gAQ98UHVfazjbNRATb\n",
       "fmTclQ4KzDFq6gMffeQ8jmBruAN1g/48kverY14Tbi8b/v33Q58hBJg+Oux9l9drslrmheX8m+k2\n",
       "jflieJHGtIWdffu6S2MWUDzp77vp8nNmBG2NjfV3W/M8dHP++14OlzTmyRN2tpMF8zDlH1DPd2wV\n",
       "T0t+L+nAHPfB1tRA6v5WZ0NENHL/Bv3t68T6AyMbW55z0t+5sQ/pb+chjSF7tCcf5MHyedOf05jn\n",
       "wwn1R85k8h12P+f1LiJiArnqQK6uQL2LiFjA2Mm6o3eX6y6vZ3dTnisypgtcw18e8rPvcc7b+vVj\n",
       "fj5GRPRlm7N9V1ndH0EdJvA3D5gbsu7ot9oRrHXS1gDmxf9glCRJkiRJkrSaD4ySJEmSJEmSVvOB\n",
       "UZIkSZIkSdJqPjBKkiRJkiRJWs0HRkmSJEmSJEmr+cAoSZIkSZIkaTUfGCVJkiRJkiSt5gOjJEmS\n",
       "JEmSpNX6rmOBC3iKXJbfbzB/EIWG5YOvNW+swnzScaVgzsncbDl/FawXEtNXMC8wl63lgRNoZwbt\n",
       "RHz4nBeSCJDzsumfHfIxkXmJiPgXDy/SmHF5m8a8m3ZpTFfYxPxg/5DGfDPmq6ovZOVFXJY8V2eQ\n",
       "z1fjAfW3gPkj+5ja7fK8F7BcCpy/DoydrIW+NtQfGVUHat6hy9dLA2uF22ZeItjRR85j3h85Q/IY\n",
       "WhM6sBauelAT6h71h8o+WFPEANf5dX9JY8g631VWF4eSj4tkgGbpv/7qizSmA2MaF3ZhJGt4Am3t\n",
       "6meov6HMaczDnJ+jDV50Sa16MTymMcduTGP++Pl3aEz/8C8/TWNefpznqcH/45jAR1ae8Qi6ikkU\n",
       "mT1SO9/3l7dGzu2HNqD+7sE97/lwSmNmMO5T69GYelATyN7b1TwmIuIMxvXt5SaNeT1eof6+POT3\n",
       "b7LX6Vl7mvPfN4P9R/ZeRMQVqC/km47OH8kDOfuuwbjPjZ1FXx7yb55Ly/P5+f4O9ffXp2egv3zs\n",
       "JCYiogdFD30XBbsrEaQ/WvcP4E5F7l0kn/4HoyRJkiRJkqTVfGCUJEmSJEmS/g927W3XuiRL7PqI\n",
       "mIe11t7fOfPLyqzuqrZpLNmWJQRtcYOExAvwGjwAXPMCiGvegQsegBsuOEiAZFoGI2S3SnZVdVVn\n",
       "VuZ32qe11pwzJhfZIAElj7+mZ38qo//veigi1oiIETFjb23mA6MkSZIkSZKkzXxglCRJkiRJkrSZ\n",
       "D4ySJEmSJEmSNvOBUZIkSZIkSdJmPjBKkiRJkiRJ2swHRkmSJEmSJEmb9d98cUaB61rSmAXErCvq\n",
       "Dql5d1EL6/DYzWkMaenuMKL+Chg7CAk2KparAtsiupq3ReamLy2NKXCO25q/p5OW5sbe5W9Hsmfy\n",
       "tqaF9Uf2Fll31F79vTmyGvTLx9dpzA/X2zSGrDtSyyIifvG4oLhMB9Z5RMQM1gsxtQ7FvTpc0pgX\n",
       "YJ3jygICyZ5ptMOd6jA9Z4aar5dup7o4gr4ieP38nEjO6bjJ3YWg5yMZ1z99n9ey8z3qjiEpACWI\n",
       "3t9qf0hjvnl7TWPoHA81HzzZM3Qf/+K7Z2lMA/mk5zE6a8HR8O/+7FvU33/w5ldpzA9Tftd9aj3q\n",
       "737O2/pyfExjyN2MrIOIiFq/SmPIPXdubJJLl7f1uOR5uu3yfRURsYJxkTOE5pMUGHIvoXcgsrc+\n",
       "zXmd4r8vt9e5Pdb8e5W2dQPWy/OerakLmL/HNqQxKzxrye9bI48h+yqCHaNDyfub4J3kCOaZtDSD\n",
       "/m67CbQU8WnOa/onUM8P8H76t04fdunvDM8icl8kq/MC+yNIBWrwxYjcY0mNJXcu/4NRkiRJkiRJ\n",
       "0mY+MEqSJEmSJEnazAdGSZIkSZIkSZv5wChJkiRJkiRpMx8YJUmSJEmSJG3mA6MkSZIkSZKkzXxg\n",
       "lCRJkiRJkrSZD4ySJEmSJEmSNuv/q39wZoF1SGNKlDSmK3k7ERGH7gb016cxbZ1Qfz9cf5PG/Me/\n",
       "WNOYQz2h/oa6pDEryGeNfEwREQtoa13zGOrSujRmKC2NqSX/fU9Lvg4iIn7zMV9TSz4t0UBMRETL\n",
       "fx6ysimOAP2tJIb2B5ZLh7b7EXXX1zGN+eqUD6qhvYCGFCPax7mhwsUCGqtgX81rvj8jIqb2ef8G\n",
       "tbR8bgpYd3TcpMaSuelAziMijt2cxjzvL2nM05JvrCuowRGs7k9rns8O1OoIth/ImArsr+10rjWQ\n",
       "gwj2+x7f51HTe1gTwM8ru21jlsuSl+q4e5Gf2xVO3dDluRpBDKmdEewOgM6QPcsr6I/cuSIi/mjM\n",
       "B/b3T3l9uTR2//6wPKYx7/PSGRdwftA6NYBryXXO80TPWnLXreCSR+43ERGB6hm57LJ8klGx85hd\n",
       "wJcl/32XltegR5An0k5ExALaKpGf/2B7RkRED/b7Adxv7mZQ0IPNMdl/9LsW3SXQuwSrix/nvCg8\n",
       "665pzFhBMQu2rhZwv7mCGnS3wJyD/kjOL/ADeQZ7hsQMhdWNA7ijk301wben+yXfW+T37fd6E/GX\n",
       "51dpzJfjfRrjfzBKkiRJkiRJ2swHRkmSJEmSJEmb+cAoSZIkSZIkaTMfGCVJkiRJkiRt5gOjJEmS\n",
       "JEmSpM18YJQkSZIkSZK0mQ+MkiRJkiRJkjbzgVGSJEmSJEnSZj4wSpIkSZIkSdqs/+O/9R+xyO4W\n",
       "xIx5TJtRd+v4Kg+qxzSkXH9A/T377r9JY+b1v0tj3l3yMUVEDLWlMa8PT2BM7I14BTHnpU9jrkuH\n",
       "+islj1lKngMy7gXmYLqCtsDyXMmgItDgUVuwP9RWnnIOzPHKlguytHyen5YhjbmANUxiIiIO3ZLG\n",
       "1JJPTAf2QkTECpIOpiXGjtVhMq4O/L6xsv7GmueT1Ly76YD6m8Ga6kGtJvU8ItBeJvWsgIYqLBwr\n",
       "WDBgirmd2mpk4MHmmOwr0k4EG9eaL/MIEhOB/kyMzgayDuhCWPLGWgMdVtYfyXkDTXVsSUUhSwH0\n",
       "V/f8Ez8Y+xfDI2rqP/w3/9M8aAU1fcnvsBER7fxtGvPw9M/TmP/x7n9KYz4u4CIYET95eU5jfv1d\n",
       "ft//8obdJc7g7nLqpjRmaqy/oexz1kbLvxsi2F0C3ZXgAUJq1QDuG3XNx03mJYLdT/c8agn6DUk8\n",
       "LPkbQI/WAbtP9WCOST7pXWkEe4a09AjyRJ0qqQn5HE/wY43cPckxOqFDlLVFagtd5/OyT67ommro\n",
       "F+6H5OoI1hTax2hEkiRJkiRJkvR7+MAoSZIkSZIkaTMfGCVJkiRJkiRt5gOjJEmSJEmSpM18YJQk\n",
       "SZIkSZK0mQ+MkiRJkiRJkjbzgVGSJEmSJEnSZj4wSpIkSZIkSdqsjzKwyEriyHtlYf21GTQ15THz\n",
       "I+pume/TmHPr05j7C8tnKWsac1ny/iLydn6MyvO+tH1iIiIq+H19zWNIOySXETBTrCmGpGrH/lB3\n",
       "ZIvumQPQ1tOF/Z3j8WP+C7+Pm7whkKgV5qAE2aOoIWanuSnwT0s//+k5jRn7axpz7EA9j4jbLm9r\n",
       "Wrs8puUxEREXMH/71qB8otuax7AxoSGhtb5nKSM5YHli/ZF8kpi57ff32HUBMfQHAqXSAvMvh0cE\n",
       "Asm6W8G8/BiXN0bmeE9o/+04JNJfVxtrjNz3yfqsI+qudKc0Zuhu05gFrIM33QGN6YvDUxrzy+mY\n",
       "xtTCcv645Dk/1PwcJbUzIqID40L7D65hEkbOtSs827sAvw+0c9vnOb+Ab8OIiBtwvznU/HCg/Y1g\n",
       "vZBTbQBjiojoWx5H7m9zY9/RY8l/3wBq3gLPhhl8QC1L3lYP6zC5xxawikcwf0ewVmh/JJsLLBwk\n",
       "B91+ZQrd5YfI80nrMClCE1h3Z3B+RETcdPm72Zsxfzf7/pqfx/4HoyRJkiRJkqTNfGCUJEmSJEmS\n",
       "tJkPjJIkSZIkSZI284FRkiRJkiRJ0mY+MEqSJEmSJEnazAdGSZIkSZIkSZv5wChJkiRJkiRpMx8Y\n",
       "JUmSJEmSJG3Wr4cvYeRtHlPHPKZdWX+kLWAdX6O4/vhNHlP+cd7firqLdS1pzLTkMW1lb8StgRgw\n",
       "plrZD6x5U0FaWsCY+rLfmBqIASE/AsOCy4UhY//MY0JzDNZ5RMRyzltbG+ix4BnMm9qtpc/bYYF/\n",
       "WppaHriAGnQ/H1B/D3Ne96+ty2OWPCYiYt0poWVhu2bo8kJMat5QQUHHyNg/b+Eg5yg5QyPYHJOz\n",
       "byGHQ0QUeB6laDN75f0zF342x7A7MH977fWIYHV4p22F+0PN0IQuecz4RR4zfUTdFfAdcgBj/8nd\n",
       "izSmBaudf3TKx/7nXf59QWpLBDtHF7AQKpzjvuR5qCCGtIPtWBPIuJ7akMbcXY6sQ+Cmg9+/CXJH\n",
       "iNjvfkrbed7nv28G6/xhod//+WI4tz6N6WBNeATjIvv91E2ov1fDUxoz7LT/6D4+1jmNOYAYsvci\n",
       "Is7gPoXuEvBeRvLQwAfUDL6dIiIaqelg7B2cvwNYezP4xvpifEhj/A9GSZIkSZIkSZv5wChJkiRJ\n",
       "kiRpMx8YJUmSJEmSJG3mA6MkSZIkSZKkzXxglCRJkiRJkrSZD4ySJEmSJEmSNvOBUZIkSZIkSdJm\n",
       "PjBKkiRJkiRJ2swHRkmSJEmSJEmb9TG+QYFrf5MH1RE01Fh/3RHFZQpspx7epjGHOqcxL08T6m9Z\n",
       "SxqTR0RMC4mKWEoe1+Y8ZuhW1N/Q5fNcgrSVj6mrbEyNLL19hoTjwLRgZGut5PexdLI80LZ26q/U\n",
       "nRK657j3tNP6pD9vWvK/Qb1b8hpbC+txBYNvoCm8RUHgnv0tYJO2jpwN+TnTFXjWgtGTGIqshIbG\n",
       "BPsDgWhbwTWMajrZo/AHomGRpbDTuCMi1oUMivx9G57te51r8PdVMHQyf3ue/8TjAu7oEbE+/iqN\n",
       "Kc8OeUOlR/3F/JCHXN/lMbGkMX10aEhTyyd5POXt/PYT+HaKiK+en9OYa8vzOZQ8BxHsfFjBd8q8\n",
       "sv9TOdX8zLqA3/duYvm87a5pTA9ycEPaqeysnVq+9h6XIY3Z8z51Bet8gXP8rM9ztbR8TD1cwyQP\n",
       "tyVfd+R7PIK9AdwveV28n0HtDLZe3oyPacwIxj3BOS5gTA9gDdO6MYC9RfYx7Y+sddoWQdYweSs5\n",
       "Dvn5EcHGTsZ0BevA/2CUJEmSJEmStJkPjJIkSZIkSZI284FRkiRJkiRJ0mY+MEqSJEmSJEnazAdG\n",
       "SZIkSZIkSZv5wChJkiRJkiRpMx8YJUmSJEmSJG3mA6MkSZIkSZKkzfpy/pZFDs/zmO6Yx6wNdVdq\n",
       "T6LykOkj6i/m+zSkljWNucwd6i5vKWLo8lxV+ETcl7yt1vJ8kjHR/pY17+/QzaAdloQVJB3FsBQw\n",
       "ZCHQpkhbO/aHgC2KmwLTjHJAfO487QnknOQSNhWHfkljhprHRERMLa+fc8sHP4NaFhHR0J4hCd1v\n",
       "wZA13MDMVLj5VhCH0kTyRIEOC+yOxJHpo7+OxKH9t+fZABorOxZrkvO9zmMKNUX72+susWN/ZPru\n",
       "5xF1t4B7c7885Q0dvkD9xfpVGtLNd2nM133eDl3m8/qQxpD799MD6/DwMr/rVrAQRnjWFtDWAv4H\n",
       "ZYVn7VDycZFl/noA6y4iHpchjTmAMbFaxnLQg/6IobKPEFJfyMjJ91wE+6YbQFv0JHrWX9OYj1P+\n",
       "LkHGHRHx1SGvCV+VPIaMKSLi45zH/XC9SWPmNb9Xvx4e0Zie95c05gnsvd9eXqD+vj58SmNIzaNr\n",
       "mKyEhr4JUHcojNQXUqsjWB5I7STnh//BKEmSJEmSJGkzHxglSZIkSZIkbeYDoyRJkiRJkqTNfGCU\n",
       "JEmSJEmStJkPjJIkSZIkSZI284FRkiRJkiRJ0mY+MEqSJEmSJEnazAdGSZIkSZIkSZv1sTywyNrn\n",
       "MQW8Vy5PrL/uhsVl2gT7O6UhxzqnMbWurD8Q9nTt0ph5Kai7CqZmBWNqK+uPLIWxtl1iLg2OiYSB\n",
       "GNYbg1ZLngKODB4u4b1yRdbmj4H79Ed+30pzTnK154Ih3e20ziPYficxy8ommdSgGez3ZceaQMZU\n",
       "8STnjfXgDEG1er8hxQrmmJYNZMc9U8DIKqllhf1C1BapZTv++beQhf6Z69QfohUmgew/fIbshdQE\n",
       "+Pu68XUeNDwHHcL7N2irvvq305hv2iWNWVt+j4+I+HL8r9OY42FJYx7esY08rfl9n7g08K0WEUPJ\n",
       "x97XPIbWfXIH6Eu+aTpYhxdwZpG2yKycYc5PNd8PpFTPDR4OIIysA1oX95rjBf6+x2VIY266axpz\n",
       "hXuP9NeB33foWA36oj6mMa/BOr+2/PfdLyMa0w/X/G3mWZ/n/OfHD6g/MjefpmMa837K33gi2Fp/\n",
       "PeTvWF+M7G2N1Gty36AayOcB1H1SN/wPRkmSJEmSJEmb+cAoSZIkSZIkaTMfGCVJkiRJkiRt5gOj\n",
       "JEmSJEmSpM18YJQkSZIkSZK0mQ+MkiRJkiRJkjbzgVGSJEmSJEnSZj4wSpIkSZIkSdrMB0ZJkiRJ\n",
       "kiRJm/Vx/h0KLG3Og5ZLHrOCdiJiJf11B9DQgvqLdk1D+pK31ZUVdfcwdWnMspQ0ZmXdobha86Cu\n",
       "NNRfCTiwxLzmOVhaHhMRESCswKb26o+kCWeSLPV9piUi2M/77Dknv2/HHLAk/OtrAbmaW/53KloP\n",
       "rkteF69z3h+tCX2Xj6ugms5+H8nVGRx9Y56mGMF4IiJWsIgbWeg77ivWFJtj8vtIDerB+RjB7gBl\n",
       "AB3SP/+SNPz/vE4RK7hLNBATEdHAWbuSqxKdY7L0wNDPy4C6e/fhf05jXl7fpTGlsirUDa/TmGX6\n",
       "kMY8Pv2LNGZq4DslIt6Oj2nMzZAvhO/BeRUR8eGcf88cu/xweN6fUX/Tmh8iFXw4HCr7pqugLpJa\n",
       "XeHpcNNNu4xpXvP5IzEREQvY8OQO9Lxja7iveREiYx/gd9+1gYsJqFNHMHcREb+7PktjbkGunvf5\n",
       "938EewN4XPKa9wzOH1nD5O7yCOr+CPfxAtYLqS10z5Az+ZvjXRrzpzf5eRXBasIP0ymNOVT29rRf\n",
       "PtndZQFxpA6fwFb3PxglSZIkSZIkbeYDoyRJkiRJkqTNfGCUJEmSJEmStJkPjJIkSZIkSZI284FR\n",
       "kiRJkiRJ0mY+MEqSJEmSJEnazAdGSZIkSZIkSZv5wChJkiRJkiRpsz6m9yyyXfOY4SGPWRvqrvTP\n",
       "8qA6gv5m1N86fUxj7pZDGvP+YWD9gTRU8PzbWDpjXfOYAtqpJCgibvopjVnW/AcW0F+ja4qMncSA\n",
       "XEawnNO2kB3Hvld/JOelsEEV0Ni60w+Ey/wP046DX9e8sZshPxuuS4f6u8x5TZhATNtxnZM6XOCf\n",
       "6ta2z+T0Na95pL5GsJJAatn6r/GuQbWat5ZGVLAdSL37sbGdYgA6pD/EpbDncUzuXetCGmL9oXSC\n",
       "oHPrUX+/vv4yjbm0xzTm9eFnqL9+eUpjliX/vqglv3+PHcvBV2N+rpG7Sz2yzXC+5pv09CK/Vw+F\n",
       "LaoexDVw/tNzht7TMxXeFzvw+6Y1L8THmn9Dzo3dbyaQq0rOD5iDCYzrCnIwwcpIck5qUIH99SUv\n",
       "siQHv3x6hfq76fKa8GE6pTE/PX5C/X015jVvauQ+nO/j5z1444mIuzl/B7ntzmnMUMkByb5BLmCO\n",
       "Z3gJWsAdnexR+g1yAPWF1OoF5CmC3dNnUKfIvPgfjJIkSZIkSZI284FRkiRJkiRJ0mY+MEqSJEmS\n",
       "JEnazAdGSZIkSZIkSZv5wChJkiRJkiRpMx8YJUmSJEmSJG3mA6MkSZIkSZKkzXxglCRJkiRJkrRZ\n",
       "v86PKLDEmgetcx6zPKH+ovuYx/TP85g2oe7my7d5TOvSmK6CPEWgp90KYua5oO66Lh9XBWOHvy6u\n",
       "IFfnpYet/cvVwkZF8tlAO40mgWyZndrByHJhSyoKyCeKof3lSyqigcbIvKz7JZ38vD2nmCgw6bXk\n",
       "O+LFcElj7uKA+rv2+YJZwBzDkoDA5YmQWnXoljRmBDHryka+V0mgKUd3iR17RC2R/QB/YAN5J92V\n",
       "Ay2MIGTHuo+Aut/3eULpfaoHcQPYM8cO3GEjYjyOacwCmiLnYwS7u5A73gDqeUTEPbint/W7NObj\n",
       "Au7xEdFHfhdcgs1NZiLfKRHxcc4vHG/GPE/z12ySv/1+SGPevzilMacj++ZpO234aWW/r67g+wms\n",
       "zwWOuwdn7dOc57wHY7rprmhMKxj7ueV7gXxfRbD7Bjmv+srqBvl9C1gvJOcREYcK7kGgneclv8NG\n",
       "REwtH/vrAdQEuGd+fX6RxowgB2/HhzTmYcnPtAiWT1JbPs5H1B9RwajasucFJzeBehcR0e20R2k9\n",
       "J98Fx5qfkX3J153/wShJkiRJkiRpMx8YJUmSJEmSJG3mA6MkSZIkSZKkzXxglCRJkiRJkrSZD4yS\n",
       "JEmSJEmSNvOBUZIkSZIkSdJmPjBKkiRJkiRJ2swHRkmSJEmSJEmb+cAoSZIkSZIkabP+4f7/QIEt\n",
       "ljRmadc05mm5Y/2tLY0Z6rhLOxERv51+m8as8Rq1tZs1D+l7EBQRXc3jSgExqLeIoeZ5r2VKYy5L\n",
       "D3vMHUbw+2r+C+GSQip54odJJ2FojmF/Faypsc+T9eZ4Rv19W2/SmLaC+WNbBqG5+kNTClvEY5fH\n",
       "fbge05ipsb9l9aBuvDiC2gLWZkREBUWWjKkD+yoiooFdSsZE+qNlqoK2FrCvOtjfCtoihx/deyvY\n",
       "8Khu0P7AHL99k5996xvWH5k/cjqQVkieIliNJXcEWqpJzsHRHocuv+dGRPxbX3+fxnSgxvawDg81\n",
       "HxdZB9fGdul//qu3acyxy9fwsc6ov6E+5TElz8Hfu/2QxnyEd8oOrKl/+OrXacz72xPq77/8Z387\n",
       "jVm+zs/RC5xjsqZI3SfnYwSrCWQNk/MxImIGeSigrbv5kMacar4XIvbbo6TeRUT04LudoHV/BPu9\n",
       "AzcTep8i80dqbA/2QkTEBOaGrBf6XftyyL+Nbjvy7jKkMfdz/p4SwWrCI1gupJ0INn/knFnh/9PN\n",
       "ax7XQEwPzqsIdh9ewH5fwJhof+eWxwzgAu5/MEqSJEmSJEnazAdGSZIkSZIkSZv5wChJkiRJkiRp\n",
       "Mx8YJUmSJEmSJG3mA6MkSZIkSZKkzXxglCRJkiRJkrSZD4ySJEmSJEmSNvOBUZIkSZIkSdJm/X/y\n",
       "i3+CApc1f4ucd4rhShpRY0UtrXFMY8jY39xeUX9tzcde4NiJUz+nMbXk/fWlof7GLu8vz0BENz6l\n",
       "Mb+8fwlaijiN+ZiGPp/jFU7LCua41rwx2h9ZU3sivX1xPKcxNz3bM3/yIp+/S+vTGLKPO7jOyZ6Z\n",
       "WpfG0Lnbq250YNwREU9zns+l5WPCa5MMCzTV6B4FjZFUNbpJCfD7FpDP3z3eoO7mBcwf2A57poDU\n",
       "zj37Q+AS7kBNL6CtT9+z/na7JoB2VlYWWVtrXhfxJIOEVtDd7dsRdffm9pDGnPopjRnrgvrra554\n",
       "UmMvS17PIyI+XfM8vDpc8pghv79FsDyQM3m9/ZDG/PLpBRoTueuewD3305x/W0RE1DGfv4+XIY15\n",
       "PbI5vrY852Re6NnegTVc4L2EuID6cr/k+/hZl99Pyf6MYLk6dXnduJ/zcUewc+YG/D5ap2Zw113B\n",
       "HDd42JJ70FMDcxx5LYtg43oDvll/uLK72f2c12GSA1LLnvcsB+T7idyryXdDRMQE9jHZ67S0dJHn\n",
       "qi/5fiA5iIiojvzHJgAAIABJREFUYG469F3EatAC/q+Q3L8va37O+B+MkiRJkiRJkjbzgVGSJEmS\n",
       "JEnSZj4wSpIkSZIkSdrMB0ZJkiRJkiRJm/nAKEmSJEmSJGkzHxglSZIkSZIkbeYDoyRJkiRJkqTN\n",
       "fGCUJEmSJEmStFn/3//uT1BgW8vf8FD+n0hvpaxpzPPxivp7c3hKY0gOKhhTRMTc8rbWNX//LXBa\n",
       "npY+jSG/79AtrEOQh9tuSmPOLR/3Dx8GNKTWSFAewmaYrWHUFuxwpQNL0DXVjXnMm5t8DX+4nlB/\n",
       "C9gzU8v7I+t86MhiiVhBW9dlv7/jkDkm83fqZ9TfDGrQUPKaUOEiXsCuIeuggXFHsHnOKxDfM5/T\n",
       "NLNBzSCOrLu96g/uj23R3eA57sE9oYIfCI9alPedYlY6yXuNCcsbW0FtaTDnbaexPy3s7jKs+cCG\n",
       "msc8zKy/x2te9b46PewyJur9lN8TyBZ92V9Qf+Tuear5HZbm4PQmH/3jU5fG1BesME4tb6sveVuX\n",
       "lZyQER34JmigqJN2IiIGMPY3Q/7dR3ojeYqIeN7n36PkG5Ksu4iIC1jDDewa0g5F7swUOZNncP9+\n",
       "DFiHaz7PMzgcXvRn1N9Ty8dF7uhn0M7LwsZ0APWsAx/Sc2F39AvI53XNaxlF6ksP1gF9M5vIOw9o\n",
       "h35jDTX/9iM16ArOD/+DUZIkSZIkSdJmPjBKkiRJkiRJ2swHRkmSJEmSJEmb+cAoSZIkSZIkaTMf\n",
       "GCVJkiRJkiRt5gOjJEmSJEmSpM18YJQkSZIkSZK0mQ+MkiRJkiRJkjbzgVGSJEmSJEnSZv3SCgps\n",
       "K4vbSwHdkdfRNfYb9+M8pjE0TxWELaillUXtNH90vVyXPo0ZSktjyLhb3sxfB+YhK0snQppC/dEx\n",
       "kTgwfTgFILCAoLl1qLu55Tt+AutzAe3QutHXfFF97tpJJob+vmnJ47pC8vl51cJ6JFkga5j2t9da\n",
       "GGt+OtC6SOJInaK1k2Tgc68XZMdtTO439M+/4Bhl+fzcSd+zLO6UT7qGlzVvjNSEBjskP68HC+HQ\n",
       "sVtlOeYxz/trGkPGFBHxbrpJYz5e80E9gLvEoc5oTNc1b2vY8fx/82JKY779bsj723Vj5chZFBEx\n",
       "gT3TWv77apevuwiWd7YW8j3awXV+AWvqAr6dXvZn1N885TlfWt4fXVPkrkRMIE8RERX0d+jyOT6D\n",
       "nEdErOCrvFbwzQP2QkTEWPL+yFlE1vAVfoeRc418Fx3Ab4uIWMDBXcE5StdwBQ8FpLbQuk9q0AHU\n",
       "2Mclr50RbO2RfN6COux/MEqSJEmSJEnazAdGSZIkSZIkSZv5wChJkiRJkiRpMx8YJUmSJEmSJG3m\n",
       "A6MkSZIkSZKkzXxglCRJkiRJkrSZD4ySJEmSJEmSNvOBUZIkSZIkSdJm/bqW3RojLa24tTyylDym\n",
       "Kw31NpQljTl2c95OzduhHuYxjenh71vAPE+tS2MKXC5kbiqIuba8Q7qCd1zqyF7d8T2zjz3TtKz5\n",
       "3zD2rAkdGHyp+Z7pQUzEjnMMk4DqNQjBOd9p0wwwnwTNFTF0+bjIGVJhmipaw3l/A4ihtXovuLt9\n",
       "lvBnx8++ndqiSdgrWWheaBLykHXPjUzsNS8RUcj9FLRD7kA0jvy3wOvxCfVHahC5U97PB9Tf+8tp\n",
       "l/46MC93CxvTeenTmDLk7dA5fn04pzG/Oedj+uFyg/r745uPacwKVjGZl4iIA/g2Im1dwXdKRMQI\n",
       "+iMzQ2repeXz8mNbOfL7auTfhhERN+CblcQ0OMcknzP4Jng/sXxOa54rUsvoEUrywNYUqwlkP5CW\n",
       "brspjcFzDDq8X/L1Sfcxmb8RvN/gbxlwCehBf13d735zD96CyLd2BPy+ALWz2+lOIkmSJEmSJEm/\n",
       "lw+MkiRJkiRJkjbzgVGSJEmSJEnSZj4wSpIkSZIkSdrMB0ZJkiRJkiRJm/nAKEmSJEmSJGkzHxgl\n",
       "SZIkSZIkbeYDoyRJkiRJkqTN+lJWFFjL3/BI/j/95ePqa0tjBhBDjXVOYy6tR23t9fuWxiamRR5H\n",
       "xnTo8hxERAxln7yvYNwrW8Kx7rcUWH+fec8gIFd7jruADisZVES0AgYGmiI/j6agA+u8lPzvOCtM\n",
       "OslUAW3R/kgiyBlCalkEq0GoHbim2Pzl7ZB1TtsiOe9APlFfMA5tvX2mjvvM9ZXnE9Q8kvNuvz0a\n",
       "LR8Tmr4d57iAu8v62RcVc126NObj9ZDG0LrY1iWNIbXzWCbUXwfaWsAZsqzsfxiuSx5H9sxNl+fp\n",
       "aRnIkNBSJ3kaC7sz309jGlOGPAl357ydiIjuZp+99Wo4ozhyRj6CuWk7XlDJPaiCOwL9Ph5Kvj4P\n",
       "4Dvz43xE/R1WtvYy/U7fcxFsz9AZnkB9Ibki98CIiDfDUxozr/nZQN4SKFJjry0f0/2Sn1cREbfd\n",
       "JY051Hyd0zU1g99HTrW7mf2+Z33++0bw+8i4I1hdJDV2aqy/p5bX2A/TKY0hp4f/wShJkiRJkiRp\n",
       "Mx8YJUmSJEmSJG3mA6MkSZIkSZKkzXxglCRJkiRJkrSZD4ySJEmSJEmSNvOBUZIkSZIkSdJmPjBK\n",
       "kiRJkiRJ2swHRkmSJEmSJEmb+cAoSZIkSZIkabO+1pVFriWPKXlboJWIiKikLdDYCn8eMa1dHtPy\n",
       "mIiIrrQ0ZqxL3hB8Ip5bHlhAzjsQExFRwe9byJoC9pzjXZFxfe6xg/VC9tWPgf9KI/m/zStbxEvL\n",
       "O1zBmmoghvQVEdGB7b7XmH5sCwTtNC+0vz3zWcB5RM4GagXJ6kpeh+lf6hror+xUFOqO6+CzAynY\n",
       "s3SiVMF8kvpJztoCO0R5+NznzF79wcMI5XzHs2/JrzeodlacqHxgrC32A8ndjPRH73gdqPs3/ZTG\n",
       "nME999x6NKYX/TmNOYI7OrrHR8QA4l59kS+8jx/YaXT/4pDGPB/yHNDz6tjNacxTG/KG6CcrWHsD\n",
       "GBO5Ixxr3g5F6sab4Qm1dQBr6mnJ98MT3DMD+O4j66UH7UREvL/epDF/8f5VGvP2Wb7OIyJeg7yP\n",
       "4L7YwUVM7gnk/v3t5UUa8/XxExrTFyAH5Ndd4FtJgLVHcjDCPUrXXoa+lRzAuD5MxzTmCvNJ6tlN\n",
       "d01jyLeM/8EoSZIkSZIkaTMfGCVJkiRJkiRt5gOjJEmSJEmSpM18YJQkSZIkSZK0mQ+MkiRJkiRJ\n",
       "kjbzgVGSJEmSJEnSZj4wSpIkSZIkSdrMB0ZJkiRJkiRJm/W1sMA11l06LLA/Ekeaaigq4tq6NGZu\n",
       "+XvsBGIiIi4r6G/N2xprQ/11JY+76aY05uVwRv2dQFs9GNN3l2dpTCnP0ZjWfZYwB9d6io57pz1T\n",
       "4J8dKogj+3hpLFFtzeNIDFkHpJ2IiAXsUfL7GpxjNH8lb4wuKTIu8vtWeNCQ9VLB76Nbj+QqyJoi\n",
       "7UREAZlfwejJGq6VjamCufnctZN0t1d5jYD3jR07RG3hRbxPDGnmc68DnPK9cgA7JOWMtDV07P52\n",
       "7OY0hty5yD0wgtVY4hD5uCMiXo6XNIaM/dM8pDHHmucpIuLt+JjG3IL5G+AdneT8Zy/u0pj/7d1L\n",
       "1N9Y87kh96CHZUT9PbV8bghyPkaw76cJfPeRdfewsN/2qs/X+QWMm5rB/JHfR77VItgavrQ+jVng\n",
       "HJNx/fGL+zTmtmc14WHO1/owPKUxtL6SdwmyR39+ep/G0H11AWO6nw9pzBW8gUREvO7zfHagxtI1\n",
       "xXbffhehe7CmyMgPdUH9PYJa9W66SWPIevE/GCVJkiRJkiRt5gOjJEmSJEmSpM18YJQkSZIkSZK0\n",
       "mQ+MkiRJkiRJkjbzgVGSJEmSJEnSZj4wSpIkSZIkSdrMB0ZJkiRJkiRJm/nAKEmSJEmSJGmzvsaK\n",
       "AlspeRBoqsD+SFwpIAb1FjHWZZeYQ9ej/kjeH5cxjVlZOpGHOe+P5rOCuTn2T7u0g9HBZ3Yc0q7A\n",
       "uNDQG+uugbiu5EF9ZQldSH0BY2pgHZDaEhHRQBjJ07qyxUnCyNDpvmogWQuImUnSI6Ir+d+8YKoQ\n",
       "tvbyGFqHSd4b+IFT6dIYuoYRkvM/1Lr4mZGr0p7nGukvah60gmIGtudftwWCdtzHpC2SJ5TLiOhr\n",
       "/gOP3ZzGkDsljethW3v1N7d8MRxqnoOIiKXL2yJ18YfpBMbE8kT6m8lZCwvjwzSkMc+HSxqznFl/\n",
       "55Z/q5A69TAfUH+HbkpjyLpb8AUgX1MkB+QO+6LP5yUiogdtHYd8z0xg70VEzCu4T4HiScYdETGt\n",
       "+b3kYcnXOe3v+XDO2wJr6grWQUREA7kiOejRAcmQevYA3hLo+dHA/PE9mruCfL4AZ21reTsR7BpL\n",
       "ck7/e28Ea/0CcnCFv+85qFU9+Gi9B+9F/gejJEmSJEmSpM18YJQkSZIkSZK0mQ+MkiRJkiRJkjbz\n",
       "gVGSJEmSJEnSZj4wSpIkSZIkSdrMB0ZJkiRJkiRJm/nAKEmSJEmSJGkzHxglSZIkSZIkbdZHYYFl\n",
       "XfMY0FYpeTsREV3N4/rS0pihLqg/EndtfRoD0xkV5KGteWuknYgIMH2xgP6mlb1JX5Y8V98uz9OY\n",
       "p2XIO6NrGMSQPP3Boosva2bHPzt0YH2OHdujSwPrE/zNpOy4r8Yur0FTn8eQvR4RQUa1V+2MiKio\n",
       "pucxK1ycpAaRMZF1FxFRI88D+X0VzUxEX/P+5pav4Q70t1M5+NEfYl3cc0w7rXPYVHxxOqcxb3/O\n",
       "fuC/ePcsjTnfkZbyka+NjWnPM4R1SGJAbQG1MyJiBDWdnCFD2e/sm0uXxhy7CfVH6hn5fWdwD4yI\n",
       "+Dgd05jXw1Ma87K/pDFfj/nei4i4X/J8nkGtPsGck3P7u6d8rx9fs0L1/nJKY043+dgrvEuQOw65\n",
       "f8/wG2QG/Y11TmPoXZC4NLKm8pibLh93RMQV1I0RfPsWeNg+gXJ2213TGPKtHcHueUcwx/Q+PIG5\n",
       "eVzGXcYUwe7NZGZIDM05GftNn8/xAnIZEXEB4/ow5Xl6Ds4G6v2U1070dhGsfpKKR6sUOR3IO88R\n",
       "1CD/g1GSJEmSJEnSZj4wSpIkSZIkSdrMB0ZJkiRJkiRJm/nAKEmSJEmSJGkzHxglSZIkSZIkbeYD\n",
       "oyRJkiRJkqTNfGCUJEmSJEmStJkPjJIkSZIkSZI284FRkiRJkiRJ0mY9DSy7Be2n7NhfW/PGDnXa\n",
       "rb9DnUHMksYsYNwREdfWpTHjmsfcdCwHI/h9T21IY8jvo+tgbSwu73CndiIi1h3bAvbcM6StvuRJ\n",
       "X+EaXndKPGmF9kR+X9/lk9zgOlhBXF/zIBITEVFKHkfGRNd52WlD0FbImiJz09EFs9N+J/PS7TjH\n",
       "exa9vXqjqSR1isRUmM8K9vs3p09pzL/36teov//i4c/SmMtT/rdkUMpwrd5rne86x/n1JoaeXRJu\n",
       "+vweNIL7W1/3upSwXNH5u4K7IDGv7H8Y7q/5XfDY5XfK18MljelRvYv4zeVZGvNmeEpjnhb2mXUC\n",
       "v+/uOqYx//CPvkP9/aPffpXG/OR0n8YscI4bqOoduEyQO1dExATW8AS+izqwXmgOBrLfwfK8m/N1\n",
       "EBFxAb+vggvOEXzPRUR0YG7Gmq+D+5nVn4/TMY05g/33cjij/khNJ9/2U2Prhaw99j2Tt3Ne8hoc\n",
       "wX7fpeU5P8E1NS/5L6wgT+S9IYK9BZE1Re8uZCWcQT7v5wPq7yU6s/Jckb3ufzBKkiRJkiRJ2swH\n",
       "RkmSJEmSJEmb+cAoSZIkSZIkaTMfGCVJkiRJkiRt5gOjJEmSJEmSpM18YJQkSZIkSZK0mQ+MkiRJ\n",
       "kiRJkjbzgVGSJEmSJEnSZn0tKwpc1pLGrCAmj/hRBcOaW/4+em0d6u9Y5zTmy/EhH9PK3mwXEEdm\n",
       "5nEZUX9kXGRMI8hTRMSz7prG/PBwk8aQecHA4oPbAUFNgeWCx0R+H+ivsi0THYgj66WWAfW3gmT1\n",
       "4Pe1NU9oTwpQRBy6/Peh2okrY64rLY256fP9GRFxGtncZHowpoiIDuS9Axuiq6w/Oq692iFz04H1\n",
       "OdYljXl7ekRjeg7mmOyGHcsUmmPaI7njkP5IziMi+pLHkbvEu/mA+vs7r96nMZ9u87YKyCetU6St\n",
       "ApqqcI7JvhpATbgB95aIiC/GfG9dwN2TrXO2pp6Dmn4Lfx+ZZXK3pjXh7z77XRpD9t8RzPERnu1/\n",
       "9jzfV6SlJc6ov2X9dRrzF49fpjHfHD+h/p4+vk1jHr7Mvy+GgdVF8mVE6gb9ZiWTw9rKY+gtogeR\n",
       "5I5+aXveF/PfN8D7TQOVYwU5oN/R9EzODPhsB+cMqNX0HJ3BtwMxgrq4xoTamsC7C+mPzvEJfGOR\n",
       "9wZaN+7Bmwq5l3ycj6g/sva+OdylMaebd6g/st9/e3mWxtyB+6n/wShJkiRJkiRpMx8YJUmSJEmS\n",
       "JG3mA6MkSZIkSZKkzXxglCRJkiRJkrSZD4ySJEmSJEmSNvOBUZIkSZIkSdJmPjBKkiRJkiRJ2swH\n",
       "RkmSJEmSJEmb9a8PZxS4rn/DI/l/GeuSxjzrL2lMXxrq76kNacxfPH6ZxrS1oP6Im+6axiwreyOe\n",
       "WpfGtMjHPpQe9Xc3H/O2aj43PYj5k68e0ZgC/D6yzLvCNkMH1l4FbdG9V8DS60u+r0g7ESSbEcdu\n",
       "TmPejE+oP5IrEnNe8jU8w321gv1+6vMckLUSwetZhtTXiIh/5/Vv0pgvxnz/FbSzIi6gTq1g5d3N\n",
       "B9TfqZvSmGPN5+9pyc+PiIiHZUxjvr/epjFfjXdpDKn5ESyfC1jn9OwjcQ0slxX+fZS0la+CiMvC\n",
       "8klq3j+7f5vG/LeP+TqIiHi6gj1D8oli2Bzv1x/qbjfHI6uv/9k/+EdpzN87/DTvr+b3pIiI1+PX\n",
       "eVvDF2lMqez+1pb8bv14/S6NuTZ2tv/mmp8z3815W3/3+KdpzPM+z1NERC35vjoveR3u4J35ef3z\n",
       "NOavLs/TmG8O96i/8Vm+l3/3dJPGvBrYHJP7Prl7kvMqAp4zoEPS37WxOT6D+3cFP4+cxxERB3DP\n",
       "Q98gqDd4VwK5ugH3sgh2Tx9Bzt/ANUyQuzW5k0REnMG7BLkzk29W+nLRwL1rBr+vwm+ZK/h9H9b8\n",
       "HKXfIORNhaw7+q12Bt8OD2ANT/Cbleytn4IzZAbfff4HoyRJkiRJkqTNfGCUJEmSJEmStJkPjJIk\n",
       "SZIkSZI284FRkiRJkiRJ0mY+MEqSJEmSJEnazAdGSZIkSZIkSZv5wChJkiRJkiRpMx8YJUmSJEmS\n",
       "JG3mA6MkSZIkSZKkzfr7aUSBU8vfImcQMy0F9beueVwpaxozdg3199XpMY15dzmlMS0fUkRErMHy\n",
       "kLazY3+krQbmhSItfXF6SmOO3fyvPpi/1oE1RdYdtYA9Q1Pe13ytj3XJY0oeE8Hy8Gk6pjEP84D6\n",
       "I2MnOXic85r3NPdoTAuYnBp5ntpO9SAiooJ5eTZcUVt9yfP59599n8acwLxERJzBfnhYujRmbnlM\n",
       "RMSL7pLGkPpyAGszIuJuOeQxUx7zm3iZxvziUx4TEXG+5Lmi5wxRwFL/3P2RWlbhn2O7CuriB1D3\n",
       "2ZZhcTvmE9mvnO3WH1kH9G/uH+d8v3/oP6UxNyurwzfLszSmq3nd6Nb8DhsRMS8Pacz98iGNuba8\n",
       "vkZEDCU/bxtYxE8tvy+eVjamuuZrgfy+65qvg4iIIygwPz3mbQ3gzI6I+Ombcxrz4Sm/K80rO2uf\n",
       "lXytH+uUxkzwbB/AmUzu+6S/AgtsX/K7bgfmj943BniXz9D76QTXQobMXUTEqyHf72R9kveNCJaH\n",
       "2y5f51OwPJH7NyhT0UfeDvluiGD7YSYfrXAfk5l5WPLzg+7R65q3Rb77DpW9S5DvwyNo69zYNyuZ\n",
       "vzuwFsja9D8YJUmSJEmSJG3mA6MkSZIkSZKkzXxglCRJkiRJkrSZD4ySJEmSJEmSNvOBUZIkSZIk\n",
       "SdJmPjBKkiRJkiRJ2swHRkmSJEmSJEmb+cAoSZIkSZIkabP+aepR4HXJ3yKnueQxUx4TEbE2FJbq\n",
       "hw7F3QxjGnN3yXO1LOz3FRa2m3XdK2a/31dr3uH1kM/fqWOLZV7zNbyAHFC15I1dlvz3kXaoY51B\n",
       "fzttvoggI58a26PEAuZ4bvniLGjkER2Ymwr2Ap3iBuLI2Mm4IyKmNZ+bR7CGHxd2ztwteR2+n0HM\n",
       "ckD9/er8Mo35+nCXxlwa+33fXZ6lMQ/zkMZcwZ5pYJ1H7Hc2UHv1R89Q0lYlmxTWBILcb9aFtrXT\n",
       "uHa8k5S9GoPNoLAdf98F3INqyc+im3pC/Y0gbuhfpDFd/xz117e8Th3n92nMtV1Rfx3I1fOa1/RD\n",
       "yWNqsFq9Rr4Br+sFtMP251jAXRfc3z5M7Oz7+nSfxvzq2y/TmMeX+XkVEXHqpjSmL3nOG/y/mAry\n",
       "Tu6ef4j34Q6OqQeHZAO1rMD74rXt8z9LA1gHERGXRvZ7PvaxY/09gXvsAvJJ71Nk7D1YCweQzwsc\n",
       "0xT5+iTfYRO8M5PvmQYOd7LOI9jYyX64n1kdJnXxAXwX0Vvg2/ExjXlc8pr+bsrvJP4HoyRJkiRJ\n",
       "kqTNfGCUJEmSJEmStJkPjJIkSZIkSZI284FRkiRJkiRJ0mY+MEqSJEmSJEnazAdGSZIkSZIkSZv5\n",
       "wChJkiRJkiRpMx8YJUmSJEmSJG3WXxf2xjjNJY2ZScyEuotYQUzeXXQD7A9YW97hSsYN4wr4fbg/\n",
       "kizYFuqP/L6d+jovPYqbWpfGdKXlMRUnfRdk3BERbc0zuqz5fj90M+rvWXdJYwpIQl/znEdEdCVv\n",
       "C5UNsPD6jo2JdEj6I3NH4wrIUw/WeUTED5dTGvOr88s0hqy7iIgvx4c05i2IGecF9feyf0pjXvT5\n",
       "On835XmKiPjJ4S6NOdX8kPz2/CyNoXWqgKkBS+qzn30U+n2gPzokdG6D7bfyw30fO925fmwqb6zs\n",
       "OcnAnr2dwN563b1IY172b1B/Q/c8jSmF3INYHa7dTRpz6l+lMZ/mD6i/c7umMZc1v5f0Nb/w34xf\n",
       "oDE9XH+XxpAt8z3MwXXNz6xpPaQx6K4fEacuP2fm+/wXvjuzs+/N+JjGkJEPhZ3tU+T35rnl+6GA\n",
       "O9cA71N3cz5/9PftpQeHewcPmQHc5SeQc3o/fQ6+QaY1XwdX+I1F9tb319s05gbsvR/7y5Gx1y5v\n",
       "qeI5ztdnBRecBr8J2LWE3DdQd/G45GcI2Q/0G3IGefjumt/3f356j/q7gv1H3kFe9uc0xv9glCRJ\n",
       "kiRJkrSZD4ySJEmSJEmSNvOBUZIkSZIkSdJmPjBKkiRJkiRJ2swHRkmSJEmSJEmb+cAoSZIkSZIk\n",
       "aTMfGCVJkiRJkiRt5gOjJEmSJEmSpM18YJQkSZIkSZK0WV8+c4dlzw5BW7S7tuaRbSUt0R7zxlbQ\n",
       "30r7I22h38fUz/h0XQsbeFcaiMnbGkA7EREVxC1rnqi10TVF1nAeQ8YUEXE/H9KYSxvSmKe5R/31\n",
       "Nc8nydQCcjAvLAcFrBdS83idymMq6JBudbIWCmjteX9B/R3rnMacuiWNubQJ9VdB4k9dPqZxycf0\n",
       "o2sa8biMaQzZx9hedR8Oac/9sFt/5AzZc1Ak5zuexwjp7zNfGPF9kcShdcC6e1jywHPLa9798hH1\n",
       "d+xfpTG1O+Uxw0vUX3T52d5f/iqNeT28Zf2BxXdZ85reVnJHYGd7X/K7y029TWPedOy++KvrXRrz\n",
       "AM4Gch5HRDwu+e8r4GpWK+vv2vLGHsDYD+COQPXgjj7tdAf6vyIz6Jsg2H1jal0aM3T5vqJl+Lzk\n",
       "c0zW3RHcuSLYN8Gp5G09gXFHRFzXPJ9kJZB2Iti6aqCezWBNkb1AHWq+Ps/wu3YFd13SH92hL3ry\n",
       "3Z6Pib4TnEFdJPP37nqD+juB/U6+L8hdyf9glCRJkiRJkrSZD4ySJEmSJEmSNvOBUZIkSZIkSdJm\n",
       "PjBKkiRJkiRJ2swHRkmSJEmSJEmb+cAoSZIkSZIkaTMfGCVJkiRJkiRt5gOjJEmSJEmSpM36y1RQ\n",
       "4Lrmceuat1M71B1S2NARMHTYH2lpv7G3xvpbY58O6bjJWiAjryCqrw20FHFZ+jRmJf0F66+RPQPm\n",
       "hc7cAvpb1v02YC353ycKyOd5YmMqJY+rJe+PbJnWWNb7Lm+MjIlC+2rHPxs9Tvme+ccfv0ljXgwX\n",
       "1N+fvfrLNOYUSxozw3VeQEInsu5g3e9LXjvIWdvVvL89z0diz+4+91lLYug+JnNT820VbYEZBQWN\n",
       "1A3y52Y8xyjpeQgaN+xuTwey/8AP7AIshIhYWl4/2/KUj6k7of4KSOgwvk1jbuCKmcDvq6AOn7pn\n",
       "eTt1QGMii2qoYxqzLuy+eKj7HNzXxs6+hzkfe3/Mc7Dn/Ya0Rc7QiIgFFDRyPyX3fVp/yN2T3F36\n",
       "leWgA/kcK7lPsbVJVgJp61hn1N8FrPUCckC/jz9OxzTmtr+mMZfG6n4DuZpbHnMB58yL8QGNaY18\n",
       "bj7NhzSG7L2IiAqmhqypA1xTpK0ejKnBNXUA+28A+32Ce5SMiuR8pyulJEmSJEmSJP1+PjBKkiRJ\n",
       "kiRJ2swHRkmSJEmSJEmb+cAoSZIkSZIkaTMfGCVJkiRJkiRt5gOjJEmSJEmSpM18YJQkSZIkSZK0\n",
       "mQ+MkiRJkiRJkjbrS2GB65rHVPBc2RrrjyBtjSMYeESMNW+M5IDE7InOXwQZWN4Y/X0FrIVa8sbG\n",
       "bklj+sIW1dzA7wNv7m1lSe/QuPK2FthfAXO8rPnvo3N86uc0huRqXvAiTnWf+U8mjawp8PP4Piby\n",
       "CWxg3UVEXOc8oZf5kMY8zT3q758OX6Yxf+f2+3xMrUP9HWpeX8i+omV/BP397PQ+jSG15X+/vEVj\n",
       "Qsgapk2Bus/a2aUZ3hbsj6wX8qddeKzFigb/mS8mO8FzTNYnyTnsrwNxYx3SmGN3g/o7DK/TmG7M\n",
       "Y6Kwuri2axqzzB/zdtb8jhARMdT8DBnXfExzu6Qx03yHxlTIJgXbqoM5X8DFi9SWx2VE/X24HNOY\n",
       "A1ie333QGN6ZAAAgAElEQVTM24mI+PLwmMbcgFQN4AyNiCggn+RuPYBCXGGxJnXj05zXjWFlOSD3\n",
       "oHPL72ZzYxdrUj+PNa8Jn2a2hk9d3hb55qH3xZtuSmMm0BZZUxER1zVvqwdvFxXUjQtYBxHs7knm\n",
       "eAbzEsFuLmSO6VWCrCnyjfzU8n0cwb/vMw3mk+z3oeT1ZQZr0/9glCRJkiRJkrSZD4ySJEmSJEmS\n",
       "NvOBUZIkSZIkSdJmPjBKkiRJkiRJ2swHRkmSJEmSJEmb+cAoSZIkSZIkaTMfGCVJkiRJkiRt5gOj\n",
       "JEmSJEmSpM18YJQkSZIkSZK0Wb8sBQVOlzxmXUFDJCYiar9Pf2hMEVHowLJ2WDpRHGlqn1Hztir8\n",
       "fV2Xt9aDGDIvfV3QmM5zl8YsS/7m3mDS6drL22FJrxXkEzRVCxv4U59v0hfjNY2h+SRrj+QKlSk6\n",
       "x2Qf7xSD29pr4UXEacz31pvDUxozwj36drxPY173+WF0bflej4h4XIY05tRNacyysr/VXds+f9N7\n",
       "PeQ5p/sYrT3QFlzCyF7nIw0s4PfRs6+CKUZnO/2BO+73tCsYx+5T+00yWsI71uEBBF5afvadl0fU\n",
       "37OV1M98TKWAi3VERMkXMWlraeDDISLG7lkaM4N8Xlqez4ZyGdGV/GzowIdKv7CcP7aWxjQwx7Tu\n",
       "d+C++OImP/v+6rd5niIi2tt87OSecOpm1N/9PKYxB9AfuZ9O8L5B5ybzCH5bRMRNn++ZJ7A+6VFE\n",
       "8lDB2YC/QcD9jbQ1wPtpybdo9CQIJpTcF0fQH6kbe5rhfZhAZztYU4+N1alT5DWP1KkFXuDINyuZ\n",
       "P/oOMoM1NUe+j8ea12H/g1GSJEmSJEnSZj4wSpIkSZIkSdrMB0ZJkiRJkiRJm/nAKEmSJEmSJGkz\n",
       "HxglSZIkSZIkbeYDoyRJkiRJkqTNfGCUJEmSJEmStJkPjJIkSZIkSZI267tuZZHHksfApogKxtVa\n",
       "Pqae/r6drCvIU0SsKxgXaWrHn1dK3lhlPy8qaKurIAa088P5Bo1pmvP3dDItZN3tqcE5JmsP7Xf4\n",
       "89ASBvOH9wxY7AsYExs3GFBEFLCGaVuoP7KvQExfGurvq9NDGvOnNz+kMaduQv3dgDhSW2jK91qf\n",
       "K+xxWrs0ZihLGkNyQGJ+tE8+8Z5hYZ+xIdYUzSfZf3uOfTfk59Fx79kWgRYoCIFzTKKG0qcxLVgd\n",
       "npa8Dg/zfRrTDQPqL0pep7r+Rd7O9XvU3bqSmpfnc6zHNKbAhbdGPqYGxn1d2dl3AJfrBs6ic8vz\n",
       "FBHxNOVxt2M+9lLYmrqAcU0tv6PPK/u/GJKroYI5Bv+HcwHjpgq558I1vIBckXk5gDxFsLGPdU5j\n",
       "HpYR9UfGdW15LavwPtxA3ifQH9XXfFwDGPvjku9Rsg4iIm67SxpDvi8muI/3un9X+FhC7uhPM8jn\n",
       "wvJ5Bf3NaA2z3/e8P6cxI9hX6M4MYiRJkiRJkiTp9/KBUZIkSZIkSdJmPjBKkiRJkiRJ2swHRkmS\n",
       "JEmSJEmb+cAoSZIkSZIkaTMfGCVJkiRJkiRt5gOjJEmSJEmSpM18YJQkSZIkSZK0Wf/sOKPAtpY0\n",
       "Jo/4/MZ+QXGlrLv0t8JmCkhWBTEFPhGXIAMjM8h+IBn7s3EC7eT9fTiPZEjx9AgGtc8y+BGZvx03\n",
       "TQNtzXMeVMnkRUQb8rj1mMd0lSW97/I4so9XUMsWkkzY1gqKAl0HHfh9Y9dAO3lMRMSr4ZzG/OTw\n",
       "kMacKjtnDjUf10JyjnqLWNa8gJJM0f5m0B9payz5uUbXVN3pz4y4lJG6iBpiWUdnLahBtE51ZA1f\n",
       "83bWGa6qvY72HYEtGgXURVJfI9jPI+uA9vc/fHydxnx7/W0a87ePqLv49/tXacx0/T6Nacsj6q/W\n",
       "fGCl9GnMYXyL+mstP2fG4WUac3f+Td7Xys4isqquYNwflk+ot09Lvh/IfZhudVI2yFn77DWrU7/8\n",
       "8CyNOT/P19S3F1A8I+Lrw10aM9T8HD12+XfKAd5v7pb8W+VxGdKYh/mA+nvWX/KgvDu8psi9kn37\n",
       "sjVFokhbZ5DzCJaHBqLY93hEA/fFAeS8BzH0Dntd8z06N3Kv3u9sJ0gOKHL/jo61dQDn0bXmjU2N\n",
       "dUjWC3rvI/uYDEiSJEmSJEmSfh8fGCVJkiRJkiRt5gOjJEmSJEmSpM18YJQkSZIkSZK0mQ+MkiRJ\n",
       "kiRJkjbzgVGSJEmSJEnSZj4wSpIkSZIkSdrMB0ZJkiRJkiRJm/nAKEmSJEmSJGmzvpYVBdaSxyxr\n",
       "HrQ00BB07Jc05s3hCbW1tPyttYLn2LJjPklbrLeIAHPD2mLzV0pLY16P+dx8uJ7yzsBvi4hYyQ8E\n",
       "MYUuYdAWnr8/QLXmoyepovkk80f21Z45Jzkg494zB+T30SXcwN76YTqmMS/7C+rvqeV149q6NOZx\n",
       "GVB/56XP26p5W9eWtxMR8QTGRXI+1vzsO3R5TETENOzzd0Z8ssMzcq/+SE3oar7uBhBD48CSihUf\n",
       "NAAqxDt2t1N/5M4VEVHzkhAd2KJdx9bm/TymMf/k/os05tvrI+pvLH+exhxLnoSusIQOoK3bmt/N\n",
       "Ovg/DOc1Px/IzNwt+Z1yLLBWr1Ma836+pjGfFram/vKSn6MP8wHE5GszIuL1Mc/5sctz8JPjA+rv\n",
       "f/2rN2nMy+GcxtyAMUVE/Pr8Mo35N27epTEvwN3l3QS+UyLiAu8JGfKtHRFxBveN1wP7RiY6cLbP\n",
       "4Fub3qfO5M0BxMwrq1OvwPoku53cAyMiCmiNjL0D3+P0FnioM4jK5+8C7t4REeTWRXKw42d7rKA1\n",
       "co+PiJjW/KwlOX8G9zFp68Oc17MVTIz/wShJkiRJkiRpMx8YJUmSJEmSJG3mA6MkSZIkSZKkzXxg\n",
       "lCRJkiRJkrSZD4ySJEmSJEmSNvOBUZIkSZIkSdJmPjBKkiRJkiRJ2swHRkmSJEmSJEmb9dPSocC2\n",
       "kpiSxzTUXayRt9XVfFB/fPyA+vs4n9KYHw55zAryFBFR8p8XJfLGSJ4iIlYwN0vLY2phP/Dl4ZLG\n",
       "HOqcxvzJ7fs0ZlnfoDGVMqYxjeQArLsIth/Q7MGck7GTdUfneOzzzdyVPOZnL+5Qf8ua/z2E7JkZ\n",
       "tEP2SwTLVQOzXMG4IyIK6G+sSxpz6ibU3/1ySGP+4uHLfEwlH1NERF/z9ULWAZnjiIgu8v4+THnd\n",
       "X+Df6khNIHvm3Po05sVwRmN6MeS1muwrUlsi4J4B24Gs8wi2XogB9kfS0L7JY+jZTpD6QuoUWb8R\n",
       "7B5Efh9ZdxFs7R26fP6e9fleiIj4/nqbxkwtv1v/80d2d/lfPuY14f9k1156LVmuA7+vyNfe+7yq\n",
       "btV93yZFUaJoPbrdlmFBQMNGtyce9Bcw4K/hD+DP4alnntgDGx5YDXtgoIF+GOxmsyVKfJikeHnf\n",
       "devUeey9MzPSg2oNGiC8/k4lyjTw/40XImKviFgRGeeQTF3D3/fOcJ/G7NtzGkPqa8R2Z+T9fJXG\n",
       "/NMvvonGdJzy+TuP+binie2ZAsrUKZ+WWFiZQv21+ZU5/sG3foX6O36dz1//QT54erbvwffFecnn\n",
       "+GHu05gjiKF6cP7Ts2EEuTqBOrWH90WC3JXgZzS6K7UgVYcC78NTviE6cn+D64Xk/RLUYXJfpPuK\n",
       "nGs9uO+Phb09zeg7eru3EnI/3Tf5vJC9FxHR1TxX+zavZTfwbCd3uAuwpkid8j8YJUmSJEmSJK3m\n",
       "A6MkSZIkSZKk1XxglCRJkiRJkrSaD4ySJEmSJEmSVvOBUZIkSZIkSdJqPjBKkiRJkiRJWs0HRkmS\n",
       "JEmSJEmr+cAoSZIkSZIkabWuLiyQhDUljyot66+Atqa5pDE/uH0f9fd0eExj3j/cpTH7dkL91SUf\n",
       "O8knaSciYlryt2TSVg3W31DmNOZc88UwLnnMMzB3EREFrOLb05DGLDDnZNeQtmql/eUWsJHpmjqN\n",
       "+Zq6a/N83p061B9BagL6fbAuNg2Z47ydAqeYxDUg5mLH6tShy+MakKzr/oT6KyXvj0wN2esRETOo\n",
       "i6TkzXDPkP5IrX7a5zXvo/1LNKZTzfdfC86iHtT8123VNIacfTcdW1PPwdrryVmLeov46eNNHvPq\n",
       "aRpDa8KuBXkHbZ2m/KydKvubNMoV2DOwDCP30acxzYHN8t0I7gkg6X0D9ww4Z8i5Ru8uf3j1WRpz\n",
       "041pzAj7I2PfNfnc/AqUhC9f5usgIuL8kMcsE1mhbBWXLs/BdJfnYBlhf+CiUC/zmLtph/rrQFsf\n",
       "P1ynMU8HVvef9Mc0ZtzoG4ScVxHsm+cIzmN6vyH76qvzZRpzaPO9HsHqFNGBO0JExK7J74uPc77f\n",
       "yf0mgtV00tbvXH6J+iN3a3J/C5Cnr8YLMqRowZjmJc85eeOJYGt9AGfDmeQp+PdvhryBREQ04EpF\n",
       "auxxZr/vAN6oSK5aUBP8D0ZJkiRJkiRJq/nAKEmSJEmSJGk1HxglSZIkSZIkreYDoyRJkiRJkqTV\n",
       "fGCUJEmSJEmStJoPjJIkSZIkSZJW84FRkiRJkiRJ0mo+MEqSJEmSJElarfvsp2W71pbtmgoyLPA8\n",
       "+sWwQ9394e+Oacz7+9s0Zigz6u+8tGkMScGysPl7mPs05rjkMftmQv1dtOc05lzzHDzMQxrz6eMl\n",
       "GtPj2KUx9w/5olroOt9yP7xBBZaEps0D932ez8cj+zsHGdeULzvWF/7TSz6oWkEzcK2QcZGYueZ7\n",
       "ISKiHPKB9W3+A0dQ7yIimpr3R2oeSXkEq7F9yVujdbiCONJSXfJJ/s7F16CliLbkOZ/BuCeYg1fg\n",
       "LCLIvLyOy3/frslj6E2pBatvqtv9bbcBxQPVTjAmsD3/XRzYo3C9EAXMMdmj5E4SETGCXJF8Tg3L\n",
       "Qd/ka6oFa3iBq5jcT2/BVZeszQg2rmnO83kC51plV/RYZrKmSEOsP7S5NrxLkKWwgFwdZ3aXePok\n",
       "b+zTr/LvtSfvn1B/z4b7NGYG5+jQ5OMm645i5z+tG/nYj2DsR3hmk1OtA2Oi31gjqNcTmeNgReES\n",
       "fNeS/si6i4ggX9szWDEduCvddEfQG2uLzMtjZWuKnMlkTFt+jpOaV+FZS9YC+X1HmM/nw2Mac2jy\n",
       "9zByp/Q/GCVJkiRJkiSt5gOjJEmSJEmSpNV8YJQkSZIkSZK0mg+MkiRJkiRJklbzgVGSJEmSJEnS\n",
       "aj4wSpIkSZIkSVrNB0ZJkiRJkiRJq/nAKEmSJEmSJGk1HxglSZIkSZIkrdYtFUaWbTrcqJnXFhAC\n",
       "f19b8kAy9nlhb7bn2qUxdcl7rDCj9/OQxiygrfO0Q/0d5/z3HUEOyK97dexBVMT5vM3qo62A6UNr\n",
       "eFNkTPAHFhBXyhv+gRvlfPlNnJcItl42/X35wBZSp9BmYD+vAbW6gQkldb8Ba7jC+ZvA+UBq+gzy\n",
       "+VhbNKZ9M28yplczq8MEOUXf6s+orbs5z0ONPAd7WMvOS97fNG93E1pAfw3oroKfR2p+BLtLkP4o\n",
       "st9JzSPjjmD1bMuzj9QNctmlIyogskd35u32zEzmGPUGbXTWbjqoLT+gNronPEys7r978ZDGfPGr\n",
       "qzSGfDtFRHw9HtKYZ/1jGvOkO6YxJ3jWnsB30dBMacy+Zf2Rc3soeX/kWy0i4qLLz2RyX6QLfQbr\n",
       "8xX4ZiXfxxERN90pjSFr4eXIvqMv2jGNIXNMzqKh5Hcg2h9Zw+hMi4hDl+eAtkWQ+z65f9NvHtIf\n",
       "mZsvzxeov09PeY3dN3nO+4Z8h0mSJEmSJEnSSj4wSpIkSZIkSVrNB0ZJkiRJkiRJq/nAKEmSJEmS\n",
       "JGk1HxglSZIkSZIkreYDoyRJkiRJkqTVfGCUJEmSJEmStJoPjJIkSZIkSZJW65q+sEgStvytxvLv\n",
       "I0+fYEylpd3lg+9KTWNoCh7nPo2ZKkgCnL5zzRNxmrs0Zl5ghwBpaWjmzfrbDN0yYDGgdG65r0hb\n",
       "201x1A3XC9GA/V6nPKbAYS8gn7QtArW16fyRmLxDug5GUKdITSD1fEsN2ezBzpBpyet+3XCSz+Cc\n",
       "2TX5uIfCavW7wzmNuZvzddDBnJO1R7KZZ+C1y3bM+wMd0hVM2moachjlIS3MOTGCSx6tG1sdo7Q/\n",
       "UvdJWw3+E3/eIbkv0qpB7otkLewbcNgGy+e45GMidZH0FRGxgA2/zNvth1JBnSJ1g07yRkfIEXw3\n",
       "RES8s79PY0p7ncbQb5AenFkPNf8OO9X89123+ZkWEXEGbVXwbUjvG6QmDCBPJAcR7Pf18J5AkJVA\n",
       "1sFQYJ0CMRXc344wn7s2zxUZ+3nZ7tv+AGr6CZwf9A47gnyS/UDu3hERC8hDB9YUucdHRFw2ee0g\n",
       "++/tXV5fIyLe6h/zILDQX077NMb/YJQkSZIkSZK0mg+MkiRJkiRJklbzgVGSJEmSJEnSaj4wSpIk\n",
       "SZIkSVrNB0ZJkiRJkiRJq/nAKEmSJEmSJGk1HxglSZIkSZIkreYDoyRJkiRJkqTVutKxwGUhQX+r\n",
       "sfx7Cnn6LCCkgCDY1uPcs7aAeck7nJc8CWheIqKC/gqYwEISFdsthb6Z8742XHfIlv296bHD7fAm\n",
       "NfDPHGSe2xa0U1l/BCkvW9ZOEkammNSDCPb7SC17mFjt7MFiaHswgXCdNyCjJIb2V0ve1gS6I/PX\n",
       "F7bQGzCmx5pvrKtuQv215NwG7YyVFY4W/L4TaKtv87MoguVzyzJM+kOFg9QE0hdEagu5k/xN5N8+\n",
       "AuYSWkCPlf4+sD7bJt/vI7hTRkR8MV6mMRf1nMbgGgTyQH4fuTPjJbXVub3lZkffPLAt9PvyoHFm\n",
       "a2rX5OfD/jpv5/Y0oP7qBdrxacSLcZ/GoHUXEfcTG3vmos33XkTEZ8e30pi3hmMa07ZsHz+Ab+QD\n",
       "SFUH6wZZ62TddYWd7WRFDaA/cjZERHwN1t67w30as9V7Q0TEPZjji3ZMYwo8a+/nfM98db5IYxb4\n",
       "zXPdndIYsl7GBXyMRsQZ3K1Jpm66fB9HsLVAVsLz4WGTdiRJkiRJkiTp1/KBUZIkSZIkSdJqPjBK\n",
       "kiRJkiRJWs0HRkmSJEmSJEmr+cAoSZIkSZIkaTUfGCVJkiRJkiSt5gOjJEmSJEmSpNV8YJQkSZIk\n",
       "SZK0mg+MkiRJkiRJklbr2kNhkRXEwKaI0uYxDXgebTvW376Z0phxyQe1A+1ERPRNnlCSzgUmvYAw\n",
       "0lKHFkLEVPPJ6UAO2mZB/RELaGoBP4+08zpww7beJLiPSa7mul1RqKA/ss5RO3kIhuYYdljImiIN\n",
       "wXVHxn4c87p4JAU9Iq6GPGbp82QVWKcakNACYhq8kfM8zEteO0nMVTujEV22ea5eTPnv+2hgOSdL\n",
       "/QKdx6i7eBJ5Hh5BnbqAZxE5+0gSCt2kBKovb/YwYluGFUayj0lTLWknIlowxXXeLp+oBm12OEQM\n",
       "Jd9/dckTegJ35oiIvuS1Y5rzpDfgB1ZWFmMBNQ/ls9vyw2i7prZq6zyx/1Mh3yrPrsc05rOvetTf\n",
       "8DxfwyQFX5yv0pj7CVxcIuJp/5jGkCVF69RNf0pjJnCXWMBej4g4zfkH91DyDdiCehAR0aE85P3d\n",
       "TnvU35PuiOIy58oeJi7bbeaP1Ff6lkDO7cc536PkDvu6P3A3a89pDC13JJ8NyCe+S4C2TmC9VJjP\n",
       "izavseQuMYN58T8YJUmSJEmSJK3mA6MkSZIkSZKk1XxglCRJkiRJkrSaD4ySJEmSJEmSVvOBUZIk\n",
       "SZIkSdJqPjBKkiRJkiRJWs0HRkmSJEmSJEmr+cAoSZIkSZIkabXuv/tPv4cC+9KmMUPp0piCeoso\n",
       "IJKMqQNjioj4s9sv85gvvg1aWlB/JOxU87HPC8voVPO35LHm+Vzgz6tg/ioce+buK5iD+5oHgRA6\n",
       "xSRZNJ+/iQr480S/y9dUA//MUWcWlwI5p9NCcoAaI+suIsiWIbuBrrsFtFbImArrkPSH6hQZVESM\n",
       "IBENXg2kv3zs5xmctc2UxjQw5z1I1QQWXg9zPoGcd6Ctm5YVDtLfocljjnCPXnfnNIbsvwWejxXV\n",
       "hLxD1hs9s0F/oKkKc07CyMgr3Optk/c4gzsXKugREWAvk9o5L2zPkPtbX/Ic0NpJzgf2+/KYhZ61\n",
       "IA6dfaw7diaTxvhH1ibOZ9bQi/MhjSHr4PySranHuU9jrrtTGvNq2qUxXx7z3/a6v2Mas2/zs518\n",
       "G0ZEtCCfJ1Cn7ucB9UfyOYOFR/Z6BPuG7ECdovn84nyZxlyBHLRgTBERFfwP2ANY5x04r+g3AZkZ\n",
       "kk9yxkSwOSZnEV1TBdwmSEu7ZkT9kW8CMjVfjawGkbV30eZjJ290/gejJEmSJEmSpNV8YJQkSZIk\n",
       "SZK0mg+MkiRJkiRJklbzgVGSJEmSJEnSaj4wSpIkSZIkSVrNB0ZJkiRJkiRJq/nAKEmSJEmSJGk1\n",
       "HxglSZIkSZIkrdZ18I2xjZLGLLGkMQ3sj7R1XMY0ZqxH1F/+6yIu2zNqixijTWMKyEFX8piIiKbJ\n",
       "41rQ1rSw+atLntGuqWlMD2Iw0lRl+SQW0tR23TGkP7IZImIB+awgptD+QExD2iIxcF7QHBPwTz0o\n",
       "VSCI5pwgOUDzEmz7nea8ds6wQ1LzGrAYCqzDJFcVTGAFdZj+9fCdbkhj7ub8rCXjjog4NPn89QX8\n",
       "PriIKyhUDYhpCzuL9s2c9wfWywzzyWpQ3hZZw7TcLeD8J3AroD92/LMeyb2E1CB63SDrhdQyukc7\n",
       "sNYvwH34XPO9HrFdHZ5BTQCl5XVcB2LAHJN2MPD76NYj5ZP8vik/GiJiu7t8d8F+4GenqzTm0OaD\n",
       "v+nyb8hfTZdoTB8/3qQxH13cpjHk2zCC1Q12ZWb9zWDxTaAmLOAMjWD1jFSgp90j6u9u3qUx5Bv5\n",
       "Wc/6O9Ztisdc8zyRtRLBfh+5u5B6HgHPNXT+w/sUiCmgrYc5v1dHRPz88Wka8xSsl7eHe9TfAsZO\n",
       "zu0dueeiEUmSJEmSJEnSr+EDoyRJkiRJkqTVfGCUJEmSJEmStJoPjJIkSZIkSZJW84FRkiRJkiRJ\n",
       "0mo+MEqSJEmSJElazQdGSZIkSZIkSav5wChJkiRJkiRpNR8YJUmSJEmSJK3WdYW9MZYoaUyzUczf\n",
       "9JhHLGnMGBPsbxul5GOKiNg1cxrzOPdpzLyw+atLnk8SQ3IeEdGAaSZttaWShpgl7w+EBEwBi9uw\n",
       "vwUPbBulgMRvOCQyzWT+GrBlKlh2EXDpkSC4hkm5JtNCNaCekZwvoLZERCwgEWNtN2knImIh9QWg\n",
       "OSe5mmve2Azy+WrO8xQRcVzys+gIxvTJGXUX39jlSXio+blNc96CtTCDiSHtRESQFYXGDpcmW+v5\n",
       "76vkzgXreQVx5L6BzmOIHbXbFU9SO0nM67iN+oMH8gDup6Smk3FHsLznI2Jjgp88UVrQFiixpJ2I\n",
       "YPdTcv53rLvCLumpOrL+zuDc7pu86H34/gn196OPr9KYb/3uizTmusv7e7Jnh9+uzc+1bqM7SQT7\n",
       "fiJ7faxs0xzBN2sL6tQ0sv7e6h/SmDHIuiPVJeJp85jGPExDGjPB7/YezB9pi5wNEzxryRlC1vCu\n",
       "YW8z5B2E3F3wNwHIwwhyjt4uIuKD/W0aQ96LKFKHZ3BBResOjUiSJEmSJEmSfg0fGCVJkiRJkiSt\n",
       "5gOjJEmSJEmSpNV8YJQkSZIkSZK0mg+MkiRJkiRJklbzgVGSJEmSJEnSaj4wSpIkSZIkSVrNB0ZJ\n",
       "kiRJkiRJq3XnZWaBJX+LXJYljZmjov6IGnl/93VkbS0ljZlBTIt6i5hIWyX/fQvIAdWWfG5q5OOO\n",
       "iNi3UxpzaPK5KSAHhQ3pzSPjAtNH9hW2YVPkzxML2O5NB7sDm6uC/kApC7AVNrXpGkZrasP+wNhp\n",
       "d3MliQBnEexvsz+xwQ7ZObPNoL4Y9yjug+EujXmsfRozwnFftKc0Zgb57OCe6UFcAzbgDm7SPSge\n",
       "DTjX2AHClh46ikBDZP1GsDGRWg1TQMM2Q+5K+w7c32DdWDb6hUPD7vvX7TmN2YG2yD03gt51cz3Z\n",
       "e/CSXkBcA4pQgfebILkidy76+5pt+iN5ioi47vK6f9Md85g+j4mI+NmPPkpjPj7epDF/eP1JGvOf\n",
       "Pf8pGtOPH56nMZ+fLtOYZ8MD6u8K5Px+GtKYJdgiRrc3sNfHyhbVEdxLrkAtI/WcegS/j97xdk3+\n",
       "HT2DDV9A9dzyv83GmrdG3pQi2NlH8kTWSkTE7ZTfm8m7xB6MKSKiI+8u4PC76fO9HsHySc7aFrzl\n",
       "+R+MkiRJkiRJklbzgVGSJEmSJEnSaj4wSpIkSZIkSVrNB0ZJkiRJkiRJq/nAKEmSJEmSJGk1Hxgl\n",
       "SZIkSZIkreYDoyRJkiRJkqTVfGCUJEmSJEmStFq3wMBpqWlMW/L3SvqiWUDMHPmYFvgDhyZvqyk0\n",
       "W7kCfuC+HdOYc21ZfyBmAVFdmVF/N/0pjdk3+e871j6NKSwFUVqQBbJAK1sHYMug/gqavf8PkFyB\n",
       "obftdvuqkpyTdshaCbaPt2yngBpE8tk1LOeXfb5HWzAmOsOkrY7UatjjVvMHSwKrseD3XYCz4fPz\n",
       "JRrT95Z8Iz/OXRozg3YiIr4aD2nMVPO2KqyLBawFtO4KKy5nkId3Dg9pDFkrEexe0oK7EuluhPeN\n",
       "uuSNkRhS7yLY/LVg/g5gX0VEXLbnNIasFz7HeVukP5LziIgfPzzL+wN1qof3RYKshHPN69R7z/O5\n",
       "i4h4fJKvdbLu+pbVDVI/992Uxry7v0f9kf1A5o9+F12APTM0eX9XoJ2IiOFJns+fv7xOY37r8CKN\n",
       "+b2bz9CYzku+ph7m/JuH1g3yvUbuErS/E7gnHEHMTX9E/U3k7gK+Icm3aASrQeRsoMgevQD1hYz7\n",
       "BGpnRMQCzhCyXmZ4FpE13IO68Wrao/52TV5jH+YhjVlAO9QJrOFHUDci2H4nMWT2/A9GSZIkSZIk\n",
       "Sav5wChJkiRJkiRpNR8YJUmSJEmSJK3mA6MkSZIkSZKk1XxglCRJkiRJkrSaD4ySJEmSJEmSVvOB\n",
       "UQOr4AoAACAASURBVJIkSZIkSdJqPjBKkiRJkiRJWs0HRkmSJEmSJEmrdR+PRxR4rCWNaWJJY/KI\n",
       "v5H3R9q6m9kb6qfnizSmLTWNGWuH+iNt9XkKoi8z6m8B+eybvC0yxxERh2bcpD+Sp9//xi0a0/0H\n",
       "QxpTlzxPBeaA5Lxr8t9H+yNjJ2OimpKPa99Om7QTEXGa2zRmqnkMqRwFponOTYbOy0D2KMgn2VcR\n",
       "Ecc5r2cTOBsosIRjXvI5XkhDwdfeVsh62WpEtFafwZ4htXpf8r0eEdGCcf3w4Z005uW4R/2RlbDV\n",
       "Po6IeDo8pjHfvfo8jXl7eED9dWAvk983Lfldie70CfzteibnFdzHBJlhkoOIiOv2nMY87fOYidYp\n",
       "EEN+318fr1B//9tn305jRnC3pucoQZoi96lPv+hRf9M9uCeg5ULuJBELuMo//TBv60/e+gXqbwdq\n",
       "OlFhVSDnEbmXkDtQRMTvffgqjfm3P873w4+v305jfufyBRoTqRtX3SmN+eR4jfr7cJ9/G5Hz4xKM\n",
       "O4LNcQF3rhHd49l6uZ12acwwsLsLyQM5s+7m/Fs0IuJ2yu84N13+hkPmhXw/RkScwBsHOUfpNwjZ\n",
       "749zXtMPcA2TsZM9Sr/pyH2Y5IreYF+Ae/MIctCDMfkfjJIkSZIkSZJW84FRkiRJkiRJ0mo+MEqS\n",
       "JEmSJElazQdGSZIkSZIkSav5wChJkiRJkiRpNR8YJUmSJEmSJK3mA6MkSZIkSZKk1XxglCRJkiRJ\n",
       "krRa99/8mz9BgbWWNGZZ8nZIDFXA82jbsA7fvjqlMQ9jl8aMM3uzpePaqp2+qWnMoRvTmA60ExHR\n",
       "lTxu3055TJOP6dDmMREsB7smH1NTWM67Mqcxl+05jamR773X/W3z+wL214D+Pj4+SWO+98k7qL85\n",
       "T2fEVjWIpQApoK22ZW01YL+TtjpYN652+d56+dCnMTSdZG5IPgutr2S9gNFvVc8jIro2b+twlc/L\n",
       "719+ifq77vJ93IBETQubZbKNf3ifR5F6R9GavlVbb/WPaczTLj8baH9kZsj8zXiOt2mrwv6IFuTp\n",
       "bs5rWUTEuOT3vA2vunGqeX8k5+PCDpqZ9Ae+CbaE6j4Iquy6GPUE9lX+ScCBwjiO+byQPEVEFLBC\n",
       "SW3hKQB3F9AfOYsiIv7uzSdpzA/G301jPn88pDG/PF6jMb073KcxLTjXbs871N+TPo/bgW8setaS\n",
       "sT+AGkvWQUTEHnz7kTPkdtyj/gbwTdc1ecwAYiIiXk1snjNkH9OzndQNsl4mcIZGROwi/2Y91XxN\n",
       "kXUeETGBM5KMnHwfR7B7wqs5Xwf0rnTd5W9dZP7Ir/M/GCVJkiRJkiSt5gOjJEmSJEmSpNV8YJQk\n",
       "SZIkSZK0mg+MkiRJkiRJklbzgVGSJEmSJEnSaj4wSpIkSZIkSVrNB0ZJkiRJkiRJq/nAKEmSJEmS\n",
       "JGm17vhYUOBS31wMVcDzaNuz33c39HnMQ5vGNPDJ9rCb05i+zZO17/J2IiL6Jo8bQExbFtQfiTrX\n",
       "PJ99ycfUwDG909+lMe/t8phdM6H+HmuXxty05zTmAbQTEUFWelfyNcWyGXEC46oL23/ElrUj7+zN\n",
       "NlXZNo5lo3wWuGeGNh/Yrs8npsBhVzKsDdcUsYAZbBuWTxLXNSSfeTs05x1oK6/U/GyYUFgeNFV2\n",
       "2JLu6NgJcq7dz0MaMy/s97WgppOlQDJAx0TWJzkbFjTyiDa2qUF0TfVgj3495nN8042ovxnm4TfN\n",
       "hsdoLKAxdN+ggyKH0Qz6e9P/xgF/XwPOIrLqCu0QNEb6a+BWeNof05juOm/srX3ezk13QmO6aPNv\n",
       "hzO4V5N7WUTEcc7bIt9YHfzm2bd5PatglkdwhkawXJH1+XLao/7IWftW/7jJmCIiBpD3iybP+R6s\n",
       "O1oWydyQc/txzt9cIth96qbL9+gJrqlL8E1O7kH0rnTYaM+cwF6nyLc9eXfxPxglSZIkSZIkreYD\n",
       "oyRJkiRJkqTVfGCUJEmSJEmStJoPjJIkSZIkSZJW84FRkiRJkiRJ0mo+MEqSJEmSJElazQdGSZIk\n",
       "SZIkSav5wChJkiRJkiRpNR8YJUmSJEmSJK3WzSOMXEBI3aadiIgoMC5R523aiYjo+3zwdNh9myfr\n",
       "op/ydhr2AxuQ+AWMvsL5m5aN3q7JuoNNXXf57+tKPi8kTxERY23TmMfSpTEV5rKATDzUHrVFzFvN\n",
       "Md00IK6AGFSntkTWMM0BaKuC37fADhfQH8l5B+rd6w7zxhaQBJpOMi6Sg7ZhVagpeVwLYgZQ969h\n",
       "zq+aPFs9mOSRJCoiTiCO1LwzqK8REQXks4IxkXUeweo+OR83O0Mjot3oXCPrjjpv+PvI2JvYrvCT\n",
       "s3Zc8nVwP7M9Q85ass7JuCPYPW+uoFbTyxlAmkJbFH9bkLPojXaHzvYKe6zgrCXnFa2LBMknXVKX\n",
       "bf5x+87b+TfWccrv6GNltWwGOX+rf0hjHoYB9Xes+dhJ3TiDWhYRsWtAPkHNo0uKnJGkreOc5yki\n",
       "4us4pDFX3TmN6Qs7R3twbpM5nsH/kpH9EhFxB9bwy2mfxpB7bgQ728m+Im8gEWxu9k2eq7tph/o7\n",
       "g/kj66DvTqi/HbjDkX1Fap7/wShJkiRJkiRpNR8YJUmSJEmSJK3mA6MkSZIkSZKk1XxglCRJkiRJ\n",
       "krSaD4ySJEmSJEmSVvOBUZIkSZIkSdJqPjBKkiRJkiRJWs0HRkmSJEmSJEmrdcvEApdlAUGgocL6\n",
       "KwUGJsiwIyIq+XkghrQTEXGe2zSmASlY8mYiIoKksysVtMN+IJm9uuRRI/iBM2gnIuLr8ZDGXLbn\n",
       "NKZvZtTfy3GfxiwgU8e5Q/21TT5/DdikdOdVENkVlisCjWurGgT3MbFRKcNQqd7w9/UtWHewbkxg\n",
       "L5Oxj5UlfaqwgCbo7+vaPG7X5nuG5KCHY2pL/nfGDixiuqTYFs2jWnBeRbC5IXuU1E4at2/yi9cV\n",
       "OIsiWD5bkIMe5JO0ExExgyLbg3V3XtjfwMldglQE+vu2cqzsbCfrhazzHtwRIt78mYWAqSHjLvTO\n",
       "TKYGLM/SwmRutPTofbEHd7MW3RfZmiLQ9wXME/l++sblbRrzly/eSmM+PV+RIcUZfbDlA38+3KP+\n",
       "bqf8G+Rx7tOYQzui/s7gPkW+n+h35gzOB1LTp7rd/1o9gHw+7dnDC7lLkDkmOb9oWQ5Izlk7rC6S\n",
       "+WPrbrs6RXJAz9ARrL3SkDrMOpyXPA87cN/owfz5H4ySJEmSJEmSVvOBUZIkSZIkSdJqPjBKkiRJ\n",
       "kiRJWs0HRkmSJEmSJEmr+cAoSZIkSZIkaTUfGCVJkiRJkiSt5gOjJEmSJEmSpNV8YJQkSZIkSZK0\n",
       "Wlen5c32SLtrQWApeciGP28BbS1LPqaIiFrzxkh/NVh/DWisbphPMqoCGmvAghkX9k4+1Tyu2WhM\n",
       "ERG7Zk5jLttzGnOsHervce436e/Qjqg/4rO4yoPoHiWLirT1G1jy6L4iNYHkqVZWN9g+Rk0hXVPT\n",
       "mApqLK3DWy2FBuagLfnvI3WRoK2wuPwH0hzkVYqda48Tq4ttk//CFuS8wEyRM6QHZwNeB2Ctz2g/\n",
       "5OfjEvn6jWDzR37dAPZLRMR5o7+V0zlewO/rSz7HHZzjDuSB5LyF84fOmQ1t1R9p58lbLAfHC3Bf\n",
       "BMuuJd8y0FsXpzTmfh5QW2RU6D4M1/ChmdIYsmfGwvb6aWzTmG8cXqQx//rjZ2nMV+cLNCbyTUBq\n",
       "9ZZ39Mean8gj+HaKiJhAHb7pj2nMEXzLRESMNZ/jAeT8BNqJiLif2LgyV+A7LILdF8l6mUA+Z/gd\n",
       "TXK1B3t9XFjOybhIDWJ3oIgehJ3B2Ml3SgTLwxDgLgHWecR2bxyHNp9j/4NRkiRJkiRJ0mo+MEqS\n",
       "JEmSJElazQdGSZIkSZIkSav5wChJkiRJkiRpNR8YJUmSJEmSJK3mA6MkSZIkSZKk1XxglCRJkiRJ\n",
       "krSaD4ySJEmSJEmSVvOBUZIkSZIkSdJqXdMVFLjUZZMOl7pJM6+Bthb4hFprnoclQAxMEwmbl7y/\n",
       "cW5Rf10DklXzmBbms4BfuIDfN6OcszVcQVvEW/0Rxb0zPOQx/SmNue7OqL+x5muhK/kcH9qJ9Qc2\n",
       "1y+PcxpT6J858qbQvnrTtll1vDFSg2ZYh2cwx8dzHkNqJ9U2+Q8kMVRTtuuvB3V43+YLnezRFqZ8\n",
       "AbumK3ljIE0RETGBcVWw7h5HdvaRNJD5I+sggq31+2lIY8aG/T6C3CXI72tghSVnbQVjaumi2gid\n",
       "46HJ92gH2iL1IILNHxk52Mb/r+I2Q/rbaClcDOx+E9GlESRPfcvmmKSArJfvv3iP9bfV3oL373cu\n",
       "8vvwGXzPTPCjjrT17uE+jXn/WX5H/9XjNRrTtORjIt9O7+7uUH8j6O+6y3/f1+MB9UfqFDnbSX2N\n",
       "iHg17dIYks9r8B0WEfHyvE9jvh7zmGdDfv5HRFy1bFyZY81rGTmPI1jdIHcg2l8Dwi7a/Bv5Ye5R\n",
       "f0QHHp8WeIjumvw8It9h9yNbU5cgV59OeT37aP8yjfE/GCVJkiRJkiSt5gOjJEmSJEmSpNV8YJQk\n",
       "SZIkSZK0mg+MkiRJkiRJklbzgVGSJEmSJEnSaj4wSpIkSZIkSVrNB0ZJkiRJkiRJq/nAKEmSJEmS\n",
       "JGm1bpmX7VoDTRX6pAnaWpY8qImCuisgrBTyA1l/teZx5ylPVm3Z/FUQNrR5TFkq6q8huQIqmT+W\n",
       "8vjG4es05g8uv0pjDi3LwQRSMC354IfC+iN761jzSV7mDvV3Nw9pzAx+X51Rd1GnPAaUhG1t1R9c\n",
       "w6gpUmNhzskPbEB/lRSggHUYtDPAPUpG1YJa1jWsvxbs5QJGNS150lu4qMgV4ATqfgf7m8AmZXli\n",
       "mgasYXT+s/7IPaFr8g140Y6oP3LWVlCHyTpvgq3zeaO/Xb/per7gPZPHTaCtBrQTEXGueT57WIOI\n",
       "DY+j7frbaFBkr0ewuhFw/ghSN8h98TSyvbfVNw/5lomIeDXm98Vpzsd+BjG0rV/M12nMP3zvp2nM\n",
       "//gXv4vGdH+T361P53zc89ssB9fdMY3Zg6Z2DTuLZnAvIbXzAM8+EnfZntOYt/pH1l+Tf4R8NR7S\n",
       "mFNl31jX3SmN2bf5mM5L/t03wwLbbfTRQ98I9mDtdeC+OBT80ZNCd0GYJvR9AcY+gLUZEfG0z2tC\n",
       "D+6nJJ/+B6MkSZIkSZKk1XxglCRJkiRJkrSaD4ySJEmSJEmSVvOBUZIkSZIkSdJqPjBKkiRJkiRJ\n",
       "Ws0HRkmSJEmSJEmr+cAoSZIkSZIkaTUfGCVJkiRJkiSt1rX7wiJhWNoMbKdpt4np+wX1dzFMeX8l\n",
       "73Cc2Ztt1+Tj6tuajwm0ExHRlbytLTUlHxcZE2nn1QgWQkTMSz43jzWPacGYIiJIFFktl+2M+rsD\n",
       "YXvQ4amyfI4b5Yru0WXZpgiRGrSwIeG4DK2LqC0wx7S7vsn36CWonceJrSmy30lMC8YdwfLQgbZo\n",
       "fSXLpYJ1PoFaNsA/HzYgCx2IaeAi3qG2wDqAZx8bVd4WvruAmB6sl13D6v4M1st29WW7QjWU/PfN\n",
       "sD9ytpOzaEE7lJ3JZORnMO6IiAadWWAdwN9H6mfX5v3VCncfGBYZOVnnpJ5HRLTgICVXElLLqA2v\n",
       "CfDusl1tmcFaILWMnI8RbL2MYz7HX50v0pg//q0vQW8R//yvnqcx5P72s+Ea9fd3rvNckTteD8+i\n",
       "XeRx+2ZMY+ieeXu4T2MGMHa6poYmv+uSOvz56RL197R7BGPKfx85Zeh33wI2PDlrac6PtU9jzmDs\n",
       "hzafuwg69rwdWqsbcBcke/RxzvMUEdGAyki+Z351ymuQ/8EoSZIkSZIkaTUfGCVJkiRJkiSt5gOj\n",
       "JEmSJEmSpNV8YJQkSZIkSZK0mg+MkiRJkiRJklbzgVGSJEmSJEnSaj4wSpIkSZIkSVrNB0ZJkiRJ\n",
       "kiRJq3XDgQUuyzYdNvBJs2nyDkvJ29n1FfU3NHMa87h0aUxl3cW05INfwPtvF6zDps37K2COT3OL\n",
       "+hsrGHuTj70vecy8sEX1+fkyjfnsfJ/GvARr5XV/FyCKrANmKPm4SFtgW0VExLHm+4H014K9HsHW\n",
       "MOlwq1oWEbGA7Uf6q9N2/ZG6WPKpi4iIClZDD/bDwspGTGAvk99XQX2NYHWfIOOOYLkiI1/A7ztV\n",
       "ttB3YOgT2Fg96i2iK3mHPahlDS1UALmXdOAsiojoNlpTtEyRPTqD9dKCCwBpJ4LtB9jUb6QO5IrU\n",
       "IHK/iYhowGpYwDqga5jUWNYQW8UF3zqSdkAzl90ZtXWa8kNrBj+P5pLcEza9u2zUFv199J6+lQLW\n",
       "Hhn7Lx6fpjH/wfVnZEjxjY+u0phPv96lMbdfsVz+dLpJYx5v8pP7g8Mt6u9Z/5DGPOmPaQytBuQ8\n",
       "IuvuBL7tIyIasKaeD3kOfvLqLdTfl0P+zfru8CqNaUHd7+BGvu5OaQw5//cN++ip4B2E/D76TbBV\n",
       "3aDnzATeSsj5v29G1N/DnO938n1xBX6f/8EoSZIkSZIkaTUfGCVJkiRJkiSt5gOjJEmSJEmSpNV8\n",
       "YJQkSZIkSZK0mg+MkiRJkiRJklbzgVGSJEmSJEnSaj4wSpIkSZIkSVrNB0ZJkiRJkiRJq/nAKEmS\n",
       "JEmSJGm1bhgWFLiwsFRTYFyTd9iUPObQz6i/oc3jKshBrewHLiQMxLQwoSXywfdN3SQmImLXTmnM\n",
       "dXdKY4Ymn5fPTldoTF8eL9KYH5fnaQz5bRER59qmMQ2Yl3lhfwcg++F+HtKYQzNu1t/Q5Lnawz1K\n",
       "StA85/uBxNB61+RTHA2YvmbPOuw6sI9bEsP2cVvyuFryJHSwvwUsBXiEsP5Aa6R2VlTQI8aNasKx\n",
       "dmnM5yNYnBGxAzX9GpyPQ2E5ICthBvPSwbOI1CkS04E7SQQ/IzP0r78d2KPdVpsGttOCAkpyTvcV\n",
       "mRkyL+fKsk7iJnBu05UygLGT+ympdxERT4djGnPq8hpEz1FSOkgdJjXhj24+IUOKXw5P0pjjnOeg\n",
       "wpyTtU72+gjX8ATjMrDsxw6cIT2479P7MNGiO2w+Jnpn/tPnP09j/ln5Rhrzf73aof4OA1gvc57P\n",
       "n989Rf0tl/lieADfIN88fI36I3NzAnelprD5I0v9vuRjuhrOqD9SX0jNGwLsPTDuiIhC9gxoi3wf\n",
       "R7BvELIOyPlB7UB/9O6C7kFg5dF7JzmTL9t8fY6gDvsfjJIkSZIkSZJW84FRkiRJkiRJ0mo+MEqS\n",
       "JEmSJElazQdGSZIkSZIkSav5wChJkiRJkiRpNR8YJUmSJEmSJK3mA6MkSZIkSZKk1XxglCRJkiRJ\n",
       "krRa9923vtqssRoljVlwa3lbpLG+mVFvdcn7u+13aczQVdRfU/LBk5h9x37foR3TGJIrMCu4revu\n",
       "lMa8v3uVxhS4qj6LqzTmWLs0ZlrYu/wM4trC1gsxlDznF2Ad7Js8JoLNcQ9+30U/of7aBuwZsBY6\n",
       "0E4H60YL9ihan3RjgTo1gnXXg7USEXHT53uU7AcyLxERM0hEu2E+Z5BPso9JTETEXPP+uibfMw9z\n",
       "n8b8ky+/RYYUHdij9PcRJOevpvysfbI7wx7z9bKAMZHz+HVbecwPXr2XtwMX8SNYC/SMzNAxkfsU\n",
       "aYmejmR9khpE7rAREQM4H97Z3aG2iH2Tn5Hk3O5BbYmI+IObT9MYknOyryIiTrVNY0hNIOvzk9M1\n",
       "G9Oc3wVJDujRTiLJ/e3Di/zOHBFx3vCuS5AaRNbnI5gXitzfyF7/+HiD+vvm4es05h+985M05p92\n",
       "30T9/fBn+TfP8k7ezvuXD6g/sl7IfYOeV1v1t8D/tRpAHX4xHdKY647dXW7HvOaR85+9g8BKBabm\n",
       "tOR79AxqfgT7ViF1kdxJItj9e9rofhPBxnUP5pjUsgi2Z74Ac4PesNCIJEmSJEmSJOnX8IFRkiRJ\n",
       "kiRJ0mo+MEqSJEmSJElazQdGSZIkSZIkSav5wChJkiRJkiRpNR8YJUmSJEmSJK3mA6MkSZIkSZKk\n",
       "1XxglCRJkiRJkrRad9mdUeC8lDRmXNo0poJ2aFwteUyJBfX39u4hjfnu1WdpzGU7ov7mJX/bfaxd\n",
       "GnNoJtQfycJ1l4+9snTG0NQ05gBi8oiIP76+A1Fs7B1YnruGvct3kTc2g5npwDqPiHjaHtKYPvI9\n",
       "usA905W8rX/z+FUa86Q/ov6e9Y9pzKGZ05gR7D1S7yLYOifrjtbFX56u05g/+/jbacx5ZGt4ibw/\n",
       "NnKGrLwt+2vbvMdXX4J9fCSVKlhBe8Pay3wttMOGHYIJhCXvjdpyTE1eOqMFMRERE7gCkLGTY43s\n",
       "F9rfApoiMa/jwH0RtEWn+LDLN/L7+9s05p3hHvX3wS6Pe7vP729DYQltQSJIPh8qy+i/evU8jfmr\n",
       "u7fTmBb8vgJzQJB7PP0GIcg9gd5dWFvb/Q8KyfsC1svdmR1GC9jNTcn38dDmMTTnpC7edKc05h89\n",
       "/wnq793du2nMP//V+2nMX7zI74EREb/zYb5e/urrZ2nMP/6I1cUOzN8F+Cbv4Do/g+8nYoL9kXV1\n",
       "O+3TmHeH/Bu5gG+ZCHbWFnBw07r4MOf7nbxj7fFbSf77Huf8bYY6V7Km8jHR73ZS0zu4FjL+B6Mk\n",
       "SZIkSZKk1XxglCRJkiRJkrSaD4ySJEmSJEmSVvOBUZIkSZIkSdJqPjBKkiRJkiRJWs0HRkmSJEmS\n",
       "JEmr+cAoSZIkSZIkaTUfGCVJkiRJkiSt5gOjJEmSJEmSpNW63zq8QIHn2qYx85K/Vy6ot4glyiZt\n",
       "LUveTkTEs+ExjfnT62Mac9UMqL+25KOvcU5j5oVl9LGOacx1u0tjdqVD/ZGsd6At0s4H/fsgKqIF\n",
       "/TUlX+fUAubmds7336G5QP1d989BVJ7RAv/usIAdeFf/RRrzcr5F/X13n8/fAsb+k1O+F/YN21ff\n",
       "GPI98+l4SmNuZ1anPj3XNObxmOfgnJe7iGD7b9M/U9EDYiPdLv+F8zHPeb1/wwPfUOnysZfC1ifq\n",
       "D6wXcmzjIW019Dfc3zyzuCVfnkGOtQbUvAbudZICdH+DuawgBw1ZU6w7NPb3hrs05vcvX6L+3uvz\n",
       "kV23+d2zwvviGSyqGWRhTyYmInbNlMb0Td5WA+7VuFKTwJKPiX6DVLD6JvCNVeAvJLmaQFP097Hd\n",
       "RYoZ640sPXKu0XwSj3N+hz224DsFjumPrj9NY75z+WUa8y9ffoT6+/7PnqYxO/A588WZffP8wdUX\n",
       "acwM1mcH9nEE23/P+oc05m5i7wRkvXw97tOYd8FZRPcxyRVZnRV+OBza/HvtVPM8HcAZ87qt/LJ0\n",
       "O+U5v5/hWxCoedOSj4mcodQI+vvr+5s0xv9glCRJkiRJkrSaD4ySJEmSJEmSVvOBUZIkSZIkSdJq\n",
       "PjBKkiRJkiRJWs0HRkmSJEmSJEmr+cAoSZIkSZIkaTUfGCVJkiRJkiSt5gOjJEmSJEmSpNW6vlQW\n",
       "CZ4i65K3tbDeYomSxjSgtQraiYjoQB5O4PddBMznkid0pm0B45Ln6m4+pzFTM6P+GpD3vuRt7Uqf\n",
       "xlSYpwG0RTSlY4Elz/mu7klDrLto05imyXPQlAH1R3SgcOxAniIiLpt8XAuoCUPJ1/m4sJxPoCZM\n",
       "4Oc9zPncRUQcK1x7CfbrNmwLdkjPh62gYW04qKW+wV9Icw7GtMD9sJVCuoNDQm2Rdt7wn2PpuElc\n",
       "A8ZO2ilwM7TovkhiWBLalqxh1BTrr8kb68Fd6Qks5wOYwGPN+5s3LGYzSGi71eYLls+tvhsi4LcD\n",
       "aOq0sLOdrHVyZ6Ypb8C9i8RMcI9uFUVXVIPqWY7MC62LO7CGW5Bz+t1+rOCbAIz9T5/+HPX3xze/\n",
       "TGP+z5cfpTF/9pNvov5+8PZ7acw/fu+HaUyB3yBnkM+n3TGNOe7uUH930y6NOc35IXI3599OF+2I\n",
       "xjSBtwuyzieQywj+hrNVO2SOZ5ADms+LNv8efbt/AGNiv++XxydpzIvxgNrK+B+MkiRJkiRJklbz\n",
       "gVGSJEmSJEnSaj4wSpIkSZIkSVrNB0ZJkiRJkiRJq/nAKEmSJEmSJGk1HxglSZIkSZIkreYDoyRJ\n",
       "kiRJkqTVfGCUJEmSJEmStFpHA9uypDEFtFNRVMScdxcLaKsutL/8rbWQ/lBvERVELkuehKaw30fG\n",
       "1ZdtcvA3kZkG9NeXfIme6xmN6LJ9ko+p6dMYmoN5mdKYJbbZVxERXXuR97fMICYfN24LtJO38loF\n",
       "rd2DtXA7t2nMTctGNYE92oM9um9Y5WjIeiELhi4qgMzxht1t2iGYPtTfUklDwQ+IrD/QHc45GRP5\n",
       "fbRDciZvOccbNYXWCuyQpKAbWIcFbPiuy9tqmzyma9mYyH1xy7rRgLGT+aP3RZKru2mXxryY7lB/\n",
       "Q8k3KflvAbJWIti5NoKYE6yLp4o/Rf4fkfmb4RyTVE3gu4GuKbQ+wY7owFqJYHtraPJ7EN2jJA/N\n",
       "VgdksPpCYkjOpyW/U0ZEPM7598XT7pg3BOprBJu/+wl888C68Y39Qxrz3u5Hacx3r/JvtYiI//nn\n",
       "30lj/ttf/b005u9/6wXq749uPkljSM6vWvbNum/yb7GpDmnMV+f823C/v0VjKmDt9SXPQQ/yRA2g\n",
       "P1qHybie9I9pzBHs9QiWqyfdKY257th3Ozkfvp72acxHF/l68T8YJUmSJEmSJK3mA6MkSZIkSZKk\n",
       "1XxglCRJkiRJkrSaD4ySJEmSJEmSVvOBUZIkSZIkSdJqPjBKkiRJkiRJWs0HRkmSJEmSJEmr+cAo\n",
       "SZIkSZIkaTUfGCVJkiRJkiSt1u3bCQXWpaQx05K/V5KYiIgWxCyRj2mBb6jLQvrLgxbSEFRBf3XD\n",
       "/ppC8sn6y1tiY3+MUxrT1jvQW8TVcpPGLNMjaIn8uohxycd+Xs5pTFPYGh7nPA9N6UEM2X0Rdclr\n",
       "B1nDdzPr777muXo5k3qW5/MM6l1ExC3o77Mx/33Hyub4WLs0BpWE7coG2g4blinUH5u97RRQVitJ\n",
       "uQAAEbRJREFUOyMilgYdNHl/pLMtk9CQSd6wvw1tlQa8hskU/wbmiixhOu661R6Fk0fupxXNC+vw\n",
       "SZ+fRbfTPo35xfEC9VfiIY1pwdDbUlF/E8jDCUzyHv4LQwUT3aDCmP8+8t3wOu7NgkfIZjqQq1PN\n",
       "7y40T6XkkSQHDWgngo2LrClSE2b4XUu+f2ewPula2Zc5jbmLIY2hdZHMMbnt//bhJervv/qd76cx\n",
       "37v9MI35Zz98hvr75UfXacw/fPcnacwI9lVExMOcf68d5/yboG/ydsaFjWlo8jW1ZTv3U74+yeqk\n",
       "Z18L1vCuGdMYdF5FRAU14efH/O3iDL4NIyIObT72J90xjfnyfJnG+B+MkiRJkiRJklbzgVGSJEmS\n",
       "JEnSaj4wSpIkSZIkSVrNB0ZJkiRJkiRJq/nAKEmSJEmSJGk1HxglSZIkSZIkreYDoyRJkiRJkqTV\n",
       "fGCUJEmSJEmStFo3VvbGOC15HImZl4L6WyKPIzElFtRfKXlcBU1V2F9bQN6XvC2WTRbXgKi2sB5b\n",
       "8HY9lBb0l8eMy4TG9DjfpTEFZzR3Wk5pzLTMaUwD9+gJ/L6+OeT9lQ7198Xpr9OYf3l/TGPupgH1\n",
       "d1fztoirtqYxx8rWwW0+ffFQ8zW8b0BDEXHRjmkM2qLbLfOAJe+NgscMy0MLglp4zpCBbZVPmgPy\n",
       "+34DgePx3wVuEsK3zEbpbOCff3Ee3qAFbUBy53qza7MB98CIiMsuP9t7UNM/OV2j/ghyhvRNfvZF\n",
       "0LsuuKPD+SPfDmTs5B7fFZYDYgRnO92e5FuFrCkypgi21kkM/aYjOjDHM1grEawu0v2eOYB7WURE\n",
       "C9Ye+X2PM7ujj6C/EfRHxh3B1sIZfM9McE1dgrz/8c0v05hnf3SP+vveiw/SmP/++7+Xxvzn383H\n",
       "FBFx2Z3TGFI7hw3rRm3yuQEh0cLKSGoCcapsz5Aau8AaRJBf9zjn38iHhr2DkDyw8xi8XaARSZIk\n",
       "SZIkSdKv4QOjJEmSJEmSpNV8YJQkSZIkSZK0mg+MkiRJkiRJklbzgVGSJEmSJEnSaj4wSpIkSZIk\n",
       "SVrNB0ZJkiRJkiRJq/nAKEmSJEmSJGm1rikLClyWksbMS/5eWSNv53V/eUwLxl7g7yNttSUfO4mJ\n",
       "iNiXLo05xZTGNDCfA/h9OzCmrrSov7bka6EL1lbmVX1EcYf6kMaQbFayOCOiRk1jzsuYxny9vEL9\n",
       "vZxforjM/3rL2vnL+2dpzMfHb6cx7+3Y73us+frcNXMaUyKfP1LLIiJmsGIeZ7Kv2Jo613zPvPf0\n",
       "mLdzzfYeyRWqQKxMoTByZnVNvvciInqwXj7eXaYx0wTzCfOQIaul7+DZ1+Rx+y4/i+gck/ljdZj1\n",
       "R1ojTXWFrSkyxy1o6939PeqPjH3XgLsEmBdyD3zdVv77SIWl9zcyKpJzeh/+0d3zNOb/+NU30pi5\n",
       "snySPUquJfDqEleHvC6SO/MM10uFeci0oO7/3aeforYObX43I+fHO0N+74yI+Iu7d9IYsoa77oT6\n",
       "O4H71ATuQbQukraID/fsfkpqXgVVaKx5DFkHdExki5J7WcR280eP2q/GIY0hd3RSWyIiTuA+TGo6\n",
       "2esREf/J81+mMbdPdmnMP/nzj1B/f/Db+bfRc1BfyF5/MR7QmPakLkY+x7Ru7Ju8vzP4fcfao/7I\n",
       "Xib7ivZHzmRSN8i36OsO85CbLv+G3JM7JRmPJEmSJEmSJP06PjBKkiRJkiRJWs0HRkmSJEmSJEmr\n",
       "+cAoSZIkSZIkaTUfGCVJkiRJkiSt5gOjJEmSJEmSpNV8YJQkSZIkSZK0mg+MkiRJkiRJklbzgVGS\n",
       "JEmSJEnSat0vjk9Q4Gnu8piaxwzNhPprywJiahqzREH9fbbkcX91n7/HdmBM1LTk/c0gJoKNawfm\n",
       "Jp+V1yrIJ5njBq2DCzSm+zkf0+24T2PGpUX9kRyca97WDNqhyJiG5l3UFll7+zZfU3959zbq79/W\n",
       "fFwFpGoBi5jWjSfDMY0hc3ye2Zoiv49UhJvhhPoje/Tzx0Mas8A1TOaG5KBrWB2+6POYqz04s2hh\n",
       "3Ggr3/TnNOY/fuuvUVvfPtymMRcgn7dwDZ9rvkI/Pec1/V+9/BD1N4I6RaalgL0Qwdb6DtTFd3ev\n",
       "UH/fuXiRxly2cxrTgd/Xwxw0IKEHELQnDUXERcnvngUUjlPN8xQR8V9/9nfSmK9+BGrQdtdFBtaf\n",
       "+2f5Xq7sKo+Qmk7G3g75uN97j+2rq25MY27aPOZpxxK1LJ+nMZ+fL9MY+o313vCQxrwz5L+PHn17\n",
       "UDt+BO4SDzM4tCPiusvPyFfTkMaQnN/NOzSmJ11+XyTfajdgbUawuSHnMfkWpcg508BVRe6npKUn\n",
       "HbsP34O1twd75r/8D/8S9fc//Pj30pi/90G+zsm3Pfk2jIh4mPM987y/T2PoWwkZ1UTW1ML6I/c3\n",
       "sh8KXMMX4Awh3zPk/S2C3WPJt/3Q5Hcl/4NRkiRJkiRJ0mo+MEqSJEmSJElazQdGSZIkSZIkSav5\n",
       "wChJkiRJkiRpNR8YJUmSJEmSJK3mA6MkSZIkSZKk1XxglCRJkiRJkrSaD4ySJEmSJEmSVuv+/PZd\n",
       "FDjWNo355MUujXnn6Rn1NzRzGrNEQW0RTVnSmKnm77G7dkL9kbHPFfw+mIIO/L4e5Pw05+sggg2r\n",
       "a2oa05Y8Zg9z3kSegx+9fCuNQfMSEX2bj71r8jGNsL8GhC15d3Ho83UQEXGe8/1wPeT7/W4cUH+P\n",
       "53ztkX1MclDgviJrj9SNM6ivEWwNk3110Y6ovxfnQxpze9ehtt6krmN/O5uXfKIfT/nc0PVC4khT\n",
       "5Hz8cHcHWor4zj7/fVdNvg4eKlxTcx53rCfUFkHySeoG2XsREQtoi4xpXtgavmjztXAANaEDgxrg\n",
       "Qp9ArnrQ1lXTo/6GwupnpoK5i4gYp40OW4o0RaYGDmkhVwASA+siWero5+XLPMaFrZVv7W/TGLJD\n",
       "6Sp4d8hrHhn7R7sH1N+fXF6nMdft8zTmWfc26m9o9mnM/1L+RRrzr+/Z/P3vX347jSF3syfDMY15\n",
       "1rOck3O7gjvJGZ4NHfh+6sE3yMQ+CWJA33TbnI8REQXU2AJaI9+ZEWz/jWBNPVb2zfNffOunacz/\n",
       "9Oe/ncb8R7/9VRrz9nCPxnQC3yrbvcxETGCtk5yTdiIivh7zu+51n9eEXcPuwwWcEA9zfg+i99MB\n",
       "vEuM4J2H3ZklSZIkSZIkaSUfGCVJkiRJkiSt5gOjJEmSJEmSpNV8YJQkSZIkSZK0mg+MkiRJkiRJ\n",
       "klbzgVGSJEmSJEnSaj4wSpIkSZIkSVrNB0ZJkiRJkiRJq3WlsMBSljRmyUNirqzDCbx9NmBMNVh/\n",
       "ZOwt6A+mM5pS05gpujRmyZt5rc0DWzCmrmG/sC75/IGUxwTaOc15niIihmZOY8Yp/30wBdE15Bfm\n",
       "WthfA/qrYP+dZ/Z3BzIssmcqTNME5qZtWVsZUlsiIuqSjwm1BHNQwNSQ9blrJ9bh/2/Rug/mb5tt\n",
       "vKkZjPtN//Vw17DN18xjHkPOWrhHy0YTSFtZwNojdeN22qP+vhyHNOauyc/2An7hHrQTEXGs+ep7\n",
       "2pEalK+ViIi+5G2RivBY2e9D91iyAfMrSURELGT1gTVF76cIaYx2SH4eaQYEkb1H7cBhS+vGLVgL\n",
       "n58v05hvH+5Rf0/b6zTmr8cv0phX8yPqj3ja5Xf522mH2vrFy6s05jDkSb/qT2lMB76dIth2GME3\n",
       "zyP85qHjyhwrO9sHdM7k6KjJ9+G0YV081TzvD3OfxjSwKpD3iz/8rZdpzPc/fpbG/INvHtGYejDH\n",
       "ZA3T+9u45GuP5Om6y/dxRMQOvBOQ+zd5T4mIuJ/z+xtZn2ReIiImcDcj/Z1ATfA/GCVJkiRJkiSt\n",
       "5gOjJEmSJEmSpNV8YJQkSZIkSZK0mg+MkiRJkiRJklbzgVGSJEmSJEnSaj4wSpIkSZIkSVrNB0ZJ\n",
       "kiRJkiRJq/nAKEmSJEmSJGk1HxglSZIkSZIkrdYtCwtclpLGlDwk2oZ1uGvnNKYpeVvTwt5QK/h9\n",
       "daN2IiJaMPa25D3O8I24gjxMNY+ZYT7Pc5vG9KApMsdzsJw3IJ/Nhk/uFSz1vs3HVOCaakDYBNra\n",
       "tWyPzpXsGRAD2omIOJ/ymLbL2yJzXEgxi4hzzdd5AWv4BPZLRMShTGkMqRuX7Rn1VwIeEG8Qm5rt\n",
       "xk36g8sFdrhN0BGszQh2FnUlb6vCy0QDktWBNUzX5kISCsZO55jcASZwbt+OO9Tfzx6fpjFvD/dp\n",
       "zFU7pjHkjImg95u8nQXOMTlrR9DWkTQUsWV5QQpZw2+6Bm3ZH7FRzh/mfrPuZlA3LuCl8gzu31+P\n",
       "hzTm0/OA+mtK3t8A6v7bXV5/IiL2TT72H736izSGLrubQ17PzlP++z7Y3aYxf//mczSmT095Dsj3\n",
       "TAM3A/n+PYF7wtDk3+MRETM4+0YQ04HzI4LdAVDthMjdeih5rui7xKl2acx3r/K194PxSRrzyfEa\n",
       "jenDQ74fvjxfpjHvDHeovwvwrTKAGktyGRHRL/kc900ecz+xOtyDNUXWHbrnBntTacFrVwcuxP4H\n",
       "oyRJkiRJkqTVfGCUJEmSJEmStJoPjJIkSZIkSZJW84FRkiRJ/3e7drIjRxGEATirqjePbRkbGXOC\n",
       "I2feX7wDJ+QzEkI2DF5nxt1dCwceIH6VShaH7zuHMrMj14oZAABYTYERAAAAAFhNgREAAAAAWE2B\n",
       "EQAAAABYTYERAAAAAFht13dLFJhF1bqwpXRcX9M01/XYKazZDvNcxiytq/tb6pjWWrsGMVtmfAka\n",
       "m4OxJzlYwhxMSz03XbDu5jnrbwzWS5KDKewvsWVbW/U39OGZEGytZN0FS6p1YZqSc+rQT2XMuR+i\n",
       "/k67sYx5fnjYZEyttbbr63MqzdVmNuwvaSpaneHhuVWuku7G8Fycg03zMF/KmPOSralzcPe9vz4u\n",
       "Y+Yt/z664ZpKzvQk5hr+vsu8K2OSn3cMzoR9V8/df3HbvCamLfdV0NYl3TNZGmr/17Mzidty7MHc\n",
       "dMl22PBuT87PIRj4pylbLF2w328vN2XMu+sx6u+P619lzNO+7u/QHaL+bsfbMuYc3EVvzk+i/pK3\n",
       "52Goz7ybof56OoVv2H1wxj6M9fylb+boeyZY5334wLmf6rvobbCGd+E9MwbfdF+CMV2X7P39dHcu\n",
       "Y059/Ua/m7I9k9RL7qd9GfPzj/+UMb+9fRGN6emrOgfJejkv9by01toy13smqYOcg3XQWmvXuV4L\n",
       "T4Y6B+kT4RCs9Tm42OZgL7TW2q6r85l+H1b8ByMAAAAAsJoCIwAAAACwmgIjAAAAALCaAiMAAAAA\n",
       "sJoCIwAAAACwmgIjAAAAALCaAiMAAAAAsJoCIwAAAACw2q7vliywm8uYYajbGfqsv7l1UdzXlIx8\n",
       "nLOa7RT8vi5IwZylMzIFHfbhtCTzNy11roZWr7tuwzL5LliflzlLQhKVTF+yDlprbQ7GlbS1LF93\n",
       "7yU5b6213b6OWYKmkjMvyWXqOtcH48eH4Me11h6uuzpmrNv6dDhG/SVZyNZU1F0maiudv6CxbUI2\n",
       "leTzGpyvrbX2ZvxSxnw7BOtumaL+Pk/13Fw2uhtaa21O7rVgBrvwrXTo6zyMwe/bB+201trz/X0Z\n",
       "82x3KWOOfZ3PmyCmtexM2Af53IWX+6mv46Zg0xzmLOfJ/ovOxfSY2ug6St9KXTL45N7e8Cmx1V10\n",
       "6LI5frmrG/vl3fMy5vXn76L+vj9+KmOS74tTeG68G89lzIeuPjf+HD9E/e2D/2f5ONYxr46fo/7+\n",
       "Pj0uYx4N1zJmCM6p98G7rLXW7qf6bXYJ3ouPg3G3lr11o2/RqLfsXvtwPZUxSc5by+7khyDnS/gL\n",
       "Xw312vvhdFfGvL77Jurv83goY07DWMb89ORtGfPr7y+iMd2eb8qYJJ+78C3x8lDn/BicedfwfXo3\n",
       "1TlP1vmjPtujSa3k2NdznPoY7L9n+/qbIHtXAwAAAACspMAIAAAAAKymwAgAAAAArKbACAAAAACs\n",
       "psAIAAAAAKymwAgAAAAArKbACAAAAACspsAIAAAAAKz2L/kkbuyhiekTAAAAAElFTkSuQmCC\n",
       "\" transform=\"translate(582, 47)\"/>\n",
       "</g>\n",
       "<defs>\n",
       "  <clipPath id=\"clip973\">\n",
       "    <rect x=\"1933\" y=\"47\" width=\"73\" height=\"1305\"/>\n",
       "  </clipPath>\n",
       "</defs>\n",
       "<g clip-path=\"url(#clip973)\">\n",
       "<image width=\"72\" height=\"1304\" xlink:href=\"data:image/png;base64,\n",
       "iVBORw0KGgoAAAANSUhEUgAAAEgAAAUYCAYAAAALW5QXAAALLklEQVR4nO3dwW0bQRBFwaHR+Ufm\n",
       "iAR4RxG435F7qIpAePhYD0cr+vPz9+ce/uvPt3+AtxMoCBQECgKFOffft3+GV7OgIFAQKAgU5tzn\n",
       "2z/Dq1lQECgIFAQKHtLBgoJAQaAgUHDdESwoCBQECgKF+Rwn6Y0FBYGCQEGg4LojWFAQKAgUBAqu\n",
       "O4IFBYGCQEGg4CQdLCgIFAQKAgUP6WBBQaAgUBAozPGLw5UFBYGCQEGgIFBwaR8sKAgUBAoCBfdB\n",
       "wYKCQEGgIFDwkA4WFAQKAgWBgr/2CRYUBAoCBYGCO+lgQUGgIFAQKLjuCBYUBAoCBYGCh3SwoCBQ\n",
       "ECgIFDykgwUFgYJAQaDgr32CBQWBgkBBoOAXh8GCgkBBoCBQcN0RLCgIFAQKAgWBgvugYEFBoCBQ\n",
       "ECj4qBEsKAgUBAoCBQ/pYEFBoCBQECh4SAcLCgIFgYJAwZ10sKAgUBAoCBScpIMFBYGCQEGgMB8v\n",
       "kq8sKAgUBAoCBSfpYEFBoCBQECi4kw4WFAQKAgWBgpN0sKAgUBAoCBQ8pIMFBYGCQEGgIFBwHxQs\n",
       "KAgUBAoCBR81ggUFgYJAQaDgIR0sKAgUBAoCBQ/pYEFBoCBQECjMOf7aZ2NBQaAgUBAoOEkHCwoC\n",
       "BYGCQMFDOlhQECgIFAQKHtLBgoJAQaAgUPCedLCgIFAQKAgU5vqawJUFBYGCQEGgIFBwHxQsKAgU\n",
       "BAoCBQ/pYEFBoCBQECi4tA8WFAQKAgWBwhyX9isLCgIFgYJAwXVHsKAgUBAoCBTmekivLCgIFAQK\n",
       "AgV30sGCgkBBoCBQcCcdLCgIFAQKAgXXHcGCgkBBoCBQ8IvDYEFBoCBQECjM9YXbKwsKAgWBgkBB\n",
       "oOCjRrCgIFAQKAgUfEVXsKAgUBAoCBScpIMFBYGCQEGgMNeL5CsLCgIFgYJAwXVHsKAgUBAoCBRc\n",
       "dwQLCgIFgYJAwXVHsKAgUBAoCBRcdwQLCgIFgYJAwd/NBwsKAgWBgkDBdUewoCBQECgIFJykgwUF\n",
       "gYJAQaAgUPDtL8GCgkBBoCBQ8FEjWFAQKAgUBArzeEivLCgIFAQKAgW/WQ0WFAQKAgWBguuOYEFB\n",
       "oCBQECg4SQcLCgIFgYJAwZ10sKAgUBAoCBScpIMFBYGCQEGg4CQdLCgIFAQKAgUn6WBBQaAgUBAo\n",
       "CBR81AgWFAQKAgWBgo8awYKCQEGgIFCYx0N6ZUFBoCBQECj4a59gQUGgIFAQKMxz7rd/hlezoCBQ\n",
       "ECgIFFx3BAsKAgWBgkDBdUewoCBQECgIFFx3BAsKAgWBgkDBe9LBgoJAQaAgUPCedLCgIFAQKAgU\n",
       "XHcECwoCBYGCQEGg4D4oWFAQKAgUBAo+agQLCgIFgYJAwaV9sKAgUBAoCBScpIMFBYGCQEGgMM/1\n",
       "kN5YUBAoCBQECv5uPlhQECgIFAQKrjuCBQWBgkBBoDDXdcfKgoJAQaAgUHCSDhYUBAoCBYGCO+lg\n",
       "QUGgIFAQKHi7I1hQECgIFAQKAgX3QcGCgkBBoCBQ8JAOFhQECgIFgYL7oGBBQaAgUBAoOEkHCwoC\n",
       "BYGCQGEez+iVBQWBgkBBoOAkHSwoCBQECgIFD+lgQUGgIFAQKPjFYbCgIFAQKAgUxh9k7iwoCBQE\n",
       "CgIF1x3BgoJAQaAgUBAoeP0lWFAQKAgUBArug4IFBYGCQEGg4BvJgwUFgYJAQaDgJB0sKAgUBAoC\n",
       "BXfSwYKCQEGgIFBwkg4WFAQKAgWBgpN0sKAgUBAoCBScpIMFBYGCQEGg4CEdLCgIFAQKAgXXHcGC\n",
       "gkBBoCBQcJIOFhQECgIFgYJAYZ77+fbP8GoWFAQKAgWBgo8awYKCQEGgIFBwkg4WFAQKAgWBgpN0\n",
       "sKAgUBAoCBScpIMFBYGCQEGg4CQdLCgIFAQKAgUn6WBBQaAgUBAojD/22VlQECgIFAQKTtLBgoJA\n",
       "QaAgUJjneEhvLCgIFAQKAgUn6WBBQaAgUBAoCBS8/hIsKAgUBAoCBR81ggUFgYJAQaAw16X9yoKC\n",
       "QEGgIFBwkg4WFAQKAgWBgjvpYEFBoCBQECg4SQcLCgIFgYJAwZ10sKAgUBAoCBScpIMFBYGCQEGg\n",
       "4E8ygwUFgYJAQaAw10l6ZUFBoCBQECgIFLz+EiwoCBQECgIFl/bBgoJAQaAgUPD6S7CgIFAQKAgU\n",
       "nKSDBQWBgkBBoOD1l2BBQaAgUBAouO4IFhQECgIFgYLrjmBBQaAgUBAouO4IFhQECgIFgcJc/+H8\n",
       "yoKCQEGgIFBwkg4WFAQKAgWBgjvpYEFBoCBQECgIFLz+EiwoCBQECgIFHzWCBQWBgkBBoOAkHSwo\n",
       "CBQECgIFJ+lgQUGgIFAQKHj9JVhQECgIFAQK/tuIYEFBoCBQECj4XxGCBQWBgkBBoOAkHSwoCBQE\n",
       "CgIFd9LBgoJAQaAgUHCSDhYUBAoCBYGCk3SwoCBQECgIFAQKPmoECwoCBYGCQMFHjWBBQaAgUBAo\n",
       "zOMbyVcWFAQKAgWBgi83CRYUBAoCBYGCLzcJFhQECgIFgYKTdLCgIFAQKAgUnKSDBQWBgkBBoOAk\n",
       "HSwoCBQECgIFb3cECwoCBYGCQMFJOlhQECgIFAQKAgWX9sGCgkBBoCBQ8FEjWFAQKAgUBApzXdqv\n",
       "LCgIFAQKAgVfbhIsKAgUBAoCBV8TGCwoCBQECgIF7ygGCwoCBYGCQMEvDoMFBYGCQEGg4LojWFAQ\n",
       "KAgUBArzfPsneDkLCgIFgYJAwUk6WFAQKAgUBArekw4WFAQKAgWBgkDBb1aDBQWBgkBBoOAdxWBB\n",
       "QaAgUBAouLQPFhQECgIFgcI4SO8sKAgUBAoCBSfpYEFBoCBQECh4/SVYUBAoCBQECh7SwYKCQEGg\n",
       "IFDwCl6woCBQECgIFLyCFywoCBQECgIF1x3BgoJAQaAgUJjjIb2yoCBQECgIFAQKLu2DBQWBgkBB\n",
       "oOA+KFhQECgIFAQKHtLBgoJAQaAgUPCQDhYUBAoCBYGCh3SwoCBQECgIFHwDVbCgIFAQKAgU5vgG\n",
       "qpUFBYGCQEGg4LojWFAQKAgUBAoe0sGCgkBBoCBQ8CeZwYKCQEGgIFAQKPioESwoCBQECgIFHzWC\n",
       "BQWBgkBBoOAkHSwoCBQECgIFgYJAQaAgUBAoOEkHCwoCBYGCQMGddLCgIFAQKAgU5jpKrywoCBQE\n",
       "CgIFJ+lgQUGgIFAQKLiTDhYUBAoCBYGCk3SwoCBQECgIFDykgwUFgYJAQaAgUHAfFCwoCBQECgIF\n",
       "HzWCBQWBgkBBoOAhHSwoCBQECgIF1x3BgoJAQaAgUHCSDhYUBAoCBYHCHE/plQUFgYJAQaDguiNY\n",
       "UBAoCBQECq47ggUFgYJAQaDgIR0sKAgUBAoCBQ/pYEFBoCBQECi4kw4WFAQKAgWBgkBhjn/GVhYU\n",
       "BAoCBYGC+6BgQUGgIFAQKHhIBwsKAgWBgkBh7vPtH+HdLCgIFAQKAgUn6WBBQaAgUBAoeEgHCwoC\n",
       "BYGCQMHbHcGCgkBBoCBQ8CJ5sKAgUBAoCBRcdwQLCgIFgYJAwUM6WFAQKAgUBAoCBe8oBgsKAgWB\n",
       "gkDBb1aDBQWBgkBBoOA+KFhQECgIFAQKXn8JFhQECgIFgcIcd9IrCwoCBYGCQMF1R7CgIFAQKAgU\n",
       "5rrvWFlQECgIFAQKrjuCBQWBgkBBoOAXh8GCgkBBoCBQcJIOFhQECgIFgYI76WBBQaAgUBAoCBT8\n",
       "3XywoCBQECgIFLyjGCwoCBQECgIFJ+lgQUGgIFAQKLi0DxYUBAoCBYGCk3SwoCBQECgIFNxJBwsK\n",
       "AgWBgkDBSTpYUBAoCBQECu6kgwUFgYJAQaDgJB0sKAgUBAoCBV9uEiwoCBQECgKFXxav061Mj8qE\n",
       "AAAAAElFTkSuQmCC\n",
       "\" transform=\"translate(1934, 47)\"/>\n",
       "</g>\n",
       "<path clip-path=\"url(#clip970)\" d=\"M2053.54 1094.97 Q2049.92 1094.97 2048.1 1098.53 Q2046.29 1102.08 2046.29 1109.21 Q2046.29 1116.31 2048.1 1119.88 Q2049.92 1123.42 2053.54 1123.42 Q2057.17 1123.42 2058.98 1119.88 Q2060.8 1116.31 2060.8 1109.21 Q2060.8 1102.08 2058.98 1098.53 Q2057.17 1094.97 2053.54 1094.97 M2053.54 1091.27 Q2059.35 1091.27 2062.4 1095.87 Q2065.48 1100.46 2065.48 1109.21 Q2065.48 1117.93 2062.4 1122.54 Q2059.35 1127.12 2053.54 1127.12 Q2047.73 1127.12 2044.65 1122.54 Q2041.59 1117.93 2041.59 1109.21 Q2041.59 1100.46 2044.65 1095.87 Q2047.73 1091.27 2053.54 1091.27 Z\" fill=\"#4c4c4c\" fill-rule=\"nonzero\" fill-opacity=\"1\" /><path clip-path=\"url(#clip970)\" d=\"M2073.7 1120.57 L2078.58 1120.57 L2078.58 1126.45 L2073.7 1126.45 L2073.7 1120.57 Z\" fill=\"#4c4c4c\" fill-rule=\"nonzero\" fill-opacity=\"1\" /><path clip-path=\"url(#clip970)\" d=\"M2092.79 1122.52 L2109.11 1122.52 L2109.11 1126.45 L2087.17 1126.45 L2087.17 1122.52 Q2089.83 1119.76 2094.41 1115.13 Q2099.02 1110.48 2100.2 1109.14 Q2102.45 1106.61 2103.33 1104.88 Q2104.23 1103.12 2104.23 1101.43 Q2104.23 1098.67 2102.29 1096.94 Q2100.36 1095.2 2097.26 1095.2 Q2095.06 1095.2 2092.61 1095.97 Q2090.18 1096.73 2087.4 1098.28 L2087.4 1093.56 Q2090.22 1092.42 2092.68 1091.85 Q2095.13 1091.27 2097.17 1091.27 Q2102.54 1091.27 2105.73 1093.95 Q2108.93 1096.64 2108.93 1101.13 Q2108.93 1103.26 2108.12 1105.18 Q2107.33 1107.08 2105.22 1109.67 Q2104.65 1110.34 2101.54 1113.56 Q2098.44 1116.75 2092.79 1122.52 Z\" fill=\"#4c4c4c\" fill-rule=\"nonzero\" fill-opacity=\"1\" /><path clip-path=\"url(#clip970)\" d=\"M2053.54 837.4 Q2049.92 837.4 2048.1 840.965 Q2046.29 844.507 2046.29 851.636 Q2046.29 858.743 2048.1 862.308 Q2049.92 865.849 2053.54 865.849 Q2057.17 865.849 2058.98 862.308 Q2060.8 858.743 2060.8 851.636 Q2060.8 844.507 2058.98 840.965 Q2057.17 837.4 2053.54 837.4 M2053.54 833.697 Q2059.35 833.697 2062.4 838.303 Q2065.48 842.886 2065.48 851.636 Q2065.48 860.363 2062.4 864.97 Q2059.35 869.553 2053.54 869.553 Q2047.73 869.553 2044.65 864.97 Q2041.59 860.363 2041.59 851.636 Q2041.59 842.886 2044.65 838.303 Q2047.73 833.697 2053.54 833.697 Z\" fill=\"#4c4c4c\" fill-rule=\"nonzero\" fill-opacity=\"1\" /><path clip-path=\"url(#clip970)\" d=\"M2073.7 863.002 L2078.58 863.002 L2078.58 868.882 L2073.7 868.882 L2073.7 863.002 Z\" fill=\"#4c4c4c\" fill-rule=\"nonzero\" fill-opacity=\"1\" /><path clip-path=\"url(#clip970)\" d=\"M2102.93 850.248 Q2106.29 850.965 2108.16 853.234 Q2110.06 855.502 2110.06 858.835 Q2110.06 863.951 2106.54 866.752 Q2103.03 869.553 2096.54 869.553 Q2094.37 869.553 2092.05 869.113 Q2089.76 868.697 2087.31 867.84 L2087.31 863.326 Q2089.25 864.46 2091.57 865.039 Q2093.88 865.618 2096.41 865.618 Q2100.8 865.618 2103.1 863.882 Q2105.41 862.146 2105.41 858.835 Q2105.41 855.78 2103.26 854.067 Q2101.13 852.331 2097.31 852.331 L2093.28 852.331 L2093.28 848.488 L2097.49 848.488 Q2100.94 848.488 2102.77 847.123 Q2104.6 845.734 2104.6 843.141 Q2104.6 840.479 2102.7 839.067 Q2100.83 837.632 2097.31 837.632 Q2095.39 837.632 2093.19 838.049 Q2090.99 838.465 2088.35 839.345 L2088.35 835.178 Q2091.01 834.437 2093.33 834.067 Q2095.66 833.697 2097.72 833.697 Q2103.05 833.697 2106.15 836.127 Q2109.25 838.535 2109.25 842.655 Q2109.25 845.525 2107.61 847.516 Q2105.97 849.484 2102.93 850.248 Z\" fill=\"#4c4c4c\" fill-rule=\"nonzero\" fill-opacity=\"1\" /><path clip-path=\"url(#clip970)\" d=\"M2053.54 579.831 Q2049.92 579.831 2048.1 583.395 Q2046.29 586.937 2046.29 594.067 Q2046.29 601.173 2048.1 604.738 Q2049.92 608.28 2053.54 608.28 Q2057.17 608.28 2058.98 604.738 Q2060.8 601.173 2060.8 594.067 Q2060.8 586.937 2058.98 583.395 Q2057.17 579.831 2053.54 579.831 M2053.54 576.127 Q2059.35 576.127 2062.4 580.733 Q2065.48 585.317 2065.48 594.067 Q2065.48 602.794 2062.4 607.4 Q2059.35 611.983 2053.54 611.983 Q2047.73 611.983 2044.65 607.4 Q2041.59 602.794 2041.59 594.067 Q2041.59 585.317 2044.65 580.733 Q2047.73 576.127 2053.54 576.127 Z\" fill=\"#4c4c4c\" fill-rule=\"nonzero\" fill-opacity=\"1\" /><path clip-path=\"url(#clip970)\" d=\"M2073.7 605.432 L2078.58 605.432 L2078.58 611.312 L2073.7 611.312 L2073.7 605.432 Z\" fill=\"#4c4c4c\" fill-rule=\"nonzero\" fill-opacity=\"1\" /><path clip-path=\"url(#clip970)\" d=\"M2101.61 580.826 L2089.81 599.275 L2101.61 599.275 L2101.61 580.826 M2100.39 576.752 L2106.27 576.752 L2106.27 599.275 L2111.2 599.275 L2111.2 603.164 L2106.27 603.164 L2106.27 611.312 L2101.61 611.312 L2101.61 603.164 L2086.01 603.164 L2086.01 598.65 L2100.39 576.752 Z\" fill=\"#4c4c4c\" fill-rule=\"nonzero\" fill-opacity=\"1\" /><path clip-path=\"url(#clip970)\" d=\"M2053.54 322.261 Q2049.92 322.261 2048.1 325.826 Q2046.29 329.367 2046.29 336.497 Q2046.29 343.603 2048.1 347.168 Q2049.92 350.71 2053.54 350.71 Q2057.17 350.71 2058.98 347.168 Q2060.8 343.603 2060.8 336.497 Q2060.8 329.367 2058.98 325.826 Q2057.17 322.261 2053.54 322.261 M2053.54 318.557 Q2059.35 318.557 2062.4 323.164 Q2065.48 327.747 2065.48 336.497 Q2065.48 345.224 2062.4 349.83 Q2059.35 354.414 2053.54 354.414 Q2047.73 354.414 2044.65 349.83 Q2041.59 345.224 2041.59 336.497 Q2041.59 327.747 2044.65 323.164 Q2047.73 318.557 2053.54 318.557 Z\" fill=\"#4c4c4c\" fill-rule=\"nonzero\" fill-opacity=\"1\" /><path clip-path=\"url(#clip970)\" d=\"M2073.7 347.863 L2078.58 347.863 L2078.58 353.742 L2073.7 353.742 L2073.7 347.863 Z\" fill=\"#4c4c4c\" fill-rule=\"nonzero\" fill-opacity=\"1\" /><path clip-path=\"url(#clip970)\" d=\"M2088.81 319.182 L2107.17 319.182 L2107.17 323.117 L2093.1 323.117 L2093.1 331.59 Q2094.11 331.242 2095.13 331.08 Q2096.15 330.895 2097.17 330.895 Q2102.96 330.895 2106.34 334.066 Q2109.72 337.238 2109.72 342.654 Q2109.72 348.233 2106.24 351.335 Q2102.77 354.414 2096.45 354.414 Q2094.28 354.414 2092.01 354.043 Q2089.76 353.673 2087.35 352.932 L2087.35 348.233 Q2089.44 349.367 2091.66 349.923 Q2093.88 350.478 2096.36 350.478 Q2100.36 350.478 2102.7 348.372 Q2105.04 346.265 2105.04 342.654 Q2105.04 339.043 2102.7 336.937 Q2100.36 334.83 2096.36 334.83 Q2094.48 334.83 2092.61 335.247 Q2090.76 335.664 2088.81 336.543 L2088.81 319.182 Z\" fill=\"#4c4c4c\" fill-rule=\"nonzero\" fill-opacity=\"1\" /><path clip-path=\"url(#clip970)\" d=\"M2053.54 64.6912 Q2049.92 64.6912 2048.1 68.256 Q2046.29 71.7977 2046.29 78.9273 Q2046.29 86.0337 2048.1 89.5985 Q2049.92 93.1402 2053.54 93.1402 Q2057.17 93.1402 2058.98 89.5985 Q2060.8 86.0337 2060.8 78.9273 Q2060.8 71.7977 2058.98 68.256 Q2057.17 64.6912 2053.54 64.6912 M2053.54 60.9875 Q2059.35 60.9875 2062.4 65.594 Q2065.48 70.1773 2065.48 78.9273 Q2065.48 87.6541 2062.4 92.2605 Q2059.35 96.8438 2053.54 96.8438 Q2047.73 96.8438 2044.65 92.2605 Q2041.59 87.6541 2041.59 78.9273 Q2041.59 70.1773 2044.65 65.594 Q2047.73 60.9875 2053.54 60.9875 Z\" fill=\"#4c4c4c\" fill-rule=\"nonzero\" fill-opacity=\"1\" /><path clip-path=\"url(#clip970)\" d=\"M2073.7 90.2929 L2078.58 90.2929 L2078.58 96.1725 L2073.7 96.1725 L2073.7 90.2929 Z\" fill=\"#4c4c4c\" fill-rule=\"nonzero\" fill-opacity=\"1\" /><path clip-path=\"url(#clip970)\" d=\"M2099.35 77.0291 Q2096.2 77.0291 2094.35 79.1819 Q2092.52 81.3347 2092.52 85.0846 Q2092.52 88.8115 2094.35 90.9874 Q2096.2 93.1402 2099.35 93.1402 Q2102.49 93.1402 2104.32 90.9874 Q2106.17 88.8115 2106.17 85.0846 Q2106.17 81.3347 2104.32 79.1819 Q2102.49 77.0291 2099.35 77.0291 M2108.63 62.3764 L2108.63 66.6357 Q2106.87 65.8023 2105.06 65.3625 Q2103.28 64.9227 2101.52 64.9227 Q2096.89 64.9227 2094.44 68.0477 Q2092.01 71.1727 2091.66 77.4921 Q2093.03 75.4782 2095.09 74.4134 Q2097.15 73.3254 2099.62 73.3254 Q2104.83 73.3254 2107.84 76.4967 Q2110.87 79.6449 2110.87 85.0846 Q2110.87 90.4087 2107.72 93.6263 Q2104.58 96.8438 2099.35 96.8438 Q2093.35 96.8438 2090.18 92.2605 Q2087.01 87.6541 2087.01 78.9273 Q2087.01 70.7329 2090.9 65.8718 Q2094.79 60.9875 2101.34 60.9875 Q2103.1 60.9875 2104.88 61.3348 Q2106.68 61.682 2108.63 62.3764 Z\" fill=\"#4c4c4c\" fill-rule=\"nonzero\" fill-opacity=\"1\" /><polyline clip-path=\"url(#clip970)\" style=\"stroke:#000000; stroke-linecap:round; stroke-linejoin:round; stroke-width:4; stroke-opacity:1; fill:none\" points=\"2005.59,1351.04 2005.59,1112.8 2029.59,1112.8 2005.59,1112.8 2005.59,855.231 2029.59,855.231 2005.59,855.231 2005.59,597.661 2029.59,597.661 2005.59,597.661 2005.59,340.091 2029.59,340.091 2005.59,340.091 2005.59,82.5213 2029.59,82.5213 2005.59,82.5213 2005.59,47.2441 \"/>\n",
       "</svg>\n"
      ],
      "text/html": [
       "<?xml version=\"1.0\" encoding=\"utf-8\"?>\n",
       "<svg xmlns=\"http://www.w3.org/2000/svg\" xmlns:xlink=\"http://www.w3.org/1999/xlink\" width=\"600\" height=\"400\" viewBox=\"0 0 2400 1600\">\n",
       "<defs>\n",
       "  <clipPath id=\"clip020\">\n",
       "    <rect x=\"0\" y=\"0\" width=\"2400\" height=\"1600\"/>\n",
       "  </clipPath>\n",
       "</defs>\n",
       "<path clip-path=\"url(#clip020)\" d=\"M0 1600 L2400 1600 L2400 0 L0 0  Z\" fill=\"#ffffff\" fill-rule=\"evenodd\" fill-opacity=\"1\"/>\n",
       "<defs>\n",
       "  <clipPath id=\"clip021\">\n",
       "    <rect x=\"480\" y=\"0\" width=\"1681\" height=\"1600\"/>\n",
       "  </clipPath>\n",
       "</defs>\n",
       "<path clip-path=\"url(#clip020)\" d=\"M581.799 1351.04 L1885.59 1351.04 L1885.59 47.2441 L581.799 47.2441  Z\" fill=\"#ffffff\" fill-rule=\"evenodd\" fill-opacity=\"1\"/>\n",
       "<defs>\n",
       "  <clipPath id=\"clip022\">\n",
       "    <rect x=\"581\" y=\"47\" width=\"1305\" height=\"1305\"/>\n",
       "  </clipPath>\n",
       "</defs>\n",
       "<polyline clip-path=\"url(#clip022)\" style=\"stroke:#000000; stroke-linecap:round; stroke-linejoin:round; stroke-width:2; stroke-opacity:0.2; fill:none\" points=\"584.46,1351.04 584.46,47.2441 \"/>\n",
       "<polyline clip-path=\"url(#clip022)\" style=\"stroke:#000000; stroke-linecap:round; stroke-linejoin:round; stroke-width:2; stroke-opacity:0.2; fill:none\" points=\"850.54,1351.04 850.54,47.2441 \"/>\n",
       "<polyline clip-path=\"url(#clip022)\" style=\"stroke:#000000; stroke-linecap:round; stroke-linejoin:round; stroke-width:2; stroke-opacity:0.2; fill:none\" points=\"1116.62,1351.04 1116.62,47.2441 \"/>\n",
       "<polyline clip-path=\"url(#clip022)\" style=\"stroke:#000000; stroke-linecap:round; stroke-linejoin:round; stroke-width:2; stroke-opacity:0.2; fill:none\" points=\"1382.7,1351.04 1382.7,47.2441 \"/>\n",
       "<polyline clip-path=\"url(#clip022)\" style=\"stroke:#000000; stroke-linecap:round; stroke-linejoin:round; stroke-width:2; stroke-opacity:0.2; fill:none\" points=\"1648.78,1351.04 1648.78,47.2441 \"/>\n",
       "<polyline clip-path=\"url(#clip020)\" style=\"stroke:#4c4c4c; stroke-linecap:round; stroke-linejoin:round; stroke-width:4; stroke-opacity:1; fill:none\" points=\"581.799,1351.04 1885.59,1351.04 \"/>\n",
       "<polyline clip-path=\"url(#clip020)\" style=\"stroke:#4c4c4c; stroke-linecap:round; stroke-linejoin:round; stroke-width:4; stroke-opacity:1; fill:none\" points=\"581.799,47.2441 1885.59,47.2441 \"/>\n",
       "<polyline clip-path=\"url(#clip020)\" style=\"stroke:#4c4c4c; stroke-linecap:round; stroke-linejoin:round; stroke-width:4; stroke-opacity:1; fill:none\" points=\"584.46,1351.04 584.46,1369.93 \"/>\n",
       "<polyline clip-path=\"url(#clip020)\" style=\"stroke:#4c4c4c; stroke-linecap:round; stroke-linejoin:round; stroke-width:4; stroke-opacity:1; fill:none\" points=\"850.54,1351.04 850.54,1369.93 \"/>\n",
       "<polyline clip-path=\"url(#clip020)\" style=\"stroke:#4c4c4c; stroke-linecap:round; stroke-linejoin:round; stroke-width:4; stroke-opacity:1; fill:none\" points=\"1116.62,1351.04 1116.62,1369.93 \"/>\n",
       "<polyline clip-path=\"url(#clip020)\" style=\"stroke:#4c4c4c; stroke-linecap:round; stroke-linejoin:round; stroke-width:4; stroke-opacity:1; fill:none\" points=\"1382.7,1351.04 1382.7,1369.93 \"/>\n",
       "<polyline clip-path=\"url(#clip020)\" style=\"stroke:#4c4c4c; stroke-linecap:round; stroke-linejoin:round; stroke-width:4; stroke-opacity:1; fill:none\" points=\"1648.78,1351.04 1648.78,1369.93 \"/>\n",
       "<path clip-path=\"url(#clip020)\" d=\"M594.502 1405.57 Q592.276 1403.34 589.444 1403.56 Q586.629 1403.79 583.977 1406.44 Q581.342 1409.07 581.096 1411.91 Q580.883 1414.74 583.109 1416.96 Q585.336 1419.19 588.151 1418.96 Q590.999 1418.73 593.634 1416.1 Q596.286 1413.44 596.499 1410.61 Q596.728 1407.8 594.502 1405.57 M611.426 1401.77 L608.415 1404.79 Q607.76 1402.95 606.794 1401.36 Q605.845 1399.79 604.601 1398.55 Q601.327 1395.28 597.382 1395.75 Q593.454 1396.24 588.74 1400.46 Q591.13 1400.01 593.34 1400.71 Q595.566 1401.4 597.317 1403.15 Q601 1406.83 600.885 1411.2 Q600.803 1415.57 596.957 1419.42 Q593.192 1423.18 588.691 1423.23 Q584.19 1423.28 580.491 1419.58 Q576.251 1415.34 577.25 1409.86 Q578.264 1404.36 584.435 1398.19 Q590.23 1392.39 596.417 1391.71 Q602.62 1391 607.252 1395.64 Q608.496 1396.88 609.511 1398.39 Q610.542 1399.91 611.426 1401.77 Z\" fill=\"#4c4c4c\" fill-rule=\"nonzero\" fill-opacity=\"1\" /><path clip-path=\"url(#clip020)\" d=\"M619.283 1408.55 L632.263 1421.53 L629.48 1424.31 L619.529 1414.36 L613.538 1420.35 Q614.504 1420.83 615.338 1421.43 Q616.189 1422.02 616.91 1422.74 Q621.002 1426.83 621.149 1431.47 Q621.296 1436.1 617.466 1439.93 Q613.521 1443.87 608.873 1443.61 Q604.241 1443.33 599.772 1438.86 Q598.234 1437.32 596.891 1435.46 Q595.566 1433.61 594.387 1431.38 L597.71 1428.06 Q598.381 1430.34 599.559 1432.3 Q600.738 1434.26 602.489 1436.02 Q605.321 1438.85 608.464 1439.01 Q611.606 1439.17 614.16 1436.62 Q616.713 1434.07 616.55 1430.93 Q616.386 1427.78 613.554 1424.95 Q612.228 1423.62 610.608 1422.59 Q609.004 1421.58 607.007 1420.83 L619.283 1408.55 Z\" fill=\"#4c4c4c\" fill-rule=\"nonzero\" fill-opacity=\"1\" /><path clip-path=\"url(#clip020)\" d=\"M645.472 1439.09 Q642.919 1436.54 639.105 1437.77 Q635.324 1438.99 630.282 1444.04 Q625.257 1449.06 624.013 1452.86 Q622.802 1456.66 625.356 1459.21 Q627.925 1461.78 631.706 1460.55 Q635.52 1459.32 640.545 1454.3 Q645.587 1449.26 646.798 1445.46 Q648.042 1441.66 645.472 1439.09 M648.091 1436.47 Q652.199 1440.58 651.103 1446 Q650.039 1451.42 643.852 1457.61 Q637.681 1463.78 632.247 1464.86 Q626.845 1465.94 622.737 1461.83 Q618.628 1457.72 619.692 1452.3 Q620.789 1446.88 626.96 1440.71 Q633.147 1434.53 638.548 1433.45 Q643.982 1432.37 648.091 1436.47 Z\" fill=\"#4c4c4c\" fill-rule=\"nonzero\" fill-opacity=\"1\" /><path clip-path=\"url(#clip020)\" d=\"M666.8 1460.42 Q664.246 1457.87 660.432 1459.09 Q656.651 1460.32 651.61 1465.36 Q646.585 1470.39 645.341 1474.19 Q644.13 1477.98 646.683 1480.54 Q649.253 1483.11 653.034 1481.88 Q656.848 1480.65 661.873 1475.63 Q666.914 1470.59 668.125 1466.79 Q669.369 1462.99 666.8 1460.42 M669.419 1457.8 Q673.527 1461.91 672.43 1467.33 Q671.366 1472.75 665.179 1478.93 Q659.008 1485.1 653.574 1486.18 Q648.173 1487.26 644.064 1483.16 Q639.956 1479.05 641.02 1473.63 Q642.117 1468.21 648.287 1462.04 Q654.474 1455.85 659.876 1454.77 Q665.31 1453.69 669.419 1457.8 Z\" fill=\"#4c4c4c\" fill-rule=\"nonzero\" fill-opacity=\"1\" /><path clip-path=\"url(#clip020)\" d=\"M688.127 1481.75 Q685.574 1479.19 681.76 1480.42 Q677.979 1481.65 672.938 1486.69 Q667.913 1491.72 666.669 1495.51 Q665.457 1499.31 668.011 1501.86 Q670.581 1504.43 674.362 1503.21 Q678.176 1501.98 683.201 1496.95 Q688.242 1491.91 689.453 1488.12 Q690.697 1484.32 688.127 1481.75 M690.746 1479.13 Q694.855 1483.24 693.758 1488.66 Q692.694 1494.07 686.507 1500.26 Q680.336 1506.43 674.902 1507.51 Q669.5 1508.59 665.392 1504.48 Q661.284 1500.38 662.348 1494.96 Q663.444 1489.54 669.615 1483.37 Q675.802 1477.18 681.204 1476.1 Q686.638 1475.02 690.746 1479.13 Z\" fill=\"#4c4c4c\" fill-rule=\"nonzero\" fill-opacity=\"1\" /><path clip-path=\"url(#clip020)\" d=\"M709.455 1503.08 Q706.902 1500.52 703.088 1501.75 Q699.307 1502.98 694.265 1508.02 Q689.24 1513.04 687.996 1516.84 Q686.785 1520.64 689.339 1523.19 Q691.908 1525.76 695.689 1524.53 Q699.503 1523.31 704.528 1518.28 Q709.57 1513.24 710.781 1509.44 Q712.025 1505.65 709.455 1503.08 M712.074 1500.46 Q716.182 1504.57 715.086 1509.98 Q714.022 1515.4 707.835 1521.59 Q701.664 1527.76 696.23 1528.84 Q690.828 1529.92 686.72 1525.81 Q682.611 1521.7 683.675 1516.28 Q684.772 1510.87 690.943 1504.7 Q697.13 1498.51 702.531 1497.43 Q707.965 1496.35 712.074 1500.46 Z\" fill=\"#4c4c4c\" fill-rule=\"nonzero\" fill-opacity=\"1\" /><path clip-path=\"url(#clip020)\" d=\"M860.582 1405.57 Q858.356 1403.34 855.524 1403.56 Q852.709 1403.79 850.057 1406.44 Q847.422 1409.07 847.176 1411.91 Q846.963 1414.74 849.189 1416.96 Q851.415 1419.19 854.231 1418.96 Q857.079 1418.73 859.714 1416.1 Q862.366 1413.44 862.579 1410.61 Q862.808 1407.8 860.582 1405.57 M877.506 1401.77 L874.495 1404.79 Q873.84 1402.95 872.874 1401.36 Q871.925 1399.79 870.681 1398.55 Q867.407 1395.28 863.462 1395.75 Q859.534 1396.24 854.82 1400.46 Q857.21 1400.01 859.42 1400.71 Q861.646 1401.4 863.397 1403.15 Q867.08 1406.83 866.965 1411.2 Q866.883 1415.57 863.037 1419.42 Q859.272 1423.18 854.771 1423.23 Q850.27 1423.28 846.571 1419.58 Q842.331 1415.34 843.33 1409.86 Q844.344 1404.36 850.515 1398.19 Q856.31 1392.39 862.497 1391.71 Q868.7 1391 873.332 1395.64 Q874.576 1396.88 875.591 1398.39 Q876.622 1399.91 877.506 1401.77 Z\" fill=\"#4c4c4c\" fill-rule=\"nonzero\" fill-opacity=\"1\" /><path clip-path=\"url(#clip020)\" d=\"M885.363 1408.55 L898.343 1421.53 L895.56 1424.31 L885.609 1414.36 L879.618 1420.35 Q880.583 1420.83 881.418 1421.43 Q882.269 1422.02 882.99 1422.74 Q887.082 1426.83 887.229 1431.47 Q887.376 1436.1 883.546 1439.93 Q879.601 1443.87 874.953 1443.61 Q870.321 1443.33 865.852 1438.86 Q864.314 1437.32 862.971 1435.46 Q861.646 1433.61 860.467 1431.38 L863.79 1428.06 Q864.461 1430.34 865.639 1432.3 Q866.818 1434.26 868.569 1436.02 Q871.401 1438.85 874.544 1439.01 Q877.686 1439.17 880.24 1436.62 Q882.793 1434.07 882.63 1430.93 Q882.466 1427.78 879.634 1424.95 Q878.308 1423.62 876.688 1422.59 Q875.084 1421.58 873.087 1420.83 L885.363 1408.55 Z\" fill=\"#4c4c4c\" fill-rule=\"nonzero\" fill-opacity=\"1\" /><path clip-path=\"url(#clip020)\" d=\"M887.851 1454.35 L899.39 1465.89 L896.608 1468.67 L881.091 1453.15 L883.873 1450.37 Q887.704 1450.3 894.218 1450.27 Q900.765 1450.24 902.55 1450.12 Q905.921 1449.93 907.771 1449.32 Q909.653 1448.72 910.848 1447.52 Q912.796 1445.57 912.649 1442.97 Q912.518 1440.39 910.324 1438.19 Q908.769 1436.64 906.494 1435.44 Q904.235 1434.26 901.175 1433.4 L904.514 1430.06 Q907.313 1431.25 909.457 1432.58 Q911.601 1433.9 913.041 1435.34 Q916.839 1439.14 917.199 1443.3 Q917.559 1447.46 914.384 1450.63 Q912.878 1452.14 910.946 1452.92 Q909.048 1453.71 905.725 1454.05 Q904.841 1454.12 900.373 1454.2 Q895.92 1454.27 887.851 1454.35 Z\" fill=\"#4c4c4c\" fill-rule=\"nonzero\" fill-opacity=\"1\" /><path clip-path=\"url(#clip020)\" d=\"M932.88 1460.42 Q930.326 1457.87 926.512 1459.09 Q922.731 1460.32 917.69 1465.36 Q912.665 1470.39 911.421 1474.19 Q910.21 1477.98 912.763 1480.54 Q915.333 1483.11 919.114 1481.88 Q922.928 1480.65 927.953 1475.63 Q932.994 1470.59 934.205 1466.79 Q935.449 1462.99 932.88 1460.42 M935.499 1457.8 Q939.607 1461.91 938.51 1467.33 Q937.446 1472.75 931.259 1478.93 Q925.088 1485.1 919.654 1486.18 Q914.253 1487.26 910.144 1483.16 Q906.036 1479.05 907.1 1473.63 Q908.197 1468.21 914.367 1462.04 Q920.554 1455.85 925.956 1454.77 Q931.39 1453.69 935.499 1457.8 Z\" fill=\"#4c4c4c\" fill-rule=\"nonzero\" fill-opacity=\"1\" /><path clip-path=\"url(#clip020)\" d=\"M954.207 1481.75 Q951.654 1479.19 947.84 1480.42 Q944.059 1481.65 939.018 1486.69 Q933.993 1491.72 932.749 1495.51 Q931.537 1499.31 934.091 1501.86 Q936.661 1504.43 940.442 1503.21 Q944.255 1501.98 949.281 1496.95 Q954.322 1491.91 955.533 1488.12 Q956.777 1484.32 954.207 1481.75 M956.826 1479.13 Q960.935 1483.24 959.838 1488.66 Q958.774 1494.07 952.587 1500.26 Q946.416 1506.43 940.982 1507.51 Q935.58 1508.59 931.472 1504.48 Q927.364 1500.38 928.428 1494.96 Q929.524 1489.54 935.695 1483.37 Q941.882 1477.18 947.284 1476.1 Q952.718 1475.02 956.826 1479.13 Z\" fill=\"#4c4c4c\" fill-rule=\"nonzero\" fill-opacity=\"1\" /><path clip-path=\"url(#clip020)\" d=\"M975.535 1503.08 Q972.982 1500.52 969.168 1501.75 Q965.387 1502.98 960.345 1508.02 Q955.32 1513.04 954.076 1516.84 Q952.865 1520.64 955.419 1523.19 Q957.988 1525.76 961.769 1524.53 Q965.583 1523.31 970.608 1518.28 Q975.65 1513.24 976.861 1509.44 Q978.105 1505.65 975.535 1503.08 M978.154 1500.46 Q982.262 1504.57 981.166 1509.98 Q980.102 1515.4 973.915 1521.59 Q967.744 1527.76 962.31 1528.84 Q956.908 1529.92 952.8 1525.81 Q948.691 1521.7 949.755 1516.28 Q950.852 1510.87 957.023 1504.7 Q963.21 1498.51 968.611 1497.43 Q974.045 1496.35 978.154 1500.46 Z\" fill=\"#4c4c4c\" fill-rule=\"nonzero\" fill-opacity=\"1\" /><path clip-path=\"url(#clip020)\" d=\"M1126.66 1405.57 Q1124.44 1403.34 1121.6 1403.56 Q1118.79 1403.79 1116.14 1406.44 Q1113.5 1409.07 1113.26 1411.91 Q1113.04 1414.74 1115.27 1416.96 Q1117.5 1419.19 1120.31 1418.96 Q1123.16 1418.73 1125.79 1416.1 Q1128.45 1413.44 1128.66 1410.61 Q1128.89 1407.8 1126.66 1405.57 M1143.59 1401.77 L1140.57 1404.79 Q1139.92 1402.95 1138.95 1401.36 Q1138 1399.79 1136.76 1398.55 Q1133.49 1395.28 1129.54 1395.75 Q1125.61 1396.24 1120.9 1400.46 Q1123.29 1400.01 1125.5 1400.71 Q1127.73 1401.4 1129.48 1403.15 Q1133.16 1406.83 1133.05 1411.2 Q1132.96 1415.57 1129.12 1419.42 Q1125.35 1423.18 1120.85 1423.23 Q1116.35 1423.28 1112.65 1419.58 Q1108.41 1415.34 1109.41 1409.86 Q1110.42 1404.36 1116.6 1398.19 Q1122.39 1392.39 1128.58 1391.71 Q1134.78 1391 1139.41 1395.64 Q1140.66 1396.88 1141.67 1398.39 Q1142.7 1399.91 1143.59 1401.77 Z\" fill=\"#4c4c4c\" fill-rule=\"nonzero\" fill-opacity=\"1\" /><path clip-path=\"url(#clip020)\" d=\"M1151.44 1408.55 L1164.42 1421.53 L1161.64 1424.31 L1151.69 1414.36 L1145.7 1420.35 Q1146.66 1420.83 1147.5 1421.43 Q1148.35 1422.02 1149.07 1422.74 Q1153.16 1426.83 1153.31 1431.47 Q1153.46 1436.1 1149.63 1439.93 Q1145.68 1443.87 1141.03 1443.61 Q1136.4 1443.33 1131.93 1438.86 Q1130.39 1437.32 1129.05 1435.46 Q1127.73 1433.61 1126.55 1431.38 L1129.87 1428.06 Q1130.54 1430.34 1131.72 1432.3 Q1132.9 1434.26 1134.65 1436.02 Q1137.48 1438.85 1140.62 1439.01 Q1143.77 1439.17 1146.32 1436.62 Q1148.87 1434.07 1148.71 1430.93 Q1148.55 1427.78 1145.71 1424.95 Q1144.39 1423.62 1142.77 1422.59 Q1141.16 1421.58 1139.17 1420.83 L1151.44 1408.55 Z\" fill=\"#4c4c4c\" fill-rule=\"nonzero\" fill-opacity=\"1\" /><path clip-path=\"url(#clip020)\" d=\"M1178.94 1441.81 L1157.55 1446.51 L1165.9 1454.86 L1178.94 1441.81 M1180.95 1438.06 L1185.11 1442.22 L1169.19 1458.15 L1172.67 1461.63 L1169.92 1464.38 L1166.44 1460.9 L1160.67 1466.66 L1157.38 1463.37 L1163.15 1457.61 L1152.11 1446.57 L1155.31 1443.38 L1180.95 1438.06 Z\" fill=\"#4c4c4c\" fill-rule=\"nonzero\" fill-opacity=\"1\" /><path clip-path=\"url(#clip020)\" d=\"M1198.96 1460.42 Q1196.41 1457.87 1192.59 1459.09 Q1188.81 1460.32 1183.77 1465.36 Q1178.75 1470.39 1177.5 1474.19 Q1176.29 1477.98 1178.84 1480.54 Q1181.41 1483.11 1185.19 1481.88 Q1189.01 1480.65 1194.03 1475.63 Q1199.07 1470.59 1200.29 1466.79 Q1201.53 1462.99 1198.96 1460.42 M1201.58 1457.8 Q1205.69 1461.91 1204.59 1467.33 Q1203.53 1472.75 1197.34 1478.93 Q1191.17 1485.1 1185.73 1486.18 Q1180.33 1487.26 1176.22 1483.16 Q1172.12 1479.05 1173.18 1473.63 Q1174.28 1468.21 1180.45 1462.04 Q1186.63 1455.85 1192.04 1454.77 Q1197.47 1453.69 1201.58 1457.8 Z\" fill=\"#4c4c4c\" fill-rule=\"nonzero\" fill-opacity=\"1\" /><path clip-path=\"url(#clip020)\" d=\"M1220.29 1481.75 Q1217.73 1479.19 1213.92 1480.42 Q1210.14 1481.65 1205.1 1486.69 Q1200.07 1491.72 1198.83 1495.51 Q1197.62 1499.31 1200.17 1501.86 Q1202.74 1504.43 1206.52 1503.21 Q1210.34 1501.98 1215.36 1496.95 Q1220.4 1491.91 1221.61 1488.12 Q1222.86 1484.32 1220.29 1481.75 M1222.91 1479.13 Q1227.01 1483.24 1225.92 1488.66 Q1224.85 1494.07 1218.67 1500.26 Q1212.5 1506.43 1207.06 1507.51 Q1201.66 1508.59 1197.55 1504.48 Q1193.44 1500.38 1194.51 1494.96 Q1195.6 1489.54 1201.77 1483.37 Q1207.96 1477.18 1213.36 1476.1 Q1218.8 1475.02 1222.91 1479.13 Z\" fill=\"#4c4c4c\" fill-rule=\"nonzero\" fill-opacity=\"1\" /><path clip-path=\"url(#clip020)\" d=\"M1241.61 1503.08 Q1239.06 1500.52 1235.25 1501.75 Q1231.47 1502.98 1226.43 1508.02 Q1221.4 1513.04 1220.16 1516.84 Q1218.95 1520.64 1221.5 1523.19 Q1224.07 1525.76 1227.85 1524.53 Q1231.66 1523.31 1236.69 1518.28 Q1241.73 1513.24 1242.94 1509.44 Q1244.18 1505.65 1241.61 1503.08 M1244.23 1500.46 Q1248.34 1504.57 1247.25 1509.98 Q1246.18 1515.4 1239.99 1521.59 Q1233.82 1527.76 1228.39 1528.84 Q1222.99 1529.92 1218.88 1525.81 Q1214.77 1521.7 1215.84 1516.28 Q1216.93 1510.87 1223.1 1504.7 Q1229.29 1498.51 1234.69 1497.43 Q1240.13 1496.35 1244.23 1500.46 Z\" fill=\"#4c4c4c\" fill-rule=\"nonzero\" fill-opacity=\"1\" /><path clip-path=\"url(#clip020)\" d=\"M1392.74 1405.57 Q1390.52 1403.34 1387.68 1403.56 Q1384.87 1403.79 1382.22 1406.44 Q1379.58 1409.07 1379.34 1411.91 Q1379.12 1414.74 1381.35 1416.96 Q1383.58 1419.19 1386.39 1418.96 Q1389.24 1418.73 1391.87 1416.1 Q1394.53 1413.44 1394.74 1410.61 Q1394.97 1407.8 1392.74 1405.57 M1409.67 1401.77 L1406.65 1404.79 Q1406 1402.95 1405.03 1401.36 Q1404.08 1399.79 1402.84 1398.55 Q1399.57 1395.28 1395.62 1395.75 Q1391.69 1396.24 1386.98 1400.46 Q1389.37 1400.01 1391.58 1400.71 Q1393.81 1401.4 1395.56 1403.15 Q1399.24 1406.83 1399.13 1411.2 Q1399.04 1415.57 1395.2 1419.42 Q1391.43 1423.18 1386.93 1423.23 Q1382.43 1423.28 1378.73 1419.58 Q1374.49 1415.34 1375.49 1409.86 Q1376.5 1404.36 1382.68 1398.19 Q1388.47 1392.39 1394.66 1391.71 Q1400.86 1391 1405.49 1395.64 Q1406.74 1396.88 1407.75 1398.39 Q1408.78 1399.91 1409.67 1401.77 Z\" fill=\"#4c4c4c\" fill-rule=\"nonzero\" fill-opacity=\"1\" /><path clip-path=\"url(#clip020)\" d=\"M1417.52 1408.55 L1430.5 1421.53 L1427.72 1424.31 L1417.77 1414.36 L1411.78 1420.35 Q1412.74 1420.83 1413.58 1421.43 Q1414.43 1422.02 1415.15 1422.74 Q1419.24 1426.83 1419.39 1431.47 Q1419.54 1436.1 1415.71 1439.93 Q1411.76 1443.87 1407.11 1443.61 Q1402.48 1443.33 1398.01 1438.86 Q1396.47 1437.32 1395.13 1435.46 Q1393.81 1433.61 1392.63 1431.38 L1395.95 1428.06 Q1396.62 1430.34 1397.8 1432.3 Q1398.98 1434.26 1400.73 1436.02 Q1403.56 1438.85 1406.7 1439.01 Q1409.85 1439.17 1412.4 1436.62 Q1414.95 1434.07 1414.79 1430.93 Q1414.63 1427.78 1411.79 1424.95 Q1410.47 1423.62 1408.85 1422.59 Q1407.24 1421.58 1405.25 1420.83 L1417.52 1408.55 Z\" fill=\"#4c4c4c\" fill-rule=\"nonzero\" fill-opacity=\"1\" /><path clip-path=\"url(#clip020)\" d=\"M1435.4 1448.23 Q1433.17 1446 1430.34 1446.21 Q1427.52 1446.44 1424.87 1449.09 Q1422.24 1451.73 1421.99 1454.56 Q1421.78 1457.39 1424 1459.62 Q1426.23 1461.84 1429.05 1461.62 Q1431.89 1461.39 1434.53 1458.75 Q1437.18 1456.1 1437.39 1453.27 Q1437.62 1450.45 1435.4 1448.23 M1452.32 1444.43 L1449.31 1447.44 Q1448.66 1445.61 1447.69 1444.02 Q1446.74 1442.45 1445.5 1441.2 Q1442.22 1437.93 1438.28 1438.41 Q1434.35 1438.9 1429.64 1443.12 Q1432.03 1442.66 1434.23 1443.36 Q1436.46 1444.05 1438.21 1445.8 Q1441.9 1449.49 1441.78 1453.86 Q1441.7 1458.23 1437.85 1462.07 Q1434.09 1465.84 1429.59 1465.89 Q1425.09 1465.94 1421.39 1462.24 Q1417.15 1458 1418.14 1452.51 Q1419.16 1447.01 1425.33 1440.84 Q1431.12 1435.05 1437.31 1434.36 Q1443.52 1433.66 1448.15 1438.29 Q1449.39 1439.53 1450.41 1441.04 Q1451.44 1442.56 1452.32 1444.43 Z\" fill=\"#4c4c4c\" fill-rule=\"nonzero\" fill-opacity=\"1\" /><path clip-path=\"url(#clip020)\" d=\"M1465.04 1460.42 Q1462.49 1457.87 1458.67 1459.09 Q1454.89 1460.32 1449.85 1465.36 Q1444.82 1470.39 1443.58 1474.19 Q1442.37 1477.98 1444.92 1480.54 Q1447.49 1483.11 1451.27 1481.88 Q1455.09 1480.65 1460.11 1475.63 Q1465.15 1470.59 1466.37 1466.79 Q1467.61 1462.99 1465.04 1460.42 M1467.66 1457.8 Q1471.77 1461.91 1470.67 1467.33 Q1469.61 1472.75 1463.42 1478.93 Q1457.25 1485.1 1451.81 1486.18 Q1446.41 1487.26 1442.3 1483.16 Q1438.2 1479.05 1439.26 1473.63 Q1440.36 1468.21 1446.53 1462.04 Q1452.71 1455.85 1458.12 1454.77 Q1463.55 1453.69 1467.66 1457.8 Z\" fill=\"#4c4c4c\" fill-rule=\"nonzero\" fill-opacity=\"1\" /><path clip-path=\"url(#clip020)\" d=\"M1486.37 1481.75 Q1483.81 1479.19 1480 1480.42 Q1476.22 1481.65 1471.18 1486.69 Q1466.15 1491.72 1464.91 1495.51 Q1463.7 1499.31 1466.25 1501.86 Q1468.82 1504.43 1472.6 1503.21 Q1476.42 1501.98 1481.44 1496.95 Q1486.48 1491.91 1487.69 1488.12 Q1488.94 1484.32 1486.37 1481.75 M1488.99 1479.13 Q1493.09 1483.24 1492 1488.66 Q1490.93 1494.07 1484.75 1500.26 Q1478.58 1506.43 1473.14 1507.51 Q1467.74 1508.59 1463.63 1504.48 Q1459.52 1500.38 1460.59 1494.96 Q1461.68 1489.54 1467.85 1483.37 Q1474.04 1477.18 1479.44 1476.1 Q1484.88 1475.02 1488.99 1479.13 Z\" fill=\"#4c4c4c\" fill-rule=\"nonzero\" fill-opacity=\"1\" /><path clip-path=\"url(#clip020)\" d=\"M1507.69 1503.08 Q1505.14 1500.52 1501.33 1501.75 Q1497.55 1502.98 1492.51 1508.02 Q1487.48 1513.04 1486.24 1516.84 Q1485.03 1520.64 1487.58 1523.19 Q1490.15 1525.76 1493.93 1524.53 Q1497.74 1523.31 1502.77 1518.28 Q1507.81 1513.24 1509.02 1509.44 Q1510.26 1505.65 1507.69 1503.08 M1510.31 1500.46 Q1514.42 1504.57 1513.33 1509.98 Q1512.26 1515.4 1506.07 1521.59 Q1499.9 1527.76 1494.47 1528.84 Q1489.07 1529.92 1484.96 1525.81 Q1480.85 1521.7 1481.92 1516.28 Q1483.01 1510.87 1489.18 1504.7 Q1495.37 1498.51 1500.77 1497.43 Q1506.21 1496.35 1510.31 1500.46 Z\" fill=\"#4c4c4c\" fill-rule=\"nonzero\" fill-opacity=\"1\" /><path clip-path=\"url(#clip020)\" d=\"M1658.82 1405.57 Q1656.6 1403.34 1653.76 1403.56 Q1650.95 1403.79 1648.3 1406.44 Q1645.66 1409.07 1645.42 1411.91 Q1645.2 1414.74 1647.43 1416.96 Q1649.66 1419.19 1652.47 1418.96 Q1655.32 1418.73 1657.95 1416.1 Q1660.61 1413.44 1660.82 1410.61 Q1661.05 1407.8 1658.82 1405.57 M1675.75 1401.77 L1672.73 1404.79 Q1672.08 1402.95 1671.11 1401.36 Q1670.16 1399.79 1668.92 1398.55 Q1665.65 1395.28 1661.7 1395.75 Q1657.77 1396.24 1653.06 1400.46 Q1655.45 1400.01 1657.66 1400.71 Q1659.89 1401.4 1661.64 1403.15 Q1665.32 1406.83 1665.21 1411.2 Q1665.12 1415.57 1661.28 1419.42 Q1657.51 1423.18 1653.01 1423.23 Q1648.51 1423.28 1644.81 1419.58 Q1640.57 1415.34 1641.57 1409.86 Q1642.58 1404.36 1648.76 1398.19 Q1654.55 1392.39 1660.74 1391.71 Q1666.94 1391 1671.57 1395.64 Q1672.82 1396.88 1673.83 1398.39 Q1674.86 1399.91 1675.75 1401.77 Z\" fill=\"#4c4c4c\" fill-rule=\"nonzero\" fill-opacity=\"1\" /><path clip-path=\"url(#clip020)\" d=\"M1683.6 1408.55 L1696.58 1421.53 L1693.8 1424.31 L1683.85 1414.36 L1677.86 1420.35 Q1678.82 1420.83 1679.66 1421.43 Q1680.51 1422.02 1681.23 1422.74 Q1685.32 1426.83 1685.47 1431.47 Q1685.62 1436.1 1681.79 1439.93 Q1677.84 1443.87 1673.19 1443.61 Q1668.56 1443.33 1664.09 1438.86 Q1662.55 1437.32 1661.21 1435.46 Q1659.89 1433.61 1658.71 1431.38 L1662.03 1428.06 Q1662.7 1430.34 1663.88 1432.3 Q1665.06 1434.26 1666.81 1436.02 Q1669.64 1438.85 1672.78 1439.01 Q1675.93 1439.17 1678.48 1436.62 Q1681.03 1434.07 1680.87 1430.93 Q1680.71 1427.78 1677.87 1424.95 Q1676.55 1423.62 1674.93 1422.59 Q1673.32 1421.58 1671.33 1420.83 L1683.6 1408.55 Z\" fill=\"#4c4c4c\" fill-rule=\"nonzero\" fill-opacity=\"1\" /><path clip-path=\"url(#clip020)\" d=\"M1699.14 1449.75 Q1696.78 1447.39 1694.16 1447.29 Q1691.56 1447.21 1689.35 1449.42 Q1687.14 1451.63 1687.22 1454.23 Q1687.32 1456.85 1689.68 1459.21 Q1692.03 1461.57 1694.65 1461.66 Q1697.29 1461.75 1699.48 1459.55 Q1701.69 1457.34 1701.59 1454.72 Q1701.51 1452.12 1699.14 1449.75 M1697.24 1445.03 Q1695.63 1442.38 1695.9 1439.73 Q1696.17 1437.1 1698.27 1435 Q1701.2 1432.07 1704.98 1432.45 Q1708.78 1432.84 1712.41 1436.47 Q1716.06 1440.12 1716.44 1443.9 Q1716.81 1447.69 1713.88 1450.62 Q1711.79 1452.71 1709.14 1452.97 Q1706.5 1453.25 1703.87 1451.66 Q1705.7 1454.61 1705.41 1457.56 Q1705.13 1460.52 1702.79 1462.86 Q1699.23 1466.41 1695.16 1466.13 Q1691.1 1465.87 1687.06 1461.83 Q1683.01 1457.79 1682.74 1453.71 Q1682.47 1449.65 1686.03 1446.1 Q1688.37 1443.76 1691.33 1443.48 Q1694.29 1443.2 1697.24 1445.03 M1701.25 1438.6 Q1699.35 1440.5 1699.46 1442.74 Q1699.59 1445 1701.74 1447.15 Q1703.87 1449.27 1706.13 1449.4 Q1708.4 1449.55 1710.3 1447.65 Q1712.2 1445.75 1712.05 1443.48 Q1711.92 1441.22 1709.79 1439.09 Q1707.65 1436.95 1705.39 1436.82 Q1703.15 1436.7 1701.25 1438.6 Z\" fill=\"#4c4c4c\" fill-rule=\"nonzero\" fill-opacity=\"1\" /><path clip-path=\"url(#clip020)\" d=\"M1731.12 1460.42 Q1728.57 1457.87 1724.75 1459.09 Q1720.97 1460.32 1715.93 1465.36 Q1710.9 1470.39 1709.66 1474.19 Q1708.45 1477.98 1711 1480.54 Q1713.57 1483.11 1717.35 1481.88 Q1721.17 1480.65 1726.19 1475.63 Q1731.23 1470.59 1732.45 1466.79 Q1733.69 1462.99 1731.12 1460.42 M1733.74 1457.8 Q1737.85 1461.91 1736.75 1467.33 Q1735.69 1472.75 1729.5 1478.93 Q1723.33 1485.1 1717.89 1486.18 Q1712.49 1487.26 1708.38 1483.16 Q1704.28 1479.05 1705.34 1473.63 Q1706.44 1468.21 1712.61 1462.04 Q1718.79 1455.85 1724.2 1454.77 Q1729.63 1453.69 1733.74 1457.8 Z\" fill=\"#4c4c4c\" fill-rule=\"nonzero\" fill-opacity=\"1\" /><path clip-path=\"url(#clip020)\" d=\"M1752.45 1481.75 Q1749.89 1479.19 1746.08 1480.42 Q1742.3 1481.65 1737.26 1486.69 Q1732.23 1491.72 1730.99 1495.51 Q1729.78 1499.31 1732.33 1501.86 Q1734.9 1504.43 1738.68 1503.21 Q1742.5 1501.98 1747.52 1496.95 Q1752.56 1491.91 1753.77 1488.12 Q1755.02 1484.32 1752.45 1481.75 M1755.07 1479.13 Q1759.17 1483.24 1758.08 1488.66 Q1757.01 1494.07 1750.83 1500.26 Q1744.66 1506.43 1739.22 1507.51 Q1733.82 1508.59 1729.71 1504.48 Q1725.6 1500.38 1726.67 1494.96 Q1727.76 1489.54 1733.93 1483.37 Q1740.12 1477.18 1745.52 1476.1 Q1750.96 1475.02 1755.07 1479.13 Z\" fill=\"#4c4c4c\" fill-rule=\"nonzero\" fill-opacity=\"1\" /><path clip-path=\"url(#clip020)\" d=\"M1773.77 1503.08 Q1771.22 1500.52 1767.41 1501.75 Q1763.63 1502.98 1758.59 1508.02 Q1753.56 1513.04 1752.32 1516.84 Q1751.11 1520.64 1753.66 1523.19 Q1756.23 1525.76 1760.01 1524.53 Q1763.82 1523.31 1768.85 1518.28 Q1773.89 1513.24 1775.1 1509.44 Q1776.34 1505.65 1773.77 1503.08 M1776.39 1500.46 Q1780.5 1504.57 1779.41 1509.98 Q1778.34 1515.4 1772.15 1521.59 Q1765.98 1527.76 1760.55 1528.84 Q1755.15 1529.92 1751.04 1525.81 Q1746.93 1521.7 1748 1516.28 Q1749.09 1510.87 1755.26 1504.7 Q1761.45 1498.51 1766.85 1497.43 Q1772.29 1496.35 1776.39 1500.46 Z\" fill=\"#4c4c4c\" fill-rule=\"nonzero\" fill-opacity=\"1\" /><path clip-path=\"url(#clip020)\" d=\"M1215.52 1556.6 L1222.43 1556.6 L1234.24 1574.26 L1246.11 1556.6 L1253.01 1556.6 L1237.74 1579.42 L1254.03 1604.12 L1247.13 1604.12 L1233.76 1583.9 L1220.3 1604.12 L1213.36 1604.12 L1230.32 1578.75 L1215.52 1556.6 Z\" fill=\"#000000\" fill-rule=\"nonzero\" fill-opacity=\"1\" /><polyline clip-path=\"url(#clip022)\" style=\"stroke:#000000; stroke-linecap:round; stroke-linejoin:round; stroke-width:2; stroke-opacity:0.2; fill:none\" points=\"581.799,1090.28 1885.59,1090.28 \"/>\n",
       "<polyline clip-path=\"url(#clip022)\" style=\"stroke:#000000; stroke-linecap:round; stroke-linejoin:round; stroke-width:2; stroke-opacity:0.2; fill:none\" points=\"581.799,824.198 1885.59,824.198 \"/>\n",
       "<polyline clip-path=\"url(#clip022)\" style=\"stroke:#000000; stroke-linecap:round; stroke-linejoin:round; stroke-width:2; stroke-opacity:0.2; fill:none\" points=\"581.799,558.118 1885.59,558.118 \"/>\n",
       "<polyline clip-path=\"url(#clip022)\" style=\"stroke:#000000; stroke-linecap:round; stroke-linejoin:round; stroke-width:2; stroke-opacity:0.2; fill:none\" points=\"581.799,292.038 1885.59,292.038 \"/>\n",
       "<polyline clip-path=\"url(#clip020)\" style=\"stroke:#4c4c4c; stroke-linecap:round; stroke-linejoin:round; stroke-width:4; stroke-opacity:1; fill:none\" points=\"581.799,1351.04 581.799,47.2441 \"/>\n",
       "<polyline clip-path=\"url(#clip020)\" style=\"stroke:#4c4c4c; stroke-linecap:round; stroke-linejoin:round; stroke-width:4; stroke-opacity:1; fill:none\" points=\"1885.59,1351.04 1885.59,47.2441 \"/>\n",
       "<polyline clip-path=\"url(#clip020)\" style=\"stroke:#4c4c4c; stroke-linecap:round; stroke-linejoin:round; stroke-width:4; stroke-opacity:1; fill:none\" points=\"581.799,1090.28 569.468,1090.28 \"/>\n",
       "<polyline clip-path=\"url(#clip020)\" style=\"stroke:#4c4c4c; stroke-linecap:round; stroke-linejoin:round; stroke-width:4; stroke-opacity:1; fill:none\" points=\"581.799,824.198 569.468,824.198 \"/>\n",
       "<polyline clip-path=\"url(#clip020)\" style=\"stroke:#4c4c4c; stroke-linecap:round; stroke-linejoin:round; stroke-width:4; stroke-opacity:1; fill:none\" points=\"581.799,558.118 569.468,558.118 \"/>\n",
       "<polyline clip-path=\"url(#clip020)\" style=\"stroke:#4c4c4c; stroke-linecap:round; stroke-linejoin:round; stroke-width:4; stroke-opacity:1; fill:none\" points=\"581.799,292.038 569.468,292.038 \"/>\n",
       "<path clip-path=\"url(#clip020)\" d=\"M339.05 1088.92 Q342.406 1089.64 344.281 1091.91 Q346.18 1094.18 346.18 1097.51 Q346.18 1102.63 342.661 1105.43 Q339.143 1108.23 332.661 1108.23 Q330.485 1108.23 328.17 1107.79 Q325.879 1107.37 323.425 1106.52 L323.425 1102 Q325.37 1103.14 327.684 1103.72 Q329.999 1104.29 332.522 1104.29 Q336.92 1104.29 339.212 1102.56 Q341.527 1100.82 341.527 1097.51 Q341.527 1094.46 339.374 1092.74 Q337.244 1091.01 333.425 1091.01 L329.397 1091.01 L329.397 1087.16 L333.61 1087.16 Q337.059 1087.16 338.888 1085.8 Q340.717 1084.41 340.717 1081.82 Q340.717 1079.16 338.819 1077.74 Q336.944 1076.31 333.425 1076.31 Q331.504 1076.31 329.305 1076.72 Q327.106 1077.14 324.467 1078.02 L324.467 1073.85 Q327.129 1073.11 329.444 1072.74 Q331.782 1072.37 333.842 1072.37 Q339.166 1072.37 342.268 1074.8 Q345.369 1077.21 345.369 1081.33 Q345.369 1084.2 343.726 1086.19 Q342.082 1088.16 339.05 1088.92 Z\" fill=\"#4c4c4c\" fill-rule=\"nonzero\" fill-opacity=\"1\" /><path clip-path=\"url(#clip020)\" d=\"M365.624 1088.41 Q362.476 1088.41 360.624 1090.57 Q358.795 1092.72 358.795 1096.47 Q358.795 1100.2 360.624 1102.37 Q362.476 1104.53 365.624 1104.53 Q368.772 1104.53 370.601 1102.37 Q372.453 1100.2 372.453 1096.47 Q372.453 1092.72 370.601 1090.57 Q368.772 1088.41 365.624 1088.41 M374.906 1073.76 L374.906 1078.02 Q373.147 1077.19 371.342 1076.75 Q369.559 1076.31 367.8 1076.31 Q363.17 1076.31 360.717 1079.43 Q358.286 1082.56 357.939 1088.88 Q359.305 1086.86 361.365 1085.8 Q363.425 1084.71 365.902 1084.71 Q371.11 1084.71 374.119 1087.88 Q377.152 1091.03 377.152 1096.47 Q377.152 1101.79 374.004 1105.01 Q370.855 1108.23 365.624 1108.23 Q359.629 1108.23 356.457 1103.65 Q353.286 1099.04 353.286 1090.31 Q353.286 1082.12 357.175 1077.26 Q361.064 1072.37 367.615 1072.37 Q369.374 1072.37 371.156 1072.72 Q372.962 1073.07 374.906 1073.76 Z\" fill=\"#4c4c4c\" fill-rule=\"nonzero\" fill-opacity=\"1\" /><path clip-path=\"url(#clip020)\" d=\"M385.253 1073 L403.61 1073 L403.61 1076.93 L389.536 1076.93 L389.536 1085.4 Q390.554 1085.06 391.573 1084.9 Q392.591 1084.71 393.61 1084.71 Q399.397 1084.71 402.777 1087.88 Q406.156 1091.05 406.156 1096.47 Q406.156 1102.05 402.684 1105.15 Q399.212 1108.23 392.892 1108.23 Q390.716 1108.23 388.448 1107.86 Q386.203 1107.49 383.795 1106.75 L383.795 1102.05 Q385.878 1103.18 388.101 1103.74 Q390.323 1104.29 392.8 1104.29 Q396.804 1104.29 399.142 1102.19 Q401.48 1100.08 401.48 1096.47 Q401.48 1092.86 399.142 1090.75 Q396.804 1088.65 392.8 1088.65 Q390.925 1088.65 389.05 1089.06 Q387.198 1089.48 385.253 1090.36 L385.253 1073 Z\" fill=\"#4c4c4c\" fill-rule=\"nonzero\" fill-opacity=\"1\" /><path clip-path=\"url(#clip020)\" d=\"M419.397 1103.62 L435.716 1103.62 L435.716 1107.56 L413.772 1107.56 L413.772 1103.62 Q416.434 1100.87 421.017 1096.24 Q425.624 1091.59 426.804 1090.24 Q429.05 1087.72 429.929 1085.98 Q430.832 1084.22 430.832 1082.53 Q430.832 1079.78 428.888 1078.04 Q426.966 1076.31 423.864 1076.31 Q421.665 1076.31 419.212 1077.07 Q416.781 1077.84 414.003 1079.39 L414.003 1074.66 Q416.827 1073.53 419.281 1072.95 Q421.735 1072.37 423.772 1072.37 Q429.142 1072.37 432.337 1075.06 Q435.531 1077.74 435.531 1082.23 Q435.531 1084.36 434.721 1086.28 Q433.934 1088.18 431.827 1090.78 Q431.249 1091.45 428.147 1094.66 Q425.045 1097.86 419.397 1103.62 Z\" fill=\"#4c4c4c\" fill-rule=\"nonzero\" fill-opacity=\"1\" /><path clip-path=\"url(#clip020)\" d=\"M455.531 1076.08 Q451.92 1076.08 450.091 1079.64 Q448.286 1083.18 448.286 1090.31 Q448.286 1097.42 450.091 1100.98 Q451.92 1104.53 455.531 1104.53 Q459.165 1104.53 460.971 1100.98 Q462.799 1097.42 462.799 1090.31 Q462.799 1083.18 460.971 1079.64 Q459.165 1076.08 455.531 1076.08 M455.531 1072.37 Q461.341 1072.37 464.397 1076.98 Q467.475 1081.56 467.475 1090.31 Q467.475 1099.04 464.397 1103.65 Q461.341 1108.23 455.531 1108.23 Q449.721 1108.23 446.642 1103.65 Q443.587 1099.04 443.587 1090.31 Q443.587 1081.56 446.642 1076.98 Q449.721 1072.37 455.531 1072.37 Z\" fill=\"#4c4c4c\" fill-rule=\"nonzero\" fill-opacity=\"1\" /><path clip-path=\"url(#clip020)\" d=\"M485.693 1076.08 Q482.082 1076.08 480.253 1079.64 Q478.447 1083.18 478.447 1090.31 Q478.447 1097.42 480.253 1100.98 Q482.082 1104.53 485.693 1104.53 Q489.327 1104.53 491.133 1100.98 Q492.961 1097.42 492.961 1090.31 Q492.961 1083.18 491.133 1079.64 Q489.327 1076.08 485.693 1076.08 M485.693 1072.37 Q491.503 1072.37 494.558 1076.98 Q497.637 1081.56 497.637 1090.31 Q497.637 1099.04 494.558 1103.65 Q491.503 1108.23 485.693 1108.23 Q479.883 1108.23 476.804 1103.65 Q473.748 1099.04 473.748 1090.31 Q473.748 1081.56 476.804 1076.98 Q479.883 1072.37 485.693 1072.37 Z\" fill=\"#4c4c4c\" fill-rule=\"nonzero\" fill-opacity=\"1\" /><path clip-path=\"url(#clip020)\" d=\"M515.855 1076.08 Q512.244 1076.08 510.415 1079.64 Q508.609 1083.18 508.609 1090.31 Q508.609 1097.42 510.415 1100.98 Q512.244 1104.53 515.855 1104.53 Q519.489 1104.53 521.294 1100.98 Q523.123 1097.42 523.123 1090.31 Q523.123 1083.18 521.294 1079.64 Q519.489 1076.08 515.855 1076.08 M515.855 1072.37 Q521.665 1072.37 524.72 1076.98 Q527.799 1081.56 527.799 1090.31 Q527.799 1099.04 524.72 1103.65 Q521.665 1108.23 515.855 1108.23 Q510.044 1108.23 506.966 1103.65 Q503.91 1099.04 503.91 1090.31 Q503.91 1081.56 506.966 1076.98 Q510.044 1072.37 515.855 1072.37 Z\" fill=\"#4c4c4c\" fill-rule=\"nonzero\" fill-opacity=\"1\" /><path clip-path=\"url(#clip020)\" d=\"M339.05 822.844 Q342.406 823.561 344.281 825.83 Q346.18 828.098 346.18 831.431 Q346.18 836.547 342.661 839.348 Q339.143 842.149 332.661 842.149 Q330.485 842.149 328.17 841.709 Q325.879 841.292 323.425 840.436 L323.425 835.922 Q325.37 837.056 327.684 837.635 Q329.999 838.214 332.522 838.214 Q336.92 838.214 339.212 836.478 Q341.527 834.742 341.527 831.431 Q341.527 828.376 339.374 826.663 Q337.244 824.927 333.425 824.927 L329.397 824.927 L329.397 821.084 L333.61 821.084 Q337.059 821.084 338.888 819.719 Q340.717 818.33 340.717 815.737 Q340.717 813.075 338.819 811.663 Q336.944 810.228 333.425 810.228 Q331.504 810.228 329.305 810.644 Q327.106 811.061 324.467 811.941 L324.467 807.774 Q327.129 807.033 329.444 806.663 Q331.782 806.293 333.842 806.293 Q339.166 806.293 342.268 808.723 Q345.369 811.131 345.369 815.251 Q345.369 818.121 343.726 820.112 Q342.082 822.08 339.05 822.844 Z\" fill=\"#4c4c4c\" fill-rule=\"nonzero\" fill-opacity=\"1\" /><path clip-path=\"url(#clip020)\" d=\"M365.624 822.334 Q362.476 822.334 360.624 824.487 Q358.795 826.64 358.795 830.39 Q358.795 834.117 360.624 836.293 Q362.476 838.445 365.624 838.445 Q368.772 838.445 370.601 836.293 Q372.453 834.117 372.453 830.39 Q372.453 826.64 370.601 824.487 Q368.772 822.334 365.624 822.334 M374.906 807.682 L374.906 811.941 Q373.147 811.107 371.342 810.668 Q369.559 810.228 367.8 810.228 Q363.17 810.228 360.717 813.353 Q358.286 816.478 357.939 822.797 Q359.305 820.783 361.365 819.719 Q363.425 818.631 365.902 818.631 Q371.11 818.631 374.119 821.802 Q377.152 824.95 377.152 830.39 Q377.152 835.714 374.004 838.931 Q370.855 842.149 365.624 842.149 Q359.629 842.149 356.457 837.566 Q353.286 832.959 353.286 824.232 Q353.286 816.038 357.175 811.177 Q361.064 806.293 367.615 806.293 Q369.374 806.293 371.156 806.64 Q372.962 806.987 374.906 807.682 Z\" fill=\"#4c4c4c\" fill-rule=\"nonzero\" fill-opacity=\"1\" /><path clip-path=\"url(#clip020)\" d=\"M385.253 806.918 L403.61 806.918 L403.61 810.853 L389.536 810.853 L389.536 819.325 Q390.554 818.978 391.573 818.816 Q392.591 818.631 393.61 818.631 Q399.397 818.631 402.777 821.802 Q406.156 824.973 406.156 830.39 Q406.156 835.968 402.684 839.07 Q399.212 842.149 392.892 842.149 Q390.716 842.149 388.448 841.779 Q386.203 841.408 383.795 840.667 L383.795 835.968 Q385.878 837.103 388.101 837.658 Q390.323 838.214 392.8 838.214 Q396.804 838.214 399.142 836.107 Q401.48 834.001 401.48 830.39 Q401.48 826.779 399.142 824.672 Q396.804 822.566 392.8 822.566 Q390.925 822.566 389.05 822.982 Q387.198 823.399 385.253 824.279 L385.253 806.918 Z\" fill=\"#4c4c4c\" fill-rule=\"nonzero\" fill-opacity=\"1\" /><path clip-path=\"url(#clip020)\" d=\"M428.216 810.992 L416.411 829.441 L428.216 829.441 L428.216 810.992 M426.989 806.918 L432.869 806.918 L432.869 829.441 L437.799 829.441 L437.799 833.33 L432.869 833.33 L432.869 841.478 L428.216 841.478 L428.216 833.33 L412.614 833.33 L412.614 828.816 L426.989 806.918 Z\" fill=\"#4c4c4c\" fill-rule=\"nonzero\" fill-opacity=\"1\" /><path clip-path=\"url(#clip020)\" d=\"M455.531 809.996 Q451.92 809.996 450.091 813.561 Q448.286 817.103 448.286 824.232 Q448.286 831.339 450.091 834.904 Q451.92 838.445 455.531 838.445 Q459.165 838.445 460.971 834.904 Q462.799 831.339 462.799 824.232 Q462.799 817.103 460.971 813.561 Q459.165 809.996 455.531 809.996 M455.531 806.293 Q461.341 806.293 464.397 810.899 Q467.475 815.482 467.475 824.232 Q467.475 832.959 464.397 837.566 Q461.341 842.149 455.531 842.149 Q449.721 842.149 446.642 837.566 Q443.587 832.959 443.587 824.232 Q443.587 815.482 446.642 810.899 Q449.721 806.293 455.531 806.293 Z\" fill=\"#4c4c4c\" fill-rule=\"nonzero\" fill-opacity=\"1\" /><path clip-path=\"url(#clip020)\" d=\"M485.693 809.996 Q482.082 809.996 480.253 813.561 Q478.447 817.103 478.447 824.232 Q478.447 831.339 480.253 834.904 Q482.082 838.445 485.693 838.445 Q489.327 838.445 491.133 834.904 Q492.961 831.339 492.961 824.232 Q492.961 817.103 491.133 813.561 Q489.327 809.996 485.693 809.996 M485.693 806.293 Q491.503 806.293 494.558 810.899 Q497.637 815.482 497.637 824.232 Q497.637 832.959 494.558 837.566 Q491.503 842.149 485.693 842.149 Q479.883 842.149 476.804 837.566 Q473.748 832.959 473.748 824.232 Q473.748 815.482 476.804 810.899 Q479.883 806.293 485.693 806.293 Z\" fill=\"#4c4c4c\" fill-rule=\"nonzero\" fill-opacity=\"1\" /><path clip-path=\"url(#clip020)\" d=\"M515.855 809.996 Q512.244 809.996 510.415 813.561 Q508.609 817.103 508.609 824.232 Q508.609 831.339 510.415 834.904 Q512.244 838.445 515.855 838.445 Q519.489 838.445 521.294 834.904 Q523.123 831.339 523.123 824.232 Q523.123 817.103 521.294 813.561 Q519.489 809.996 515.855 809.996 M515.855 806.293 Q521.665 806.293 524.72 810.899 Q527.799 815.482 527.799 824.232 Q527.799 832.959 524.72 837.566 Q521.665 842.149 515.855 842.149 Q510.044 842.149 506.966 837.566 Q503.91 832.959 503.91 824.232 Q503.91 815.482 506.966 810.899 Q510.044 806.293 515.855 806.293 Z\" fill=\"#4c4c4c\" fill-rule=\"nonzero\" fill-opacity=\"1\" /><path clip-path=\"url(#clip020)\" d=\"M339.05 556.764 Q342.406 557.481 344.281 559.75 Q346.18 562.018 346.18 565.351 Q346.18 570.467 342.661 573.268 Q339.143 576.069 332.661 576.069 Q330.485 576.069 328.17 575.629 Q325.879 575.212 323.425 574.356 L323.425 569.842 Q325.37 570.976 327.684 571.555 Q329.999 572.134 332.522 572.134 Q336.92 572.134 339.212 570.398 Q341.527 568.662 341.527 565.351 Q341.527 562.296 339.374 560.583 Q337.244 558.847 333.425 558.847 L329.397 558.847 L329.397 555.004 L333.61 555.004 Q337.059 555.004 338.888 553.639 Q340.717 552.25 340.717 549.657 Q340.717 546.995 338.819 545.583 Q336.944 544.148 333.425 544.148 Q331.504 544.148 329.305 544.565 Q327.106 544.981 324.467 545.861 L324.467 541.694 Q327.129 540.953 329.444 540.583 Q331.782 540.213 333.842 540.213 Q339.166 540.213 342.268 542.643 Q345.369 545.051 345.369 549.171 Q345.369 552.041 343.726 554.032 Q342.082 556 339.05 556.764 Z\" fill=\"#4c4c4c\" fill-rule=\"nonzero\" fill-opacity=\"1\" /><path clip-path=\"url(#clip020)\" d=\"M365.624 556.254 Q362.476 556.254 360.624 558.407 Q358.795 560.56 358.795 564.31 Q358.795 568.037 360.624 570.213 Q362.476 572.365 365.624 572.365 Q368.772 572.365 370.601 570.213 Q372.453 568.037 372.453 564.31 Q372.453 560.56 370.601 558.407 Q368.772 556.254 365.624 556.254 M374.906 541.602 L374.906 545.861 Q373.147 545.027 371.342 544.588 Q369.559 544.148 367.8 544.148 Q363.17 544.148 360.717 547.273 Q358.286 550.398 357.939 556.717 Q359.305 554.703 361.365 553.639 Q363.425 552.551 365.902 552.551 Q371.11 552.551 374.119 555.722 Q377.152 558.87 377.152 564.31 Q377.152 569.634 374.004 572.851 Q370.855 576.069 365.624 576.069 Q359.629 576.069 356.457 571.486 Q353.286 566.879 353.286 558.152 Q353.286 549.958 357.175 545.097 Q361.064 540.213 367.615 540.213 Q369.374 540.213 371.156 540.56 Q372.962 540.907 374.906 541.602 Z\" fill=\"#4c4c4c\" fill-rule=\"nonzero\" fill-opacity=\"1\" /><path clip-path=\"url(#clip020)\" d=\"M385.253 540.838 L403.61 540.838 L403.61 544.773 L389.536 544.773 L389.536 553.245 Q390.554 552.898 391.573 552.736 Q392.591 552.551 393.61 552.551 Q399.397 552.551 402.777 555.722 Q406.156 558.893 406.156 564.31 Q406.156 569.888 402.684 572.99 Q399.212 576.069 392.892 576.069 Q390.716 576.069 388.448 575.699 Q386.203 575.328 383.795 574.587 L383.795 569.888 Q385.878 571.023 388.101 571.578 Q390.323 572.134 392.8 572.134 Q396.804 572.134 399.142 570.027 Q401.48 567.921 401.48 564.31 Q401.48 560.699 399.142 558.592 Q396.804 556.486 392.8 556.486 Q390.925 556.486 389.05 556.902 Q387.198 557.319 385.253 558.199 L385.253 540.838 Z\" fill=\"#4c4c4c\" fill-rule=\"nonzero\" fill-opacity=\"1\" /><path clip-path=\"url(#clip020)\" d=\"M425.948 556.254 Q422.8 556.254 420.948 558.407 Q419.119 560.56 419.119 564.31 Q419.119 568.037 420.948 570.213 Q422.8 572.365 425.948 572.365 Q429.096 572.365 430.925 570.213 Q432.776 568.037 432.776 564.31 Q432.776 560.56 430.925 558.407 Q429.096 556.254 425.948 556.254 M435.23 541.602 L435.23 545.861 Q433.471 545.027 431.665 544.588 Q429.883 544.148 428.124 544.148 Q423.494 544.148 421.04 547.273 Q418.61 550.398 418.263 556.717 Q419.628 554.703 421.688 553.639 Q423.749 552.551 426.225 552.551 Q431.434 552.551 434.443 555.722 Q437.475 558.87 437.475 564.31 Q437.475 569.634 434.327 572.851 Q431.179 576.069 425.948 576.069 Q419.952 576.069 416.781 571.486 Q413.61 566.879 413.61 558.152 Q413.61 549.958 417.499 545.097 Q421.388 540.213 427.938 540.213 Q429.698 540.213 431.48 540.56 Q433.286 540.907 435.23 541.602 Z\" fill=\"#4c4c4c\" fill-rule=\"nonzero\" fill-opacity=\"1\" /><path clip-path=\"url(#clip020)\" d=\"M455.531 543.916 Q451.92 543.916 450.091 547.481 Q448.286 551.023 448.286 558.152 Q448.286 565.259 450.091 568.824 Q451.92 572.365 455.531 572.365 Q459.165 572.365 460.971 568.824 Q462.799 565.259 462.799 558.152 Q462.799 551.023 460.971 547.481 Q459.165 543.916 455.531 543.916 M455.531 540.213 Q461.341 540.213 464.397 544.819 Q467.475 549.402 467.475 558.152 Q467.475 566.879 464.397 571.486 Q461.341 576.069 455.531 576.069 Q449.721 576.069 446.642 571.486 Q443.587 566.879 443.587 558.152 Q443.587 549.402 446.642 544.819 Q449.721 540.213 455.531 540.213 Z\" fill=\"#4c4c4c\" fill-rule=\"nonzero\" fill-opacity=\"1\" /><path clip-path=\"url(#clip020)\" d=\"M485.693 543.916 Q482.082 543.916 480.253 547.481 Q478.447 551.023 478.447 558.152 Q478.447 565.259 480.253 568.824 Q482.082 572.365 485.693 572.365 Q489.327 572.365 491.133 568.824 Q492.961 565.259 492.961 558.152 Q492.961 551.023 491.133 547.481 Q489.327 543.916 485.693 543.916 M485.693 540.213 Q491.503 540.213 494.558 544.819 Q497.637 549.402 497.637 558.152 Q497.637 566.879 494.558 571.486 Q491.503 576.069 485.693 576.069 Q479.883 576.069 476.804 571.486 Q473.748 566.879 473.748 558.152 Q473.748 549.402 476.804 544.819 Q479.883 540.213 485.693 540.213 Z\" fill=\"#4c4c4c\" fill-rule=\"nonzero\" fill-opacity=\"1\" /><path clip-path=\"url(#clip020)\" d=\"M515.855 543.916 Q512.244 543.916 510.415 547.481 Q508.609 551.023 508.609 558.152 Q508.609 565.259 510.415 568.824 Q512.244 572.365 515.855 572.365 Q519.489 572.365 521.294 568.824 Q523.123 565.259 523.123 558.152 Q523.123 551.023 521.294 547.481 Q519.489 543.916 515.855 543.916 M515.855 540.213 Q521.665 540.213 524.72 544.819 Q527.799 549.402 527.799 558.152 Q527.799 566.879 524.72 571.486 Q521.665 576.069 515.855 576.069 Q510.044 576.069 506.966 571.486 Q503.91 566.879 503.91 558.152 Q503.91 549.402 506.966 544.819 Q510.044 540.213 515.855 540.213 Z\" fill=\"#4c4c4c\" fill-rule=\"nonzero\" fill-opacity=\"1\" /><path clip-path=\"url(#clip020)\" d=\"M339.05 290.684 Q342.406 291.401 344.281 293.67 Q346.18 295.938 346.18 299.271 Q346.18 304.387 342.661 307.188 Q339.143 309.989 332.661 309.989 Q330.485 309.989 328.17 309.549 Q325.879 309.132 323.425 308.276 L323.425 303.762 Q325.37 304.896 327.684 305.475 Q329.999 306.054 332.522 306.054 Q336.92 306.054 339.212 304.318 Q341.527 302.582 341.527 299.271 Q341.527 296.216 339.374 294.503 Q337.244 292.767 333.425 292.767 L329.397 292.767 L329.397 288.924 L333.61 288.924 Q337.059 288.924 338.888 287.559 Q340.717 286.17 340.717 283.577 Q340.717 280.915 338.819 279.503 Q336.944 278.068 333.425 278.068 Q331.504 278.068 329.305 278.485 Q327.106 278.901 324.467 279.781 L324.467 275.614 Q327.129 274.873 329.444 274.503 Q331.782 274.133 333.842 274.133 Q339.166 274.133 342.268 276.563 Q345.369 278.971 345.369 283.091 Q345.369 285.961 343.726 287.952 Q342.082 289.92 339.05 290.684 Z\" fill=\"#4c4c4c\" fill-rule=\"nonzero\" fill-opacity=\"1\" /><path clip-path=\"url(#clip020)\" d=\"M365.624 290.174 Q362.476 290.174 360.624 292.327 Q358.795 294.48 358.795 298.23 Q358.795 301.957 360.624 304.133 Q362.476 306.285 365.624 306.285 Q368.772 306.285 370.601 304.133 Q372.453 301.957 372.453 298.23 Q372.453 294.48 370.601 292.327 Q368.772 290.174 365.624 290.174 M374.906 275.522 L374.906 279.781 Q373.147 278.947 371.342 278.508 Q369.559 278.068 367.8 278.068 Q363.17 278.068 360.717 281.193 Q358.286 284.318 357.939 290.637 Q359.305 288.623 361.365 287.559 Q363.425 286.471 365.902 286.471 Q371.11 286.471 374.119 289.642 Q377.152 292.79 377.152 298.23 Q377.152 303.554 374.004 306.771 Q370.855 309.989 365.624 309.989 Q359.629 309.989 356.457 305.406 Q353.286 300.799 353.286 292.072 Q353.286 283.878 357.175 279.017 Q361.064 274.133 367.615 274.133 Q369.374 274.133 371.156 274.48 Q372.962 274.827 374.906 275.522 Z\" fill=\"#4c4c4c\" fill-rule=\"nonzero\" fill-opacity=\"1\" /><path clip-path=\"url(#clip020)\" d=\"M385.253 274.758 L403.61 274.758 L403.61 278.693 L389.536 278.693 L389.536 287.165 Q390.554 286.818 391.573 286.656 Q392.591 286.471 393.61 286.471 Q399.397 286.471 402.777 289.642 Q406.156 292.813 406.156 298.23 Q406.156 303.808 402.684 306.91 Q399.212 309.989 392.892 309.989 Q390.716 309.989 388.448 309.619 Q386.203 309.248 383.795 308.508 L383.795 303.808 Q385.878 304.943 388.101 305.498 Q390.323 306.054 392.8 306.054 Q396.804 306.054 399.142 303.947 Q401.48 301.841 401.48 298.23 Q401.48 294.619 399.142 292.512 Q396.804 290.406 392.8 290.406 Q390.925 290.406 389.05 290.822 Q387.198 291.239 385.253 292.119 L385.253 274.758 Z\" fill=\"#4c4c4c\" fill-rule=\"nonzero\" fill-opacity=\"1\" /><path clip-path=\"url(#clip020)\" d=\"M425.369 292.906 Q422.036 292.906 420.114 294.688 Q418.216 296.471 418.216 299.596 Q418.216 302.72 420.114 304.503 Q422.036 306.285 425.369 306.285 Q428.702 306.285 430.624 304.503 Q432.545 302.697 432.545 299.596 Q432.545 296.471 430.624 294.688 Q428.725 292.906 425.369 292.906 M420.693 290.915 Q417.684 290.174 415.994 288.114 Q414.327 286.054 414.327 283.091 Q414.327 278.947 417.267 276.54 Q420.23 274.133 425.369 274.133 Q430.531 274.133 433.471 276.54 Q436.411 278.947 436.411 283.091 Q436.411 286.054 434.721 288.114 Q433.054 290.174 430.068 290.915 Q433.448 291.702 435.323 293.994 Q437.221 296.285 437.221 299.596 Q437.221 304.619 434.142 307.304 Q431.087 309.989 425.369 309.989 Q419.651 309.989 416.573 307.304 Q413.517 304.619 413.517 299.596 Q413.517 296.285 415.415 293.994 Q417.313 291.702 420.693 290.915 M418.98 283.531 Q418.98 286.216 420.647 287.721 Q422.337 289.225 425.369 289.225 Q428.378 289.225 430.068 287.721 Q431.781 286.216 431.781 283.531 Q431.781 280.846 430.068 279.341 Q428.378 277.836 425.369 277.836 Q422.337 277.836 420.647 279.341 Q418.98 280.846 418.98 283.531 Z\" fill=\"#4c4c4c\" fill-rule=\"nonzero\" fill-opacity=\"1\" /><path clip-path=\"url(#clip020)\" d=\"M455.531 277.836 Q451.92 277.836 450.091 281.401 Q448.286 284.943 448.286 292.072 Q448.286 299.179 450.091 302.744 Q451.92 306.285 455.531 306.285 Q459.165 306.285 460.971 302.744 Q462.799 299.179 462.799 292.072 Q462.799 284.943 460.971 281.401 Q459.165 277.836 455.531 277.836 M455.531 274.133 Q461.341 274.133 464.397 278.739 Q467.475 283.322 467.475 292.072 Q467.475 300.799 464.397 305.406 Q461.341 309.989 455.531 309.989 Q449.721 309.989 446.642 305.406 Q443.587 300.799 443.587 292.072 Q443.587 283.322 446.642 278.739 Q449.721 274.133 455.531 274.133 Z\" fill=\"#4c4c4c\" fill-rule=\"nonzero\" fill-opacity=\"1\" /><path clip-path=\"url(#clip020)\" d=\"M485.693 277.836 Q482.082 277.836 480.253 281.401 Q478.447 284.943 478.447 292.072 Q478.447 299.179 480.253 302.744 Q482.082 306.285 485.693 306.285 Q489.327 306.285 491.133 302.744 Q492.961 299.179 492.961 292.072 Q492.961 284.943 491.133 281.401 Q489.327 277.836 485.693 277.836 M485.693 274.133 Q491.503 274.133 494.558 278.739 Q497.637 283.322 497.637 292.072 Q497.637 300.799 494.558 305.406 Q491.503 309.989 485.693 309.989 Q479.883 309.989 476.804 305.406 Q473.748 300.799 473.748 292.072 Q473.748 283.322 476.804 278.739 Q479.883 274.133 485.693 274.133 Z\" fill=\"#4c4c4c\" fill-rule=\"nonzero\" fill-opacity=\"1\" /><path clip-path=\"url(#clip020)\" d=\"M515.855 277.836 Q512.244 277.836 510.415 281.401 Q508.609 284.943 508.609 292.072 Q508.609 299.179 510.415 302.744 Q512.244 306.285 515.855 306.285 Q519.489 306.285 521.294 302.744 Q523.123 299.179 523.123 292.072 Q523.123 284.943 521.294 281.401 Q519.489 277.836 515.855 277.836 M515.855 274.133 Q521.665 274.133 524.72 278.739 Q527.799 283.322 527.799 292.072 Q527.799 300.799 524.72 305.406 Q521.665 309.989 515.855 309.989 Q510.044 309.989 506.966 305.406 Q503.91 300.799 503.91 292.072 Q503.91 283.322 506.966 278.739 Q510.044 274.133 515.855 274.133 Z\" fill=\"#4c4c4c\" fill-rule=\"nonzero\" fill-opacity=\"1\" /><path clip-path=\"url(#clip020)\" d=\"M243.649 719.176 L243.649 712.269 L263.192 699.092 L243.649 686.011 L243.649 679.104 L268.539 695.909 L291.169 695.909 L291.169 702.371 L268.539 702.371 L243.649 719.176 Z\" fill=\"#000000\" fill-rule=\"nonzero\" fill-opacity=\"1\" /><g clip-path=\"url(#clip022)\">\n",
       "<image width=\"1304\" height=\"1304\" xlink:href=\"data:image/png;base64,\n",
       "iVBORw0KGgoAAAANSUhEUgAABRgAAAUYCAYAAADDGL4dAAAgAElEQVR4nOzay859SZrf9d867b3f\n",
       "0/+QWVmd1dXlrq52C9nItkAeITOAGXfAPXALXASXwJgRgjGICUI2jYUEBmFc3UVXl+uUmf/Te9h7\n",
       "rxOD9MQy6ufL6uXETX8/40cRsZ6IeCJ2vG/zn/yn/2ANcF76MqYF7XTNQrpDcW3qoc9pUH//zS//\n",
       "sIz58LFDbSEo699xdyBo3XHcLUjn3X29DtaVzfHQ1W317X4f2DR1Wy2I6eCYyH4g3zfDfPZgjy5g\n",
       "/z2NA+qP5GpoWX2p3PQjivtnv7gvY5a5bmcFMUmyLnUOmq7O+e//6Iz6+/HduzLm0NSDJ3NH435z\n",
       "qXP+j/7nN6i/5fwdF2JwSDYg5uOfXMuYFW6F/lCvl/6mHlR/w+rG3/0H9dj/8O6rMua2Y3v0vqv7\n",
       "+3yo98N9P6H+/sahPthGMDkvYK8nyTswrP/853+vjPntxyPqj/jBm5cyhtSWWzB3CTuLSMypZXM8\n",
       "reS2W6Nn7QrvsRU6bnKXGEFbTxNbU2Slj2u9rw5g/o5wjkmmrmBMeI5BHLlPLTuuqWHHs/2mres1\n",
       "+b4L+C2asPOBrBeyF+j+JJki3zcu+/0WJb+16Vl7BeMi64XcKRNWg0jdoHuGnCEzGNMJ5vMI8kDm\n",
       "j6xPejb0YEwvS/2bblpYf6QmPIJzhv42fOjqu2AH2roF9S5JPk6nMoa8Yz1NB9Tfsa3nbwAx5Bzd\n",
       "55YkSZIkSZIk6a8lHxglSZIkSZIkbeYDoyRJkiRJkqTNfGCUJEmSJEmStJkPjJIkSZIkSZI284FR\n",
       "kiRJkiRJ0mY+MEqSJEmSJEnazAdGSZIkSZIkSZv5wChJkiRJkiRps35dGxR4XfoyZl3rdtoGBCU5\n",
       "tHMZMzR1zBr2fSgPZOisOxYH+mPZ/H8T+Bdr4JM0+TzSFkonXFPNXlNM5xgg+2HH7rKAD2zgYiFj\n",
       "b0FbA9jrCcs7GTtrhyGZWhcSBDco6rAOWWDdJ3ET+DtVF5KE3T7vr4F6XhpYFxE2fawpVINIO2wN\n",
       "T2u9Psnn0f5msEInENPCInRq67b+nTe/KGP+q1/+pIx58xlbCNOyz9+uO7jbSX0h64DEJKwGfZyO\n",
       "ZcxDd0X9HdupjHmcD6gtYq+r7rGrx50kH8c6V91Od6XzPICopGvqNUV+X5BxJ0H32BnsK/obi8T1\n",
       "IAf0vti3+7VF3LRjGbOA+XsB64X+JiDXPFKD6J2ZXisrpJYlrE6Rc/SaDvVHPo+8E5xgnbqAd5C9\n",
       "9lXC5pnUoCuoG/R+cwP28QXMzF1f788kGcHY1x7ch1Fvyae5XuvDAnLQsHPmDNbUm+GljDkMrCaQ\n",
       "9Yn26FLvUf+DUZIkSZIkSdJmPjBKkiRJkiRJ2swHRkmSJEmSJEmb+cAoSZIkSZIkaTMfGCVJkiRJ\n",
       "kiRt5gOjJEmSJEmSpM18YJQkSZIkSZK0mQ+MkiRJkiRJkjbrm2aFgUsZM4H3ygb1lqxgWNe1Ay2x\n",
       "HhfQH8kU/b694HySQPKB9TLATZE5XsjA2RJOujqwA/uB7pkGDL3dccGQ/vZspwM1YV5BTYD9sSVc\n",
       "R5FxN3BRteBPNGTL0CWMkgBi0L4KnD/QDpmXJOlBtlYw9pXWKVL496qdSRrSGPmzHymeEGlqBUFk\n",
       "XpLkppvKmGNbx/Qtm2SSqU/ToYz5weEJ9XdohjJmAvmceVUofXZ4KWO6etjYh5c6n81D/X0LrBvn\n",
       "hQy+7q9v2N/cD+0M2qr7m0B9TZJDwH4gd3TYH4kj/ZGzNkkOx/r7nsAeHde+jJlgnRrA2juAOtXC\n",
       "ffw8199H8knWZpIMII7cgxa4psjYj009JnJ+JOxc63e6M+Ocg+/77fWujKH3N7KPX8C6uy50juuk\n",
       "vx7OZcyhYXN8245lzAjeCS5LXTcSNs+0xhLk3vxxOpYxE5i/7/psoJdmsqYeuksZQ+8STeq7BKmd\n",
       "78Yb2F/tZa7HdNvVeyHZ7y3vFuTc/2CUJEmSJEmStJkPjJIkSZIkSZI284FRkiRJkiRJ0mY+MEqS\n",
       "JEmSJEnazAdGSZIkSZIkSZv5wChJkiRJkiRpMx8YJUmSJEmSJG3mA6MkSZIkSZKkzfo3/RkFPnTX\n",
       "MmZamzKmrUOwJmsZ87IMrC0wrhY8x5J2koCR0yAItIW6g99HwhryvA0GNS+gnSTzQtZnHdPBHLSp\n",
       "B0bWMM1529Rtof6gFQysa+ocdGDcSbKiNVyPibSzwKTf3NWNjYe6rQWszSRoP5AaRHNO5o+su76Z\n",
       "YX91W2id0z+dgVw1tKgTZFykwOw47hb015CYnvVHalAP1h3Zx0kyg6Q/g3vCb8ce9fd9cOXowdyc\n",
       "F3awkZr3CtzfvvhsLGM+PLH7VNeBurh0Zcza1WNK2N2FrM4F3GGph/5SxnwYT6itUzeVMSQHLTz/\n",
       "Z5Ctea33FdnHCcv7oa3PkEPqmJeZrWFyzpBxk/qTJA3oj5zHp5btGXZfrH2C+STz9wzWFL3BHkF/\n",
       "A1gvt6B2khqcJFdQ816D3+T0fvrV9a6MeQbzNy1sDY9r/X2XpT5Hv3d4Qv296uoaS3IFry6ZyX5H\n",
       "ZwjL5+O0Tz4JMndJcpO6vrwZ6jU8gb2eJE9zPa4FtEV/+5I6RcZO6k/C9tan6VjG7LUOEvZ77dLW\n",
       "8+J/MEqSJEmSJEnazAdGSZIkSZIkSZv5wChJkiRJkiRpMx8YJUmSJEmSJG3mA6MkSZIkSZKkzXxg\n",
       "lCRJkiRJkrSZD4ySJEmSJEmSNvOBUZIkSZIkSdJmPjBKkiRJkiRJ2qz/8nhGgdelfoscmrWMaUFM\n",
       "kryA/siY1qlB/R36pYzph7q/hnWHrCBVSz1s3FbY1OyG5KrrwJqCz+Snfi5jhg6sg5YlfWjquAbs\n",
       "h4ZODFl7oKkVNZScuqmMIfud7pnr0pUxZJ2T7+tgnerB+pznuj+aA/J9pC261UmumtTrnK6paa3j\n",
       "ZhBDNSRZO9Z0lHiyhlEJYrO8kBSAGruOrL9DW9fhHxwfy5h30xH1N6/14HtQq3/3UNe7JBmaelwr\n",
       "mJs9l90J5Px7p+cy5qt3r1F/3U0d826sgwYw7iQ5tvXc3PdX1BZBzuQjGPt72B85+8gavqw96m8l\n",
       "NRaekQTZo3u1Q/JE27qu9byMYO4Sdp8iMS/LgPojeSAxdBU8z2xclQ7OXwtG1rZ1DLnH4yzstEcX\n",
       "eAd61de/72+7ui6+G29Rf2Stk1p9WVidejfVZ8gE3gnu4NmwV516ntn33XZjGfPQX8qYy1zPywT/\n",
       "3+wDyDnJE1kHtC1SEwb4u52ctUNTn+0deEtIkpuhnuMzqOlk3AnL1UjONRDjfzBKkiRJkiRJ2swH\n",
       "RkmSJEmSJEmb+cAoSZIkSZIkaTMfGCVJkiRJkiRt5gOjJEmSJEmSpM18YJQkSZIkSZK0mQ+MkiRJ\n",
       "kiRJkjbzgVGSJEmSJEnSZv0vLzcocFy/27fIeaf+5rVBcU3WMmatQ3a1Z3+krXWpYxqWTga01bX1\n",
       "wNuGJerUT2XMsZvrMTUgUUl6ENe1dcyeKSdof6duLGOuSwf6q2O+javnea/1SfpK4L4CMQtbUuj7\n",
       "WH8sUROow0NT75k9dWS/73lckaWw59kA2mrI98ExfcfHWlpQF3/ncAXtsJGTO8AB1OEBFpcWVNBD\n",
       "U9e8ExhTkiyp474BG+JHN+/LmP+zf43GdHusa8LQ1jG0nC9gjl/moYwhZ3aSzGADkvVJaydd6xV6\n",
       "rvVw7VXouN8M5zLmPPdlzNN82G1Ml6WeY3IWHfsL6o8g67MFd+aE3WPJ77BxZfe3l7mOI3NzaOt7\n",
       "fMLWOulvAXVjr/2ZJC0Y9/NSjynh+73ydnhGcQdQ0x+nYxlzXuq9niSfQFvkbDjDfB7B2iP9XeGe\n",
       "IeMiNYGcM3d9feei/ZFVR35bJMkFrAWyZz5OLOek5pE7LBlTklya+vsWcBO6Bb/Hk+QGxA3g+17A\n",
       "eex/MEqSJEmSJEnazAdGSZIkSZIkSZv5wChJkiRJkiRpMx8YJUmSJEmSJG3mA6MkSZIkSZKkzXxg\n",
       "lCRJkiRJkrSZD4ySJEmSJEmSNvOBUZIkSZIkSdJm/av+igKn9bt9i1zWOmYGY7ruOO4VjKlpdusu\n",
       "Af2RMSXJuuwUA7+vBWknMX1bD2pe2KCW1HEknWTdfdtW3d801221DZvkDsS14AvbBiwE2BZqB34f\n",
       "meV9RrQvskeXmbXVgKVHahDZV0kyNPXAerBeOrimyJ4h667paKHaacXQZkjpIDF7LvS9zoaZDWoB\n",
       "9fMEckDq3bdt1YN/1dfrfIQ5n0CyFjCBB3iZWMFBOoIz8rPhpYy5v2WFCt1LwGWigQv91E1lzF1X\n",
       "33Vf5gH1t4Cxk5gB1uFpqeeYrBZyB0qSAdbrCp2/DhQhMvJbMMdkXpLk1NZr6uN0LGPobwJy1l6X\n",
       "royh96mAOjy09ZhInpLkutOhRffo83woY+6WSxlzA2rLAeaAnH1kzxxhf5e5L2O+GW/LGLIOEjYu\n",
       "UlvomiLvEg3YD0f4fSQPZ5DzZq33ccJqAvm9dgF1Y4S/a8n9+wDydNONqD/y+4Ls9RHkIGF5uOtA\n",
       "rV7rdZAkTVOvdXJmvRtvUH/kDCH7mMyf/8EoSZIkSZIkaTMfGCVJkiRJkiRt5gOjJEmSJEmSpM18\n",
       "YJQkSZIkSZK0mQ+MkiRJkiRJkjbzgVGSJEmSJEnSZj4wSpIkSZIkSdrMB0ZJkiRJkiRJm/nAKEmS\n",
       "JEmSJGmzvmtWFLiuIA60ta4N6y91HBn5tLI3VNLfMoN2FtRdSDpJDEoC1JCpYdOXBqR9GOrBvz5e\n",
       "yphP1yMZUshaJ5/Xwj3TN/ViaMAEdi1bVGTsHRgTGXeSfHn8VMb8Xy9vyxiaTzJ2tt/32zQLrGcV\n",
       "tNcTNHTS1tCxOT62UxlzaOvC2OBzps7n74B11x4+R/0tVzB/qA7vt6ZIHW7afdbdt22BmI40xMY0\n",
       "rnVjZHX++AQO5CTPcz03B5BPdAdK8qvxWsbcgP46mM+npc7WdalzPoO9R2v1ZaoXFRkTvb+9zEMZ\n",
       "83Z4KWPI2kz2q/vkTEuS57m+49x19brrYD4Jsl4aeGH8BL7vAtbLXnegb+PqtU7W1DNYm0nycTqV\n",
       "MTOYv4f+jPq77UYUt5cB3BO+d3guY2g+SU0gNYi0Q+7xXL2KRzDub+Pq9fI41XvvcTqg/v7m/Vdl\n",
       "DMkVyXnC7p4L2DNPM6uLr8lvOlCEyF5IWK0iZ3JD7uhoRMwjqOf0rEXXLjB4Whefl3qtT2DsfcPm\n",
       "mHwfWQe0LnZNX8ZcljrmvNT9+R+MkiRJkiRJkjbzgVGSJEmSJEnSZj4wSpIkSZIkSdrMB0ZJkiRJ\n",
       "kiRJm/nAKEmSJEmSJGkzHxglSZIkSZIkbeYDoyRJkiRJkqTNfGCUJEmSJEmStFk/LeyNcUpTxqyo\n",
       "rRX1RywrGBOISZK7YSxjHo89aIl9HxkXaWldUHdpWBrq/uD0dV0d+MX9uYz53dPHMubPljdoTENb\n",
       "J2toZ9QW0TZ1Dvqm7q9v2CTP6O8F9UKY1g719+vrPWirHtN9d0X9jW3d1nWpx77TVkiSvL251EG3\n",
       "dQipZUnSgqpA9vpDD8ad5GU+lDFL6tpJs07qy6mbypjf/1FdWxK2XkitnmFdJG0duromXP9wKGN6\n",
       "UO8SVhdJLevael6S5PXwUsb8jx/fljG0Lo5gjkndn0EtS5LzUt8Tnud6/k4wn2Rubrt6j5J8/p23\n",
       "v0Zj+u9++sMy5nxX5wmffWBffRhPZQzJZcLWVANq9WHH+wbRwO8j58wI7gntjvPXg7FfwLxQKziM\n",
       "FnCukTwlyamt9+gd2MdHcD4mydNU16DzWu9R+n034Psep/q+QX9Bvu7rOwBZL+R8JPUgYffhCzg/\n",
       "6O+UFazP276+f4/w7HuajmVMN7C7GUHWwgGco3QNX0EceVOhdZjcOa4LqZ3woQAg98pb8JvuAH77\n",
       "JsmnuV5Tl6neM+emrncJ+01+BLWMnFdJ8gnsGVKnyF5Pkhdw9yRtzWu9r/wPRkmSJEmSJEmb+cAo\n",
       "SZIkSZIkaTMfGCVJkiRJkiRt5gOjJEmSJEmSpM18YJQkSZIkSZK0mQ+MkiRJkiRJkjbzgVGSJEmS\n",
       "JEnSZj4wSpIkSZIkSdqs/x/e/x4KnNb6LXJcujJmRb0lDYlp6tboC+pnh5cy5vBmhq3V5rX+wpdp\n",
       "KGOerz3qr+8WFFdZwLgTNjekrXfjbRnzk7tv0JheD+cyZmh2nGOwileQgxbkMkmmBezRtd6jZG0m\n",
       "Sd/Wa+r9eANiTqg/YgF1imRzRRUo+VuvflPG/P7N+zLmAHKZsLVw29Zr+A9hyj/r6vm7BzHUf/nN\n",
       "pzLmaa7r4se7I+qPnFmkTk1gX1H3/aWM+cXzqzLmMrMx/eZDnavpWrfTwMP2z0LWyw/qkB0vE5+9\n",
       "mcqYP3rFzplnsD6fpkMZM4B9nLA6PIO6+Gao70Cv+voMpbqmHje5dybJAeZqr/5aMHZy1nYrq/s3\n",
       "3VjGkLHTuwTZM2T+FniOkg6Pbb1Hydf1YNwJrPvgzkX2XpIcdvq+EYwpSRowNScwpu91z6g/skdJ\n",
       "f+T8T5JvwN3zaa7Pvtu1PvwGen9LHXcCe526AeMid6AJxCTJhwncJcB+ILUlSd6CtbfX+Ujdgd/a\n",
       "9Hf0FeT9rqv3Fck5PftewP67LvW7xF1X33OT5AHEHZq6bnyc2O8UkgfyfQ/gHp8kHVifR7BcaN0n\n",
       "v20bcNJcwNr0PxglSZIkSZIkbeYDoyRJkiRJkqTNfGCUJEmSJEmStJkPjJIkSZIkSZI284FRkiRJ\n",
       "kiRJ0mY+MEqSJEmSJEnazAdGSZIkSZIkSZv5wChJkiRJkiRpMx8YJUmSJEmSJG3W//Evvo8C15UE\n",
       "/eUG8y9p6pAWxHQ97K6pB//0AXS4Zw5AWw19Im5B4I5zTNbLb9d6ct58cShj/vbv/ZoMKTftWMb0\n",
       "zVLGzPBdvkvd1tDWMR1YmwnaMsi0spampc7Dnz59XsascOQdmJuumcuYl7led5+u9bpLkr/1/a/K\n",
       "mP/g1W0Z89DeoP7ISjg0QxlzbE+ov67pQFv12G/7t6i//7j5P8qYn491zn/2Uq+VJJlSf9/Q1mtq\n",
       "nOp2kmRa6z3zNNVr76c/redveaGHEcgVKHlgqXwbRw5uYEWXkqBN8+unevAfn9hd6YvXlzKGnDPk\n",
       "TpIk/Vq3RVJFYlo4pq4uQej8eD+yuvjF8bGMQfmEZx+JIufVAupBkhxBDfoE6sapmVB/Ldg0ZA1f\n",
       "V1YUZpD3p7n+PnLHI/U8ScalHjuZvh7c8XB/oB16Xzy21zJmAPcpWhMewfw14Asf+nrcSXJq67X+\n",
       "bqxjzkt9X7yAuUuSBaxzch8m+yVhdWoEi/jDhd2Hf+e23n93fX0+PoCYJHkGNe/Dhd11idfDuYz5\n",
       "bHguY46wJtx2dT5JS2QdkHqesP3wMtcXgE/TEfVH6j75Hf2qr+cuYfWM/Ea+wppAziNSF7uOzR85\n",
       "28n8kXH7H4ySJEmSJEmSNvOBUZIkSZIkSdJmPjBKkiRJkiRJ2swHRkmSJEmSJEmb+cAoSZIkSZIk\n",
       "aTMfGCVJkiRJkiRt5gOjJEmSJEmSpM18YJQkSZIkSZK0WT+P322HTUMD65AFPI82C+tuXesOl8vK\n",
       "GiPA95FUNQeWUBK1gs9baT6XfXI1L/XIn+cBtXVZujKG5GkBayVJerD4hnYuY9qwXLZNHUdamlf2\n",
       "d4cDGDvpr4ObFH0f6PAIxj31ExlSHro6rmvqfE6BOQArtG/q/XBoj7C/es8c2tsyZoVr+Pfv/m4Z\n",
       "c/vy0zLm2D6i/iZQE1qwPjuwNpNkBLWDrHOUTrIZvu2Qxe1kRQcNaQj2B7YWOdvPH1h/432939ue\n",
       "1DI2LwuoCWR9LuDvzR1M+o8+fy5jfvWxrhsPn19Rf+TknsCFkZxpSbKC/o5tfTa8wLtLD84HcmqP\n",
       "a13vkmQB/e1ZNUjNm8F+GMHdZZrZ/Ybsma+vd2XMV5c6JkleH85lzA9PdRF6nA6ovy+P9RnZgByM\n",
       "4AxN2H4gtWyC99OPU33HIf3ddXUNIvUgSc5Lj+Iq9I5OfvPcgDvsjx/eo/5IHj6ON2UM/c3z2aE+\n",
       "Z94ML/WYphPqj8wfqQmvwZiS5NDU5xH5nUneXejZR36v3bT1wxIZd5J8M9b3hAHkidYNck941V/K\n",
       "mB7UjYTtGfLmQGp1wr6P9HfT1XPsfzBKkiRJkiRJ2swHRkmSJEmSJEmb+cAoSZIkSZIkaTMfGCVJ\n",
       "kiRJkiRt5gOjJEmSJEmSpM18YJQkSZIkSZK0mQ+MkiRJkiRJkjbzgVGSJEmSJEnSZj0NXBcQ1Pwl\n",
       "RvKvdLhPMwsc055D/y6heQlMJwhaVzgxO80f6e6mHVFbfVMnawUrYV7ZammbevDHdi5jGpjMA2jr\n",
       "0NY5uC77/d3h1E5lzLh2qC2SBTJ/pJ0e5ClJerAU+tTfd2gG1B9ZeX1Tl/Ue9nfsHsqYrq3bonVj\n",
       "Weu93DZ1PsleT9haIDk/gHWeJNNa762bDtQzMChaqhsUCDqEZ9F3ftiSzwNjp2ftDC4d41yv4RWe\n",
       "M9elbmsAZ8Ndf6n7grX6J3fflDE/+/Vt3R/4tiQZwZl1C5oiZ3bC91aF1qkFrIUGjJ2uKXKOBvTX\n",
       "wrvLAPJAckXytMACRJYCuXP9Ww+/Rf2RNXWe67OdjClJvhlvyphTV59rLSz8N+iuW3s/nlB/l6XO\n",
       "FbnLL00dQ+prktx21zLm01R/H1kHSTKDjJI9Q+vUCdxdSE2YwT0pSV7m+u5JassR3t/I9z1NxzKG\n",
       "jDtJPixkrdfz93p4KWPoWUv2DPndR/fM54enMobkk9QD6gXsv75la5jsB/K7ga/hOo7EvAL3Rf+D\n",
       "UZIkSZIkSdJmPjBKkiRJkiRJ2swHRkmSJEmSJEmb+cAoSZIkSZIkaTMfGCVJkiRJkiRt5gOjJEmS\n",
       "JEmSpM18YJQkSZIkSZK0mQ+MkiRJkiRJkjbzgVGSJEmSJEnSZn1WGNn8ax3Htv7A2OmwV5qHvYD+\n",
       "VjL4GQ58Bv2RpmieSBx43iZj6psFdJbc9yOKq0xoYtjaO7T1xKywP9LWfVfHXFvW33WpJ7Bp6gns\n",
       "yeJMMq5dGdOChdeAz1tW9reXhw58X0PGvd/fep6WpzLmul5QW8f5uYwZ2gNoia2peZ3KmPfTuzKG\n",
       "1gQS14GYI1gHSbKAPHQ7rWESsyd8hpI4MnY2xVnJGQnaWme6huu4lpz/oL4mbA23Td3WdenLmAnW\n",
       "RXIW9XV3WeDZ92k6lTG3XX3+Hxp2FgWca2jkoJ2ErSky9seF1GpWp8i5vcK6fwFr79TW8ze09V6Y\n",
       "4RomcZ8N9fn42fCC+iN75jfXO9QW8XE6ljG/vd6XMW9BDpJkXq9lTAf2wxmslSR5mYcypgX9XZf6\n",
       "/jaBXNL+yB12hvdFkoMG9Efr/vNU1xdSEwawF5LkZa77W9r6TvkM8kSR77uBdZ/c4S5zvT4fwfqk\n",
       "d+YbcI6SPfo4sz1Dzj4y9oee/eYh91hyNpB7fMKuwyewhp/AXkiSx6nO56v+XMac53qO/Q9GSZIk\n",
       "SZIkSZv5wChJkiRJkiRpMx8YJUmSJEmSJG3mA6MkSZIkSZKkzXxglCRJkiRJkrSZD4ySJEmSJEmS\n",
       "NvOBUZIkSZIkSdJmPjBKkiRJkiRJ2qxPAyPXfTpcYTtoWDs+jzY0D/+GoflEFtLhd9vfutYTM7Rk\n",
       "4EkDBt83dVsNXHgkVQfSH1ybB5CHrgE5YN3l0M1lzG03ljHfOzyh/mawFohlredvBDFJ8ifnYxnz\n",
       "q+tXZcyxZRurAfNH8nRZ2Pc9gDmewdCvMJ9kXJelK2N+dGL5/PHN+zJmAafRx6leBzRuBDlYxvr7\n",
       "ljMs1iBsJQcN3J4kbF3A99Wl5V/E7XNo9fesneuX9fpswOHX0sJfd5d1rtu6gn1FztAk+ZPnz8qY\n",
       "P/jisYx5ngbU35vhpYwht4Tzwk6/G3Cukf7oidaCuk9mhvZH5nkFrXXgfkP7I3V4IbUTjYjdrfuu\n",
       "bu15YWuYxJF8knmhHvpzGUPWZsLu1te1rkHkN0HC9gM5a79r9/21jLku9b0sSVqw2skxQ3NO9tap\n",
       "ncoYUl+T5GWu98w3420ZQ/KUJKeuHvtddyljyF5Ikis43MlvAnKukXlJkt9c7suYt8NzGUNz0IJ6\n",
       "dgRjn+BvEFLPSH9nsDYT9luT/I5+BWp1AvMAtjup1f/mVVdJkiRJkiRJf2X4wChJkiRJkiRpMx8Y\n",
       "JUmSJEmSJG3mA6MkSZIkSZKkzXxglCRJkiRJkrSZD4ySJEmSJEmSNvOBUZIkSZIkSdJmPjBKkiRJ\n",
       "kiRJ2qxvOxa4Lv96B/KvaEAIiYFPqOtKglhbCBj7rv2B+VtREvbTgCQsYNzzSpKZLKC/61JviBlN\n",
       "XtI1dT4voL++YZtvXerFfgUxDRh3kgwg7s3wUsb8R599QP2NoAi1YGom8Hkz3AsXEAdLLDKjqHpM\n",
       "v7qywvjFUCf0vNT9PZGNnOTU1nHzWmeBtJMk4PPytNRBI9hXSXJu+jJmAQcbSEGWy371fJ2/27Nh\n",
       "mUgMG9M8gjgQQu8Sy1LPMUEz3oBI0lYL6vkKz76H/lLG/Ief/6yM+c/+yd9H/X1xqqssGfkAz9oz\n",
       "mONDw6o1Qe4AZG4OLRvTtNaLndwXZ/g/DOT7LnOdczLuAZ4N5ApwBmM6taCYQR3I0wTvw2/B3Yzs\n",
       "h3fjDeqP3IdPTZ2rth1Rf+18LGMep0MZQ9bUnvvqPchnD2sLqelkjq8ru8WeQB5uu3r+yLiT5BU4\n",
       "ZwYwppd5QP09gfVyAWfD677ee0lyBLWD/K4lFYHcIxJ2l3gEe29PqO7DPTOCtU7eHI6wJty31zKG\n",
       "3DeuO/7SvAF7FN0p//JDkSRJkiRJkvTXlQ+MkiRJkiRJkjbzgVGSJEmSJEnSZj4wSpIkSZIkSdrM\n",
       "B0ZJkiRJkiRJm/nAKEmSJEmSJGkzHxglSZIkSZIkbeYDoyRJkiRJkqTNfGCUJEmSJEmStFm/rvs1\n",
       "Rppqmv36Q2B/3/WwWLJAzAK7W0CHsC0EjJPwdusAACAASURBVH3tQAwYNl3C01q/p7egNdLOt+qE\n",
       "krF3eNPUrTVNHdOBmCRpQRwZ+WVlC+8K1vAEckBmb4aLaq+ad6X7GMT0OxazV91QxhybuYyZM6H+\n",
       "RpCHK2jnvLA9OsK1Xnk7kFElz0udT7JHG1A78Z8PQc5RHabnBzmKwAak/eFxfYfGuZ6crmVrc27A\n",
       "uQbaGpd6Ua0rKy4vc73Of3Kq2+m6/S6oCxg72Z9JMoCat4DCT/NJztoVnLY0mzMYV7fjvyeQ7+vb\n",
       "eiMfUs8Lqa9JMoEz5HE+ljHnpUf9PfQXEFWP6aZjZ23f1Pkk9+HXwxn19wLyQPqj12Hyk2cGd/mb\n",
       "btylnSTpQM6f50MZc4B7j4QN4Pto3biCOSZ1+BVcU+1Oa/jYsj2zgKLXk/swXC8vc51PUs+epnpN\n",
       "3fbsDvsK1CmyZ8gdIUlG/Hv7L0bOxyS5aeuxf5rquv8Mv+8W3HHY2cC8G2/KmA8ghtQy/4NRkiRJ\n",
       "kiRJ0mY+MEqSJEmSJEnazAdGSZIkSZIkSZv5wChJkiRJkiRpMx8YJUmSJEmSJG3mA6MkSZIkSZKk\n",
       "zXxglCRJkiRJkrSZD4ySJEmSJEmSNutxZLNLSBoSBLXgebSF/a1o8Kyt3awgZs8xfcc5QE2BHLwf\n",
       "b1B/bUMSWpsW9i5/aGcQM5UxPRx31ywgpm6LjDtJBtDfAjbWtLLvW8BiWEBT9ag5Ul/ImChSPzsQ\n",
       "06LiknTgb1AnsB0+Q70l17aenReQ0OvKZnkC65Psv/uO7Znn+VzGfEPq2Xdd90kz9Kwlbe3UTpI0\n",
       "YH12Q90j/b4FLL09p4/kgdT9vfpKkstcXy1/Wm+F/Pjtp936I+d/A79wWutF1YEaRO8ke0XRuk+Q\n",
       "tmZ0sWbr8wjuStPSlTGHhtXqhRQOkM5xrceUJI/TsYw5tWMZQ++nJJ8rqFQjyPm3bdUasA7mha2p\n",
       "y1LXBLKPybwM8M5Mck7u3yfQTpK8zEMZ8zwfyhhyT0qSu65en3fdtYy5wDU1pY6bwP4jv8OSZF7r\n",
       "uCtYd6+HF9RfN9f7gczxx+lUxuC3GbAWyG/RVz24ACRZQA0iOacnH9nLnx+ed+uPzN9vL/e79Udq\n",
       "OqlBpHb6H4ySJEmSJEmSNvOBUZIkSZIkSdJmPjBKkiRJkiRJ2swHRkmSJEmSJEmb+cAoSZIkSZIk\n",
       "aTMfGCVJkiRJkiRt5gOjJEmSJEmSpM18YJQkSZIkSZK0WZ+VBa4krvlLjeVfbgq0Rca0LKy/ljy1\n",
       "ku+D+UT27G/HudmtPzLHoJnL0oOopG/mMqZt6h5XmMwFxI1rV7eDNl9yAGt42nF9riANZPtN8PuI\n",
       "AYypBcWlh/tlaOqkj2udBTovO22rvOnrvZAkr7qbMmZe67buW/aBDfib18+uH8qYX1xZTXgL8vCm\n",
       "q8fUkAMryWfDWMacQT1rurq/lmyGJGB5hkwf3cYNCFxBPls2xaheg22chhYFoAHnDDmLqJkUa+DY\n",
       "Tiju0Nb76s/P92XM94+PqL//9d3vlDG/e1PXjdf9GfVHzvY9r2/neShjSM7JukuSrqmLwhXcXXrQ\n",
       "TgLveSAH41pv5Pv+Anpj98qvrndlDMllkrwdXsqYm64+P8idMknmuc4VGTud4xnsiBeQc3r/fp4P\n",
       "9ZhAXezAnhkXlnOiAbthAus8SfqW3D3BHXZh/X0C+fw4HcsYuqZIvT619Z55BGslYTWd7BlSN5Jk\n",
       "Afm8769lDKkt8Kkkz6AOk0SR/Zmwmn4Av+1JO0lyC2rsm6FedyhPYXnowD4+z+xCTO6VpC6SdvwP\n",
       "RkmSJEmSJEmb+cAoSZIkSZIkaTMfGCVJkiRJkiRt5gOjJEmSJEmSpM18YJQkSZIkSZK0mQ+MkiRJ\n",
       "kiRJkjbzgVGSJEmSJEnSZj4wSpIkSZIkSdqsT8MCYdh+SIcgpoEDb9u1bos8xy6sPwSMfa2H/S+a\n",
       "Io2xtmCHNZBPMn9dw5Leg7i2qZMwwt3QgoSiNIExJWzpkf6mlf3dgYxrWru6HZjPbqciNIBF1cHC\n",
       "QaKOoHAM8NuuSz3LZB2sMOd9U8/fvJIx0eIylxE/PQ9lzJ+fH1Bv7c2HMubzvv6+C5iXhP1F77ab\n",
       "ypibt/X8XQ496C2s7u94AVgXctaSw531R7YyOdvR+Z/k81fXMuZhqGOGtt4LCavDAzj7Pjs8lTFv\n",
       "hxc0po+HUxnzm8s9GNMz6u/lWk/OZan3A62LJGpZ6yhyJ0mSZ3AmgzKcQ8PWFFkvZ5BPenchUaSt\n",
       "Zalz/svLK9BbQkZF5o/kKUn++bke18NwLmPo/Y2sz1M7ljED+O2UJONc54HsqxfQzp5IHabHI/mt\n",
       "QmKObX1HSJKXub4rkZp329XrIGE1dgbrk6zNJPnNtT5DyO+wEe6ZjtQgMHZ6thPkDeAGzF8D7+hk\n",
       "7Oh39FL/tkiSBaxPUmPpWfs4HXeJOcE9Q/Y72TP0+8jckN03LvWY/A9GSZIkSZIkSZv5wChJkiRJ\n",
       "kiRpMx8YJUmSJEmSJG3mA6MkSZIkSZKkzXxglCRJkiRJkrSZD4ySJEmSJEmSNvOBUZIkSZIkSdJm\n",
       "PjBKkiRJkiRJ2swHRkmSJEmSJEmb9Xd3626NNc1+bfVd3VYL+iMxSfLqcC1jPhyPZQzNQdvUMU1A\n",
       "W6CdJCFNobbgFLdtHUi6G9q5jPn6egdaSua17rEBg1pAO0nSN0sZQ9I5Lh3qbwUZ7cCYDiDnSdKC\n",
       "tua1/hvGf/3VD1F/E2iLzA39vu8SXVOknpE8Uf/Fr27KmOtcr89jx3I+LfXYr2A/nOce9feP8qMy\n",
       "huS8b+u9kLCa/uZwLmP+zg++LmPI3kuScWX1pbLCs2EhlR/shwusiwSpi6+Gy25tvbvW+yrw+0g9\n",
       "u4A5/sXL6zLmdV+vzSQZmnpMpE4dQDsJuy++u96WMad2Qv29Huo8kO1A76e33VjGPE71/bTvaJ2q\n",
       "7XW/SVitIvvqpqvnj5wf1BfHxzLmw3hCbc3g/z3IXfDQsDU8N+A+BcZE80nW8GWpz+0JnldHsJev\n",
       "oK0zGBOtG0SH7ngsB2zP1PNC61Q713FkDZNxJ8mHqd5bE+hvzzo1gjssyXmSfHZ4LmPIvjov9RfS\n",
       "fYzu38tQxpDzI2G5GsAPd5pzsva+AXeJ5/mA+mvB6rvr67vnAnJO3YP+nqb6+/wPRkmSJEmSJEmb\n",
       "+cAoSZIkSZIkaTMfGCVJkiRJkiRt5gOjJEmSJEmSpM18YJQkSZIkSZK0mQ+MkiRJkiRJkjbzgVGS\n",
       "JEmSJEnSZj4wSpIkSZIkSdqs/8HD026Ntc1ad9gsqK0Oxu2F9LekKWOm5a/um+1aT1/Wps5BkoCm\n",
       "Mi+kra6M+OXLA2iHrc9DO5cxDWiH9kfWC8t4Mq11WwP4vttuRP3d91fQ1qWMYdlM/vf3X+zSVgfm\n",
       "ZVlZ1k89yGdf55Pm4AjmjyDrIEn+2devyxhSEvqOfWHX1nHjXK/zcYJ1CgwLVSn4fSQPK+jxOtd1\n",
       "8QryRPsjeSJzl7A7ADlryZiSpAfjAqUz57lH/ZH98DwNZczQsjsQSQM518h5ReYlSWaQ0Of5UMZ8\n",
       "cWD307//xS/LmP/pqx+UMb9z/IT6a0DWB5DPu64+Q5Pkq/G2jHkC+byBZzu6D4MzsoXrhaw9ss5b\n",
       "MO77fgItJS9zvUef5mMZ82o4o/4GMHZybg8NO9sv6P5dOy91npLkutT1k6xhcs9NWL0m9ezU1uul\n",
       "xTe4Ghn3GeQyYWfIZalj4M8+lAdSW0h9TZKbtq5nF9DWuNT3qSRpwf7rwf4j52OSvB9vyhhSp8jv\n",
       "hhM8G8gckzGdV7aGyX44dvUepW9KN10ddwvObXKvTlg+Sc2jb08nkCsyf+Qs+qv7GiZJkiRJkiTp\n",
       "/3M+MEqSJEmSJEnazAdGSZIkSZIkSZv5wChJkiRJkiRpMx8YJUmSJEmSJG3mA6MkSZIkSZKkzXxg\n",
       "lCRJkiRJkrSZD4ySJEmSJEmSNuufpwEFLmsDotYy4rafUH91SwkZUdOQlpKhncuYy9SVMdMK32zB\n",
       "sBrygShTCcnWCpqiva1kdlAOFhDDRjUt9dzcdGMZ08L+HvpLGXNZ+jIG5TLJea7bIrkal3qdJ8nH\n",
       "6VjHrHXMnz89oP6ez/W42p32DNt7yWWq19RTS+aYuR3qOtW39Z6576+ov3Hcp25cYUJJ1FJ/Hgc6\n",
       "JENf0fmYLEsdR+rUDPoj7SSsJpBx0z0zgjOS3DfYnSRZ1nrB3IBzhgP5BGMn+yqB6wXEHLv6bva/\n",
       "fPgBGtPnx6cyhpy1Czz7fu/0oYz57y8/LGNm+Df3DuwZMi8vC7t/d2BNtSDmCs/2vqv3AxkT7e+u\n",
       "q8+jM8jVXr8bkuQAfhNMa72Gjy37zYPu6KAVel88gXFd13r+yNlA2xqaOucNvC01bR1H9nEPxkTr\n",
       "FDm3Z3A+DuCOl7AzpAN5ot9HsN88zBHs0a6p9+gZ/qZDv41Aqk6g3iXsPeEK8knWOf3d14O7Eqmd\n",
       "j1M97oT9npnA2M8N64+cRej8h/dT8n1D9sl5ktyCe9cn8Nue7FL/g1GSJEmSJEnSZj4wSpIkSZIk\n",
       "SdrMB0ZJkiRJkiRJm/nAKEmSJEmSJGkzHxglSZIkSZIkbeYDoyRJkiRJkqTNfGCUJEmSJEmStJkP\n",
       "jJIkSZIkSZI284FRkiRJkiRJ0mb9dd7vjbEDTb3MPWqrzVrHNHU7QzvD/mpL6g4bMO4kaUCH4PNw\n",
       "fyRqBR2urDsUR/prmrqhlTQUNqbr0pUxC+yPGNqljLnQPQNyNa/1wnua9uvv1E11f891zhM2fxPa\n",
       "7vvNX9fXbU3dfmt4AvX62Ndr6gDr4lJPX5a6O1aAkqxkWKR2wmOtAWlvwfIkKUiSFQSSM7kDe69r\n",
       "YdKBGazPy7jfviL7gX7dAi4KpKaPC1tUrw+XMoac2+RsSFgdJjH7zV7yqq9z8GZ42aWdJLks9Zn1\n",
       "9v5axnx1uUP93Xf1uMjd86ZhdfhmGMuYp/lQxpD7TZIc27rw9+D7Rvj7YgL3ErJnyDqndYOMnPxO\n",
       "eZyOqL8f3bzfpb+vRraGR7AW2qauQR2ISdiaIntmgnX4a5CHp2koY+5BDephDlZQZUdwFpF7fMLO\n",
       "UZJzejaQtl715zLm6/EW9fd+PIH+6vkj9TxJlg7cS0DOSe2kbU1rvY/JHu3hWXTb1WcRmeNnEJOw\n",
       "s/1lqfcxXcPkHP0GrE9Sq5PkBuSTGOD8kbsuGRP5TeB/MEqSJEmSJEnazAdGSZIkSZIkSZv5wChJ\n",
       "kiRJkiRpMx8YJUmSJEmSJG3mA6MkSZIkSZKkzXxglCRJkiRJkrSZD4ySJEmSJEmSNvOBUZIkSZIk\n",
       "SdJmfdusuzXWpm6rgW317VL3B8Z+6kbUX0MH9v9je6aArKoV9LiudQxdw+NSv6e/TH0ZQ9dKO9fj\n",
       "ehzrMZ3nekxJ0jf1nllAzqeZ/d3hNExlDJmZpR52kmQGW3mdQcx+JS9znYIMx/12FtkPXVvHkHXw\n",
       "bX8gBuSA5pzsrV3rFBgXWZ/4GAVx81rvv0NXJ30I3FjAAtbUPLG6gc6GHfcoaWpa6u87dqw/ch4d\n",
       "u7pQkTsQdV3qwY/g781/+9VvUH9fHJ7KGHJezaDeJUkDZvnffl2P/Y+/+l3U3x/cflPGHNt6jr93\n",
       "OKP+DiBXX4+3Zcyn6Yj6I1ln9322kcldkOyrBawX0leSNCDnxNN8QHGXpb7n/fD4uFt/ZG+d56GM\n",
       "ObbgApBkBYf7FeRggWfDXXctY27B70Oyhsm6S5ILqMNknR8amHMQQ+4b9M5F8vCy7Lemlq4eO9kP\n",
       "d90F9XcC964J/M6kGSVrYWjqc4asYfJtCatTH8Ac0z3zAn7/krvSLagHSfLQ13EnsD6vK7swkjyQ\n",
       "+xvZV0lyAOtlBGPvwPnofzBKkiRJkiRJ2swHRkmSJEmSJEmb+cAoSZIkSZIkaTMfGCVJkiRJkiRt\n",
       "5gOjJEmSJEmSpM18YJQkSZIkSZK0mQ+MkiRJkiRJkjbzgVGSJEmSJEnSZv2yNrs1tqZuq1lpW7UW\n",
       "NHbsJtRfT3qEYyfI2PfUgMGTlUCXC/m8ZiVjqmNAM0mScanf08l+oHNHUkX6mxeW9DkdiqvsVxGS\n",
       "Fszfq/sZtTXO9cimCdQg8IF9t9/+fDiNZUwH11TXLGXM0NYxPWgnST77jNXPEiwcDcgDmT+6R0mu\n",
       "SM570A71ariUMeT7SO1MkqFh+28vL/OhjHk/nsoYuobJHYDUKXqXOLR1Pl8P513GlLD1eV36Xdr5\n",
       "COYlSb6+3pYx5OvGhZ1ptx2psfX3XUb2N/d3400ZcwJjep7reUmSN8d6vXxxeCpjfn15QP3dtPXY\n",
       "b/t9zqJkv3vXAm4vKzyLevL7oq1rwvfAvCTJtNZr759f7suYcWV75kDuEn19FpF6lyTP81DGkHvQ\n",
       "if6ma65lzBM4i0jdoLX6tNZjR795drylk99Fe/7muYKaPoO9QNsiyJ0kYfWF5ID+/B/A3iK/f9Hb\n",
       "DBlQWM0jMdS01jWP1E56l/iA7jh10q8rO9vZ+0U9OyeYc1KvSU0gefI/GCVJkiRJkiRt5gOjJEmS\n",
       "JEmSpM18YJQkSZIkSZK0mQ+MkiRJkiRJkjbzgVGSJEmSJEnSZj4wSpIkSZIkSdrMB0ZJkiRJkiRJ\n",
       "m/nAKEmSJEmSJGkzHxglSZIkSZIkbdaPM3tjbJp9OqTNrGsdM3RLGTMtHeqvaecyZlz2e49dwAeu\n",
       "a52tadlpYpIsoD8yL3vqu7rD+8O4W3/zDHIOV/EI2mpBUzTnC1gLpCm+1/sy4s3hXMb80etvaIcl\n",
       "soZnEDOAepAkH8dTGfM8DWVM27BJJnND6tTt4Yr6ew3iyNgb+H2k5pH+7vsL6u+zw3MZ8wDaetvX\n",
       "6zxJ+rY+s85zva/+9OVtGfPl8RMa02fDSxnzuq9r7BWej//b4/fKmK+vN2XMsrKz/funxzLmcTqW\n",
       "Mcd2Qv39+PZdGfP5UK+XG1iDrmDPfJoOZcyfvbwuY75/fEJj+vGpXnsf57ou/uTEzvYRHJL/7Tdf\n",
       "ljE3B5bzn4NckdpygffTEZzt78Z6z3wA51WSvAL1bFnr/TA0LJ8va70WhtRtreButsCzaFrrekb6\n",
       "a9Gti6lPD3Z+JOwcfQ3WAclBktz34M4BUvUM6kaSXNDdmtTOes8sMAdkP9x0dc1bdvwdRu6UT3N9\n",
       "fiT73d+6hqx0djebwT7+BM7/JBlBHNnvHb0PgxhyLzkvdU0g5wdFzo9bsM6T5AfHj2XMBXwfXVMH\n",
       "cO8iczzC+ylxBfeEr8db1NZX17syhuTg1Nbz538wSpIkSZIkSdrMB0ZJkiRJkiRJm/nAKEmSJEmS\n",
       "JGkzHxglSZIkSZIkbeYDoyRJkiRJkqTNfGCUJEmSJEmStJkPjJIkSZIkSZI284FRkiRJkiRJ0mb9\n",
       "OLE3xqZdy5i2qdtpm7qdJJnWurFl7sqYJqy/l/RlzNff1DEr6w5ZFxBEYhKWBdIWmOMkaUBcU09f\n",
       "+mMd072Cc3yt1/oyww8E+nq5BCzzLHCOl6VujKxPMndJ0oLAy1wn4QxikmQFi++6U0049RMaExn7\n",
       "++dDPSaYczR/oKT3oJ4nyacRjB3kk34fCevaekP0ICZJFrABb7uxjPnicGb9gZjLUq/h9+NNGXPX\n",
       "XUFv7Pvu1no/0MrZgTvADGrZw8C+rwXr8wbkYFrZXYnUvOFQr4QjXMPrUo/rtqvnj6yD7w0vaEw/\n",
       "OdU5+JNzPaYZ3qd+cnwoY/7p6UMZ873bz1F/v/p0Vwe9rkM+H1jd+LIuw/nVtZ4bWhPIWqd3a4LU\n",
       "DnL+d029Z+YVXDyTzDvlgIw7YXXjCPYxneMR5IHE0FVwaOYyhpztC8wnWQsrOP9b0M4E1xS5bxCH\n",
       "ts5lkjxO9Q+oGeSTjnsA41rgOUqQvdWDdUfO/yS5LOS3Sr0jSJ4SVoPIHn3oLmUMrVPEp+lUxpyX\n",
       "AbU1gPkjNehpBocobOvL42MZ81nP7krkPnwGvwnue1b3ye8L8ruWrDv/g1GSJEmSJEnSZj4wSpIk\n",
       "SZIkSdrMB0ZJkiRJkiRJm/nAKEmSJEmSJGkzHxglSZIkSZIkbeYDoyRJkiRJkqTNfGCUJEmSJEmS\n",
       "tJkPjJIkSZIkSZI26+eVBTZzU8asdUjmBgQl6dZ6YG1Tx0wNe0Nt27qteQQN4YSCGNIUS2dAOnft\n",
       "Ly0IXOoQMu5lx5ST5dKgRLE1RdLUwT8DzHMdg5YBzCexgKzT/hZQYEhTy1onlPSV0G0Mxg32QsLW\n",
       "eseaQrqGDIwWBdLSPotvXtiY5p3Wwnlhm7QDZxZqB+RpXNhK+DQdy5jbdipjJrhnrmBcE8gn/T4y\n",
       "x+e5L2NOXZ2DJOnbuhCf2npfzTCfA1hTC9jH9/2ljBlBLr+Nq3P1Aub4Ny8D6q9vHsuYL+tlnrfD\n",
       "C+rvT8/3ZQypG7DsZwaH5AGsO7I2E7ZHybnWwnrOzplaA/YCLcFkTPSeQFzWugZ90T+VMaTeJcl5\n",
       "qb/vCZwNdE2x+9t+90Xy268Hc3wCZ98algOCjInEJOw3Mjn/Z/g7mqy9Fe0Z2l8d04C2+H1/n3eJ\n",
       "A1hT1AM4t8l6eZ7ZWfsC4gZQE25a8qDCPM4HELXfHL8bT2XMBOswOSOfQM7500zdH7nrft7VdyX/\n",
       "g1GSJEmSJEnSZj4wSpIkSZIkSdrMB0ZJkiRJkiRJm/nAKEmSJEmSJGkzHxglSZIkSZIkbeYDoyRJ\n",
       "kiRJkqTNfGCUJEmSJEmStJkPjJIkSZIkSZI284FRkiRJkiRJ0mb9eGlYJAhrwXNlA7ubQVttWze2\n",
       "rKzDYz/XQUsdsoIYjAx9hW2ROBID52/dqTGSzxXOcUfWFBh307CkDx2dnL/YCptp+jpwWUDOcT5B\n",
       "f6CtcWF/50B7GeSqBfNHc9DstV5oGQbzR/rrG1Dvkpz6em7I+lzgB5K8dw0oCjCfn6ZTGXNZnsuY\n",
       "57lH/XVgbp6mQxlz6KYy5qYb0ZgGsBbI/IHjOAmbP3JPeIE5fz/Wc0z6axdWiMma+tW1npsHOH83\n",
       "XT1/A8j5stZ7/bJ0aEy3oKR/NlzKmH/4/oeov/fjhzLm7z28L2OGltXFYajXws9f3pQxf3BbjylJ\n",
       "Ps31fr8DNYEWxsfpWMa8Gc5lzG13Rf314HI9grVHallLLvJJZvD/F+Qu0cD+jm09fx/BvLzu632V\n",
       "JN8/1HE/m+uz6ALrMKmx5D7Vk/M/yRWslxmslxswL/SmfyBtgTsQvU+R+8bb4WWXdpLkEdxdXuah\n",
       "jLmu7JwhNYGsF/qbjoSR+xtZ50lyB+rnAd7lKzM4/xP6+6luZ4L9kXGRPdPDs53sd4LeT0ew1juy\n",
       "XuAaRnUR5PP9eFPG+B+MkiRJkiRJkjbzgVGSJEmSJEnSZj4wSpIkSZIkSdrMB0ZJkiRJkiRJm/nA\n",
       "KEmSJEmSJGkzHxglSZIkSZIkbeYDoyRJkiRJkqTNfGCUJEmSJEmStFnfwCfGFsSRttpmRf01DWkL\n",
       "NbWbdWVjR/Ya+45DQmOC66UhE/gdI6kiU9zAySPrpW3rmG7HVC6gra6dUVvHvo5j+WTWtY5sQH3Z\n",
       "c2mStuZ5vw5JPkmtXmDWG7BrUD5hnVpYWN0dWCtJ8jwPZcyfn1+XMR+nI+pvaOovfFl61FaFrjpy\n",
       "Jk8gnwvM+QwOkTfHcxlzgHXqb9y8K2OuIOeXneYlYevu8+GC2urJ/IHV8PnwUsaclw6N6brWc0Oy\n",
       "Oa3swvF2qNfL53099td93U6S/OjNUxnzZ59elTHH77GK99uxXi8/e6nr1K9e7lF/rw91HkhJ7+B9\n",
       "n1T+CfzAIHWf1J+E1s/9LuDjUo/rea3XwZ437w583wXu0Ql83213LWPGldUg0l/X1evuCvrrG3YW\n",
       "LSBXp3YqY2Z41j7NhzKmR+coq1PkTCbzt5AfKgm6fJIdOsFzjbR1RPPH9gypVY9zffd86Ou7xD3Y\n",
       "ewk7k9+NN7u0kyRP4Pvo3ZO4A3lowT3+pqvXQcLWywHUlyO8D5/BPfYK9sMFxPgfjJIkSZIkSZI2\n",
       "84FRkiRJkiRJ0mY+MEqSJEmSJEnazAdGSZIkSZIkSZv5wChJkiRJkiRpMx8YJUmSJEmSJG3mA6Mk\n",
       "SZIkSZKkzXxglCRJkiRJkrRZ3zQssAFPkV277hKTJNNcD2xa6nZ6+H3zAj4Q9LeyzwvN+27guPZq\n",
       "ZwWBTfZJAl1TQwcmEFhXNu69+msb9n0LGBcZeQ/zeduNZcwC/obx6dqh/salHn0HPrDt9toMSdfs\n",
       "M8czqHe8rTqGrJUk6eDaq/Qty9NE6jBYxXTPzCAP57kvY04tW8MrKPykvpAYujJprip0rTTgbHjo\n",
       "L2XMAPceWev3oL9lZHtmBGv4t9e7MqaH3/f5cC5jTmD/ve6nMubT5YDGNK3XMuaLYShj/v23f4b6\n",
       "+5s3dcyvrnUODi0onkk+PzyXMT9/X89xA/fMuNT15Suwplh9Tea1jnue6rVwbOs1lbC1TurGvNOd\n",
       "klpBf/S+OIGck3l5met9lSQ/PH4qYx7beo6vKzv72G8HcseDdR+ctZelPtvXpq4JPbzrk99FZA3T\n",
       "swGda2B9krWZsLkhNeEK6l2SjGBcA6jppLYkbC8fu/r76N2lA7c4cod9P55AO2yOT239uw/NMawb\n",
       "ZE2NYB/f9fWdJGHzR9bLAq/VZP89LXUd/jjRs6+OI3vmBuTJ/2CUJEmSJEmStJkPjJIkSZIkSZI2\n",
       "84FRkiRJkiRJ0mY+MEqSJEmSJEnazAdGSZIkSZIkSZv5wChJkiRJkiRpMx8YJUmSJEmSJG3mA6Mk\n",
       "SZIkSZKkzXxglCRJkiRJkrRZPwwrC+xYXKXZpZVvrWvd2rKwtpoeBJLn2Jn1FzIukiw4LfvMXti4\n",
       "kzRk7C0YFZjjeWGragFt7ZjynMeu7g90uMIOSVttUzc2NuzvDk/ToYw5dhNoic0fWlLg+0jdmFaW\n",
       "g9tuLGNI7aRzvO5UQUkOkqQB+ST7iv4li8xfs181S9/UBY2MnbSTJH1bx62gqQ7099nwQoaExn5q\n",
       "64OtA3OXJPfdtYz5p5++KGMGMKaEiJJFewAAIABJREFU7eUfnj6UMZ+mI+qPIOv8A6gtSfK7x+cy\n",
       "5qGrc9XueDn74091rh7noYx5O5xRf//4cZ8aROp5krwC43q4qc++f/j+h6i/f/fVL8uYH54+ljFf\n",
       "Hj+h/v7Jpy/LmKe5Pv9PM8vnqSX3hBo5G/j5AX5fkN8g8Ky9LuC+CNq5gHaS5OfnV2XMfV/X6gXe\n",
       "Sc5LX7eF7hJs/kiN7dEPtnpM9PwnOSDnFb2/kbkh+ZzhHI9zvfbIPYEeRSTvR1BbFnjfH0HcDGJo\n",
       "f48LqLHgzDqCu9IM19S41nP8ONfn/6llZwO5696BOjU07L5IzoeP06mMOcAzjayXE/odzZDqSe66\n",
       "57muZf4HoyRJkiRJkqTNfGCUJEmSJEmStJkPjJIkSZIkSZI284FRkiRJkiRJ0mY+MEqSJEmSJEna\n",
       "zAdGSZIkSZIkSZv5wChJkiRJkiRpMx8YJUmSJEmSJG3WT1ODAhsQ1rdrGTPXIUmSFjx9rrAtgnxf\n",
       "29dBCx3UXmNn07dbfyRPSdjTNWkMhHRg3SVsveDvAxqQ9BVP4D5Ib3QJX+d6kk9d3U7fLqi/Za37\n",
       "22v+yNwlyaGdy5i+q9ui417B5JD+yLiTpG3qttqmnr8etEMta52sEayVJHmehjLmuvRlzAz3cQ9y\n",
       "RXJ+XeqN9avLAxrTTTeWMeN6KWNu27qdJOlADsgcP14PqL+91st5rtdKkgxgb51Ars5g3SXJN2Od\n",
       "h0N7rhsCW/RxYjknu/3jdCpjyH5J2Ll2B9b5u/EG9Tcu9Xr5o1dflzH/+Ldfov7+vTe/KGO+f3gu\n",
       "Y2g+Se14nI5lzATr8AJmsAOr6rqCCwc828k9iNzf6B2P5ICYYN1Yci1jZlA7ST1PkhbkndS8w47/\n",
       "FrOAHyrkLkjOmCR51dfnKFl3T/N+Zx/ZDXgNkzt66vVCztCErT0ydrLOE3ZvbjOVMXS99E2dT/J9\n",
       "5L5I6884122ROyU9i05NnU/yfZ/AeZUkH6a6LVITvjx+Qv0dWrJe9it6ZL+Te1BL3sxAX5IkSZIk\n",
       "SZL0/8gHRkmSJEmSJEmb+cAoSZIkSZIkaTMfGCVJkiRJkiRt5gOjJEmSJEmSpM18YJQkSZIkSZK0\n",
       "mQ+MkiRJkiRJ/ze79tJrS5IleH2Zuft+nHPuK268MiJfyqwWJSipmmLCY8QIiRFfoMWn4GMwREJC\n",
       "jHrOhCFD1GoQNE03SKXu6srKzqyMyLgZcePec89j7+3u5gxuCaSmxfqXp+cFpP9vvGRme5nZMnM7\n",
       "R9JqPjBKkiRJkiRJWq0fhgUF1pLHkZYK6o211XV51NA11N+hn/L+dn0aUyr7hQtLe94fTSix0Zgi\n",
       "Ak00GXs/5DFHMHcREXOXdzjUfL0UmKhpAe/3oKmZtAPtujmN6QvbM0QP8vmif0RttSWfvw7UqS0X\n",
       "+pP+ksb8+Emeg7bhHO9rvh8O3YjaurQujdnVfE11G+6ZU8vr8GnKYyLY3prAdri0A+qPlGtSX8i4\n",
       "vz8fQW/sLCL7mHq2O6cxpylfd+PM9swZxL277NKYz6/uUH/3U97Wv7h9ljcEy9Q/qD9KY8hZexzy\n",
       "ffwnL74hQ4qn/SmNeTHkdR+docH2wxnUMjLuCFbzHuf88vKP22eov+/GfE19NORnEd3F113eFvl9\n",
       "9O6C7lTkGwQ0g88i8P8X5Hyk9ymypsgdqMGvrA6Mi5y1CxgTRb4zyZgi2LhIfyRPDw18qETEuOTr\n",
       "pYL+BrBWIiL6Bdw9wXqhdZjEjSBmgWt4aqStHF7BYCuT+/cefIdFRBzA6Mk6fwTr8wDGHcH2w1XN\n",
       "vy/u5/xMi4g4z+DdBUwg/X0jOETIeUV/X93s7IN7Buy/I/g+PIF58T8YJUmSJEmSJK3mA6MkSZIk\n",
       "SZKk1XxglCRJkiRJkrSaD4ySJEmSJEmSVvOBUZIkSZIkSdJqPjBKkiRJkiRJWs0HRkmSJEmSJEmr\n",
       "+cAoSZIkSZIkabX+05tHFNiWksZMbbv3ylKWNKYDMQsYd0TE/dinMc+fzaA/1F2QsI4MHeQgIqK1\n",
       "vDHSEs3nDPojDkOe8wpzQKLIOm8LW+ekLTImmsnLnI/rPG23Rxcwsr62NKarbP5IfSG5YnsvH3dE\n",
       "xHf1Ko1587BLY2jdqGD6SD6vdyPqj+T8esjb2tV8H0fANQXm5vaS5zwi4tf/cqO5gfNHFmgBMZuO\n",
       "CSBj6q5Ypfr3f3abxrz6+nkaM92yPRo1H1cd8nV++vIZ6o7sv9tf5zFtZBNYSEkHOeiOXRrz5XVe\n",
       "7yIiPtndpzHnlvd3agfUHzlrnw2nNKYLtqauugnFZX7w9AHF/aO3X6Yx//Env0hjCiwKH+/ycb26\n",
       "3KQx55bfqyNY3a9gboYC7ujwRkX6Iy2RtRkR0UgOwF2XnI8RETuQq4d5SGPI2RDBxrUH94QOXpYm\n",
       "cE8/z/n6nEGBneE3wVLzu1IP8vmwsPtNBfudrLsLqNUR7N5MviHhyY6+L8g+vsA6dWr5fiBrYbew\n",
       "+3AF+ST9kS06wjkm5ewerM8TzPkR7BnyFjS2PeqP1OtP9vn9huy9iIjzkud9v+G59m7K71TX/TmN\n",
       "IfPifzBKkiRJkiRJWs0HRkmSJEmSJEmr+cAoSZIkSZIkaTUfGCVJkiRJkiSt5gOjJEmSJEmSpNV8\n",
       "YJQkSZIkSZK0mg+MkiRJkiRJklbzgVGSJEmSJEnSaj4wSpIkSZIkSVqtf3Pab9bYspCYsll/teYd\n",
       "NjCmiIjvf9f9nqP5WyJpADEFppPMTaD5Y/0RZOz9y/wN/PUDW8M0V5kPnYO5sYGfz9vtLaIDW+YA\n",
       "pmYe2bjHCfw9BMxNKXlQKaweDH3e1sPddvNC1kvt8qBaetRfB2rsdX9JY47dhPo7t3xcj/OQxpwm\n",
       "9vvahSwY0BCtCaCtzcoLLHgkjBzbdJV3peVtge1X8mXwXt5dtDHP+ve/Yt0Nz/M6VYa8v0oTSuYG\n",
       "1IQF5Glc2N+kG1gwM2iLtBMRcWn5giExA8z56/GQxvRgnf/s+jXq73/45ss05hHclY51Rv398HCX\n",
       "xrwej2nMt5dr1B9ZC7sKzhByhwXjiYio4J7Qlzyf48LuEmTpkf1A6msEO2t3YL2cGivEFeSqgtkh\n",
       "MRERBcSRuyDJ+bFj+2oBs9yBMZFaHRExg/7QNwis+1vVdLpHSa4GcIcltToioq8w8Qnaygj26ATO\n",
       "NZJPWjcaWApgWuJYR9Tft2N+hlx3+TcI2esREc+GUxqDaieodxT55hlgf0/6/PeRmk768z8YJUmS\n",
       "JEmSJK3mA6MkSZIkSZKk1XxglCRJkiRJkrSaD4ySJEmSJEmSVvOBUZIkSZIkSdJqPjBKkiRJkiRJ\n",
       "Ws0HRkmSJEmSJEmr+cAoSZIkSZIkabW+tYICa13SmDwiopEgaIFjR21tOC6CjLxs9/PY5GwVE4Em\n",
       "eqn5D5wb6YoliuSzFPADaQ7IsEBb48h+H1nDW66pzbYMnD/0+1A7G03MlmB3ZOgkTywHEeOcx01L\n",
       "B2LARo6IGYwLxdCz4QNP84ftj3W2gF1DyuJ8Zv39o28+T2MON3k748D+PorOdnQ2oO6igmHVZ3lj\n",
       "+H6z4dgzT/oziruAmjCCGLpd+pLXl7HlE3OJfEwRERWM7Kob05iXuwfUH5nku3nYoJX3djXP58sh\n",
       "H/vdtEf9kTscObM6UKjoNw9pa6hzGjPObE0VsKbIyMleiIgYl3w/kN/Xlzwmgt2tu2BjJ9D3KMgV\n",
       "qWUTyGVExLHmNYH1x9YUmmOQA7qmbsF+J7VzB9ZdRMTYwDkD6j7Z6xERA1jrpJbNcP4qGFcFc3Nq\n",
       "+dlA1/D9vEtjyD2B3DsjIvZ1SmPI+uzgGib9XVqfxpDaSb0dD2nMt/MVauvY5b/vpsvnj+TT/2CU\n",
       "JEmSJEmStJoPjJIkSZIkSZJW84FRkiRJkiRJ0mo+MEqSJEmSJElazQdGSZIkSZIkSav5wChJkiRJ\n",
       "kiRpNR8YJUmSJEmSJK3mA6MkSZIkSZKk1fp5YYHzXLbpcWHtkGFVEFU2Gvb7xkAI7Y/EbdkfeEpe\n",
       "SNIb7A8MDI2d5AA0874/sF5QQ7BD0hRoa+jhJgUDI3Nc4J8d+m6bfNJfhwK33O8AHvtG7YAljOaY\n",
       "9kfa6kteFArskbR13V3SmLfdDvVXdx0IAg1tt0U3q4t4M2w0pgJSGRExTXkMWXdzvgzet8XCUrS0\n",
       "zCCm0YsXUOo2RY/M37Sww4HczYipsUV1bn0a89iGNGZfweKMiAbusTMoHNfBFvFPnt2mMf/09rM0\n",
       "5t99/hvU35spz9Wz4ZzGPBlPqL9pyeeZrPIOnB8NXprJWh9Af7tKKgLTgQt4Ry4JEVFBHFnnpJ2I\n",
       "iF3J8zB94P95Gck3AYiZGxv3iA5JMC/wNCJ1eADr83HO60FExAHUT1Kr6e8juRpBbWnww7YHpzsp\n",
       "L2QvUAvYM0+6vFbTfUzq4qGOaczr8Yj6I2tv7vNzlJwNEREPc/7tQNqie4beqTK07s+gppOWLmAf\n",
       "+x+MkiRJkiRJklbzgVGSJEmSJEnSaj4wSpIkSZIkSVrNB0ZJkiRJkiRJq/nAKEmSJEmSJGk1Hxgl\n",
       "SZIkSZIkreYDoyRJkiRJkqTVfGCUJEmSJEmStJoPjJIkSZIkSZJW62OBkQXEgLZod8SybDSoLW3Y\n",
       "3ULyCftbGmlru8GjmQHz1xppienAczrpbYZjaiCdDcwLzQFpi6zPAlNOlgvN1Vb9bYeNu3zo+rIR\n",
       "mkuyFi6ty/tj3cW0gE0K6kZfWI/9NfiBZCmQvUdtdaxtt/VQWxX+ubLr88G3Oe+w5Mvuva226IZb\n",
       "vdSN1h0M+9DLZQatVTCqrrKNVUBBa6BuzKT+BKv7pMaSMUVE/PTqdRrzD179OI35s2dfo/7upyGN\n",
       "edKPaUwH6/AF5GGr7dcXtqZOrU9jhjr/vsP5P5E1RfJ5BudxRMQC9ugBNNXDw++85PlsYEz4zgVy\n",
       "RfYoWS8z3MfkrkT625UJ9fe45Pt4RGNi6/wC5pjsGTrHZA2j6xus++c5zyc5+waYzwrrZwq0Q9Zm\n",
       "RMQZ1MUHkCcydxER+41q7CMY0/v+8r31YjilMXTu3k0HEEXmL5+XCHbnuJv2aUwP7mb+B6MkSZIk\n",
       "SZKk1XxglCRJkiRJkrSaD4ySJEmSJEmSVvOBUZIkSZIkSdJqPjBKkiRJkiRJWs0HRkmSJEmSJEmr\n",
       "+cAoSZIkSZIkaTUfGCVJkiRJkiSt1kcUFLgsG/UI2yFhJKb/wE+oOE3tDzmKlbaaY9hUAYuqbZin\n",
       "ubC1nqFjIntmWfIx0b2H4tCYWH+tgbHXDRcVQMZOlsFm9Q72t2VbW8VERNSyTSIaWOcREQ/jkMZM\n",
       "S17Up8YKP1ovqJih7lh/rKkPa8O6sZC6sdUF4G8TtxWy/7a8l2xV91EzbHWSKLKP6ZrqCjmU8/7G\n",
       "1qH+dnUCMXMaQ3IQEfFy95DGjHPe1gzrcF/zfD6CXB1AniIibqcD6C8/G67qmMYUeKaRNTWD+es2\n",
       "vOzPYGeRMUWw3/c45zmnZ/se7IcBxDRYg8he3oP1eW59GtPBQ5uMqXb5+uzgodaDOSb7ocL+rrp8\n",
       "/93NO9QWQeoUGTq9c5GaPoK7J1lTERHnOY/b6o7ewXYOYI7JOn8Evy0i4qY/g/7AN8HCzvZP+vs0\n",
       "5ov9XRrzz+9fov7IHYDsqy+vXqP+noN8vh7z8/gBnA3+B6MkSZIkSZKk1XxglCRJkiRJkrSaD4yS\n",
       "JEmSJEmSVvOBUZIkSZIkSdJqPjBKkiRJkiRJWs0HRkmSJEmSJEmr+cAoSZIkSZIkaTUfGCVJkiRJ\n",
       "kiSt1tPAslWPmzXEmiq0PxK3bNTOlsiYImJZYOCHhIaUJ3QcWXdzy2MqmD+ayq1STtdwBX8uIGPa\n",
       "8veRMY0T7A/MXwNjIvnEdQMo5M84G25PMvZaWIdTyxs7z/kxctVfUH+HPl8M85IndJzh38422g94\n",
       "+jZqa8v1Sc4s1N+GdYPENFAP3jcGYrasCeT3TXlQ6T7wZQKMe17YmPqST86uzmkMPYumuQP9gYMG\n",
       "/j7UFvBu2qO4Pejv6SG/CL26XKP+fnh4l8acW15jDx3LUwGLr4G5IculgfMjgq3hccnXHT1rSRzJ\n",
       "wR7mfALzRyzwo+f1eExjPtvfpTEDmJeIQP8+sy+gBpFvELAOIiIqGDu5T5F2ItjnKFnnpP5EsDwM\n",
       "IOfkjkeR/T5tWBM6EEPX8B3IZx9g/kBNIDU4guWK1CmSp4iIS8v3A1nnHw33qD9yx/nd5SqN6Sv7\n",
       "fY/TkLdVzmkMqa8REbfgzrGAHNzNuzTG/2CUJEmSJEmStJoPjJIkSZIkSZJW84FRkiRJkiRJ0mo+\n",
       "MEqSJEmSJElazQdGSZIkSZIkSav5wChJkiRJkiRpNR8YJUmSJEmSJK3mA6MkSZIkSZKk1XxglCRJ\n",
       "kiRJkrRaH2X5f3sM/1psWCWNaA32t1kQBJ52Fzj2D2rD5bKAfC4b9ldBf32fd0jH1No2C2bTHIB1\n",
       "V2BNIG1tCqSTZLxsuY8J0h+cYzT2rWIiYgGb9PY8pDHvLnkM1YH12VWW0OHw+47mvS336Fbrs3aw\n",
       "P9IWyGcH68FhmNMYks6Hgf1AUvdJEkgOIgINfpxIIYZ1eKP1QvbMsRtRW/fzLo153j+mMdc9629Z\n",
       "7tKYCvJ5aWxNfXO+SWN+e36yyZgiIuYlXy8/vn6Txvz68Rnq7+9c5W2dQK5mcskLVtOJCeSpK+xi\n",
       "3YGhX8AdD6YgSuTj6kGexoWt4WXLiwIwgfXyZjymMT88vEX9dWAtHCuoLyAFt+MejCjQd18Dl4kC\n",
       "L4xk9sgePbUe9VfBuPqar/PLBC8vYI4PYI5J3YhgeSC1+jyzfA41vyvtQMxNd05jvgd7LyJiAvWF\n",
       "3Idpze/LlMYMYE2d4Rq+gJgHcL95OpxQf9dd3uMZ1M6nfT7HEexuRs7IAcT4H4ySJEmSJEmSVvOB\n",
       "UZIkSZIkSdJqPjBKkiRJkiRJWs0HRkmSJEmSJEmr+cAoSZIkSZIkaTUfGCVJkiRJkiSt5gOjJEmS\n",
       "JEmSpNV8YJQkSZIkSZK0Wk8Dyx9yFCs7LGX5w4/jD2QhQ0cxMAeNheX9bRe21fQVuDi3Wi+V9tfl\n",
       "/bWt5iUi6kZ/LsD5BDENpHzLXbxVnSowlxWsKZJP2h/5gWQdDJUtvJ+8eJvGXHUjaosoYDWQVNXC\n",
       "ft/0ZJtNs+X5SOrUu2mfxny2v0P9deBwIGPqYH0lc9xARtvCsk7iFtAfGTf12IY05g7McUREBeM6\n",
       "dFMa04E9c6h5OxERexBHamcPLy59R8Y+pzGvLkfU3z9792k+JtDfs+GM+huXvE59vn+Xxvz3r36K\n",
       "+vuPPv5lGjOA9fLN+Qb1R/Yo2X/j0qUxPTwbyM2E7JkJzF1ExAGcyTNoa8v71Azmhdbhq/6ySX8k\n",
       "5xGsVp3bNuuF1LKIiAa+1xqY47bh/waR82OBqyqveBFHcl/MpyUiIm6nQxpTQE3YwXOtA/NHMnXd\n",
       "5XshgtWO85w/45D7IrkDRbA6PIGcT/TpAtSEXT2B/tiiQt8gYL/fTzvU3wncBUnNuyzsOe95/5jG\n",
       "kPsGWZv+B6MkSZIkSZKk1XxglCRJkiRJkrSaD4ySJEmSJEmSVvOBUZIkSZIkSdJqPjBKkiRJkiRJ\n",
       "Ws0HRkmSJEmSJEmr+cAoSZIkSZIkaTUfGCVJkiRJkiSt1rdWUCCKAkGst4iFdLfkUZU+oZKxg7bA\n",
       "kN63ReI60N/M+tsK/Hl4ntN2KpjjhfXWgXwOXcv7gz8ub4mtl3Fii5i0hfYDnOQG4nrQDl0rhQRu\n",
       "tPBoMxVsZJJzWjc+tEOdNolpcI+iur9ROxERfSH7fbvJKWBk5Pc96c9pzB7MSwTLAUF+2/u43LTk\n",
       "mwbVA9gfWTF8FeQ97sp2B/dQ8/kjczzUfEyHbkRj+nx3n8ZMoCbswJgiIg4gB8SvHl+guLHl67MD\n",
       "Y6Jragb7gRztjxd2l3gAv+9hzk/3aQGXrog4t7ytq+6Sxgwb7qsO1H2yZ6Z5u//jIGfRDL/pZngm\n",
       "b4WsYVKnyFqJiPjB8TaN+avHp2nM7XTYbEz9Ruuzw2d2PsfknsDXSh53AnWDfmPtwNgvYG7GxurU\n",
       "NahB6A4L75R7cm6DNfUw79KYBX2xRnTgm5ysqQXezMjvu4D5I+sggt1xLnPe35M+XysREZ/v36Ux\n",
       "d1M+f49tQP29Hq9QXIacx/4HoyRJkiRJkqTVfGCUJEmSJEmStJoPjJIkSZIkSZJW84FRkiRJkiRJ\n",
       "0mo+MEqSJEmSJElazQdGSZIkSZIkSav5wChJkiRJkiRpNR8YJUmSJEmSJK3mA6MkSZIkSZKk1Xoa\n",
       "uGwVVFh/BTRWQFu1oJFH2eiplYzpfWAesoChl4oTugmYTtQfyXlfwTroGhhQxGGY05h9n8fQVJJU\n",
       "tZa39ljYNiVtoS0KJ3lZ8v46MH90CXeb7VG6iHO7Pl97+30eQ3K5paGyPXM/79KYx3lIY+aFTV5X\n",
       "8nGhTME57sCOIGdIBeOOYGPvNurvbsrnjvbH5gXWDZAFsl5ofw38HXWz+02w+lJBY8+HR9QfaasH\n",
       "+30Ac0xiIiLeTvs0poF18Njy8zgiogc5H1u+DvrC+nt5eEhjdqCtm/6M+nsANfYEYugZ+vX5Oo0h\n",
       "df80s7vLDPYovltn7WzTTESwvUdiIiLOLc/VANYUOdMiImawZyZUhxlSr8m59nY6oP7eTXn93FeS\n",
       "z3xMDZ4NpOb1IAcnsFYiIo7diOIydA2T+tm22sgRcey2ub+dYZ2iay+zA+sugu2ZBr4dyOzROSY1\n",
       "6HHJ84nrBggkZy19CyJ7htyH6Vfmoeb9PZT8rL3AmhB1YnEJcv77H4ySJEmSJEmSVvOBUZIkSZIk\n",
       "SdJqPjBKkiRJkiRJWs0HRkmSJEmSJEmr+cAoSZIkSZIkaTUfGCVJkiRJkiSt5gOjJEmSJEmSpNV8\n",
       "YJQkSZIkSZK0Wv/sOKLAUpY0pkYeUwrqDsl7izh0M2rrZtelMTvQFn2xnZc8EUvkMWReIiIKyFYF\n",
       "bU2N/UKWq7y/Xc3bGUBMRMQCct6VlsaQPEVENNBfI3OMemNjZ/3RNZWbl3y9fH85ov7I2NH8bVin\n",
       "yBwfuimNIXs9ImIBU7PVuouIePV4ncaQfTU3+PtAzDTnbfUdW8Nv3uZ1v4KSV/NmIiKisVKV+k/+\n",
       "zl+kMf/ZFx+htvoypDH7mu/RffcE9UfU0ucxNR93RMSy5DUBgUXhn9z+wzTm77/Kx07OvghWzyqq\n",
       "izlSXyMixiXfEF3kbU3g/Hgfl8/NCO4ur843qL+/evMsjak1n5d9z/J5GvN8HoZ8vfzgyT3q739+\n",
       "88M05o+uv0tjGrwRn+Z8vz/M+Z55CvJJ728kilQEepcgdyVSE/rK1tSM7vJ5fzOcY1KnpgYOUrDX\n",
       "IyL++pyfR/uyTT5BM+/jwNDZr2NRJOcEvZ9u9X1B9kJExKXldWMAk7MDtTMi4t24T2MeW16n6JWE\n",
       "3K3J90VHco5GFHE379IY8k5Av2tHUBPINw+t+3tQYw81zzm5A0VE/OLhZRpD7l3PhwfU3wmco2+n\n",
       "QxrzMOXt+B+MkiRJkiRJklbzgVGSJEmSJEnSaj4wSpIkSZIkSVrNB0ZJkiRJkiRJq/nAKEmSJEmS\n",
       "JGk1HxglSZIkSZIkreYDoyRJkiRJkqTVfGCUJEmSJEmStFr/H3z8SxTYlSWNqdHSmAbfNB/nPo2Z\n",
       "lryt35yeof72NW9rXLo8Zs5jIiJalDSmgpzv6oz660o+N8Qe9pePnI39urukMf/k209BbxEPD/kc\n",
       "N/DzCnyWB0sqwDKIPt8Kf9NfnvW+y2P2A1sr+y5PFlkHbx52qD/y+4h+ozxFRJwu+X6/vweTDH8a\n",
       "CQO90e5iAUsBxbCyEUsDIwP9dUd4zvxyzIO2SnpERKGB/88O/8aUxvz4h/8pa6wOeUwB5xqJiWAL\n",
       "BvUHC+OS5wpNMhl3RPz88k0ac2lfoba2UsDvI/eNCisHaWsBd8ETuAdGRJxbvl7I3fN+2qP+Lpd8\n",
       "Hxew11tj9WABaT+P+e/76OkD6u9/+nV+p/rjP3qVxuwrqK8RMZR8j5K1cNXl/RWwViIi9jUf00zu\n",
       "8eTAiogFXCzJN09b2JqaYVzmAOf4seX3vPs5P4sW+A1Cfh3JJ9FXNsekfrIxsTo8g5rXgXONnB8U\n",
       "qcMznJdzy2vCOfL9Tt43IiJu+vx7dJ7APm7s9xUwLrKPST5p3SBvCbs+36M0B0w+9gVe0h9ADSqR\n",
       "r7trsFYi2HftY8vHROePjOsCzsjX8zGN8T8YJUmSJEmSJK3mA6MkSZIkSZKk1XxglCRJkiRJkrSa\n",
       "D4ySJEmSJEmSVvOBUZIkSZIkSdJqPjBKkiRJkiRJWs0HRkmSJEmSJEmr+cAoSZIkSZIkaTUfGCVJ\n",
       "kiRJkiSt1v/0eIsCu1jSmGOXx7ydOtTfvJQ05n4e0phX5yeov4e2S2MuLR/7eWa/j6glz2cDeYqI\n",
       "6EvLY2oeMzX2Jk3Gdal5rkgOppmNaZ7ymCVPQYBUvm8LTE0By6WxKY6IPHDGbeWGOqcxZL00mM9S\n",
       "8sGT9TKC9TLlPy0iAlTFiAW2hYD5I2PC3W20hmGZioUsdvADQWl53xSYG1ITqALWJ5ljchbFfM5j\n",
       "IiIWktD8rP3wf66khZjEoZ0M+8vjvrtcpzEdPWg+ILR+I6KDcRl63zi3fqP+WKFqoG6QGkS2XkTE\n",
       "rt8mn+R8jGDj+gbcrW86VoNI1skck7pYK8tBA6Mi+2HfgYtnRJzA98y85PuBfDtFRFRQzybQ3xTs\n",
       "sL3qLmnMCPc78QjySWrsAGL2hc3xZclzRb7V5sLyROaY9DeCcUew+VvIdwpcw8du3GRMtC6S/bAr\n",
       "+eEwdOyjgGSB1Kmh5Hm6m/egtwiSKnJu05yTHJD7RoX3KXKGkHVH32auQFtP+1MaM294AX8+PKYx\n",
       "N31+tvsfjJIkSZIkSZJW84FRkiRJkiRJ0mo+MEqSJEmSJElazQdGSZIkSZIkSav5wChJkiRJkiRp\n",
       "NR8YJUmSJEmSJK3mA6MkSZJW7PkrAAAgAElEQVQkSZKk1XxglCRJkiRJkrRafzvtUOChTiCqpRHT\n",
       "wt40u7JNW6SdiIip5W2NIKaH/R17ks/cvJRN2omIWEBbV/0I28pjZjB/JJ+kL6qA5Vm2Szlqi/68\n",
       "BpbelmN/tjunMW8uh836Y2tqmx/YYNJJPjtSYmF/aK2DMeEsbdQWXcMLK58pso8jIkqXxywziYG/\n",
       "kIwLLCrUG/lxERF1ADFgEZOYiOCrYaN2aB426q+C/l5frtIYuhW2KumF/D7YWQfaItmsheWc3F0K\n",
       "aIvcA9/3l8eQ83ieWUJnVDfyQbF7fMSffPkmjfnz7z5OY/7DL/4K9fe7800ag+YP3CnpNwi5n6I9\n",
       "A5G22JiYQ5evhTvwfXhuPeqvgT26B+tzgb+QzHMDbR27/JvnBu6r22mfxpxafh6PjZ1paHWC7cD3\n",
       "TJ7PoeaF8QjzSdZCjTxX9Pf1Jb8MzuDySdqJYOsTrQWwZcj+jIh4BDVh6PLfd1XZWwJ5AyDrjtbF\n",
       "l7sH0Fa+sy6wLpI7zg+Pt2kMnb+HOa8vO7D/vj4/TWP8D0ZJkiRJkiRJq/nAKEmSJEmSJGk1Hxgl\n",
       "SZIkSZIkreYDoyRJkiRJkqTVfGCUJEmSJEmStJoPjJIkSZIkSZJW84FRkiRJkiRJ0mo+MEqSJEmS\n",
       "JElarT/WCQV2ZUlj5jwkLo29ac5Ll8aUyDtcoqD+boZzGnNo+Zhgd7EHed/VOY2ZF9YhiSpgjqkK\n",
       "5ubc+k366jo27lLyLCykKZgm0lYj7ZCgYMOaa56DuwLWeUT8ttyguK00kIfW8t9H2jkeWNIb2H9g\n",
       "2UX50H/qgXWqA+MidQMsu79pLA+pNe+PrIOIiHekJkz5WphHVhTQXgb5fDftQTtwUXWHPKYOoJ0j\n",
       "64+YTyAIFmJ0+JGax9ZUX/N87rr7NIbUloiIBcZlyD7m25jUhO3uG/NGfyun96n5ksdUsKQmuoRB\n",
       "ndrvyH2Y+Wz/Lo3589PzNOa6A4mKiF9tdBfclfzOTKF9BUJoztE3FvnmgR2O4HumgR94qCPqj/w+\n",
       "kq2HeYf662t+2JLvFBJD192PDrdpzPdjfn68K+y7/dTyc5usg66w+zDZMuc53+szvLt0YI4PXb4+\n",
       "54X1R87kHqyFC3jfiIgYQN5v+vztooHfVwZy52ImsKZG+BbUwNl36PL9UOEavgV3a3KukXUXEfE4\n",
       "53v0u0t+t/7ycIf6O4GzlqyXHXjD8j8YJUmSJEmSJK3mA6MkSZIkSZKk1XxglCRJkiRJkrSaD4yS\n",
       "JEmSJEmSVvOBUZIkSZIkSdJqPjBKkiRJkiRJWs0HRkmSJEmSJEmr+cAoSZIkSZIkaTUfGCVJkiRJ\n",
       "kiSt1l91Mwq8m/s0ZlpKGnNqeTsREQ20dT8PacyyoO5ibF0aMy35e+w45+1ERNS+pTFdyWP2dUL9\n",
       "dSVPRI08pkU+LxEsV7uar72+sPWJkKGD9ULXFEHaWvJlgDXQ1uXE5vg28r089GBNNdbfZrkC3Y0T\n",
       "+9tLrdssBjrHpDeSzQL/tERyXkCHDaYJbVHQVgfnZfdpXq/nhzxZy8T6I3FlyLNAavXy+Bs0pjI/\n",
       "5kFkgdb8PI6IiP46j9m9YG0RaBGDcxsW/q7kebiAe8IMztAIdiajFJDOWKlGd5et7iQRrC5uiWwH\n",
       "Mn207pNze+jyoAIzdd1d0pgvPsrrxqvzDepvAOvl2/NVGnMDxl3AuouImMFi70A+6Rom/S3gu4js\n",
       "vYgIEkXmhX4TkG86UhPIfSMiYgb9VVKDQMyxY99hz/sxjbkD37V9ZXPcL/n30wISSutrBwIbyOcZ\n",
       "fI9HRJymQxrzpD+nMaTeRUT04JuV1NgFfvOQdwliAOM+0LeE3UMacwbvPPfTDvU3tvwgPXb5vtrB\n",
       "t4TDkOeB1FhSqyMiLiDuuzG/Mz/p2RomY3837fOGSH0lA5IkSZIkSZKkfx0fGCVJkiRJkiSt5gOj\n",
       "JEmSJEmSpNV8YJQkSZIkSZK0mg+MkiRJkiRJklbzgVGSJEmSJEnSaj4wSpIkSZIkSVrNB0ZJkiRJ\n",
       "kiRJq/XfjTsU+Ho8pjH7OqUxBfUW0ZY8soHWallQfwXE3V+GNGYB446IKJHnnfw+6qob05hpyd+b\n",
       "6ZjI/BF9aWnMwqY4gsZ9SPnPw8MuIOUkV21m/Z1PoMMDa4sgYy/gTyYkTzTrl3Pe2P1vwSTPrD+8\n",
       "1hMkTxERUfPfh9siwO8jKehv2KA6sj5JU7DeLWApkHzuu/ysbfMDGFFEOedtLfNj3k7pUX919zIP\n",
       "2n+SxyywUJEi2/LzkVrACiU1iJ6gHegPZAChYyL3IJKnxoo16m+rHFCkVtN63jYa/BHcAyMidjXf\n",
       "W//286/SmP/uNz9D/f17n/91GvPN6SaNIffTsXVoTEOX56CCNYy/QcAKbWBeZvwNko+LfNPRb4K7\n",
       "aZ/G9IXW9FwH8k76u6r5ntlVtkE/GvL+vp/Itxpbw+Q7bAbffXRNzaBed2Cddx3LJ6ln6BsS9cbW\n",
       "VAP9DWAfR/B6nenAmCZYF88gjuz1y8z6I3ddsoZpzglyPg6wll3H5fcdTkREvLpcoziyH0jdOLX8\n",
       "vu9/MEqSJEmSJElazQdGSZIkSZIkSav5wChJkiRJkiRpNR8YJUmSJEmSJK3mA6MkSZIkSZKk1Xxg\n",
       "lCRJkiRJkrSaD4ySJEmSJEmSVvOBUZIkSZIkSdJq/e20R4FLlDQmj+C60tKYl8NjGvPN+Qnq7+Pd\n",
       "Qxpz013SmL7m446IONZxk7YOoJ2IiLbks0PmuG04yyWWTdqp8Jm8kKGDIYFUcqAt+leAhaRzy7ED\n",
       "reUd1krXAWkrb4X0h3IZEQ3EtUdQE1jZYOMCMaVj/RWQzwW2hZDfRzYEmZiI6AZwrlUSg7qLNoOg\n",
       "bcpiLA2eDfN9GnMZ34CWWHHZTe/SmIFsiOufof7Q5lpIDJk81t/Y8gXzMA6sO5B2UjfI+VgLW5wk\n",
       "rgObht4R5iVva6NtxZG7BD1npjzm8ZIX4gkW66Ge0phLy9saevYDR9JWzfffw5zvmV1h+3iq+Zgq\n",
       "mGR074yIHnzzkGy2pUf9kT1KxkTmLiJiAHkn3xeknQj2zXNe8vXyZjqkMS+GMxrTCCbwQNY5zAGZ\n",
       "v7t5l8ZMcI7JN2sF5yM9Z9gnHXm7YP2d5nxvFTD2QwUFPdg7yLzRt30FfUWwnJN8kt/2Pm6bj54T\n",
       "OBsiIp6BdyUyJnI2RETsu3wt7MF6WeDDBBnVqbEzJON/MEqSJEmSJElazQdGSZIkSZIkSav5wChJ\n",
       "kiRJkiRpNR8YJUmSJEmSJK3mA6MkSZIkSZKk1XxglCRJkiRJkrSaD4ySJEmSJEmSVvOBUZIkSZIk\n",
       "SdJqPQ2ssaQx85K/V05LQf1dWj60QzelMX1pqL+n/SmNebmb05gO5CkiopQ8rgMxu5KPKSKigrbI\n",
       "yCcwxxERC5rnvMdTG9KYq12+DiIi5mO+phoZN5vi/9+qlf3ACpbCrs/33zixNdXAViYxZG32PctB\n",
       "BypoqXl/ywLrBgki6WRlmMdtBfRXyJhQEOuvy0sQ7q52LC7z5+8+S2P+81/+N6it+zlfxG+nQxpD\n",
       "z4ZDzev1n968TWNuOtbfBeytBrbfBAv/d2M+yT+6+kHeX9toscR29425sZz/6uFZPiaQT1A6IyJi\n",
       "InUfbHbaH0KWC7xLkONhmvLBX9UL6u9pl8e9m/ZpzL/14hXq76/uP0pjXu4f8jGN+ZjonfnQjWnM\n",
       "VPL90AXrj3ypkD1Kr6dk/5GYvrLftwf3rkdw38e/D+SKIGff2+kRtfWsz8++BurULdh7ERFn8B1N\n",
       "9sOuY3Pc13wVk7eEHVxT9/MujenAGwD67gt2xyHn9q/B+RgR8ZPrN2kMebt4BHc8ultIDsgcH8H7\n",
       "TUTEHsTtwJ1yD9cUWQlvx7wm0KvEzXLOg8B35jU4s6mHOa/DR3A++h+MkiRJkiRJklbzgVGSJEmS\n",
       "JEnSaj4wSpIkSZIkSVrNB0ZJkiRJkiRJq/nAKEmSJEmSJGk1HxglSZIkSZIkreYDoyRJkiRJkqTV\n",
       "fGCUJEmSJEmStJoPjJIkSZIkSZJW67+7XKHAWpY05qa/pDFL3sz7OBDTlpLGHLsR9ff5/i6N+d/f\n",
       "fZbGvB0PqD8y9hYgBrQTEbGAtgrI+rb95cj8XQ0TaImtYTKqLdfwAvLJxh1RQEJJW7tuRv0NNY8b\n",
       "W5fGvHrH9gzNe4bkadc31tiS/42m9KAdMqgItqgI2B2Ko20R5PdV0CFNJ5lm0l2+zCMiooI4MvRf\n",
       "fPckjfkvXv0ZaCliAuWz5Uc7y2VEdPs85tc/+zqN+Xi4R/3N4O+ou5LXsh2odxFsCX+5v01jaN2f\n",
       "QA3a6ix6bANoKeJXD8/SGDLuXWGLipxZ5CzqKlzEW6F3CRDXwNDfTEfU3xeH/D58Afn8aHhE/f2P\n",
       "rz9PY/6dn/91GvOP33yZxpwbOZAj7uddGnMTeWEktSUioqv5JJfIJ7mHhxHZf+QsonWK1E/yzUPG\n",
       "HRExg7hKNiCoi3RMX5/zu+7tnB+QDfZH5qYHNbbAOSY5R+cVLMMD3FsZeraTXD2Apq569i7x6nyT\n",
       "xlx3eQ3qQZ7I3EVEPOnPaUwH8jQurE7ta35BJeuAjCki4g7sP4LumXdT3h8Z+9TY/JE3lYeZ3fMy\n",
       "/gejJEmSJEmSpNV8YJQkSZIkSZK0mg+MkiRJkiRJklbzgVGSJEmSJEnSaj4wSpIkSZIkSVrNB0ZJ\n",
       "kiRJkiRJq/nAKEmSJEmSJGk1HxglSZIkSZIkrdY/zDsWWOc0pkwLaKmg/uYlj+tLS2P2dUL9DaAt\n",
       "kqt34x71t4BUNZADkidqAXNDxv2+rRwZ+TRs9/tIPkkMTAFc6Tk6xySqFjr63ALGddWPaUwpB9Rf\n",
       "2SihfZ/n4NDn9Y53mA+8fOg/9TS2Dsh+R2Onyw60Rfqj+awgruVHA66LAZYV6A7lk4w7ImIhcWDv\n",
       "lY71R+bmcR7ymC6PiYi47i5pDJm+S4M/ECigDtNSPS15Qsm5tuXZMIMxzW2b8zgiYgfup//m02/S\n",
       "mN+cnqH+Xj/P73m15vnsO5ZzcvYNXb6Rh8LOta/ON2nM9+NVGvOD/S3q73jIx076ezqc0xhyz41g\n",
       "3xc78H3RbXnnAmMneyEi4jL1eX8gBx2IiYjY123y+XZi90WC1Kl9t90cn1qec7LuaM4vLT8jF3Dj\n",
       "2MP++pLnqm142SXfRuhbFM5fD3L1pM/vG/Nyj/oje3lseT5J3aBnLVl7qAbB+ynp77Lkd7MF3Dci\n",
       "Ik5zvkfJ75tgPp/2+Zk1gt9H7swREbcTuLtsdGb5H4ySJEmSJEmSVvOBUZIkSZIkSdJqPjBKkiRJ\n",
       "kiRJWs0HRkmSJEmSJEmr+cAoSZIkSZIkaTUfGCVJkiRJkiSt5gOjJEmSJEmSpNV8YJQkSZIkSZK0\n",
       "Wv/YBhQ4Tfs05m1Z0phdnVF/Q8njSFvHbkT9XZb8rXVeShrT8hT8jbytkodEB3IeEbGAsS8B2gJj\n",
       "imDjqiDm0E2b9EXjFtBUA7mMCJQr0hJdUqStAeyZPcg57e/z/bs05u56h/o7z10aQ9ZUX1sac92z\n",
       "unHo8zHdf3GF2tpKAX82gis4xkseQ/YMiYmI6Po8htTF4yGf44iIw5DvB1I7C6xBZH0WsOPJ/JHz\n",
       "KoL9vkZ6pHNc88A7cN8gMRERu0rqWf77KvyBteRr7910SGPuR3Y3I/NM5phM4LFnZ8PnR1D3wfzR\n",
       "NUzm5hf3L9OYl7sH1N/f+6N/msY87/PiOcC6QarZ8y6P+otHdhZ9e8njfnb1XRrz0XBC/f38xZs0\n",
       "5p/dfpzGfH68S2MuLT+zI9iamsF3QwT75iFtdaC20LO9B99Y5LyidXFCvy9v6wp+070dj2kMWQs9\n",
       "yPnY2P/qvBjOacwR3L//cmZnA7lLNPB/RiM820l/I1gHI9yjW33zXNh1EXmc8+8Zso8j2JWKzB95\n",
       "T5kXlvNzyy/pZK9TJAekdtI1Rd6V2J2SIe8JJAeXBXw8Bav7pOaRnPsfjJIkSZIkSZJW84FRkiRJ\n",
       "kiRJ0mo+MEqSJEmSJElazQdGSZIkSZIkSav5wChJkiRJkiRpNR8YJUmSJEmSJK3mA6MkSZIkSZKk\n",
       "1XxglCRJkiRJkrSaD4ySJEmSJEmSVutvx/1mjbWl5B2WBbVVQNz34xH011B/z4bHNGZf5zTm6e6C\n",
       "+iNZmFr+/ruAnEdEFBBG5o/MS0TEDuRqAU2RcVeUzYgR5JNkc4Y5P126NOYy5WOaJtbfnKc8hiGP\n",
       "2Q1sz0xzPq5f1SdpzPMD2zNkTf3x09+lMT+/ep3G/HB/QmPagz/RzD8i7cB9DGJmsLG+uvSov//y\n",
       "L/4sjSH7mK7hCvJ53OfrYOjYGiYqqHkkhstzte+nNOZhBJs92FnUSBCsiw1MzauHq7w7mHJyrhFd\n",
       "ZR32Nf+B37zK52Z+3HBNgRQUsPeef5afaRERP7p6m8a0Lu/wqmNnw3Wfxw0lrxuHmu+riIi/9/En\n",
       "aUwFf7+/LOz3fT+/S2O+GD5NY+b4S9QfOWv3YJ3/ZM/y2ZZfpzH/1dd/mvd3nfc3NraGpyWfP1Jb\n",
       "6H2RfKuQMVHkzELfBHBIFRRs8s0zwG86crIduzGNIXm67vN2IiK+3J/TmAO4C359Zv3dz/k500We\n",
       "T36GgrsLqC3XYF4i+N7aygz236HmY5+W7WoQycH1kJ8zdI7J2C8t/76gbwnjlPdH5oXepgawPkmm\n",
       "6DfBSMYO5obcbyIiduCOQ9YCeXfxPxglSZIkSZIkreYDoyRJkiRJkqTVfGCUJEmSJEmStJoPjJIk\n",
       "SZIkSZJW84FRkiRJkiRJ0mo+MEqSJEmSJElazQdGSZIkSZIkSav5wChJkiRJkiRptf6X396gwGX5\n",
       "A4/kX1HKNjEVPqHeHJ+kMXenPo0Zz6y/2uUx8wQagvOCwkBQgfnc7fOYWvMOyRxf70miInrUXx5T\n",
       "YdIfTvkkXx7zdqYz66+BuMshn8DzkU3yMoOYyCdwWcBiiYjDkHf4MO/SmB/s8036p1cv0JiOJR/7\n",
       "sR7SmD2IiYiYQdIf20Ma81H/CvU3TWT+QENgH0dEtJbHTHO+Pulx1YGaEEs+eFI3KFLzdmBMDQ6p\n",
       "gbZwQoEF9De37X4f6a+C+dvyDoRqJ9gLFNl+pL/7O3Y2/GL/URrT17zDrrC6eOzyOwCZ459ff4v6\n",
       "24G6f9/u8zHBwkjOmXO7pDF3oHZGRLwc8rYGMPRvR/b7PtvBi3OCnP9btkXW8D7Y/bTRQzJrh9Tz\n",
       "iBjA2HclL1T7yn7fruZtvR6PaQwtwy+G/HJNztpLAx9r0LHmHZ7BQTPTOS75HJO7ywRzQNbCDsSM\n",
       "C+uvB7+PIN8p7+O2uQQMYF9FRHToEpCP6WEe0phHEPO+tzxXB3AeX3es5p9a/u5yO+b3BHL+R7Dv\n",
       "e1KraR0m99Npyc/tXWF1mNwGycgL2Hv+B6MkSZIkSZKk1XxglCRJkiRJkrSaD4ySJEmSJEmSVvOB\n",
       "UZIkSZIkSdJqPjBKkiRJkiRJWs0HRkmSJEmSJEmr+cAoSZIkSZIkaTUfGCVJkiRJkiSt1i+NBS7L\n",
       "H3Yg/7f+Sh4DQvC455a3Nk95Ow3mk1hmEESSEBGx0fzRfJK4BnLedXlDC1ksEVHLNpPTaNJJGFnn\n",
       "lfVXwJ8LSEyFf3aYyVoAa7gWtqiuhnwDfrS7T2OONe9vKD0a067sUFzm3E4obgJFoYHNfqjs9221\n",
       "/wqc4wKWeiXzB8YdEdHXvCagcwb1xpD+yHm14MNhGzQH5GzYqHS+jwNrj5RYsjZpHKrVsD+SzwUF\n",
       "gRCw7iIi7s55fdn1+d47gpofEXFpXRrTgb3e0Tq10d4itToiYl/zc+a+PaQxl8YOdzKqA8jnAPNJ\n",
       "on7wIj8jvz0d05jPjvkdIYKtKTLwtrCc07WQGcC8REQ0cG7PIGZcQJ4iYoh8XD24oz/OA+rv0OW1\n",
       "4+Mh3zO/Oj1LY353vkJj+rq/pDENLIMJrilyt34A+TzWEfU31G0+WvHZDmLIriLrLiKiA3Fkbirc\n",
       "6+QOV0BbI3jo2aG5izjN4GwHbeHvvi5fe1ve0Z/1+TlDzgb6TtDA//ltuYZJTSfrk6xN/4NRkiRJ\n",
       "kiRJ0mo+MEqSJEmSJElazQdGSZIkSZIkSav5wChJkiRJkiRpNR8YJUmSJEmSJK3mA6MkSZIkSZKk\n",
       "1XxglCRJkiRJkrSaD4ySJEmSJEmSVvOBUZIkSZIkSdJq/bKwQBq3GdJf2aidiJgX0liuwGaWBmJQ\n",
       "Q6w/BLRVNuyPNFVrHgVSGRERU8vf06eWT+AMYiIi5imPaXMes8ws6UsDuQL9zRP7faQtMskN7r1d\n",
       "zTs81jzp93Pe3+vpHRpT33d5TOQxDW7kc7ukMaclj3k35zERERX8CaqBdUfaiYgYwdpjZxHssAch\n",
       "Na8w+BxFhxZoZ8l/Hx0TGtGGZy0KAwdN2SiXtD+K5L1s+KdddufYMFcAOSOnGZzHHUtUX/I9OoCV\n",
       "R++BBST94/7TNObUHlB/Q92lMa/Gb9KYx5afRRERr8dDGvOkz8+Qm25E/f3mdJPGfHGVn8n/y1ef\n",
       "gN7YHL/c53NTQd2ga6ot+WHUgXVeYeFnZ1EeQ/t7nPPfR/JJK/UJ9BdDHvKjw20a824CDQXbf2cQ\n",
       "c2rgt0XE/bRPY355/yKN+bvPv0L9HcD9uwNzTHIQwXZyBXvmAvs7t3yeyXdKgav4ustrLGnpYc7H\n",
       "vYCYCDZ/5DwmayUi4nGjnNP78ATu1mTddXCOyWc0ySepnRRZnzPIk//BKEmSJEmSJGk1HxglSZIk\n",
       "SZIkreYDoyRJkiRJkqTVfGCUJEmSJEmStJoPjJIkSZIkSZJW84FRkiRJkiRJ0mo+MEqSJEmSJEla\n",
       "zQdGSZIkSZIkSav1ywIjQRxqq7DuSBgaOvx9S4MD2wjO+2YdfuDuQH8k491mCyGigbhaSBDrr4Cx\n",
       "f9hVxywNBoI4MjUo5xHxyf4uj9k9pDHHmve3Kz0aUy35YihgwRSSzIhYQEbPy5jG3M4z6m/ot5nk\n",
       "trCV/nDO42ZQFBqs56Qm9PXD7tIOrE9Sg/CoN6pTCz7U8tYWsF7oHLN7Sd4WrVNov5P5o3/+3eiM\n",
       "RGna8Owj/U0z6/BhGdKY05zX9Hlh/e3LIQ8COfho/0PU365/msa8Hr9LYyb4+z4F5+hjy/P5OHeo\n",
       "P7IW/uTJb9OY/7V+ksZ8f78DvUVMoL483z2mMbvKztoZnZF5pgqc46HkZzsZ02lhd6VDndKYAn4f\n",
       "XcN30z6NGZd8ff70+CaNOXb5b4uIeAA16C0Yd4M52IGc//DqLegP3qdA0ZtaPnayViLgGgZjonX/\n",
       "SXdOY0gOaD4fwXrpQQ52Ja9BhZXqKOAeRPq77i+ovyeR53wBOb+AdRcR8djyu8TY8mSdwfkYEVFB\n",
       "zWvgTknuzBERHVgvAzizRvBp6H8wSpIkSZIkSVrNB0ZJkiRJkiRJq/nAKEmSJEmSJGk1HxglSZIk\n",
       "SZIkreYDoyRJkiRJkqTVfGCUJEmSJEmStJoPjJIkSZIkSZJW84FRkiRJkiRJ0mp9LCxwIXGwrc36\n",
       "A8+jZcMxlQKCaD7n32so/1c79PeRsRNw3K3lMV2XxxQwgW2BPw7kat/lA59hzgt5vt/wib+gBbod\n",
       "lAawDvYDCIqIz/Z3KC5zqHmezsuE2npoj7/vcCIi4r6dUdwICgeZl4fG1gqpLzNsi6ioJoB2Ktuk\n",
       "YClEB9qiGZhArrY6ssZ5u+KyZR1u4Ac2kKd5Zv2NlzyG1GpaX6cBrBfQX3eEq2qrewlopx9AO1AP\n",
       "9lUPzuOIiL7kcQ38wAJ3383u03xM/ZM0Zp5PqL/LdJvGfLb7Io15OXyD+hvBXn435Yv4qmfn6B9f\n",
       "v01jPu7zdv7b6zGNucC6eH/OOyQ17zSDgUfEUMHlGuzReWG/b6s9Q/sjZWoPcnCobE3NXT6uhzkv\n",
       "aP/y8Vka88nuHo2JOLd8vZBxR0Qcar4fPgZjv532qL/rLj9sK7hLnBu4CEbE/bJLY2awR8mYItie\n",
       "IXZkr0fEAnYNzVVmV9iYXs9XaczvpnxefnR8g/qbQH25gByQWhYRsYD1gp6n4Joiv4+sO3R+BPum\n",
       "Izkga9j/YJQkSZIkSZK0mg+MkiRJkiRJklbzgVGSJEmSJEnSaj4wSpIkSZIkSVrNB0ZJkiRJkiRJ\n",
       "q/nAKEmSJEmSJGk1HxglSZIkSZIkreYDoyRJkiRJkqTVfGCUJEmSJEmStFrfGowEcQtopsDutmpr\n",
       "gR2i/ujgiY3awmNCyfp9RvKvdAf6IzELGTgcd1fyRVwKaGzLRfWhkX1Mx73R76uwoZ8c36YxPz1M\n",
       "acyh5n9XaXBMpzamMV3J+5sWVogPZUhjxpjzdir7fQtY661tVxj7Po8h63PLWt2BmlBhPtvS5W2B\n",
       "dsqmxXqjZkjtjIhKOiRlH+Z8t9/m8KNrCpSXzc5HihxZW15vyB4le4bsPWqooMbCJNyN36Yx0/k3\n",
       "oCXW4VB3acy5ndIYWvffXvJzZgZjRzmPiOuOrIV8Y31x/S6N+effvUBjOu7ycxSdDRuuYbaR6VmU\n",
       "t0VWJz2LZnpvTuxqPi8REePC4jKPLd8Lt9MetfXR8JjG7Gt+h71dDqi/ecn3zNjyO8nT/oz6Izqw\n",
       "XuhSmcFBg85a1h2y5af2GczNd5erNObZkJ8NNAcf7+7SmF3J1yf5bRERJ7D/SA5o3XgxPKQxZF/R\n",
       "utiRj3KA1POIiB68gxy6vAZNIAf+B6MkSZIkSZKk1XxglCRJkiRJkrSaD4ySJEmSJEmSVvOBUZIk\n",
       "SZIkSdJqPjBKkiRJkiRJWs0HRkmSJEmSJEmr+cAoSZIkSZIkaTUfGCVJkiRJkiSt1i8NRoK4BTRD\n",
       "YiIiykZtLaShiFhAY7XmQQvtkNiwKZIskgPc3UZtkXbKhnmaW94YidkUzOUCklU2XVQ5Mqbz1KG2\n",
       "7ucBRE1pxLzhQp9iTmNObUxjruoO9TeUPo1pbbvfV0re1jznf6eiKd9qauZ5u3V+KfnvK/QcBUjO\n",
       "Sc0j7VAV9Ed7W0gk+Bt5Y2EAACAASURBVNMnr/sfNp/sDvCBz5APrO/yXHVonbOcTy1fMG3O2zqh\n",
       "MyZiXvKa/np6ncaclwvq75P+ZRozLfnZ97sL+30Pc37O7Ep+9s3wPnwP6vUVuH//0dV3acz/9tVH\n",
       "aEyl5PeSaSFnA7vf7MHvm0GhKlt+gwAkBxHsjLwsea4a/H3nRtZwvmd2NV/nExh3BDtHPxpOacwF\n",
       "rqkZzM3dnN89F3ifKuCs/Wz/Lo3p4YWKnNsDeLx4N+1Zf+D39eTMgufa68tVGvNmPKYxd+D33fRn\n",
       "NKYXw2Ma88nuHrTD+nsDxr6v+T5+hGf7EbR1ArWF1kWiB2dtpfdTcPc8gfO/A3vU/2CUJEmSJEmS\n",
       "tJoPjJIkSZIkSZJW84FRkiRJkiRJ0mo+MEqSJEmSJElazQdGSZIkSZIkSav5wChJkiRJkiRpNR8Y\n",
       "JUmSJEmSJK3mA6MkSZIkSZKk1foCAxcSuPw+Q/nbo2PfygJ6XNqmHW4TQ8NIEF4woKmSBy2gnQra\n",
       "oQr4fWRMf5u4vKGN2vn/qBn+vrfTHsQ8pjFn0N+PdyMZEtoP+9KlMQe4WObIC8wCFsyxso3c17yt\n",
       "CmLoXpjnbar6lnt0bvmYSN2IYLVqAYdtBeuAImMntRrPHAisGxY9Mq6O/D74A8l6qV3+t915Yv1t\n",
       "lSpyx9tynXc1X8NkXiIiGkhCB+rUpeW1OiLi68vXm4yJ+m76Po3pSr6m6F3pfh7SmKf9BbTTo/6u\n",
       "wFr4fsrH/snuIe8MTsvzq/z3/fbxSRrzcg/GFBFdAfsBHFikVlMNFIUBjDsiooFK3IPJof0dh/wu\n",
       "eN3lc/zV6Wk+pjqjMZE77P2U770Z/m/QvORxI6h5h47dhw81P7TIyOkck3vCtOS/j6yDCJZPUmNP\n",
       "jdVFkve/e5WfDWTc76YdGtOry00a8wDy+fU5r53v5XXjCvT3tD+h3shefmj5HiW1M2K79wsyxxER\n",
       "b8fDJv1dg/Pf/2CUJEmSJEmStJoPjJIkSZIkSZJW84FRkiRJkiRJ0mo+MEqSJEmSJElazQdGSZIk\n",
       "SZIkSav5wChJkiRJkiRpNR8YJUmSJEmSJK3mA6MkSZIkSZKk1XxglCRJkiRJkrRaX3oWWFoes5CG\n",
       "UFBElE1ConawO9RfPvilkVFBGzaF875ROx+yO9rXvOQJraCxBU4MWlOkqS3XAbHV5EG7HhSXiPhi\n",
       "f5fGHMEEvhvzovD1OKMx7Ure3+dD/necx2VE/RUQNy/5mCY4xxX8PgKt84gAQ98UHVfazjbNRATb\n",
       "fmTclQ4KzDFq6gMffeQ8jmBruAN1g/48kverY14Tbi8b/v33Q58hBJg+Oux9l9drslrmheX8m+k2\n",
       "jflieJHGtIWdffu6S2MWUDzp77vp8nNmBG2NjfV3W/M8dHP++14OlzTmyRN2tpMF8zDlH1DPd2wV\n",
       "T0t+L+nAHPfB1tRA6v5WZ0NENHL/Bv3t68T6AyMbW55z0t+5sQ/pb+chjSF7tCcf5MHyedOf05jn\n",
       "wwn1R85k8h12P+f1LiJiArnqQK6uQL2LiFjA2Mm6o3eX6y6vZ3dTnisypgtcw18e8rPvcc7b+vVj\n",
       "fj5GRPRlm7N9V1ndH0EdJvA3D5gbsu7ot9oRrHXS1gDmxf9glCRJkiRJkrSaD4ySJEmSJEmSVvOB\n",
       "UZIkSZIkSdJqPjBKkiRJkiRJWs0HRkmSJEmSJEmr+cAoSZIkSZIkaTUfGCVJkiRJkiSt5gOjJEmS\n",
       "JEmSpNX6rmOBC3iKXJbfbzB/EIWG5YOvNW+swnzScaVgzsncbDl/FawXEtNXMC8wl63lgRNoZwbt\n",
       "RHz4nBeSCJDzsumfHfIxkXmJiPgXDy/SmHF5m8a8m3ZpTFfYxPxg/5DGfDPmq6ovZOVFXJY8V2eQ\n",
       "z1fjAfW3gPkj+5ja7fK8F7BcCpy/DoydrIW+NtQfGVUHat6hy9dLA2uF22ZeItjRR85j3h85Q/IY\n",
       "WhM6sBauelAT6h71h8o+WFPEANf5dX9JY8g631VWF4eSj4tkgGbpv/7qizSmA2MaF3ZhJGt4Am3t\n",
       "6meov6HMaczDnJ+jDV50Sa16MTymMcduTGP++Pl3aEz/8C8/TWNefpznqcH/45jAR1ae8Qi6ikkU\n",
       "mT1SO9/3l7dGzu2HNqD+7sE97/lwSmNmMO5T69GYelATyN7b1TwmIuIMxvXt5SaNeT1eof6+POT3\n",
       "b7LX6Vl7mvPfN4P9R/ZeRMQVqC/km47OH8kDOfuuwbjPjZ1FXx7yb55Ly/P5+f4O9ffXp2egv3zs\n",
       "JCYiogdFD30XBbsrEaQ/WvcP4E5F7l0kn/4HoyRJkiRJkqTVfGCUJEmSJEmS/g927W3XuiRL7PqI\n",
       "mIe11t7fOfPLyqzuqrZpLNmWJQRtcYOExAvwGjwAXPMCiGvegQsegBsuOEiAZFoGI2S3SnZVdVVn\n",
       "VuZ32qe11pwzJhfZIAElj7+mZ38qo//veigi1oiIETFjb23mA6MkSZIkSZKkzXxglCRJkiRJkrSZ\n",
       "D4ySJEmSJEmSNvOBUZIkSZIkSdJmPjBKkiRJkiRJ2swHRkmSJEmSJEmb9d98cUaB61rSmAXErCvq\n",
       "Dql5d1EL6/DYzWkMaenuMKL+Chg7CAk2KparAtsiupq3ReamLy2NKXCO25q/p5OW5sbe5W9Hsmfy\n",
       "tqaF9Uf2Fll31F79vTmyGvTLx9dpzA/X2zSGrDtSyyIifvG4oLhMB9Z5RMQM1gsxtQ7FvTpc0pgX\n",
       "YJ3jygICyZ5ptMOd6jA9Z4aar5dup7o4gr4ieP38nEjO6bjJ3YWg5yMZ1z99n9ey8z3qjiEpACWI\n",
       "3t9qf0hjvnl7TWPoHA81HzzZM3Qf/+K7Z2lMA/mk5zE6a8HR8O/+7FvU33/w5ldpzA9Tftd9aj3q\n",
       "737O2/pyfExjyN2MrIOIiFq/SmPIPXdubJJLl7f1uOR5uu3yfRURsYJxkTOE5pMUGHIvoXcgsrc+\n",
       "zXmd4r8vt9e5Pdb8e5W2dQPWy/OerakLmL/HNqQxKzxrye9bI48h+yqCHaNDyfub4J3kCOaZtDSD\n",
       "/m67CbQU8WnOa/onUM8P8H76t04fdunvDM8icl8kq/MC+yNIBWrwxYjcY0mNJXcu/4NRkiRJkiRJ\n",
       "0mY+MEqSJEmSJEnazAdGSZIkSZIkSZv5wChJkiRJkiRpMx8YJUmSJEmSJG3mA6MkSZIkSZKkzXxg\n",
       "lCRJkiRJkrSZD4ySJEmSJEmSNuv/q39wZoF1SGNKlDSmK3k7ERGH7gb016cxbZ1Qfz9cf5PG/Me/\n",
       "WNOYQz2h/oa6pDEryGeNfEwREQtoa13zGOrSujRmKC2NqSX/fU9Lvg4iIn7zMV9TSz4t0UBMRETL\n",
       "fx6ysimOAP2tJIb2B5ZLh7b7EXXX1zGN+eqUD6qhvYCGFCPax7mhwsUCGqtgX81rvj8jIqb2ef8G\n",
       "tbR8bgpYd3TcpMaSuelAziMijt2cxjzvL2nM05JvrCuowRGs7k9rns8O1OoIth/ImArsr+10rjWQ\n",
       "gwj2+x7f51HTe1gTwM8ru21jlsuSl+q4e5Gf2xVO3dDluRpBDKmdEewOgM6QPcsr6I/cuSIi/mjM\n",
       "B/b3T3l9uTR2//6wPKYx7/PSGRdwftA6NYBryXXO80TPWnLXreCSR+43ERGB6hm57LJ8klGx85hd\n",
       "wJcl/32XltegR5An0k5ExALaKpGf/2B7RkRED/b7Adxv7mZQ0IPNMdl/9LsW3SXQuwSrix/nvCg8\n",
       "665pzFhBMQu2rhZwv7mCGnS3wJyD/kjOL/ADeQZ7hsQMhdWNA7ijk301wben+yXfW+T37fd6E/GX\n",
       "51dpzJfjfRrjfzBKkiRJkiRJ2swHRkmSJEmSJEmb+cAoSZIkSZIkaTMfGCVJkiRJkiRt5gOjJEmS\n",
       "JEmSpM18YJQkSZIkSZK0mQ+MkiRJkiRJkjbzgVGSJEmSJEnSZj4wSpIkSZIkSdqs/+O/9R+xyO4W\n",
       "xIx5TJtRd+v4Kg+qxzSkXH9A/T377r9JY+b1v0tj3l3yMUVEDLWlMa8PT2BM7I14BTHnpU9jrkuH\n",
       "+islj1lKngMy7gXmYLqCtsDyXMmgItDgUVuwP9RWnnIOzPHKlguytHyen5YhjbmANUxiIiIO3ZLG\n",
       "1JJPTAf2QkTECpIOpiXGjtVhMq4O/L6xsv7GmueT1Ly76YD6m8Ga6kGtJvU8ItBeJvWsgIYqLBwr\n",
       "WDBgirmd2mpk4MHmmOwr0k4EG9eaL/MIEhOB/kyMzgayDuhCWPLGWgMdVtYfyXkDTXVsSUUhSwH0\n",
       "V/f8Ez8Y+xfDI2rqP/w3/9M8aAU1fcnvsBER7fxtGvPw9M/TmP/x7n9KYz4u4CIYET95eU5jfv1d\n",
       "ft//8obdJc7g7nLqpjRmaqy/oexz1kbLvxsi2F0C3ZXgAUJq1QDuG3XNx03mJYLdT/c8agn6DUk8\n",
       "LPkbQI/WAbtP9WCOST7pXWkEe4a09AjyRJ0qqQn5HE/wY43cPckxOqFDlLVFagtd5/OyT67ommro\n",
       "F+6H5OoI1hTax2hEkiRJkiRJkvR7+MAoSZIkSZIkaTMfGCVJkiRJkiRt5gOjJEmSJEmSpM18YJQk\n",
       "SZIkSZK0mQ+MkiRJkiRJkjbzgVGSJEmSJEnSZj4wSpIkSZIkSdqsjzKwyEriyHtlYf21GTQ15THz\n",
       "I+pume/TmHPr05j7C8tnKWsac1ny/iLydn6MyvO+tH1iIiIq+H19zWNIOySXETBTrCmGpGrH/lB3\n",
       "ZIvumQPQ1tOF/Z3j8WP+C7+Pm7whkKgV5qAE2aOoIWanuSnwT0s//+k5jRn7axpz7EA9j4jbLm9r\n",
       "Wrs8puUxEREXMH/71qB8otuax7AxoSGhtb5nKSM5YHli/ZF8kpi57ff32HUBMfQHAqXSAvMvh0cE\n",
       "Asm6W8G8/BiXN0bmeE9o/+04JNJfVxtrjNz3yfqsI+qudKc0Zuhu05gFrIM33QGN6YvDUxrzy+mY\n",
       "xtTCcv645Dk/1PwcJbUzIqID40L7D65hEkbOtSs827sAvw+0c9vnOb+Ab8OIiBtwvznU/HCg/Y1g\n",
       "vZBTbQBjiojoWx5H7m9zY9/RY8l/3wBq3gLPhhl8QC1L3lYP6zC5xxawikcwf0ewVmh/JJsLLBwk\n",
       "B91+ZQrd5YfI80nrMClCE1h3Z3B+RETcdPm72Zsxfzf7/pqfx/4HoyRJkiRJkqTNfGCUJEmSJEmS\n",
       "tJkPjJIkSZIkSZI284FRkiRJkiRJ0mY+MEqSJEmSJEnazAdGSZIkSZIkSZv5wChJkiRJkiRpMx8Y\n",
       "JUmSJEmSJG3Wr4cvYeRtHlPHPKZdWX+kLWAdX6O4/vhNHlP+cd7firqLdS1pzLTkMW1lb8StgRgw\n",
       "plrZD6x5U0FaWsCY+rLfmBqIASE/AsOCy4UhY//MY0JzDNZ5RMRyzltbG+ix4BnMm9qtpc/bYYF/\n",
       "WppaHriAGnQ/H1B/D3Ne96+ty2OWPCYiYt0poWVhu2bo8kJMat5QQUHHyNg/b+Eg5yg5QyPYHJOz\n",
       "byGHQ0QUeB6laDN75f0zF342x7A7MH977fWIYHV4p22F+0PN0IQuecz4RR4zfUTdFfAdcgBj/8nd\n",
       "izSmBaudf3TKx/7nXf59QWpLBDtHF7AQKpzjvuR5qCCGtIPtWBPIuJ7akMbcXY6sQ+Cmg9+/CXJH\n",
       "iNjvfkrbed7nv28G6/xhod//+WI4tz6N6WBNeATjIvv91E2ov1fDUxoz7LT/6D4+1jmNOYAYsvci\n",
       "Is7gPoXuEvBeRvLQwAfUDL6dIiIaqelg7B2cvwNYezP4xvpifEhj/A9GSZIkSZIkSZv5wChJkiRJ\n",
       "kiRpMx8YJUmSJEmSJG3mA6MkSZIkSZKkzXxglCRJkiRJkrSZD4ySJEmSJEmSNvOBUZIkSZIkSdJm\n",
       "PjBKkiRJkiRJ2swHRkmSJEmSJEmb9TG+QYFrf5MH1RE01Fh/3RHFZQpspx7epjGHOqcxL08T6m9Z\n",
       "SxqTR0RMC4mKWEoe1+Y8ZuhW1N/Q5fNcgrSVj6mrbEyNLL19hoTjwLRgZGut5PexdLI80LZ26q/U\n",
       "nRK657j3tNP6pD9vWvK/Qb1b8hpbC+txBYNvoCm8RUHgnv0tYJO2jpwN+TnTFXjWgtGTGIqshIbG\n",
       "BPsDgWhbwTWMajrZo/AHomGRpbDTuCMi1oUMivx9G57te51r8PdVMHQyf3ue/8TjAu7oEbE+/iqN\n",
       "Kc8OeUOlR/3F/JCHXN/lMbGkMX10aEhTyyd5POXt/PYT+HaKiK+en9OYa8vzOZQ8BxHsfFjBd8q8\n",
       "sv9TOdX8zLqA3/duYvm87a5pTA9ycEPaqeysnVq+9h6XIY3Z8z51Bet8gXP8rM9ztbR8TD1cwyQP\n",
       "tyVfd+R7PIK9AdwveV28n0HtDLZe3oyPacwIxj3BOS5gTA9gDdO6MYC9RfYx7Y+sddoWQdYweSs5\n",
       "Dvn5EcHGTsZ0BevA/2CUJEmSJEmStJkPjJIkSZIkSZI284FRkiRJkiRJ0mY+MEqSJEmSJEnazAdG\n",
       "SZIkSZIkSZv5wChJkiRJkiRpMx8YJUmSJEmSJG3mA6MkSZIkSZKkzfpy/pZFDs/zmO6Yx6wNdVdq\n",
       "T6LykOkj6i/m+zSkljWNucwd6i5vKWLo8lxV+ETcl7yt1vJ8kjHR/pY17+/QzaAdloQVJB3FsBQw\n",
       "ZCHQpkhbO/aHgC2KmwLTjHJAfO487QnknOQSNhWHfkljhprHRERMLa+fc8sHP4NaFhHR0J4hCd1v\n",
       "wZA13MDMVLj5VhCH0kTyRIEOC+yOxJHpo7+OxKH9t+fZABorOxZrkvO9zmMKNUX72+susWN/ZPru\n",
       "5xF1t4B7c7885Q0dvkD9xfpVGtLNd2nM133eDl3m8/qQxpD799MD6/DwMr/rVrAQRnjWFtDWAv4H\n",
       "ZYVn7VDycZFl/noA6y4iHpchjTmAMbFaxnLQg/6IobKPEFJfyMjJ91wE+6YbQFv0JHrWX9OYj1P+\n",
       "LkHGHRHx1SGvCV+VPIaMKSLi45zH/XC9SWPmNb9Xvx4e0Zie95c05gnsvd9eXqD+vj58SmNIzaNr\n",
       "mKyEhr4JUHcojNQXUqsjWB5I7STnh//BKEmSJEmSJGkzHxglSZIkSZIkbeYDoyRJkiRJkqTNfGCU\n",
       "JEmSJEmStJkPjJIkSZIkSZI284FRkiRJkiRJ0mY+MEqSJEmSJEnazAdGSZIkSZIkSZv1sTywyNrn\n",
       "MQW8Vy5PrL/uhsVl2gT7O6UhxzqnMbWurD8Q9nTt0ph5Kai7CqZmBWNqK+uPLIWxtl1iLg2OiYSB\n",
       "GNYbg1ZLngKODB4u4b1yRdbmj4H79Ed+30pzTnK154Ih3e20ziPYficxy8ommdSgGez3ZceaQMZU\n",
       "8STnjfXgDEG1er8hxQrmmJYNZMc9U8DIKqllhf1C1BapZTv++beQhf6Z69QfohUmgew/fIbshdQE\n",
       "+Pu68XUeNDwHHcL7N2irvvq305hv2iWNWVt+j4+I+HL8r9OY42FJYx7esY08rfl9n7g08K0WEUPJ\n",
       "x97XPIbWfXIH6Eu+aTpYhxdwZpG2yKycYc5PNd8PpFTPDR4OIIysA1oX95rjBf6+x2VIY266axpz\n",
       "hXuP9NeB33foWA36oj6mMa/BOr+2/PfdLyMa0w/X/G3mWZ/n/OfHD6g/MjefpmMa837K33gi2Fp/\n",
       "PeTvWF+M7G2N1Gty36AayOcB1H1SN/wPRkmSJEmSJEmb+cAoSZIkSZIkaTMfGCVJkiRJkiRt5gOj\n",
       "JEmSJEmSpM18YJQkSZIkSZK0mQ+MkiRJkiRJkjbzgVGSJEmSJEnSZj4wSpIkSZIkSdrMB0ZJkiRJ\n",
       "kiRJm/Vx/h0KLG3Og5ZLHrOCdiJiJf11B9DQgvqLdk1D+pK31ZUVdfcwdWnMspQ0ZmXdobha86Cu\n",
       "NNRfCTiwxLzmOVhaHhMRESCswKb26o+kCWeSLPV9piUi2M/77Dknv2/HHLAk/OtrAbmaW/53KloP\n",
       "rkteF69z3h+tCX2Xj6ugms5+H8nVGRx9Y56mGMF4IiJWsIgbWeg77ivWFJtj8vtIDerB+RjB7gBl\n",
       "AB3SP/+SNPz/vE4RK7hLNBATEdHAWbuSqxKdY7L0wNDPy4C6e/fhf05jXl7fpTGlsirUDa/TmGX6\n",
       "kMY8Pv2LNGZq4DslIt6Oj2nMzZAvhO/BeRUR8eGcf88cu/xweN6fUX/Tmh8iFXw4HCr7pqugLpJa\n",
       "XeHpcNNNu4xpXvP5IzEREQvY8OQO9Lxja7iveREiYx/gd9+1gYsJqFNHMHcREb+7PktjbkGunvf5\n",
       "938EewN4XPKa9wzOH1nD5O7yCOr+CPfxAtYLqS10z5Az+ZvjXRrzpzf5eRXBasIP0ymNOVT29rRf\n",
       "PtndZQFxpA6fwFb3PxglSZIkSZIkbeYDoyRJkiRJkqTNfGCUJEmSJEmStJkPjJIkSZIkSZI284FR\n",
       "kiRJkiRJ0mY+MEqSJEmSJEnazAdGSZIkSZIkSZv5wChJkiRJkiRpsz6m9yyyXfOY4SGPWRvqrvTP\n",
       "8qA6gv5m1N86fUxj7pZDGvP+YWD9gTRU8PzbWDpjXfOYAtqpJCgibvopjVnW/AcW0F+ja4qMncSA\n",
       "XEawnNO2kB3Hvld/JOelsEEV0Ni60w+Ey/wP046DX9e8sZshPxuuS4f6u8x5TZhATNtxnZM6XOCf\n",
       "6ta2z+T0Na95pL5GsJJAatn6r/GuQbWat5ZGVLAdSL37sbGdYgA6pD/EpbDncUzuXetCGmL9oXSC\n",
       "oHPrUX+/vv4yjbm0xzTm9eFnqL9+eUpjliX/vqglv3+PHcvBV2N+rpG7Sz2yzXC+5pv09CK/Vw+F\n",
       "LaoexDVw/tNzht7TMxXeFzvw+6Y1L8THmn9Dzo3dbyaQq0rOD5iDCYzrCnIwwcpIck5qUIH99SUv\n",
       "siQHv3x6hfq76fKa8GE6pTE/PX5C/X015jVvauQ+nO/j5z1444mIuzl/B7ntzmnMUMkByb5BLmCO\n",
       "Z3gJWsAdnexR+g1yAPWF1OoF5CmC3dNnUKfIvPgfjJIkSZIkSZI284FRkiRJkiRJ0mY+MEqSJEmS\n",
       "JEnazAdGSZIkSZIkSZv5wChJkiRJkiRpMx8YJUmSJEmSJG3mA6MkSZIkSZKkzXxglCRJkiRJkrRZ\n",
       "v86PKLDEmgetcx6zPKH+ovuYx/TP85g2oe7my7d5TOvSmK6CPEWgp90KYua5oO66Lh9XBWOHvy6u\n",
       "IFfnpYet/cvVwkZF8tlAO40mgWyZndrByHJhSyoKyCeKof3lSyqigcbIvKz7JZ38vD2nmCgw6bXk\n",
       "O+LFcElj7uKA+rv2+YJZwBzDkoDA5YmQWnXoljRmBDHryka+V0mgKUd3iR17RC2R/QB/YAN5J92V\n",
       "Ay2MIGTHuo+Aut/3eULpfaoHcQPYM8cO3GEjYjyOacwCmiLnYwS7u5A73gDqeUTEPbint/W7NObj\n",
       "Au7xEdFHfhdcgs1NZiLfKRHxcc4vHG/GPE/z12ySv/1+SGPevzilMacj++ZpO234aWW/r67g+wms\n",
       "zwWOuwdn7dOc57wHY7rprmhMKxj7ueV7gXxfRbD7Bjmv+srqBvl9C1gvJOcREYcK7kGgneclv8NG\n",
       "REwtH/vrAdQEuGd+fX6RxowgB2/HhzTmYcnPtAiWT1JbPs5H1B9RwajasucFJzeBehcR0e20R2k9\n",
       "J98Fx5qfkX3J153/wShJkiRJkiRpMx8YJUmSJEmSJG3mA6MkSZIkSZKkzXxglCRJkiRJkrSZD4yS\n",
       "JEmSJEmSNvOBUZIkSZIkSdJmPjBKkiRJkiRJ2swHRkmSJEmSJEmb+cAoSZIkSZIkabP+4f7/QIEt\n",
       "ljRmadc05mm5Y/2tLY0Z6rhLOxERv51+m8as8Rq1tZs1D+l7EBQRXc3jSgExqLeIoeZ5r2VKYy5L\n",
       "D3vMHUbw+2r+C+GSQip54odJJ2FojmF/Faypsc+T9eZ4Rv19W2/SmLaC+WNbBqG5+kNTClvEY5fH\n",
       "fbge05ipsb9l9aBuvDiC2gLWZkREBUWWjKkD+yoiooFdSsZE+qNlqoK2FrCvOtjfCtoihx/deyvY\n",
       "8Khu0P7AHL99k5996xvWH5k/cjqQVkieIliNJXcEWqpJzsHRHocuv+dGRPxbX3+fxnSgxvawDg81\n",
       "HxdZB9fGdul//qu3acyxy9fwsc6ov6E+5TElz8Hfu/2QxnyEd8oOrKl/+OrXacz72xPq77/8Z387\n",
       "jVm+zs/RC5xjsqZI3SfnYwSrCWQNk/MxImIGeSigrbv5kMacar4XIvbbo6TeRUT04LudoHV/BPu9\n",
       "AzcTep8i80dqbA/2QkTEBOaGrBf6XftyyL+Nbjvy7jKkMfdz/p4SwWrCI1gupJ0INn/knFnh/9PN\n",
       "ax7XQEwPzqsIdh9ewH5fwJhof+eWxwzgAu5/MEqSJEmSJEnazAdGSZIkSZIkSZv5wChJkiRJkiRp\n",
       "Mx8YJUmSJEmSJG3mA6MkSZIkSZKkzXxglCRJkiRJkrSZD4ySJEmSJEmSNvOBUZIkSZIkSdJm/X/y\n",
       "i3+CApc1f4ucd4rhShpRY0UtrXFMY8jY39xeUX9tzcde4NiJUz+nMbXk/fWlof7GLu8vz0BENz6l\n",
       "Mb+8fwlaijiN+ZiGPp/jFU7LCua41rwx2h9ZU3sivX1xPKcxNz3bM3/yIp+/S+vTGLKPO7jOyZ6Z\n",
       "WpfG0Lnbq250YNwREU9zns+l5WPCa5MMCzTV6B4FjZFUNbpJCfD7FpDP3z3eoO7mBcwf2A57poDU\n",
       "zj37Q+AS7kBNL6CtT9+z/na7JoB2VlYWWVtrXhfxJIOEVtDd7dsRdffm9pDGnPopjRnrgvrra554\n",
       "UmMvS17PIyI+XfM8vDpc8pghv79FsDyQM3m9/ZDG/PLpBRoTueuewD3305x/W0RE1DGfv4+XIY15\n",
       "PbI5vrY852Re6NnegTVc4L2EuID6cr/k+/hZl99Pyf6MYLk6dXnduJ/zcUewc+YG/D5ap2Zw113B\n",
       "HDd42JJ70FMDcxx5LYtg43oDvll/uLK72f2c12GSA1LLnvcsB+T7idyryXdDRMQE9jHZ67S0dJHn\n",
       "qi/5fiA5iIiojvzHJgAAIABJREFUYG469F3EatAC/q+Q3L8va37O+B+MkiRJkiRJkjbzgVGSJEmS\n",
       "JEnSZj4wSpIkSZIkSdrMB0ZJkiRJkiRJm/nAKEmSJEmSJGkzHxglSZIkSZIkbeYDoyRJkiRJkqTN\n",
       "fGCUJEmSJEmStFn/3//uT1BgW8vf8FD+n0hvpaxpzPPxivp7c3hKY0gOKhhTRMTc8rbWNX//LXBa\n",
       "npY+jSG/79AtrEOQh9tuSmPOLR/3Dx8GNKTWSFAewmaYrWHUFuxwpQNL0DXVjXnMm5t8DX+4nlB/\n",
       "C9gzU8v7I+t86MhiiVhBW9dlv7/jkDkm83fqZ9TfDGrQUPKaUOEiXsCuIeuggXFHsHnOKxDfM5/T\n",
       "NLNBzSCOrLu96g/uj23R3eA57sE9oYIfCI9alPedYlY6yXuNCcsbW0FtaTDnbaexPy3s7jKs+cCG\n",
       "msc8zKy/x2te9b46PewyJur9lN8TyBZ92V9Qf+Tuear5HZbm4PQmH/3jU5fG1BesME4tb6sveVuX\n",
       "lZyQER34JmigqJN2IiIGMPY3Q/7dR3ojeYqIeN7n36PkG5Ksu4iIC1jDDewa0g5F7swUOZNncP9+\n",
       "DFiHaz7PMzgcXvRn1N9Ty8dF7uhn0M7LwsZ0APWsAx/Sc2F39AvI53XNaxlF6ksP1gF9M5vIOw9o\n",
       "h35jDTX/9iM16ArOD/+DUZIkSZIkSdJmPjBKkiRJkiRJ2swHRkmSJEmSJEmb+cAoSZIkSZIkaTMf\n",
       "GCVJkiRJkiRt5gOjJEmSJEmSpM18YJQkSZIkSZK0mQ+MkiRJkiRJkjbzgVGSJEmSJEnSZv3SCgps\n",
       "K4vbSwHdkdfRNfYb9+M8pjE0TxWELaillUXtNH90vVyXPo0ZSktjyLhb3sxfB+YhK0snQppC/dEx\n",
       "kTgwfTgFILCAoLl1qLu55Tt+AutzAe3QutHXfFF97tpJJob+vmnJ47pC8vl51cJ6JFkga5j2t9da\n",
       "GGt+OtC6SOJInaK1k2Tgc68XZMdtTO439M+/4Bhl+fzcSd+zLO6UT7qGlzVvjNSEBjskP68HC+HQ\n",
       "sVtlOeYxz/trGkPGFBHxbrpJYz5e80E9gLvEoc5oTNc1b2vY8fx/82JKY779bsj723Vj5chZFBEx\n",
       "gT3TWv77apevuwiWd7YW8j3awXV+AWvqAr6dXvZn1N885TlfWt4fXVPkrkRMIE8RERX0d+jyOT6D\n",
       "nEdErOCrvFbwzQP2QkTEWPL+yFlE1vAVfoeRc418Fx3Ab4uIWMDBXcE5StdwBQ8FpLbQuk9q0AHU\n",
       "2Mclr50RbO2RfN6COux/MEqSJEmSJEnazAdGSZIkSZIkSZv5wChJkiRJkiRpMx8YJUmSJEmSJG3m\n",
       "A6MkSZIkSZKkzXxglCRJkiRJkrSZD4ySJEmSJEmSNvOBUZIkSZIkSdJm/bqW3RojLa24tTyylDym\n",
       "Kw31NpQljTl2c95OzduhHuYxjenh71vAPE+tS2MKXC5kbiqIuba8Q7qCd1zqyF7d8T2zjz3TtKz5\n",
       "3zD2rAkdGHyp+Z7pQUzEjnMMk4DqNQjBOd9p0wwwnwTNFTF0+bjIGVJhmipaw3l/A4ihtXovuLt9\n",
       "lvBnx8++ndqiSdgrWWheaBLykHXPjUzsNS8RUcj9FLRD7kA0jvy3wOvxCfVHahC5U97PB9Tf+8tp\n",
       "l/46MC93CxvTeenTmDLk7dA5fn04pzG/Oedj+uFyg/r745uPacwKVjGZl4iIA/g2Im1dwXdKRMQI\n",
       "+iMzQ2repeXz8mNbOfL7auTfhhERN+CblcQ0OMcknzP4Jng/sXxOa54rUsvoEUrywNYUqwlkP5CW\n",
       "brspjcFzDDq8X/L1Sfcxmb8RvN/gbxlwCehBf13d735zD96CyLd2BPy+ALWz2+lOIkmSJEmSJEm/\n",
       "lw+MkiRJkiRJkjbzgVGSJEmSJEnSZj4wSpIkSZIkSdrMB0ZJkiRJkiRJm/nAKEmSJEmSJGkzHxgl\n",
       "SZIkSZIkbeYDoyRJkiRJkqTN+lJWFFjL3/BI/j/95ePqa0tjBhBDjXVOYy6tR23t9fuWxiamRR5H\n",
       "xnTo8hxERAxln7yvYNwrW8Kx7rcUWH+fec8gIFd7jruADisZVES0AgYGmiI/j6agA+u8lPzvOCtM\n",
       "OslUAW3R/kgiyBlCalkEq0GoHbim2Pzl7ZB1TtsiOe9APlFfMA5tvX2mjvvM9ZXnE9Q8kvNuvz0a\n",
       "LR8Tmr4d57iAu8v62RcVc126NObj9ZDG0LrY1iWNIbXzWCbUXwfaWsAZsqzsfxiuSx5H9sxNl+fp\n",
       "aRnIkNBSJ3kaC7sz309jGlOGPAl357ydiIjuZp+99Wo4ozhyRj6CuWk7XlDJPaiCOwL9Ph5Kvj4P\n",
       "4Dvz43xE/R1WtvYy/U7fcxFsz9AZnkB9Ibki98CIiDfDUxozr/nZQN4SKFJjry0f0/2Sn1cREbfd\n",
       "JY051Hyd0zU1g99HTrW7mf2+Z33++0bw+8i4I1hdJDV2aqy/p5bX2A/TKY0hp4f/wShJkiRJkiRp\n",
       "Mx8YJUmSJEmSJG3mA6MkSZIkSZKkzXxglCRJkiRJkrSZD4ySJEmSJEmSNvOBUZIkSZIkSdJmPjBK\n",
       "kiRJkiRJ2swHRkmSJEmSJEmb+cAoSZIkSZIkabO+1pVFriWPKXlboJWIiKikLdDYCn8eMa1dHtPy\n",
       "mIiIrrQ0ZqxL3hB8Ip5bHlhAzjsQExFRwe9byJoC9pzjXZFxfe6xg/VC9tWPgf9KI/m/zStbxEvL\n",
       "O1zBmmoghvQVEdGB7b7XmH5sCwTtNC+0vz3zWcB5RM4GagXJ6kpeh+lf6hror+xUFOqO6+CzAynY\n",
       "s3SiVMF8kvpJztoCO0R5+NznzF79wcMI5XzHs2/JrzeodlacqHxgrC32A8ndjPRH73gdqPs3/ZTG\n",
       "nME999x6NKYX/TmNOYI7OrrHR8QA4l59kS+8jx/YaXT/4pDGPB/yHNDz6tjNacxTG/KG6CcrWHsD\n",
       "GBO5Ixxr3g5F6sab4Qm1dQBr6mnJ98MT3DMD+O4j66UH7UREvL/epDF/8f5VGvP2Wb7OIyJeg7yP\n",
       "4L7YwUVM7gnk/v3t5UUa8/XxExrTFyAH5Ndd4FtJgLVHcjDCPUrXXoa+lRzAuD5MxzTmCvNJ6tlN\n",
       "d01jyLeM/8EoSZIkSZIkaTMfGCVJkiRJkiRt5gOjJEmSJEmSpM18YJQkSZIkSZK0mQ+MkiRJkiRJ\n",
       "kjbzgVGSJEmSJEnSZj4wSpIkSZIkSdrMB0ZJkiRJkiRJm/W1sMA11l06LLA/Ekeaaigq4tq6NGZu\n",
       "+XvsBGIiIi4r6G/N2xprQ/11JY+76aY05uVwRv2dQFs9GNN3l2dpTCnP0ZjWfZYwB9d6io57pz1T\n",
       "4J8dKogj+3hpLFFtzeNIDFkHpJ2IiAXsUfL7GpxjNH8lb4wuKTIu8vtWeNCQ9VLB76Nbj+QqyJoi\n",
       "7UREAZlfwejJGq6VjamCufnctZN0t1d5jYD3jR07RG3hRbxPDGnmc68DnPK9cgA7JOWMtDV07P52\n",
       "7OY0hty5yD0wgtVY4hD5uCMiXo6XNIaM/dM8pDHHmucpIuLt+JjG3IL5G+AdneT8Zy/u0pj/7d1L\n",
       "1N9Y87kh96CHZUT9PbV8bghyPkaw76cJfPeRdfewsN/2qs/X+QWMm5rB/JHfR77VItgavrQ+jVng\n",
       "HJNx/fGL+zTmtmc14WHO1/owPKUxtL6SdwmyR39+ep/G0H11AWO6nw9pzBW8gUREvO7zfHagxtI1\n",
       "xXbffhehe7CmyMgPdUH9PYJa9W66SWPIevE/GCVJkiRJkiRt5gOjJEmSJEmSpM18YJQkSZIkSZK0\n",
       "mQ+MkiRJkiRJkjbzgVGSJEmSJEnSZj4wSpIkSZIkSdrMB0ZJkiRJkiRJm/nAKEmSJEmSJGmzvsaK\n",
       "AlspeRBoqsD+SFwpIAb1FjHWZZeYQ9ej/kjeH5cxjVlZOpGHOe+P5rOCuTn2T7u0g9HBZ3Yc0q7A\n",
       "uNDQG+uugbiu5EF9ZQldSH0BY2pgHZDaEhHRQBjJ07qyxUnCyNDpvmogWQuImUnSI6Ir+d+8YKoQ\n",
       "tvbyGFqHSd4b+IFT6dIYuoYRkvM/1Lr4mZGr0p7nGukvah60gmIGtudftwWCdtzHpC2SJ5TLiOhr\n",
       "/gOP3ZzGkDsljethW3v1N7d8MRxqnoOIiKXL2yJ18YfpBMbE8kT6m8lZCwvjwzSkMc+HSxqznFl/\n",
       "55Z/q5A69TAfUH+HbkpjyLpb8AUgX1MkB+QO+6LP5yUiogdtHYd8z0xg70VEzCu4T4HiScYdETGt\n",
       "+b3kYcnXOe3v+XDO2wJr6grWQUREA7kiOejRAcmQevYA3hLo+dHA/PE9mruCfL4AZ21reTsR7BpL\n",
       "ck7/e28Ea/0CcnCFv+85qFU9+Gi9B+9F/gejJEmSJEmSpM18YJQkSZIkSZK0mQ+MkiRJkiRJkjbz\n",
       "gVGSJEmSJEnSZj4wSpIkSZIkSdrMB0ZJkiRJkiRJm/nAKEmSJEmSJGkzHxglSZIkSZIkbdZHYYFl\n",
       "XfMY0FYpeTsREV3N4/rS0pihLqg/EndtfRoD0xkV5KGteWuknYgIMH2xgP6mlb1JX5Y8V98uz9OY\n",
       "p2XIO6NrGMSQPP3Boosva2bHPzt0YH2OHdujSwPrE/zNpOy4r8Yur0FTn8eQvR4RQUa1V+2MiKio\n",
       "pucxK1ycpAaRMZF1FxFRI88D+X0VzUxEX/P+5pav4Q70t1M5+NEfYl3cc0w7rXPYVHxxOqcxb3/O\n",
       "fuC/ePcsjTnfkZbyka+NjWnPM4R1SGJAbQG1MyJiBDWdnCFD2e/sm0uXxhy7CfVH6hn5fWdwD4yI\n",
       "+Dgd05jXw1Ma87K/pDFfj/nei4i4X/J8nkGtPsGck3P7u6d8rx9fs0L1/nJKY043+dgrvEuQOw65\n",
       "f8/wG2QG/Y11TmPoXZC4NLKm8pibLh93RMQV1I0RfPsWeNg+gXJ2213TGPKtHcHueUcwx/Q+PIG5\n",
       "eVzGXcYUwe7NZGZIDM05GftNn8/xAnIZEXEB4/ow5Xl6Ds4G6v2U1070dhGsfpKKR6sUOR3IO88R\n",
       "1CD/g1GSJEmSJEnSZj4wSpIkSZIkSdrMB0ZJkiRJkiRJm/nAKEmSJEmSJGkzHxglSZIkSZIkbeYD\n",
       "oyRJkiRJkqTNfGCUJEmSJEmStJkPjJIkSZIkSZI284FRkiRJkiRJ0mY9DSy7Be2n7NhfW/PGDnXa\n",
       "rb9DnUHMksYsYNwREdfWpTHjmsfcdCwHI/h9T21IY8jvo+tgbSwu73CndiIi1h3bAvbcM6StvuRJ\n",
       "X+EaXndKPGmF9kR+X9/lk9zgOlhBXF/zIBITEVFKHkfGRNd52WlD0FbImiJz09EFs9N+J/PS7TjH\n",
       "exa9vXqjqSR1isRUmM8K9vs3p09pzL/36teov//i4c/SmMtT/rdkUMpwrd5rne86x/n1JoaeXRJu\n",
       "+vweNIL7W1/3upSwXNH5u4K7IDGv7H8Y7q/5XfDY5XfK18MljelRvYv4zeVZGvNmeEpjnhb2mXUC\n",
       "v+/uOqYx//CPvkP9/aPffpXG/OR0n8YscI4bqOoduEyQO1dExATW8AS+izqwXmgOBrLfwfK8m/N1\n",
       "EBFxAb+vggvOEXzPRUR0YG7Gmq+D+5nVn4/TMY05g/33cjij/khNJ9/2U2Prhaw99j2Tt3Ne8hoc\n",
       "wX7fpeU5P8E1NS/5L6wgT+S9IYK9BZE1Re8uZCWcQT7v5wPq7yU6s/Jckb3ufzBKkiRJkiRJ2swH\n",
       "RkmSJEmSJEmb+cAoSZIkSZIkaTMfGCVJkiRJkiRt5gOjJEmSJEmSpM18YJQkSZIkSZK0mQ+MkiRJ\n",
       "kiRJkjbzgVGSJEmSJEnSZn0tKwpc1pLGrCAmj/hRBcOaW/4+em0d6u9Y5zTmy/EhH9PK3mwXEEdm\n",
       "5nEZUX9kXGRMI8hTRMSz7prG/PBwk8aQecHA4oPbAUFNgeWCx0R+H+ivsi0THYgj66WWAfW3gmT1\n",
       "4Pe1NU9oTwpQRBy6/Peh2okrY64rLY256fP9GRFxGtncZHowpoiIDuS9Axuiq6w/Oq692iFz04H1\n",
       "OdYljXl7ekRjeg7mmOyGHcsUmmPaI7njkP5IziMi+pLHkbvEu/mA+vs7r96nMZ9u87YKyCetU6St\n",
       "ApqqcI7JvhpATbgB95aIiC/GfG9dwN2TrXO2pp6Dmn4Lfx+ZZXK3pjXh7z77XRpD9t8RzPERnu1/\n",
       "9jzfV6SlJc6ov2X9dRrzF49fpjHfHD+h/p4+vk1jHr7Mvy+GgdVF8mVE6gb9ZiWTw9rKY+gtogeR\n",
       "5I5+aXveF/PfN8D7TQOVYwU5oN/R9EzODPhsB+cMqNX0HJ3BtwMxgrq4xoTamsC7C+mPzvEJfGOR\n",
       "9wZaN+7Bmwq5l3ycj6g/sva+OdylMaebd6g/st9/e3mWxtyB+6n/wShJkiRJkiRpMx8YJUmSJEmS\n",
       "JG3mA6MkSZIkSZKkzXxglCRJkiRJkrSZD4ySJEmSJEmSNvOBUZIkSZIkSdJmPjBKkiRJkiRJ2swH\n",
       "RkmSJEmSJEmb9a8PZxS4rn/DI/l/GeuSxjzrL2lMXxrq76kNacxfPH6ZxrS1oP6Im+6axiwreyOe\n",
       "WpfGtMjHPpQe9Xc3H/O2aj43PYj5k68e0ZgC/D6yzLvCNkMH1l4FbdG9V8DS60u+r0g7ESSbEcdu\n",
       "TmPejE+oP5IrEnNe8jU8w321gv1+6vMckLUSwetZhtTXiIh/5/Vv0pgvxnz/FbSzIi6gTq1g5d3N\n",
       "B9TfqZvSmGPN5+9pyc+PiIiHZUxjvr/epjFfjXdpDKn5ESyfC1jn9OwjcQ0slxX+fZS0la+CiMvC\n",
       "8klq3j+7f5vG/LeP+TqIiHi6gj1D8oli2Bzv1x/qbjfHI6uv/9k/+EdpzN87/DTvr+b3pIiI1+PX\n",
       "eVvDF2lMqez+1pb8bv14/S6NuTZ2tv/mmp8z3815W3/3+KdpzPM+z1NERC35vjoveR3u4J35ef3z\n",
       "NOavLs/TmG8O96i/8Vm+l3/3dJPGvBrYHJP7Prl7kvMqAp4zoEPS37WxOT6D+3cFP4+cxxERB3DP\n",
       "Q98gqDd4VwK5ugH3sgh2Tx9Bzt/ANUyQuzW5k0REnMG7BLkzk29W+nLRwL1rBr+vwm+ZK/h9H9b8\n",
       "HKXfIORNhaw7+q12Bt8OD2ANT/Cbleytn4IzZAbfff4HoyRJkiRJkqTNfGCUJEmSJEmStJkPjJIk\n",
       "SZIkSZI284FRkiRJkiRJ0mY+MEqSJEmSJEnazAdGSZIkSZIkSZv5wChJkiRJkiRpMx8YJUmSJEmS\n",
       "JG3mA6MkSZIkSZKkzfr7aUSBU8vfImcQMy0F9beueVwpaxozdg3199XpMY15dzmlMS0fUkRErMHy\n",
       "kLazY3+krQbmhSItfXF6SmOO3fyvPpi/1oE1RdYdtYA9Q1Pe13ytj3XJY0oeE8Hy8Gk6pjEP84D6\n",
       "I2MnOXic85r3NPdoTAuYnBp5ntpO9SAiooJ5eTZcUVt9yfP59599n8acwLxERJzBfnhYujRmbnlM\n",
       "RMSL7pLGkPpyAGszIuJuOeQxUx7zm3iZxvziUx4TEXG+5Lmi5wxRwFL/3P2RWlbhn2O7CuriB1D3\n",
       "2ZZhcTvmE9mvnO3WH1kH9G/uH+d8v3/oP6UxNyurwzfLszSmq3nd6Nb8DhsRMS8Pacz98iGNuba8\n",
       "vkZEDCU/bxtYxE8tvy+eVjamuuZrgfy+65qvg4iIIygwPz3mbQ3gzI6I+Ombcxrz4Sm/K80rO2uf\n",
       "lXytH+uUxkzwbB/AmUzu+6S/AgtsX/K7bgfmj943BniXz9D76QTXQobMXUTEqyHf72R9kveNCJaH\n",
       "2y5f51OwPJH7NyhT0UfeDvluiGD7YSYfrXAfk5l5WPLzg+7R65q3Rb77DpW9S5DvwyNo69zYNyuZ\n",
       "vzuwFsja9D8YJUmSJEmSJG3mA6MkSZIkSZKkzXxglCRJkiRJkrSZD4ySJEmSJEmSNvOBUZIkSZIk\n",
       "SdJmPjBKkiRJkiRJ2swHRkmSJEmSJEmb+cAoSZIkSZIkabP+aepR4HXJ3yKnueQxUx4TEbE2FJbq\n",
       "hw7F3QxjGnN3yXO1LOz3FRa2m3XdK2a/31dr3uH1kM/fqWOLZV7zNbyAHFC15I1dlvz3kXaoY51B\n",
       "fzttvoggI58a26PEAuZ4bvniLGjkER2Ymwr2Ap3iBuLI2Mm4IyKmNZ+bR7CGHxd2ztwteR2+n0HM\n",
       "ckD9/er8Mo35+nCXxlwa+33fXZ6lMQ/zkMZcwZ5pYJ1H7Hc2UHv1R89Q0lYlmxTWBILcb9aFtrXT\n",
       "uHa8k5S9GoPNoLAdf98F3INqyc+im3pC/Y0gbuhfpDFd/xz117e8Th3n92nMtV1Rfx3I1fOa1/RD\n",
       "yWNqsFq9Rr4Br+sFtMP251jAXRfc3z5M7Oz7+nSfxvzq2y/TmMeX+XkVEXHqpjSmL3nOG/y/mAry\n",
       "Tu6ef4j34Q6OqQeHZAO1rMD74rXt8z9LA1gHERGXRvZ7PvaxY/09gXvsAvJJ71Nk7D1YCweQzwsc\n",
       "0xT5+iTfYRO8M5PvmQYOd7LOI9jYyX64n1kdJnXxAXwX0Vvg2/ExjXlc8pr+bsrvJP4HoyRJkiRJ\n",
       "kqTNfGCUJEmSJEmStJkPjJIkSZIkSZI284FRkiRJkiRJ0mY+MEqSJEmSJEnazAdGSZIkSZIkSZv5\n",
       "wChJkiRJkiRpMx8YJUmSJEmSJG3WXxf2xjjNJY2ZScyEuotYQUzeXXQD7A9YW97hSsYN4wr4fbg/\n",
       "kizYFuqP/L6d+jovPYqbWpfGdKXlMRUnfRdk3BERbc0zuqz5fj90M+rvWXdJYwpIQl/znEdEdCVv\n",
       "C5UNsPD6jo2JdEj6I3NH4wrIUw/WeUTED5dTGvOr88s0hqy7iIgvx4c05i2IGecF9feyf0pjXvT5\n",
       "On835XmKiPjJ4S6NOdX8kPz2/CyNoXWqgKkBS+qzn30U+n2gPzokdG6D7bfyw30fO925fmwqb6zs\n",
       "OcnAnr2dwN563b1IY172b1B/Q/c8jSmF3INYHa7dTRpz6l+lMZ/mD6i/c7umMZc1v5f0Nb/w34xf\n",
       "oDE9XH+XxpAt8z3MwXXNz6xpPaQx6K4fEacuP2fm+/wXvjuzs+/N+JjGkJEPhZ3tU+T35rnl+6GA\n",
       "O9cA71N3cz5/9PftpQeHewcPmQHc5SeQc3o/fQ6+QaY1XwdX+I1F9tb319s05gbsvR/7y5Gx1y5v\n",
       "qeI5ztdnBRecBr8J2LWE3DdQd/G45GcI2Q/0G3IGefjumt/3f356j/q7gv1H3kFe9uc0xv9glCRJ\n",
       "kiRJkrSZD4ySJEmSJEmSNvOBUZIkSZIkSdJmPjBKkiRJkiRJ2swHRkmSJEmSJEmb+cAoSZIkSZIk\n",
       "aTMfGCVJkiRJkiRt5gOjJEmSJEmSpM18YJQkSZIkSZK0WV8+c4dlzw5BW7S7tuaRbSUt0R7zxlbQ\n",
       "30r7I22h38fUz/h0XQsbeFcaiMnbGkA7EREVxC1rnqi10TVF1nAeQ8YUEXE/H9KYSxvSmKe5R/31\n",
       "Nc8nydQCcjAvLAcFrBdS83idymMq6JBudbIWCmjteX9B/R3rnMacuiWNubQJ9VdB4k9dPqZxycf0\n",
       "o2sa8biMaQzZx9hedR8Oac/9sFt/5AzZc1Ak5zuexwjp7zNfGPF9kcShdcC6e1jywHPLa9798hH1\n",
       "d+xfpTG1O+Uxw0vUX3T52d5f/iqNeT28Zf2BxXdZ85reVnJHYGd7X/K7y029TWPedOy++KvrXRrz\n",
       "AM4Gch5HRDwu+e8r4GpWK+vv2vLGHsDYD+COQPXgjj7tdAf6vyIz6Jsg2H1jal0aM3T5vqJl+Lzk\n",
       "c0zW3RHcuSLYN8Gp5G09gXFHRFzXPJ9kJZB2Iti6aqCezWBNkb1AHWq+Ps/wu3YFd13SH92hL3ry\n",
       "3Z6Pib4TnEFdJPP37nqD+juB/U6+L8hdyf9glCRJkiRJkrSZD4ySJEmSJEmSNvOBUZIkSZIkSdJm\n",
       "PjBKkiRJkiRJ2swHRkmSJEmSJEmb+cAoSZIkSZIkaTMfGCVJkiRJkiRt5gOjJEmSJEmSpM36y1RQ\n",
       "4Lrmceuat1M71B1S2NARMHTYH2lpv7G3xvpbY58O6bjJWiAjryCqrw20FHFZ+jRmJf0F66+RPQPm\n",
       "hc7cAvpb1v02YC353ycKyOd5YmMqJY+rJe+PbJnWWNb7Lm+MjIlC+2rHPxs9Tvme+ccfv0ljXgwX\n",
       "1N+fvfrLNOYUSxozw3VeQEInsu5g3e9LXjvIWdvVvL89z0diz+4+91lLYug+JnNT820VbYEZBQWN\n",
       "1A3y52Y8xyjpeQgaN+xuTwey/8AP7AIshIhYWl4/2/KUj6k7of4KSOgwvk1jbuCKmcDvq6AOn7pn\n",
       "eTt1QGMii2qoYxqzLuy+eKj7HNzXxs6+hzkfe3/Mc7Dn/Ya0Rc7QiIgFFDRyPyX3fVp/yN2T3F36\n",
       "leWgA/kcK7lPsbVJVgJp61hn1N8FrPUCckC/jz9OxzTmtr+mMZfG6n4DuZpbHnMB58yL8QGNaY18\n",
       "bj7NhzSG7L2IiAqmhqypA1xTpK0ejKnBNXUA+28A+32Ce5SMiuR8pyulJEmSJEmSJP1+PjBKkiRJ\n",
       "kiRJ2swHRkmSJEmSJEmb+cAoSZIkSZIkaTMfGCVJkiRJkiRt5gOjJEmSJEmSpM18YJQkSZIkSZK0\n",
       "mQ+MkiRJkiRJkjbrS2GB65rHVPBc2RrrjyBtjSMYeESMNW+M5IDE7InOXwQZWN4Y/X0FrIVa8sbG\n",
       "bklj+sIW1dzA7wNv7m1lSe/QuPK2FthfAXO8rPnvo3N86uc0huRqXvAiTnWf+U8mjawp8PP4Piby\n",
       "CWxg3UVEXOc8oZf5kMY8zT3q758OX6Yxf+f2+3xMrUP9HWpeX8i+omV/BP397PQ+jSG15X+/vEVj\n",
       "Qsgapk2Bus/a2aUZ3hbsj6wX8qddeKzFigb/mS8mO8FzTNYnyTnsrwNxYx3SmGN3g/o7DK/TmG7M\n",
       "Y6Kwuri2axqzzB/zdtb8jhARMdT8DBnXfExzu6Qx03yHxlTIJgXbqoM5X8DFi9SWx2VE/X24HNOY\n",
       "A1ie333QGN6ZAAAgAElEQVTM24mI+PLwmMbcgFQN4AyNiCggn+RuPYBCXGGxJnXj05zXjWFlOSD3\n",
       "oHPL72ZzYxdrUj+PNa8Jn2a2hk9d3hb55qH3xZtuSmMm0BZZUxER1zVvqwdvFxXUjQtYBxHs7knm\n",
       "eAbzEsFuLmSO6VWCrCnyjfzU8n0cwb/vMw3mk+z3oeT1ZQZr0/9glCRJkiRJkrSZD4ySJEmSJEmS\n",
       "NvOBUZIkSZIkSdJmPjBKkiRJkiRJ2swHRkmSJEmSJEmb+cAoSZIkSZIkaTMfGCVJkiRJkiRt5gOj\n",
       "JEmSJEmSpM18YJQkSZIkSZK0Wb8sBQVOlzxmXUFDJCYiar9Pf2hMEVHowLJ2WDpRHGlqn1Hztir8\n",
       "fV2Xt9aDGDIvfV3QmM5zl8YsS/7m3mDS6drL22FJrxXkEzRVCxv4U59v0hfjNY2h+SRrj+QKlSk6\n",
       "x2Qf7xSD29pr4UXEacz31pvDUxozwj36drxPY173+WF0bflej4h4XIY05tRNacyysr/VXds+f9N7\n",
       "PeQ5p/sYrT3QFlzCyF7nIw0s4PfRs6+CKUZnO/2BO+73tCsYx+5T+00yWsI71uEBBF5afvadl0fU\n",
       "37OV1M98TKWAi3VERMkXMWlraeDDISLG7lkaM4N8Xlqez4ZyGdGV/GzowIdKv7CcP7aWxjQwx7Tu\n",
       "d+C++OImP/v+6rd5niIi2tt87OSecOpm1N/9PKYxB9AfuZ9O8L5B5ybzCH5bRMRNn++ZJ7A+6VFE\n",
       "8lDB2YC/QcD9jbQ1wPtpybdo9CQIJpTcF0fQH6kbe5rhfZhAZztYU4+N1alT5DWP1KkFXuDINyuZ\n",
       "P/oOMoM1NUe+j8ea12H/g1GSJEmSJEnSZj4wSpIkSZIkSdrMB0ZJkiRJkiRJm/nAKEmSJEmSJGkz\n",
       "HxglSZIkSZIkbeYDoyRJkiRJkqTNfGCUJEmSJEmStJkPjJIkSZIkSZI267tuZZHHksfApogKxtVa\n",
       "Pqae/r6drCvIU0SsKxgXaWrHn1dK3lhlPy8qaKurIAa088P5Bo1pmvP3dDItZN3tqcE5JmsP7Xf4\n",
       "89ASBvOH9wxY7AsYExs3GFBEFLCGaVuoP7KvQExfGurvq9NDGvOnNz+kMaduQv3dgDhSW2jK91qf\n",
       "K+xxWrs0ZihLGkNyQGJ+tE8+8Z5hYZ+xIdYUzSfZf3uOfTfk59Fx79kWgRYoCIFzTKKG0qcxLVgd\n",
       "npa8Dg/zfRrTDQPqL0pep7r+Rd7O9XvU3bqSmpfnc6zHNKbAhbdGPqYGxn1d2dl3AJfrBs6ic8vz\n",
       "FBHxNOVxt2M+9lLYmrqAcU0tv6PPK/u/GJKroYI5Bv+HcwHjpgq558I1vIBckXk5gDxFsLGPdU5j\n",
       "HpYR9UfGdW15LavwPtxA3ifQH9XXfFwDGPvjku9Rsg4iIm67SxpDvi8muI/3un9X+FhC7uhPM8jn\n",
       "wvJ5Bf3NaA2z3/e8P6cxI9hX6M4MYiRJkiRJkiTp9/KBUZIkSZIkSdJmPjBKkiRJkiRJ2swHRkmS\n",
       "JEmSJEmb+cAoSZIkSZIkaTMfGCVJkiRJkiRt5gOjJEmSJEmSpM18YJQkSZIkSZK0Wf/sOKPAtpY0\n",
       "Jo/4/MZ+QXGlrLv0t8JmCkhWBTEFPhGXIAMjM8h+IBn7s3EC7eT9fTiPZEjx9AgGtc8y+BGZvx03\n",
       "TQNtzXMeVMnkRUQb8rj1mMd0lSW97/I4so9XUMsWkkzY1gqKAl0HHfh9Y9dAO3lMRMSr4ZzG/OTw\n",
       "kMacKjtnDjUf10JyjnqLWNa8gJJM0f5m0B9payz5uUbXVN3pz4y4lJG6iBpiWUdnLahBtE51ZA1f\n",
       "83bWGa6qvY72HYEtGgXURVJfI9jPI+uA9vc/fHydxnx7/W0a87ePqLv49/tXacx0/T6Nacsj6q/W\n",
       "fGCl9GnMYXyL+mstP2fG4WUac3f+Td7Xys4isqquYNwflk+ot09Lvh/IfZhudVI2yFn77DWrU7/8\n",
       "8CyNOT/P19S3F1A8I+Lrw10aM9T8HD12+XfKAd5v7pb8W+VxGdKYh/mA+nvWX/KgvDu8psi9kn37\n",
       "sjVFokhbZ5DzCJaHBqLY93hEA/fFAeS8BzH0Dntd8z06N3Kv3u9sJ0gOKHL/jo61dQDn0bXmjU2N\n",
       "dUjWC3rvI/uYDEiSJEmSJEmSfh8fGCVJkiRJkiRt5gOjJEmSJEmSpM18YJQkSZIkSZK0mQ+MkiRJ\n",
       "kiRJkjbzgVGSJEmSJEnSZj4wSpIkSZIkSdrMB0ZJkiRJkiRJm/nAKEmSJEmSJGmzvpYVBdaSxyxr\n",
       "HrQ00BB07Jc05s3hCbW1tPyttYLn2LJjPklbrLeIAHPD2mLzV0pLY16P+dx8uJ7yzsBvi4hYyQ8E\n",
       "MYUuYdAWnr8/QLXmoyepovkk80f21Z45Jzkg494zB+T30SXcwN76YTqmMS/7C+rvqeV149q6NOZx\n",
       "GVB/56XP26p5W9eWtxMR8QTGRXI+1vzsO3R5TETENOzzd0Z8ssMzcq/+SE3oar7uBhBD48CSihUf\n",
       "NAAqxDt2t1N/5M4VEVHzkhAd2KJdx9bm/TymMf/k/os05tvrI+pvLH+exhxLnoSusIQOoK3bmt/N\n",
       "Ovg/DOc1Px/IzNwt+Z1yLLBWr1Ma836+pjGfFram/vKSn6MP8wHE5GszIuL1Mc/5sctz8JPjA+rv\n",
       "f/2rN2nMy+GcxtyAMUVE/Pr8Mo35N27epTEvwN3l3QS+UyLiAu8JGfKtHRFxBveN1wP7RiY6cLbP\n",
       "4Fub3qfO5M0BxMwrq1OvwPoku53cAyMiCmiNjL0D3+P0FnioM4jK5+8C7t4REeTWRXKw42d7rKA1\n",
       "co+PiJjW/KwlOX8G9zFp68Oc17MVTIz/wShJkiRJkiRpMx8YJUmSJEmSJG3mA6MkSZIkSZKkzXxg\n",
       "lCRJkiRJkrSZD4ySJEmSJEmSNvOBUZIkSZIkSdJmPjBKkiRJkiRJ2swHRkmSJEmSJEmb9dPSocC2\n",
       "kpiSxzTUXayRt9XVfFB/fPyA+vs4n9KYHw55zAryFBFR8p8XJfLGSJ4iIlYwN0vLY2phP/Dl4ZLG\n",
       "HOqcxvzJ7fs0ZlnfoDGVMqYxjeQArLsIth/Q7MGck7GTdUfneOzzzdyVPOZnL+5Qf8ua/z2E7JkZ\n",
       "tEP2SwTLVQOzXMG4IyIK6G+sSxpz6ibU3/1ySGP+4uHLfEwlH1NERF/z9ULWAZnjiIgu8v4+THnd\n",
       "X+Df6khNIHvm3Po05sVwRmN6MeS1muwrUlsi4J4B24Gs8wi2XogB9kfS0L7JY+jZTpD6QuoUWb8R\n",
       "7B5Efh9ZdxFs7R26fP6e9fleiIj4/nqbxkwtv1v/80d2d/lfPuY14f9k1156LVmuA7+vyNfe+7yq\n",
       "btV93yZFUaJoPbrdlmFBQMNGtyce9Bcw4K/hD+DP4alnntgDGx5YDXtgoIF+GOxmsyVKfJikeHnf\n",
       "devUeey9MzPSg2oNGiC8/k4lyjTw/40XImKviFgRGeeQTF3D3/fOcJ/G7NtzGkPqa8R2Z+T9fJXG\n",
       "/NMvvonGdJzy+TuP+binie2ZAsrUKZ+WWFiZQv21+ZU5/sG3foX6O36dz1//QT54erbvwffFecnn\n",
       "+GHu05gjiKF6cP7Ts2EEuTqBOrWH90WC3JXgZzS6K7UgVYcC78NTviE6cn+D64Xk/RLUYXJfpPuK\n",
       "nGs9uO+Phb09zeg7eru3EnI/3Tf5vJC9FxHR1TxX+zavZTfwbCd3uAuwpkid8j8YJUmSJEmSJK3m\n",
       "A6MkSZIkSZKk1XxglCRJkiRJkrSaD4ySJEmSJEmSVvOBUZIkSZIkSdJqPjBKkiRJkiRJWs0HRkmS\n",
       "JEmSJEmr+cAoSZIkSZIkabWuLiyQhDUljyot66+Atqa5pDE/uH0f9fd0eExj3j/cpTH7dkL91SUf\n",
       "O8knaSciYlryt2TSVg3W31DmNOZc88UwLnnMMzB3EREFrOLb05DGLDDnZNeQtmql/eUWsJHpmjqN\n",
       "+Zq6a/N83p061B9BagL6fbAuNg2Z47ydAqeYxDUg5mLH6tShy+MakKzr/oT6KyXvj0wN2esRETOo\n",
       "i6TkzXDPkP5IrX7a5zXvo/1LNKZTzfdfC86iHtT8123VNIacfTcdW1PPwdrryVmLeov46eNNHvPq\n",
       "aRpDa8KuBXkHbZ2m/KydKvubNMoV2DOwDCP30acxzYHN8t0I7gkg6X0D9ww4Z8i5Ru8uf3j1WRpz\n",
       "041pzAj7I2PfNfnc/AqUhC9f5usgIuL8kMcsE1mhbBWXLs/BdJfnYBlhf+CiUC/zmLtph/rrQFsf\n",
       "P1ynMU8HVvef9Mc0ZtzoG4ScVxHsm+cIzmN6vyH76qvzZRpzaPO9HsHqFNGBO0JExK7J74uPc77f\n",
       "yf0mgtV00tbvXH6J+iN3a3J/C5Cnr8YLMqRowZjmJc85eeOJYGt9AGfDmeQp+PdvhryBREQ04EpF\n",
       "auxxZr/vAN6oSK5aUBP8D0ZJkiRJkiRJq/nAKEmSJEmSJGk1HxglSZIkSZIkreYDoyRJkiRJkqTV\n",
       "fGCUJEmSJEmStJoPjJIkSZIkSZJW84FRkiRJkiRJ0mo+MEqSJEmSJElarfvsp2W71pbtmgoyLPA8\n",
       "+sWwQ9394e+Oacz7+9s0Zigz6u+8tGkMScGysPl7mPs05rjkMftmQv1dtOc05lzzHDzMQxrz6eMl\n",
       "GtPj2KUx9w/5olroOt9yP7xBBZaEps0D932ez8cj+zsHGdeULzvWF/7TSz6oWkEzcK2QcZGYueZ7\n",
       "ISKiHPKB9W3+A0dQ7yIimpr3R2oeSXkEq7F9yVujdbiCONJSXfJJ/s7F16CliLbkOZ/BuCeYg1fg\n",
       "LCLIvLyOy3/frslj6E2pBatvqtv9bbcBxQPVTjAmsD3/XRzYo3C9EAXMMdmj5E4SETGCXJF8Tg3L\n",
       "Qd/ka6oFa3iBq5jcT2/BVZeszQg2rmnO83kC51plV/RYZrKmSEOsP7S5NrxLkKWwgFwdZ3aXePok\n",
       "b+zTr/LvtSfvn1B/z4b7NGYG5+jQ5OMm645i5z+tG/nYj2DsR3hmk1OtA2Oi31gjqNcTmeNgReES\n",
       "fNeS/si6i4ggX9szWDEduCvddEfQG2uLzMtjZWuKnMlkTFt+jpOaV+FZS9YC+X1HmM/nw2Mac2jy\n",
       "9zByp/Q/GCVJkiRJkiSt5gOjJEmSJEmSpNV8YJQkSZIkSZK0mg+MkiRJkiRJklbzgVGSJEmSJEnS\n",
       "aj4wSpIkSZIkSVrNB0ZJkiRJkiRJq/nAKEmSJEmSJGk1HxglSZIkSZIkrdYtFUaWbTrcqJnXFhAC\n",
       "f19b8kAy9nlhb7bn2qUxdcl7rDCj9/OQxiygrfO0Q/0d5/z3HUEOyK97dexBVMT5vM3qo62A6UNr\n",
       "eFNkTPAHFhBXyhv+gRvlfPlNnJcItl42/X35wBZSp9BmYD+vAbW6gQkldb8Ba7jC+ZvA+UBq+gzy\n",
       "+VhbNKZ9M28yplczq8MEOUXf6s+orbs5z0ONPAd7WMvOS97fNG93E1pAfw3oroKfR2p+BLtLkP4o\n",
       "st9JzSPjjmD1bMuzj9QNctmlIyogskd35u32zEzmGPUGbXTWbjqoLT+gNronPEys7r978ZDGfPGr\n",
       "qzSGfDtFRHw9HtKYZ/1jGvOkO6YxJ3jWnsB30dBMacy+Zf2Rc3soeX/kWy0i4qLLz2RyX6QLfQbr\n",
       "8xX4ZiXfxxERN90pjSFr4eXIvqMv2jGNIXNMzqKh5Hcg2h9Zw+hMi4hDl+eAtkWQ+z65f9NvHtIf\n",
       "mZsvzxeov09PeY3dN3nO+4Z8h0mSJEmSJEnSSj4wSpIkSZIkSVrNB0ZJkiRJkiRJq/nAKEmSJEmS\n",
       "JGk1HxglSZIkSZIkreYDoyRJkiRJkqTVfGCUJEmSJEmStJoPjJIkSZIkSZJW65q+sEgStvytxvLv\n",
       "I0+fYEylpd3lg+9KTWNoCh7nPo2ZKkgCnL5zzRNxmrs0Zl5ghwBpaWjmzfrbDN0yYDGgdG65r0hb\n",
       "201x1A3XC9GA/V6nPKbAYS8gn7QtArW16fyRmLxDug5GUKdITSD1fEsN2ezBzpBpyet+3XCSz+Cc\n",
       "2TX5uIfCavW7wzmNuZvzddDBnJO1R7KZZ+C1y3bM+wMd0hVM2moachjlIS3MOTGCSx6tG1sdo7Q/\n",
       "UvdJWw3+E3/eIbkv0qpB7otkLewbcNgGy+e45GMidZH0FRGxgA2/zNvth1JBnSJ1g07yRkfIEXw3\n",
       "RES8s79PY0p7ncbQb5AenFkPNf8OO9X89123+ZkWEXEGbVXwbUjvG6QmDCBPJAcR7Pf18J5AkJVA\n",
       "1sFQYJ0CMRXc344wn7s2zxUZ+3nZ7tv+AGr6CZwf9A47gnyS/UDu3hERC8hDB9YUucdHRFw2ee0g\n",
       "++/tXV5fIyLe6h/zILDQX077NMb/YJQkSZIkSZK0mg+MkiRJkiRJklbzgVGSJEmSJEnSaj4wSpIk\n",
       "SZIkSVrNB0ZJkiRJkiRJq/nAKEmSJEmSJGk1HxglSZIkSZIkreYDoyRJkiRJkqTVutKxwGUhQX+r\n",
       "sfx7Cnn6LCCkgCDY1uPcs7aAeck7nJc8CWheIqKC/gqYwEISFdsthb6Z8742XHfIlv296bHD7fAm\n",
       "NfDPHGSe2xa0U1l/BCkvW9ZOEkammNSDCPb7SC17mFjt7MFiaHswgXCdNyCjJIb2V0ve1gS6I/PX\n",
       "F7bQGzCmx5pvrKtuQv215NwG7YyVFY4W/L4TaKtv87MoguVzyzJM+kOFg9QE0hdEagu5k/xN5N8+\n",
       "AuYSWkCPlf4+sD7bJt/vI7hTRkR8MV6mMRf1nMbgGgTyQH4fuTPjJbXVub3lZkffPLAt9PvyoHFm\n",
       "a2rX5OfD/jpv5/Y0oP7qBdrxacSLcZ/GoHUXEfcTG3vmos33XkTEZ8e30pi3hmMa07ZsHz+Ab+QD\n",
       "SFUH6wZZ62TddYWd7WRFDaA/cjZERHwN1t67w30as9V7Q0TEPZjji3ZMYwo8a+/nfM98db5IYxb4\n",
       "zXPdndIYsl7GBXyMRsQZ3K1Jpm66fB9HsLVAVsLz4WGTdiRJkiRJkiTp1/KBUZIkSZIkSdJqPjBK\n",
       "kiRJkiRJWs0HRkmSJEmSJEmr+cAoSZIkSZIkaTUfGCVJkiRJkiSt5gOjJEmSJEmSpNV8YJQkSZIk\n",
       "SZK0mg+MkiRJkiRJklbr2kNhkRXEwKaI0uYxDXgebTvW376Z0phxyQe1A+1ERPRNnlCSzgUmvYAw\n",
       "0lKHFkLEVPPJ6UAO2mZB/RELaGoBP4+08zpww7beJLiPSa7mul1RqKA/ss5RO3kIhuYYdljImiIN\n",
       "wXVHxn4c87p4JAU9Iq6GPGbp82QVWKcakNACYhq8kfM8zEteO0nMVTujEV22ea5eTPnv+2hgOSdL\n",
       "/QKdx6i7eBJ5Hh5BnbqAZxE5+0gSCt2kBKovb/YwYluGFUayj0lTLWknIlowxXXeLp+oBm12OEQM\n",
       "Jd9/dckTegJ35oiIvuS1Y5rzpDfgB1ZWFmMBNQ/ls9vyw2i7prZq6zyx/1Mh3yrPrsc05rOvetTf\n",
       "8DxfwyQFX5yv0pj7CVxcIuJp/5jGkCVF69RNf0pjJnCXWMBej4g4zfkH91DyDdiCehAR0aE85P3d\n",
       "TnvU35PuiOIy58oeJi7bbeaP1Ff6lkDO7cc536PkDvu6P3A3a89pDC13JJ8NyCe+S4C2TmC9VJjP\n",
       "izavseQuMYN58T8YJUmSJEmSJK3mA6MkSZIkSZKk1XxglCRJkiRJkrSaD4ySJEmSJEmSVvOBUZIk\n",
       "SZIkSdJqPjBKkiRJkiRJWs0HRkmSJEmSJEmr+cAoSZIkSZIkabXuv/tPv4cC+9KmMUPp0piCeoso\n",
       "IJKMqQNjioj4s9sv85gvvg1aWlB/JOxU87HPC8voVPO35LHm+Vzgz6tg/ioce+buK5iD+5oHgRA6\n",
       "xSRZNJ+/iQr480S/y9dUA//MUWcWlwI5p9NCcoAaI+suIsiWIbuBrrsFtFbImArrkPSH6hQZVESM\n",
       "IBENXg2kv3zs5xmctc2UxjQw5z1I1QQWXg9zPoGcd6Ctm5YVDtLfocljjnCPXnfnNIbsvwWejxXV\n",
       "hLxD1hs9s0F/oKkKc07CyMgr3Optk/c4gzsXKugREWAvk9o5L2zPkPtbX/Ic0NpJzgf2+/KYhZ61\n",
       "IA6dfaw7diaTxvhH1ibOZ9bQi/MhjSHr4PySranHuU9jrrtTGvNq2qUxXx7z3/a6v2Mas2/zs518\n",
       "G0ZEtCCfJ1Cn7ucB9UfyOYOFR/Z6BPuG7ECdovn84nyZxlyBHLRgTBERFfwP2ANY5x04r+g3AZkZ\n",
       "kk9yxkSwOSZnEV1TBdwmSEu7ZkT9kW8CMjVfjawGkbV30eZjJ290/gejJEmSJEmSpNV8YJQkSZIk\n",
       "SZK0mg+MkiRJkiRJklbzgVGSJEmSJEnSaj4wSpIkSZIkSVrNB0ZJkiRJkiRJq/nAKEmSJEmSJGk1\n",
       "HxglSZIkSZIkrdZ18I2xjZLGLLGkMQ3sj7R1XMY0ZqxH1F/+6yIu2zNqixijTWMKyEFX8piIiKbJ\n",
       "41rQ1rSw+atLntGuqWlMD2Iw0lRl+SQW0tR23TGkP7IZImIB+awgptD+QExD2iIxcF7QHBPwTz0o\n",
       "VSCI5pwgOUDzEmz7nea8ds6wQ1LzGrAYCqzDJFcVTGAFdZj+9fCdbkhj7ub8rCXjjog4NPn89QX8\n",
       "PriIKyhUDYhpCzuL9s2c9wfWywzzyWpQ3hZZw7TcLeD8J3AroD92/LMeyb2E1CB63SDrhdQyukc7\n",
       "sNYvwH34XPO9HrFdHZ5BTQCl5XVcB2LAHJN2MPD76NYj5ZP8vik/GiJiu7t8d8F+4GenqzTm0OaD\n",
       "v+nyb8hfTZdoTB8/3qQxH13cpjHk2zCC1Q12ZWb9zWDxTaAmLOAMjWD1jFSgp90j6u9u3qUx5Bv5\n",
       "Wc/6O9Ztisdc8zyRtRLBfh+5u5B6HgHPNXT+w/sUiCmgrYc5v1dHRPz88Wka8xSsl7eHe9TfAsZO\n",
       "zu0dueeiEUmSJEmSJEnSr+EDoyRJkiRJkqTVfGCUJEmSJEmStJoPjJIkSZIkSZJW84FRkiRJkiRJ\n",
       "0mo+MEqSJEmSJElazQdGSZIkSZIkSav5wChJkiRJkiRpNR8YJUmSJEmSJK3WdYW9MZYoaUyzUczf\n",
       "9JhHLGnMGBPsbxul5GOKiNg1cxrzOPdpzLyw+atLnk8SQ3IeEdGAaSZttaWShpgl7w+EBEwBi9uw\n",
       "vwUPbBulgMRvOCQyzWT+GrBlKlh2EXDpkSC4hkm5JtNCNaCekZwvoLZERCwgEWNtN2knImIh9QWg\n",
       "OSe5mmve2Azy+WrO8xQRcVzys+gIxvTJGXUX39jlSXio+blNc96CtTCDiSHtRESQFYXGDpcmW+v5\n",
       "76vkzgXreQVx5L6BzmOIHbXbFU9SO0nM67iN+oMH8gDup6Smk3FHsLznI2Jjgp88UVrQFiixpJ2I\n",
       "YPdTcv53rLvCLumpOrL+zuDc7pu86H34/gn196OPr9KYb/3uizTmusv7e7Jnh9+uzc+1bqM7SQT7\n",
       "fiJ7faxs0xzBN2sL6tQ0sv7e6h/SmDHIuiPVJeJp85jGPExDGjPB7/YezB9pi5wNEzxryRlC1vCu\n",
       "YW8z5B2E3F3wNwHIwwhyjt4uIuKD/W0aQ96LKFKHZ3BBResOjUiSJEmSJEmSfg0fGCVJkiRJkiSt\n",
       "5gOjJEmSJEmSpNV8YJQkSZIkSZK0mg+MkiRJkiRJklbzgVGSJEmSJEnSaj4wSpIkSZIkSVrNB0ZJ\n",
       "kiRJkiRJq3XnZWaBJX+LXJYljZmjov6IGnl/93VkbS0ljZlBTIt6i5hIWyX/fQvIAdWWfG5q5OOO\n",
       "iNi3UxpzaPK5KSAHhQ3pzSPjAtNH9hW2YVPkzxML2O5NB7sDm6uC/kApC7AVNrXpGkZrasP+wNhp\n",
       "d3MliQBnEexvsz+xwQ7ZObPNoL4Y9yjug+EujXmsfRozwnFftKc0Zgb57OCe6UFcAzbgDm7SPSge\n",
       "DTjX2AHClh46ikBDZP1GsDGRWg1TQMM2Q+5K+w7c32DdWDb6hUPD7vvX7TmN2YG2yD03gt51cz3Z\n",
       "e/CSXkBcA4pQgfebILkidy76+5pt+iN5ioi47vK6f9Md85g+j4mI+NmPPkpjPj7epDF/eP1JGvOf\n",
       "Pf8pGtOPH56nMZ+fLtOYZ8MD6u8K5Px+GtKYJdgiRrc3sNfHyhbVEdxLrkAtI/WcegS/j97xdk3+\n",
       "HT2DDV9A9dzyv83GmrdG3pQi2NlH8kTWSkTE7ZTfm8m7xB6MKSKiI+8u4PC76fO9HsHySc7aFrzl\n",
       "+R+MkiRJkiRJklbzgVGSJEmSJEnSaj4wSpIkSZIkSVrNB0ZJkiRJkiRJq/nAKEmSJEmSJGk1Hxgl\n",
       "SZIkSZIkreYDoyRJkiRJkqTVfGCUJEmSJEmStFq3wMBpqWlMW/L3SvqiWUDMHPmYFvgDhyZvqyk0\n",
       "W7kCfuC+HdOYc21ZfyBmAVFdmVF/N/0pjdk3+e871j6NKSwFUVqQBbJAK1sHYMug/gqavf8PkFyB\n",
       "obftdvuqkpyTdshaCbaPt2yngBpE8tk1LOeXfb5HWzAmOsOkrY7UatjjVvMHSwKrseD3XYCz4fPz\n",
       "JRrT95Z8Iz/OXRozg3YiIr4aD2nMVPO2KqyLBawFtO4KKy5nkId3Dg9pDFkrEexe0oK7EuluhPeN\n",
       "uuSNkRhS7yLY/LVg/g5gX0VEXLbnNIasFz7HeVukP5LziIgfPzzL+wN1qof3RYKshHPN69R7z/O5\n",
       "i4h4fJKvdbLu+pbVDVI/992Uxry7v0f9kf1A5o9+F12APTM0eX9XoJ2IiOFJns+fv7xOY37r8CKN\n",
       "+b2bz9CYzku+ph7m/JuH1g3yvUbuErS/E7gnHEHMTX9E/U3k7gK+Icm3aASrQeRsoMgevQD1hYz7\n",
       "BGpnRMQCzhCyXmZ4FpE13IO68Wrao/52TV5jH+YhjVlAO9QJrOFHUDci2H4nMWT2/A9GSZIkSZIk\n",
       "Sav5wChJkiRJkiRpNR8YJUmSJEmSJK3mA6MkSZIkSZKk1XxglCRJkiRJkrSaD4ySJEmSJEmSVvOB\n",
       "UQOr4AoAACAASURBVJIkSZIkSdJqPjBKkiRJkiRJWs0HRkmSJEmSJEmrdR+PRxR4rCWNaWJJY/KI\n",
       "v5H3R9q6m9kb6qfnizSmLTWNGWuH+iNt9XkKoi8z6m8B+eybvC0yxxERh2bcpD+Sp9//xi0a0/0H\n",
       "QxpTlzxPBeaA5Lxr8t9H+yNjJ2OimpKPa99Om7QTEXGa2zRmqnkMqRwFponOTYbOy0D2KMgn2VcR\n",
       "Ecc5r2cTOBsosIRjXvI5XkhDwdfeVsh62WpEtFafwZ4htXpf8r0eEdGCcf3w4Z005uW4R/2RlbDV\n",
       "Po6IeDo8pjHfvfo8jXl7eED9dWAvk983Lfldie70CfzteibnFdzHBJlhkoOIiOv2nMY87fOYidYp\n",
       "EEN+318fr1B//9tn305jRnC3pucoQZoi96lPv+hRf9M9uCeg5ULuJBELuMo//TBv60/e+gXqbwdq\n",
       "OlFhVSDnEbmXkDtQRMTvffgqjfm3P873w4+v305jfufyBRoTqRtX3SmN+eR4jfr7cJ9/G5Hz4xKM\n",
       "O4LNcQF3rhHd49l6uZ12acwwsLsLyQM5s+7m/Fs0IuJ2yu84N13+hkPmhXw/RkScwBsHOUfpNwjZ\n",
       "749zXtMPcA2TsZM9Sr/pyH2Y5IreYF+Ae/MIctCDMfkfjJIkSZIkSZJW84FRkiRJkiRJ0mo+MEqS\n",
       "JEmSJElazQdGSZIkSZIkSav5wChJkiRJkiRpNR8YJUmSJEmSJK3mA6MkSZIkSZKk1XxglCRJkiRJ\n",
       "krRa99/8mz9BgbWWNGZZ8nZIDFXA82jbsA7fvjqlMQ9jl8aMM3uzpePaqp2+qWnMoRvTmA60ExHR\n",
       "lTxu3055TJOP6dDmMREsB7smH1NTWM67Mqcxl+05jamR773X/W3z+wL214D+Pj4+SWO+98k7qL85\n",
       "T2fEVjWIpQApoK22ZW01YL+TtjpYN652+d56+dCnMTSdZG5IPgutr2S9gNFvVc8jIro2b+twlc/L\n",
       "719+ifq77vJ93IBETQubZbKNf3ifR5F6R9GavlVbb/WPaczTLj8baH9kZsj8zXiOt2mrwv6IFuTp\n",
       "bs5rWUTEuOT3vA2vunGqeX8k5+PCDpqZ9Ae+CbaE6j4Iquy6GPUE9lX+ScCBwjiO+byQPEVEFLBC\n",
       "SW3hKQB3F9AfOYsiIv7uzSdpzA/G301jPn88pDG/PF6jMb073KcxLTjXbs871N+TPo/bgW8setaS\n",
       "sT+AGkvWQUTEHnz7kTPkdtyj/gbwTdc1ecwAYiIiXk1snjNkH9OzndQNsl4mcIZGROwi/2Y91XxN\n",
       "kXUeETGBM5KMnHwfR7B7wqs5Xwf0rnTd5W9dZP7Ir/M/GCVJkiRJkiSt5gOjJEmSJEmSpNV8YJQk\n",
       "SZIkSZK0mg+MkiRJkiRJklbzgVGSJEmSJEnSaj4wSpIkSZIkSVrNB0ZJkiRJkiRJq/nAKEmSJEmS\n",
       "JGm17vhYUOBS31wMVcDzaNuz33c39HnMQ5vGNPDJ9rCb05i+zZO17/J2IiL6Jo8bQExbFtQfiTrX\n",
       "PJ99ycfUwDG909+lMe/t8phdM6H+HmuXxty05zTmAbQTEUFWelfyNcWyGXEC46oL23/ElrUj7+zN\n",
       "NlXZNo5lo3wWuGeGNh/Yrs8npsBhVzKsDdcUsYAZbBuWTxLXNSSfeTs05x1oK6/U/GyYUFgeNFV2\n",
       "2JLu6NgJcq7dz0MaMy/s97WgppOlQDJAx0TWJzkbFjTyiDa2qUF0TfVgj3495nN8042ovxnm4TfN\n",
       "hsdoLKAxdN+ggyKH0Qz6e9P/xgF/XwPOIrLqCu0QNEb6a+BWeNof05juOm/srX3ezk13QmO6aPNv\n",
       "hzO4V5N7WUTEcc7bIt9YHfzm2bd5PatglkdwhkawXJH1+XLao/7IWftW/7jJmCIiBpD3iybP+R6s\n",
       "O1oWydyQc/txzt9cIth96qbL9+gJrqlL8E1O7kH0rnTYaM+cwF6nyLc9eXfxPxglSZIkSZIkreYD\n",
       "oyRJkiRJkqTVfGCUJEmSJEmStJoPjJIkSZIkSZJW84FRkiRJkiRJ0mo+MEqSJEmSJElazQdGSZIk\n",
       "SZIkSav5wChJkiRJkiRpNR8YJUmSJEmSJK3WzSOMXEBI3aadiIgoMC5R523aiYjo+3zwdNh9myfr\n",
       "op/ydhr2AxuQ+AWMvsL5m5aN3q7JuoNNXXf57+tKPi8kTxERY23TmMfSpTEV5rKATDzUHrVFzFvN\n",
       "Md00IK6AGFSntkTWMM0BaKuC37fADhfQH8l5B+rd6w7zxhaQBJpOMi6Sg7ZhVagpeVwLYgZQ969h\n",
       "zq+aPFs9mOSRJCoiTiCO1LwzqK8REQXks4IxkXUeweo+OR83O0Mjot3oXCPrjjpv+PvI2JvYrvCT\n",
       "s3Zc8nVwP7M9Q85ass7JuCPYPW+uoFbTyxlAmkJbFH9bkLPojXaHzvYKe6zgrCXnFa2LBMknXVKX\n",
       "bf5x+87b+TfWccrv6GNltWwGOX+rf0hjHoYB9Xes+dhJ3TiDWhYRsWtAPkHNo0uKnJGkreOc5yki\n",
       "4us4pDFX3TmN6Qs7R3twbpM5nsH/kpH9EhFxB9bwy2mfxpB7bgQ728m+Im8gEWxu9k2eq7tph/o7\n",
       "g/kj66DvTqi/HbjDkX1Fap7/wShJkiRJkiRpNR8YJUmSJEmSJK3mA6MkSZIkSZKk1XxglCRJkiRJ\n",
       "krSaD4ySJEmSJEmSVvOBUZIkSZIkSdJqPjBKkiRJkiRJWs0HRkmSJEmSJEmrdcvEApdlAUGgocL6\n",
       "KwUGJsiwIyIq+XkghrQTEXGe2zSmASlY8mYiIoKksysVtMN+IJm9uuRRI/iBM2gnIuLr8ZDGXLbn\n",
       "NKZvZtTfy3GfxiwgU8e5Q/21TT5/DdikdOdVENkVlisCjWurGgT3MbFRKcNQqd7w9/UtWHewbkxg\n",
       "L5Oxj5UlfaqwgCbo7+vaPG7X5nuG5KCHY2pL/nfGDixiuqTYFs2jWnBeRbC5IXuU1E4at2/yi9cV\n",
       "OIsiWD5bkIMe5JO0ExExgyLbg3V3XtjfwMldglQE+vu2cqzsbCfrhazzHtwRIt78mYWAqSHjLvTO\n",
       "TKYGLM/SwmRutPTofbEHd7MW3RfZmiLQ9wXME/l++sblbRrzly/eSmM+PV+RIcUZfbDlA38+3KP+\n",
       "bqf8G+Rx7tOYQzui/s7gPkW+n+h35gzOB1LTp7rd/1o9gHw+7dnDC7lLkDkmOb9oWQ5Izlk7rC6S\n",
       "+WPrbrs6RXJAz9ARrL3SkDrMOpyXPA87cN/owfz5H4ySJEmSJEmSVvOBUZIkSZIkSdJqPjBKkiRJ\n",
       "kiRJWs0HRkmSJEmSJEmr+cAoSZIkSZIkaTUfGCVJkiRJkiSt5gOjJEmSJEmSpNV8YJQkSZIkSZK0\n",
       "Wlen5c32SLtrQWApeciGP28BbS1LPqaIiFrzxkh/NVh/DWisbphPMqoCGmvAghkX9k4+1Tyu2WhM\n",
       "ERG7Zk5jLttzGnOsHervce436e/Qjqg/4rO4yoPoHiWLirT1G1jy6L4iNYHkqVZWN9g+Rk0hXVPT\n",
       "mApqLK3DWy2FBuagLfnvI3WRoK2wuPwH0hzkVYqda48Tq4ttk//CFuS8wEyRM6QHZwNeB2Ctz2g/\n",
       "5OfjEvn6jWDzR37dAPZLRMR5o7+V0zlewO/rSz7HHZzjDuSB5LyF84fOmQ1t1R9p58lbLAfHC3Bf\n",
       "BMuuJd8y0FsXpzTmfh5QW2RU6D4M1/ChmdIYsmfGwvb6aWzTmG8cXqQx//rjZ2nMV+cLNCbyTUBq\n",
       "9ZZ39Mean8gj+HaKiJhAHb7pj2nMEXzLRESMNZ/jAeT8BNqJiLif2LgyV+A7LILdF8l6mUA+Z/gd\n",
       "TXK1B3t9XFjOybhIDWJ3oIgehJ3B2Ml3SgTLwxDgLgHWecR2bxyHNp9j/4NRkiRJkiRJ0mo+MEqS\n",
       "JEmSJElazQdGSZIkSZIkSav5wChJkiRJkiRpNR8YJUmSJEmSJK3mA6MkSZIkSZKk1XxglCRJkiRJ\n",
       "krSaD4ySJEmSJEmSVvOBUZIkSZIkSdJqXdMVFLjUZZMOl7pJM6+Bthb4hFprnoclQAxMEwmbl7y/\n",
       "cW5Rf10DklXzmBbms4BfuIDfN6OcszVcQVvEW/0Rxb0zPOQx/SmNue7OqL+x5muhK/kcH9qJ9Qc2\n",
       "1y+PcxpT6J858qbQvnrTtll1vDFSg2ZYh2cwx8dzHkNqJ9U2+Q8kMVRTtuuvB3V43+YLnezRFqZ8\n",
       "AbumK3ljIE0RETGBcVWw7h5HdvaRNJD5I+sggq31+2lIY8aG/T6C3CXI72tghSVnbQVjaumi2gid\n",
       "46HJ92gH2iL1IILNHxk52Mb/r+I2Q/rbaClcDOx+E9GlESRPfcvmmKSArJfvv3iP9bfV3oL373cu\n",
       "8vvwGXzPTPCjjrT17uE+jXn/WX5H/9XjNRrTtORjIt9O7+7uUH8j6O+6y3/f1+MB9UfqFDnbSX2N\n",
       "iHg17dIYks9r8B0WEfHyvE9jvh7zmGdDfv5HRFy1bFyZY81rGTmPI1jdIHcg2l8Dwi7a/Bv5Ye5R\n",
       "f0QHHp8WeIjumvw8It9h9yNbU5cgV59OeT37aP8yjfE/GCVJkiRJkiSt5gOjJEmSJEmSpNV8YJQk\n",
       "SZIkSZK0mg+MkiRJkiRJklbzgVGSJEmSJEnSaj4wSpIkSZIkSVrNB0ZJkiRJkiRJq/nAKEmSJEmS\n",
       "JGm1bpmX7VoDTRX6pAnaWpY8qImCuisgrBTyA1l/teZx5ylPVm3Z/FUQNrR5TFkq6q8huQIqmT+W\n",
       "8vjG4es05g8uv0pjDi3LwQRSMC354IfC+iN761jzSV7mDvV3Nw9pzAx+X51Rd1GnPAaUhG1t1R9c\n",
       "w6gpUmNhzskPbEB/lRSggHUYtDPAPUpG1YJa1jWsvxbs5QJGNS150lu4qMgV4ATqfgf7m8AmZXli\n",
       "mgasYXT+s/7IPaFr8g140Y6oP3LWVlCHyTpvgq3zeaO/Xb/per7gPZPHTaCtBrQTEXGueT57WIOI\n",
       "DY+j7frbaFBkr0ewuhFw/ghSN8h98TSyvbfVNw/5lomIeDXm98Vpzsd+BjG0rV/M12nMP3zvp2nM\n",
       "//gXv4vGdH+T361P53zc89ssB9fdMY3Zg6Z2DTuLZnAvIbXzAM8+EnfZntOYt/pH1l+Tf4R8NR7S\n",
       "mFNl31jX3SmN2bf5mM5L/t03wwLbbfTRQ98I9mDtdeC+OBT80ZNCd0GYJvR9AcY+gLUZEfG0z2tC\n",
       "D+6nJJ/+B6MkSZIkSZKk1XxglCRJkiRJkrSaD4ySJEmSJEmSVvOBUZIkSZIkSdJqPjBKkiRJkiRJ\n",
       "Ws0HRkmSJEmSJEmr+cAoSZIkSZIkaTUfGCVJkiRJkiSt1rX7wiJhWNoMbKdpt4np+wX1dzFMeX8l\n",
       "73Cc2Ztt1+Tj6tuajwm0ExHRlbytLTUlHxcZE2nn1QgWQkTMSz43jzWPacGYIiJIFFktl+2M+rsD\n",
       "YXvQ4amyfI4b5Yru0WXZpgiRGrSwIeG4DK2LqC0wx7S7vsn36CWonceJrSmy30lMC8YdwfLQgbZo\n",
       "fSXLpYJ1PoFaNsA/HzYgCx2IaeAi3qG2wDqAZx8bVd4WvruAmB6sl13D6v4M1st29WW7QjWU/PfN\n",
       "sD9ytpOzaEE7lJ3JZORnMO6IiAadWWAdwN9H6mfX5v3VCncfGBYZOVnnpJ5HRLTgICVXElLLqA2v\n",
       "CfDusl1tmcFaILWMnI8RbL2MYz7HX50v0pg//q0vQW8R//yvnqcx5P72s+Ea9fd3rvNckTteD8+i\n",
       "XeRx+2ZMY+ieeXu4T2MGMHa6poYmv+uSOvz56RL197R7BGPKfx85Zeh33wI2PDlrac6PtU9jzmDs\n",
       "hzafuwg69rwdWqsbcBcke/RxzvMUEdGAyki+Z351ymuQ/8EoSZIkSZIkaTUfGCVJkiRJkiSt5gOj\n",
       "JEmSJEmSpNV8YJQkSZIkSZK0mg+MkiRJkiRJklbzgVGSJEmSJEnSaj4wSpIkSZIkSVrNB0ZJkiRJ\n",
       "kiRJq3XDgQUuyzYdNvBJs2nyDkvJ29n1FfU3NHMa87h0aUxl3cW05INfwPtvF6zDps37K2COT3OL\n",
       "+hsrGHuTj70vecy8sEX1+fkyjfnsfJ/GvARr5XV/FyCKrANmKPm4SFtgW0VExLHm+4H014K9HsHW\n",
       "MOlwq1oWEbGA7Uf6q9N2/ZG6WPKpi4iIClZDD/bDwspGTGAvk99XQX2NYHWfIOOOYLkiI1/A7ztV\n",
       "ttB3YOgT2Fg96i2iK3mHPahlDS1UALmXdOAsiojoNlpTtEyRPTqD9dKCCwBpJ4LtB9jUb6QO5IrU\n",
       "IHK/iYhowGpYwDqga5jUWNYQW8UF3zqSdkAzl90ZtXWa8kNrBj+P5pLcEza9u2zUFv199J6+lQLW\n",
       "Hhn7Lx6fpjH/wfVnZEjxjY+u0phPv96lMbdfsVz+dLpJYx5v8pP7g8Mt6u9Z/5DGPOmPaQytBuQ8\n",
       "IuvuBL7tIyIasKaeD3kOfvLqLdTfl0P+zfru8CqNaUHd7+BGvu5OaQw5//cN++ip4B2E/D76TbBV\n",
       "3aDnzATeSsj5v29G1N/DnO938n1xBX6f/8EoSZIkSZIkaTUfGCVJkiRJkiSt5gOjJEmSJEmSpNV8\n",
       "YJQkSZIkSZK0mg+MkiRJkiRJklbzgVGSJEmSJEnSaj4wSpIkSZIkSVrNB0ZJkiRJkiRJq/nAKEmS\n",
       "JEmSJGm1bhgWFLiwsFRTYFyTd9iUPObQz6i/oc3jKshBrewHLiQMxLQwoSXywfdN3SQmImLXTmnM\n",
       "dXdKY4Ymn5fPTldoTF8eL9KYH5fnaQz5bRER59qmMQ2Yl3lhfwcg++F+HtKYQzNu1t/Q5Lnawz1K\n",
       "StA85/uBxNB61+RTHA2YvmbPOuw6sI9bEsP2cVvyuFryJHSwvwUsBXiEsP5Aa6R2VlTQI8aNasKx\n",
       "dmnM5yNYnBGxAzX9GpyPQ2E5ICthBvPSwbOI1CkS04E7SQQ/IzP0r78d2KPdVpsGttOCAkpyTvcV\n",
       "mRkyL+fKsk7iJnBu05UygLGT+ympdxERT4djGnPq8hpEz1FSOkgdJjXhj24+IUOKXw5P0pjjnOeg\n",
       "wpyTtU72+gjX8ATjMrDsxw6cIT2479P7MNGiO2w+Jnpn/tPnP09j/ln5Rhrzf73aof4OA1gvc57P\n",
       "n989Rf0tl/lieADfIN88fI36I3NzAnelprD5I0v9vuRjuhrOqD9SX0jNGwLsPTDuiIhC9gxoi3wf\n",
       "R7BvELIOyPlB7UB/9O6C7kFg5dF7JzmTL9t8fY6gDvsfjJIkSZIkSZJW84FRkiRJkiRJ0mo+MEqS\n",
       "JEmSJElazQdGSZIkSZIkSav5wChJkiRJkiRpNR8YJUmSJEmSJK3mA6MkSZIkSZKk1XxglCRJkiRJ\n",
       "krRa9923vtqssRoljVlwa3lbpLG+mVFvdcn7u+13aczQVdRfU/LBk5h9x37foR3TGJIrMCu4revu\n",
       "lMa8v3uVxhS4qj6LqzTmWLs0ZlrYu/wM4trC1gsxlDznF2Ad7Js8JoLNcQ9+30U/of7aBuwZsBY6\n",
       "0E4H60YL9ihan3RjgTo1gnXXg7USEXHT53uU7AcyLxERM0hEu2E+Z5BPso9JTETEXPP+uibfMw9z\n",
       "n8b8ky+/RYYUHdij9PcRJOevpvysfbI7wx7z9bKAMZHz+HVbecwPXr2XtwMX8SNYC/SMzNAxkfsU\n",
       "aYmejmR9khpE7rAREQM4H97Z3aG2iH2Tn5Hk3O5BbYmI+IObT9MYknOyryIiTrVNY0hNIOvzk9M1\n",
       "G9Oc3wVJDujRTiLJ/e3Di/zOHBFx3vCuS5AaRNbnI5gXitzfyF7/+HiD+vvm4es05h+985M05p92\n",
       "30T9/fBn+TfP8k7ezvuXD6g/sl7IfYOeV1v1t8D/tRpAHX4xHdKY647dXW7HvOaR85+9g8BKBabm\n",
       "tOR79AxqfgT7ViF1kdxJItj9e9rofhPBxnUP5pjUsgi2Z74Ac4PesNCIJEmSJEmSJOnX8IFRkiRJ\n",
       "kiRJ0mo+MEqSJEmSJElazQdGSZIkSZIkSav5wChJkiRJkiRpNR8YJUmSJEmSJK3mA6MkSZIkSZKk\n",
       "1XxglCRJkiRJkrRad9mdUeC8lDRmXNo0poJ2aFwteUyJBfX39u4hjfnu1WdpzGU7ov7mJX/bfaxd\n",
       "GnNoJtQfycJ1l4+9snTG0NQ05gBi8oiIP76+A1Fs7B1YnruGvct3kTc2g5npwDqPiHjaHtKYPvI9\n",
       "usA905W8rX/z+FUa86Q/ov6e9Y9pzKGZ05gR7D1S7yLYOifrjtbFX56u05g/+/jbacx5ZGt4ibw/\n",
       "NnKGrLwt+2vbvMdXX4J9fCSVKlhBe8Pay3wttMOGHYIJhCXvjdpyTE1eOqMFMRERE7gCkLGTY43s\n",
       "F9rfApoiMa/jwH0RtEWn+LDLN/L7+9s05p3hHvX3wS6Pe7vP729DYQltQSJIPh8qy+i/evU8jfmr\n",
       "u7fTmBb8vgJzQJB7PP0GIcg9gd5dWFvb/Q8KyfsC1svdmR1GC9jNTcn38dDmMTTnpC7edKc05h89\n",
       "/wnq793du2nMP//V+2nMX7zI74EREb/zYb5e/urrZ2nMP/6I1cUOzN8F+Cbv4Do/g+8nYoL9kXV1\n",
       "O+3TmHeH/Bu5gG+ZCHbWFnBw07r4MOf7nbxj7fFbSf77Huf8bYY6V7Km8jHR73ZS0zu4FjL+B6Mk\n",
       "SZIkSZKk1XxglCRJkiRJkrSaD4ySJEmSJEmSVvOBUZIkSZIkSdJqPjBKkiRJkiRJWs0HRkmSJEmS\n",
       "JEmr+cAoSZIkSZIkaTUfGCVJkiRJkiSt5gOjJEmSJEmSpNW63zq8QIHn2qYx85K/Vy6ot4glyiZt\n",
       "LUveTkTEs+ExjfnT62Mac9UMqL+25KOvcU5j5oVl9LGOacx1u0tjdqVD/ZGsd6At0s4H/fsgKqIF\n",
       "/TUlX+fUAubmds7336G5QP1d989BVJ7RAv/usIAdeFf/RRrzcr5F/X13n8/fAsb+k1O+F/YN21ff\n",
       "GPI98+l4SmNuZ1anPj3XNObxmOfgnJe7iGD7b9M/U9EDYiPdLv+F8zHPeb1/wwPfUOnysZfC1ifq\n",
       "D6wXcmzjIW019Dfc3zyzuCVfnkGOtQbUvAbudZICdH+DuawgBw1ZU6w7NPb3hrs05vcvX6L+3uvz\n",
       "kV23+d2zwvviGSyqGWRhTyYmInbNlMb0Td5WA+7VuFKTwJKPiX6DVLD6JvCNVeAvJLmaQFP097Hd\n",
       "RYoZ640sPXKu0XwSj3N+hz224DsFjumPrj9NY75z+WUa8y9ffoT6+/7PnqYxO/A588WZffP8wdUX\n",
       "acwM1mcH9nEE23/P+oc05m5i7wRkvXw97tOYd8FZRPcxyRVZnRV+OBza/HvtVPM8HcAZ87qt/LJ0\n",
       "O+U5v5/hWxCoedOSj4mcodQI+vvr+5s0xv9glCRJkiRJkrSaD4ySJEmSJEmSVvOBUZIkSZIkSdJq\n",
       "PjBKkiRJkiRJWs0HRkmSJEmSJEmr+cAoSZIkSZIkaTUfGCVJkiRJkiSt5gOjJEmSJEmSpNW6vlQW\n",
       "CZ4i65K3tbDeYomSxjSgtQraiYjoQB5O4PddBMznkid0pm0B45Ln6m4+pzFTM6P+GpD3vuRt7Uqf\n",
       "xlSYpwG0RTSlY4Elz/mu7klDrLto05imyXPQlAH1R3SgcOxAniIiLpt8XAuoCUPJ1/m4sJxPoCZM\n",
       "4Oc9zPncRUQcK1x7CfbrNmwLdkjPh62gYW04qKW+wV9Icw7GtMD9sJVCuoNDQm2Rdt7wn2PpuElc\n",
       "A8ZO2ilwM7TovkhiWBLalqxh1BTrr8kb68Fd6Qks5wOYwGPN+5s3LGYzSGi71eYLls+tvhsi4LcD\n",
       "aOq0sLOdrHVyZ6Ypb8C9i8RMcI9uFUVXVIPqWY7MC62LO7CGW5Bz+t1+rOCbAIz9T5/+HPX3xze/\n",
       "TGP+z5cfpTF/9pNvov5+8PZ7acw/fu+HaUyB3yBnkM+n3TGNOe7uUH930y6NOc35IXI3599OF+2I\n",
       "xjSBtwuyzieQywj+hrNVO2SOZ5ADms+LNv8efbt/AGNiv++XxydpzIvxgNrK+B+MkiRJkiRJklbz\n",
       "gVGSJEmSJEnSaj4wSpIkSZIkSVrNB0ZJkiRJkiRJq/nAKEmSJEmSJGk1HxglSZIkSZIkreYDoyRJ\n",
       "kiRJkqTVfGCUJEmSJEmStFpHA9uypDEFtFNRVMScdxcLaKsutL/8rbWQ/lBvERVELkuehKaw30fG\n",
       "1ZdtcvA3kZkG9NeXfIme6xmN6LJ9ko+p6dMYmoN5mdKYJbbZVxERXXuR97fMICYfN24LtJO38loF\n",
       "rd2DtXA7t2nMTctGNYE92oM9um9Y5WjIeiELhi4qgMzxht1t2iGYPtTfUklDwQ+IrD/QHc45GRP5\n",
       "fbRDciZvOccbNYXWCuyQpKAbWIcFbPiuy9tqmzyma9mYyH1xy7rRgLGT+aP3RZKru2mXxryY7lB/\n",
       "Q8k3KflvAbJWIti5NoKYE6yLp4o/Rf4fkfmb4RyTVE3gu4GuKbQ+wY7owFqJYHtraPJ7EN2jJA/N\n",
       "VgdksPpCYkjOpyW/U0ZEPM7598XT7pg3BOprBJu/+wl888C68Y39Qxrz3u5Hacx3r/JvtYiI//nn\n",
       "30lj/ttf/b005u9/6wXq749uPkljSM6vWvbNum/yb7GpDmnMV+f823C/v0VjKmDt9SXPQQ/yRA2g\n",
       "P1qHybie9I9pzBHs9QiWqyfdKY257th3Ozkfvp72acxHF/l68T8YJUmSJEmSJK3mA6MkSZIkSZKk\n",
       "1XxglCRJkiRJkrSaD4ySJEmSJEmSVvOBUZIkSZIkSdJqPjBKkiRJkiRJWs0HRkmSJEmSJEmr+cAo\n",
       "SZIkSZIkaTUfGCVJkiRJkiSt1u3bCQXWpaQx05K/V5KYiIgWxCyRj2mBb6jLQvrLgxbSEFRBf3XD\n",
       "/ppC8sn6y1tiY3+MUxrT1jvQW8TVcpPGLNMjaIn8uohxycd+Xs5pTFPYGh7nPA9N6UEM2X0Rdclr\n",
       "B1nDdzPr777muXo5k3qW5/MM6l1ExC3o77Mx/33Hyub4WLs0BpWE7coG2g4blinUH5u97RRQVitJ\n",
       "uQAAEbRJREFUOyMilgYdNHl/pLMtk9CQSd6wvw1tlQa8hskU/wbmiixhOu661R6Fk0fupxXNC+vw\n",
       "SZ+fRbfTPo35xfEC9VfiIY1pwdDbUlF/E8jDCUzyHv4LQwUT3aDCmP8+8t3wOu7NgkfIZjqQq1PN\n",
       "7y40T6XkkSQHDWgngo2LrClSE2b4XUu+f2ewPula2Zc5jbmLIY2hdZHMMbnt//bhJervv/qd76cx\n",
       "37v9MI35Zz98hvr75UfXacw/fPcnacwI9lVExMOcf68d5/yboG/ydsaFjWlo8jW1ZTv3U74+yeqk\n",
       "Z18L1vCuGdMYdF5FRAU14efH/O3iDL4NIyIObT72J90xjfnyfJnG+B+MkiRJkiRJklbzgVGSJEmS\n",
       "JEnSaj4wSpIkSZIkSVrNB0ZJkiRJkiRJq/nAKEmSJEmSJGk1HxglSZIkSZIkreYDoyRJkiRJkqTV\n",
       "fGCUJEmSJEmStFo3VvbGOC15HImZl4L6WyKPIzElFtRfKXlcBU1V2F9bQN6XvC2WTRbXgKi2sB5b\n",
       "8HY9lBb0l8eMy4TG9DjfpTEFZzR3Wk5pzLTMaUwD9+gJ/L6+OeT9lQ7198Xpr9OYf3l/TGPupgH1\n",
       "d1fztoirtqYxx8rWwW0+ffFQ8zW8b0BDEXHRjmkM2qLbLfOAJe+NgscMy0MLglp4zpCBbZVPmgPy\n",
       "+34DgePx3wVuEsK3zEbpbOCff3Ee3qAFbUBy53qza7MB98CIiMsuP9t7UNM/OV2j/ghyhvRNfvZF\n",
       "0LsuuKPD+SPfDmTs5B7fFZYDYgRnO92e5FuFrCkypgi21kkM/aYjOjDHM1grEawu0v2eOYB7WURE\n",
       "C9Ye+X2PM7ujj6C/EfRHxh3B1sIZfM9McE1dgrz/8c0v05hnf3SP+vveiw/SmP/++7+Xxvzn383H\n",
       "FBFx2Z3TGFI7hw3rRm3yuQEh0cLKSGoCcapsz5Aau8AaRJBf9zjn38iHhr2DkDyw8xi8XaARSZIk\n",
       "SZIkSdKv4QOjJEmSJEmSpNV8YJQkSZIkSZK0mg+MkiRJkiRJklbzgVGSJEmSJEnSaj4wSpIkSZIk\n",
       "SVrNB0ZJkiRJkiRJq/nAKEmSJEmSJGm1rikLClyWksbMS/5eWSNv53V/eUwLxl7g7yNttSUfO4mJ\n",
       "iNiXLo05xZTGNDCfA/h9OzCmrrSov7bka6EL1lbmVX1EcYf6kMaQbFayOCOiRk1jzsuYxny9vEL9\n",
       "vZxforjM/3rL2vnL+2dpzMfHb6cx7+3Y73us+frcNXMaUyKfP1LLIiJmsGIeZ7Kv2Jo613zPvPf0\n",
       "mLdzzfYeyRWqQKxMoTByZnVNvvciInqwXj7eXaYx0wTzCfOQIaul7+DZ1+Rx+y4/i+gck/ljdZj1\n",
       "R1ojTXWFrSkyxy1o6939PeqPjH3XgLsEmBdyD3zdVv77SIWl9zcyKpJzeh/+0d3zNOb/+NU30pi5\n",
       "snySPUquJfDqEleHvC6SO/MM10uFeci0oO7/3aeforYObX43I+fHO0N+74yI+Iu7d9IYsoa77oT6\n",
       "O4H71ATuQbQukraID/fsfkpqXgVVaKx5DFkHdExki5J7WcR280eP2q/GIY0hd3RSWyIiTuA+TGo6\n",
       "2esREf/J81+mMbdPdmnMP/nzj1B/f/Db+bfRc1BfyF5/MR7QmPakLkY+x7Ru7Ju8vzP4fcfao/7I\n",
       "Xib7ivZHzmRSN8i36OsO85CbLv+G3JM7JRmPJEmSJEmSJP06PjBKkiRJkiRJWs0HRkmSJEmSJEmr\n",
       "+cAoSZIkSZIkaTUfGCVJkiRJkiSt5gOjJEmSJEmSpNV8YJQkSZIkSZK0mg+MkiRJkiRJklbzgVGS\n",
       "JEmSJEnSat0vjk9Q4Gnu8piaxwzNhPprywJiahqzREH9fbbkcX91n7/HdmBM1LTk/c0gJoKNawfm\n",
       "Jp+V1yrIJ5njBq2DCzSm+zkf0+24T2PGpUX9kRyca97WDNqhyJiG5l3UFll7+zZfU3959zbq79/W\n",
       "fFwFpGoBi5jWjSfDMY0hc3ye2Zoiv49UhJvhhPoje/Tzx0Mas8A1TOaG5KBrWB2+6POYqz04s2hh\n",
       "3Ggr3/TnNOY/fuuvUVvfPtymMRcgn7dwDZ9rvkI/Pec1/V+9/BD1N4I6RaalgL0Qwdb6DtTFd3ev\n",
       "UH/fuXiRxly2cxrTgd/Xwxw0IKEHELQnDUXERcnvngUUjlPN8xQR8V9/9nfSmK9+BGrQdtdFBtaf\n",
       "+2f5Xq7sKo+Qmk7G3g75uN97j+2rq25MY27aPOZpxxK1LJ+nMZ+fL9MY+o313vCQxrwz5L+PHn17\n",
       "UDt+BO4SDzM4tCPiusvPyFfTkMaQnN/NOzSmJ11+XyTfajdgbUawuSHnMfkWpcg508BVRe6npKUn\n",
       "HbsP34O1twd75r/8D/8S9fc//Pj30pi/90G+zsm3Pfk2jIh4mPM987y/T2PoWwkZ1UTW1ML6I/c3\n",
       "sh8KXMMX4Awh3zPk/S2C3WPJt/3Q5Hcl/4NRkiRJkiRJ0mo+MEqSJEmSJElazQdGSZIkSZIkSav5\n",
       "wChJkiRJkiRpNR8YJUmSJEmSJK3mA6MkSZIkSZKk1XxglCRJkiRJkrSaD4ySJEmSJEmSVuv+/PZd\n",
       "FDjWNo355MUujXnn6Rn1NzRzGrNEQW0RTVnSmKnm77G7dkL9kbHPFfw+mIIO/L4e5Pw05+sggg2r\n",
       "a2oa05Y8Zg9z3kSegx+9fCuNQfMSEX2bj71r8jGNsL8GhC15d3Ho83UQEXGe8/1wPeT7/W4cUH+P\n",
       "53ztkX1MclDgviJrj9SNM6ivEWwNk3110Y6ovxfnQxpze9ehtt6krmN/O5uXfKIfT/nc0PVC4khT\n",
       "5Hz8cHcHWor4zj7/fVdNvg4eKlxTcx53rCfUFkHySeoG2XsREQtoi4xpXtgavmjztXAANaEDgxrg\n",
       "Qp9ArnrQ1lXTo/6GwupnpoK5i4gYp40OW4o0RaYGDmkhVwASA+siWero5+XLPMaFrZVv7W/TGLJD\n",
       "6Sp4d8hrHhn7R7sH1N+fXF6nMdft8zTmWfc26m9o9mnM/1L+RRrzr+/Z/P3vX347jSF3syfDMY15\n",
       "1rOck3O7gjvJGZ4NHfh+6sE3yMQ+CWJA33TbnI8REQXU2AJaI9+ZEWz/jWBNPVb2zfNffOunacz/\n",
       "9Oe/ncb8R7/9VRrz9nCPxnQC3yrbvcxETGCtk5yTdiIivh7zu+51n9eEXcPuwwWcEA9zfg+i99MB\n",
       "vEuM4J2H3ZklSZIkSZIkaSUfGCVJkiRJkiSt5gOjJEmSJEmSpNV8YJQkSZIkSZK0mg+MkiRJkiRJ\n",
       "klbzgVGSJEmSJEnSaj4wSpIkSZIkSVrNB0ZJkiRJkiRJq3WlsMBSljRmyUNirqzDCbx9NmBMNVh/\n",
       "ZOwt6A+mM5pS05gpujRmyZt5rc0DWzCmrmG/sC75/IGUxwTaOc15niIihmZOY8Yp/30wBdE15Bfm\n",
       "WthfA/qrYP+dZ/Z3BzIssmcqTNME5qZtWVsZUlsiIuqSjwm1BHNQwNSQ9blrJ9bh/2/Rug/mb5tt\n",
       "vKkZjPtN//Vw17DN18xjHkPOWrhHy0YTSFtZwNojdeN22qP+vhyHNOauyc/2An7hHrQTEXGs+ep7\n",
       "2pEalK+ViIi+5G2RivBY2e9D91iyAfMrSURELGT1gTVF76cIaYx2SH4eaQYEkb1H7cBhS+vGLVgL\n",
       "n58v05hvH+5Rf0/b6zTmr8cv0phX8yPqj3ja5Xf522mH2vrFy6s05jDkSb/qT2lMB76dIth2GME3\n",
       "zyP85qHjyhwrO9sHdM7k6KjJ9+G0YV081TzvD3OfxjSwKpD3iz/8rZdpzPc/fpbG/INvHtGYejDH\n",
       "ZA3T+9u45GuP5Om6y/dxRMQOvBOQ+zd5T4mIuJ/z+xtZn2ReIiImcDcj/Z1ATfA/GCVJkiRJkiSt\n",
       "5gOjJEmSJEmSpNV8YJQkSZIkSZK0mg+MkiRJkiRJklbzgVGSJEmSJEnSaj4wSpIkSZIkSVrNB0ZJ\n",
       "kiRJkiRJq/nAKEmSJEmSJGk1HxglSZIkSZIkrdYtCwtclpLGlDwk2oZ1uGvnNKYpeVvTwt5QK/h9\n",
       "daN2IiJaMPa25D3O8I24gjxMNY+ZYT7Pc5vG9KApMsdzsJw3IJ/Nhk/uFSz1vs3HVOCaakDYBNra\n",
       "tWyPzpXsGRAD2omIOJ/ymLbL2yJzXEgxi4hzzdd5AWv4BPZLRMShTGkMqRuX7Rn1VwIeEG8Qm5rt\n",
       "xk36g8sFdrhN0BGszQh2FnUlb6vCy0QDktWBNUzX5kISCsZO55jcASZwbt+OO9Tfzx6fpjFvD/dp\n",
       "zFU7pjHkjImg95u8nQXOMTlrR9DWkTQUsWV5QQpZw2+6Bm3ZH7FRzh/mfrPuZlA3LuCl8gzu31+P\n",
       "hzTm0/OA+mtK3t8A6v7bXV5/IiL2TT72H736izSGLrubQ17PzlP++z7Y3aYxf//mczSmT095Dsj3\n",
       "TAM3A/n+PYF7wtDk3+MRETM4+0YQ04HzI4LdAVDthMjdeih5rui7xKl2acx3r/K194PxSRrzyfEa\n",
       "jenDQ74fvjxfpjHvDHeovwvwrTKAGktyGRHRL/kc900ecz+xOtyDNUXWHbrnBntTacFrVwcuxP4H\n",
       "oyRJkiRJkqTVfGCUJEmSJEmStJoPjJIkSZIkSZJW84FRkiRJ/3e7drIjRxGEATirqjePbRkbGXOC\n",
       "I2feX7wDJ+QzEkI2DF5nxt1dCwceIH6VShaH7zuHMrMj14oZAABYTYERAAAAAFhNgREAAAAAWE2B\n",
       "EQAAAABYTYERAAAAAFht13dLFJhF1bqwpXRcX9M01/XYKazZDvNcxiytq/tb6pjWWrsGMVtmfAka\n",
       "m4OxJzlYwhxMSz03XbDu5jnrbwzWS5KDKewvsWVbW/U39OGZEGytZN0FS6p1YZqSc+rQT2XMuR+i\n",
       "/k67sYx5fnjYZEyttbbr63MqzdVmNuwvaSpaneHhuVWuku7G8Fycg03zMF/KmPOSralzcPe9vz4u\n",
       "Y+Yt/z664ZpKzvQk5hr+vsu8K2OSn3cMzoR9V8/df3HbvCamLfdV0NYl3TNZGmr/17Mzidty7MHc\n",
       "dMl22PBuT87PIRj4pylbLF2w328vN2XMu+sx6u+P619lzNO+7u/QHaL+bsfbMuYc3EVvzk+i/pK3\n",
       "52Goz7ybof56OoVv2H1wxj6M9fylb+boeyZY5334wLmf6rvobbCGd+E9MwbfdF+CMV2X7P39dHcu\n",
       "Y059/Ua/m7I9k9RL7qd9GfPzj/+UMb+9fRGN6emrOgfJejkv9by01toy13smqYOcg3XQWmvXuV4L\n",
       "T4Y6B+kT4RCs9Tm42OZgL7TW2q6r85l+H1b8ByMAAAAAsJoCIwAAAACwmgIjAAAAALCaAiMAAAAA\n",
       "sJoCIwAAAACwmgIjAAAAALCaAiMAAAAAsJoCIwAAAACw2q7vliywm8uYYajbGfqsv7l1UdzXlIx8\n",
       "nLOa7RT8vi5IwZylMzIFHfbhtCTzNy11roZWr7tuwzL5LliflzlLQhKVTF+yDlprbQ7GlbS1LF93\n",
       "7yU5b6213b6OWYKmkjMvyWXqOtcH48eH4Me11h6uuzpmrNv6dDhG/SVZyNZU1F0maiudv6CxbUI2\n",
       "leTzGpyvrbX2ZvxSxnw7BOtumaL+Pk/13Fw2uhtaa21O7rVgBrvwrXTo6zyMwe/bB+201trz/X0Z\n",
       "82x3KWOOfZ3PmyCmtexM2Af53IWX+6mv46Zg0xzmLOfJ/ovOxfSY2ug6St9KXTL45N7e8Cmx1V10\n",
       "6LI5frmrG/vl3fMy5vXn76L+vj9+KmOS74tTeG68G89lzIeuPjf+HD9E/e2D/2f5ONYxr46fo/7+\n",
       "Pj0uYx4N1zJmCM6p98G7rLXW7qf6bXYJ3ouPg3G3lr11o2/RqLfsXvtwPZUxSc5by+7khyDnS/gL\n",
       "Xw312vvhdFfGvL77Jurv83goY07DWMb89ORtGfPr7y+iMd2eb8qYJJ+78C3x8lDn/BicedfwfXo3\n",
       "1TlP1vmjPtujSa3k2NdznPoY7L9n+/qbIHtXAwAAAACspMAIAAAAAKymwAgAAAAArKbACAAAAACs\n",
       "psAIAAAAAKymwAgAAAAArKbACAAAAACspsAIAAAAAKz2L/kkbuyhiekTAAAAAElFTkSuQmCC\n",
       "\" transform=\"translate(582, 47)\"/>\n",
       "</g>\n",
       "<defs>\n",
       "  <clipPath id=\"clip023\">\n",
       "    <rect x=\"1933\" y=\"47\" width=\"73\" height=\"1305\"/>\n",
       "  </clipPath>\n",
       "</defs>\n",
       "<g clip-path=\"url(#clip023)\">\n",
       "<image width=\"72\" height=\"1304\" xlink:href=\"data:image/png;base64,\n",
       "iVBORw0KGgoAAAANSUhEUgAAAEgAAAUYCAYAAAALW5QXAAALLklEQVR4nO3dwW0bQRBFwaHR+Ufm\n",
       "iAR4RxG435F7qIpAePhYD0cr+vPz9+ce/uvPt3+AtxMoCBQECgKFOffft3+GV7OgIFAQKAgU5tzn\n",
       "2z/Dq1lQECgIFAQKHtLBgoJAQaAgUHDdESwoCBQECgKF+Rwn6Y0FBYGCQEGg4LojWFAQKAgUBAqu\n",
       "O4IFBYGCQEGg4CQdLCgIFAQKAgUP6WBBQaAgUBAozPGLw5UFBYGCQEGgIFBwaR8sKAgUBAoCBfdB\n",
       "wYKCQEGgIFDwkA4WFAQKAgWBgr/2CRYUBAoCBYGCO+lgQUGgIFAQKLjuCBYUBAoCBYGCh3SwoCBQ\n",
       "ECgIFDykgwUFgYJAQaDgr32CBQWBgkBBoOAXh8GCgkBBoCBQcN0RLCgIFAQKAgWBgvugYEFBoCBQ\n",
       "ECj4qBEsKAgUBAoCBQ/pYEFBoCBQECh4SAcLCgIFgYJAwZ10sKAgUBAoCBScpIMFBYGCQEGgMB8v\n",
       "kq8sKAgUBAoCBSfpYEFBoCBQECi4kw4WFAQKAgWBgpN0sKAgUBAoCBQ8pIMFBYGCQEGgIFBwHxQs\n",
       "KAgUBAoCBR81ggUFgYJAQaDgIR0sKAgUBAoCBQ/pYEFBoCBQECjMOf7aZ2NBQaAgUBAoOEkHCwoC\n",
       "BYGCQMFDOlhQECgIFAQKHtLBgoJAQaAgUPCedLCgIFAQKAgU5vqawJUFBYGCQEGgIFBwHxQsKAgU\n",
       "BAoCBQ/pYEFBoCBQECi4tA8WFAQKAgWBwhyX9isLCgIFgYJAwXVHsKAgUBAoCBTmekivLCgIFAQK\n",
       "AgV30sGCgkBBoCBQcCcdLCgIFAQKAgXXHcGCgkBBoCBQ8IvDYEFBoCBQECjM9YXbKwsKAgWBgkBB\n",
       "oOCjRrCgIFAQKAgUfEVXsKAgUBAoCBScpIMFBYGCQEGgMNeL5CsLCgIFgYJAwXVHsKAgUBAoCBRc\n",
       "dwQLCgIFgYJAwXVHsKAgUBAoCBRcdwQLCgIFgYJAwd/NBwsKAgWBgkDBdUewoCBQECgIFJykgwUF\n",
       "gYJAQaAgUPDtL8GCgkBBoCBQ8FEjWFAQKAgUBArzeEivLCgIFAQKAgW/WQ0WFAQKAgWBguuOYEFB\n",
       "oCBQECg4SQcLCgIFgYJAwZ10sKAgUBAoCBScpIMFBYGCQEGg4CQdLCgIFAQKAgUn6WBBQaAgUBAo\n",
       "CBR81AgWFAQKAgWBgo8awYKCQEGgIFCYx0N6ZUFBoCBQECj4a59gQUGgIFAQKMxz7rd/hlezoCBQ\n",
       "ECgIFFx3BAsKAgWBgkDBdUewoCBQECgIFFx3BAsKAgWBgkDBe9LBgoJAQaAgUPCedLCgIFAQKAgU\n",
       "XHcECwoCBYGCQEGg4D4oWFAQKAgUBAo+agQLCgIFgYJAwaV9sKAgUBAoCBScpIMFBYGCQEGgMM/1\n",
       "kN5YUBAoCBQECv5uPlhQECgIFAQKrjuCBQWBgkBBoDDXdcfKgoJAQaAgUHCSDhYUBAoCBYGCO+lg\n",
       "QUGgIFAQKHi7I1hQECgIFAQKAgX3QcGCgkBBoCBQ8JAOFhQECgIFgYL7oGBBQaAgUBAoOEkHCwoC\n",
       "BYGCQGEez+iVBQWBgkBBoOAkHSwoCBQECgIFD+lgQUGgIFAQKPjFYbCgIFAQKAgUxh9k7iwoCBQE\n",
       "CgIF1x3BgoJAQaAgUBAoeP0lWFAQKAgUBArug4IFBYGCQEGg4BvJgwUFgYJAQaDgJB0sKAgUBAoC\n",
       "BXfSwYKCQEGgIFBwkg4WFAQKAgWBgpN0sKAgUBAoCBScpIMFBYGCQEGg4CEdLCgIFAQKAgXXHcGC\n",
       "gkBBoCBQcJIOFhQECgIFgYJAYZ77+fbP8GoWFAQKAgWBgo8awYKCQEGgIFBwkg4WFAQKAgWBgpN0\n",
       "sKAgUBAoCBScpIMFBYGCQEGg4CQdLCgIFAQKAgUn6WBBQaAgUBAojD/22VlQECgIFAQKTtLBgoJA\n",
       "QaAgUJjneEhvLCgIFAQKAgUn6WBBQaAgUBAoCBS8/hIsKAgUBAoCBR81ggUFgYJAQaAw16X9yoKC\n",
       "QEGgIFBwkg4WFAQKAgWBgjvpYEFBoCBQECg4SQcLCgIFgYJAwZ10sKAgUBAoCBScpIMFBYGCQEGg\n",
       "4E8ygwUFgYJAQaAw10l6ZUFBoCBQECgIFLz+EiwoCBQECgIFl/bBgoJAQaAgUPD6S7CgIFAQKAgU\n",
       "nKSDBQWBgkBBoOD1l2BBQaAgUBAouO4IFhQECgIFgYLrjmBBQaAgUBAouO4IFhQECgIFgcJc/+H8\n",
       "yoKCQEGgIFBwkg4WFAQKAgWBgjvpYEFBoCBQECgIFLz+EiwoCBQECgIFHzWCBQWBgkBBoOAkHSwo\n",
       "CBQECgIFJ+lgQUGgIFAQKHj9JVhQECgIFAQK/tuIYEFBoCBQECj4XxGCBQWBgkBBoOAkHSwoCBQE\n",
       "CgIFd9LBgoJAQaAgUHCSDhYUBAoCBYGCk3SwoCBQECgIFAQKPmoECwoCBYGCQMFHjWBBQaAgUBAo\n",
       "zOMbyVcWFAQKAgWBgi83CRYUBAoCBYGCLzcJFhQECgIFgYKTdLCgIFAQKAgUnKSDBQWBgkBBoOAk\n",
       "HSwoCBQECgIFb3cECwoCBYGCQMFJOlhQECgIFAQKAgWX9sGCgkBBoCBQ8FEjWFAQKAgUBApzXdqv\n",
       "LCgIFAQKAgVfbhIsKAgUBAoCBV8TGCwoCBQECgIF7ygGCwoCBYGCQMEvDoMFBYGCQEGg4LojWFAQ\n",
       "KAgUBArzfPsneDkLCgIFgYJAwUk6WFAQKAgUBArekw4WFAQKAgWBgkDBb1aDBQWBgkBBoOAdxWBB\n",
       "QaAgUBAouLQPFhQECgIFgcI4SO8sKAgUBAoCBSfpYEFBoCBQECh4/SVYUBAoCBQECh7SwYKCQEGg\n",
       "IFDwCl6woCBQECgIFLyCFywoCBQECgIF1x3BgoJAQaAgUJjjIb2yoCBQECgIFAQKLu2DBQWBgkBB\n",
       "oOA+KFhQECgIFAQKHtLBgoJAQaAgUPCQDhYUBAoCBYGCh3SwoCBQECgIFHwDVbCgIFAQKAgU5vgG\n",
       "qpUFBYGCQEGg4LojWFAQKAgUBAoe0sGCgkBBoCBQ8CeZwYKCQEGgIFAQKPioESwoCBQECgIFHzWC\n",
       "BQWBgkBBoOAkHSwoCBQECgIFgYJAQaAgUBAoOEkHCwoCBYGCQMGddLCgIFAQKAgU5jpKrywoCBQE\n",
       "CgIFJ+lgQUGgIFAQKLiTDhYUBAoCBYGCk3SwoCBQECgIFDykgwUFgYJAQaAgUHAfFCwoCBQECgIF\n",
       "HzWCBQWBgkBBoOAhHSwoCBQECgIF1x3BgoJAQaAgUHCSDhYUBAoCBYHCHE/plQUFgYJAQaDguiNY\n",
       "UBAoCBQECq47ggUFgYJAQaDgIR0sKAgUBAoCBQ/pYEFBoCBQECi4kw4WFAQKAgWBgkBhjn/GVhYU\n",
       "BAoCBYGC+6BgQUGgIFAQKHhIBwsKAgWBgkBh7vPtH+HdLCgIFAQKAgUn6WBBQaAgUBAoeEgHCwoC\n",
       "BYGCQMHbHcGCgkBBoCBQ8CJ5sKAgUBAoCBRcdwQLCgIFgYJAwUM6WFAQKAgUBAoCBe8oBgsKAgWB\n",
       "gkDBb1aDBQWBgkBBoOA+KFhQECgIFAQKXn8JFhQECgIFgcIcd9IrCwoCBYGCQMF1R7CgIFAQKAgU\n",
       "5rrvWFlQECgIFAQKrjuCBQWBgkBBoOAXh8GCgkBBoCBQcJIOFhQECgIFgYI76WBBQaAgUBAoCBT8\n",
       "3XywoCBQECgIFLyjGCwoCBQECgIFJ+lgQUGgIFAQKLi0DxYUBAoCBYGCk3SwoCBQECgIFNxJBwsK\n",
       "AgWBgkDBSTpYUBAoCBQECu6kgwUFgYJAQaDgJB0sKAgUBAoCBV9uEiwoCBQECgKFXxav061Mj8qE\n",
       "AAAAAElFTkSuQmCC\n",
       "\" transform=\"translate(1934, 47)\"/>\n",
       "</g>\n",
       "<path clip-path=\"url(#clip020)\" d=\"M2053.54 1094.97 Q2049.92 1094.97 2048.1 1098.53 Q2046.29 1102.08 2046.29 1109.21 Q2046.29 1116.31 2048.1 1119.88 Q2049.92 1123.42 2053.54 1123.42 Q2057.17 1123.42 2058.98 1119.88 Q2060.8 1116.31 2060.8 1109.21 Q2060.8 1102.08 2058.98 1098.53 Q2057.17 1094.97 2053.54 1094.97 M2053.54 1091.27 Q2059.35 1091.27 2062.4 1095.87 Q2065.48 1100.46 2065.48 1109.21 Q2065.48 1117.93 2062.4 1122.54 Q2059.35 1127.12 2053.54 1127.12 Q2047.73 1127.12 2044.65 1122.54 Q2041.59 1117.93 2041.59 1109.21 Q2041.59 1100.46 2044.65 1095.87 Q2047.73 1091.27 2053.54 1091.27 Z\" fill=\"#4c4c4c\" fill-rule=\"nonzero\" fill-opacity=\"1\" /><path clip-path=\"url(#clip020)\" d=\"M2073.7 1120.57 L2078.58 1120.57 L2078.58 1126.45 L2073.7 1126.45 L2073.7 1120.57 Z\" fill=\"#4c4c4c\" fill-rule=\"nonzero\" fill-opacity=\"1\" /><path clip-path=\"url(#clip020)\" d=\"M2092.79 1122.52 L2109.11 1122.52 L2109.11 1126.45 L2087.17 1126.45 L2087.17 1122.52 Q2089.83 1119.76 2094.41 1115.13 Q2099.02 1110.48 2100.2 1109.14 Q2102.45 1106.61 2103.33 1104.88 Q2104.23 1103.12 2104.23 1101.43 Q2104.23 1098.67 2102.29 1096.94 Q2100.36 1095.2 2097.26 1095.2 Q2095.06 1095.2 2092.61 1095.97 Q2090.18 1096.73 2087.4 1098.28 L2087.4 1093.56 Q2090.22 1092.42 2092.68 1091.85 Q2095.13 1091.27 2097.17 1091.27 Q2102.54 1091.27 2105.73 1093.95 Q2108.93 1096.64 2108.93 1101.13 Q2108.93 1103.26 2108.12 1105.18 Q2107.33 1107.08 2105.22 1109.67 Q2104.65 1110.34 2101.54 1113.56 Q2098.44 1116.75 2092.79 1122.52 Z\" fill=\"#4c4c4c\" fill-rule=\"nonzero\" fill-opacity=\"1\" /><path clip-path=\"url(#clip020)\" d=\"M2053.54 837.4 Q2049.92 837.4 2048.1 840.965 Q2046.29 844.507 2046.29 851.636 Q2046.29 858.743 2048.1 862.308 Q2049.92 865.849 2053.54 865.849 Q2057.17 865.849 2058.98 862.308 Q2060.8 858.743 2060.8 851.636 Q2060.8 844.507 2058.98 840.965 Q2057.17 837.4 2053.54 837.4 M2053.54 833.697 Q2059.35 833.697 2062.4 838.303 Q2065.48 842.886 2065.48 851.636 Q2065.48 860.363 2062.4 864.97 Q2059.35 869.553 2053.54 869.553 Q2047.73 869.553 2044.65 864.97 Q2041.59 860.363 2041.59 851.636 Q2041.59 842.886 2044.65 838.303 Q2047.73 833.697 2053.54 833.697 Z\" fill=\"#4c4c4c\" fill-rule=\"nonzero\" fill-opacity=\"1\" /><path clip-path=\"url(#clip020)\" d=\"M2073.7 863.002 L2078.58 863.002 L2078.58 868.882 L2073.7 868.882 L2073.7 863.002 Z\" fill=\"#4c4c4c\" fill-rule=\"nonzero\" fill-opacity=\"1\" /><path clip-path=\"url(#clip020)\" d=\"M2102.93 850.248 Q2106.29 850.965 2108.16 853.234 Q2110.06 855.502 2110.06 858.835 Q2110.06 863.951 2106.54 866.752 Q2103.03 869.553 2096.54 869.553 Q2094.37 869.553 2092.05 869.113 Q2089.76 868.697 2087.31 867.84 L2087.31 863.326 Q2089.25 864.46 2091.57 865.039 Q2093.88 865.618 2096.41 865.618 Q2100.8 865.618 2103.1 863.882 Q2105.41 862.146 2105.41 858.835 Q2105.41 855.78 2103.26 854.067 Q2101.13 852.331 2097.31 852.331 L2093.28 852.331 L2093.28 848.488 L2097.49 848.488 Q2100.94 848.488 2102.77 847.123 Q2104.6 845.734 2104.6 843.141 Q2104.6 840.479 2102.7 839.067 Q2100.83 837.632 2097.31 837.632 Q2095.39 837.632 2093.19 838.049 Q2090.99 838.465 2088.35 839.345 L2088.35 835.178 Q2091.01 834.437 2093.33 834.067 Q2095.66 833.697 2097.72 833.697 Q2103.05 833.697 2106.15 836.127 Q2109.25 838.535 2109.25 842.655 Q2109.25 845.525 2107.61 847.516 Q2105.97 849.484 2102.93 850.248 Z\" fill=\"#4c4c4c\" fill-rule=\"nonzero\" fill-opacity=\"1\" /><path clip-path=\"url(#clip020)\" d=\"M2053.54 579.831 Q2049.92 579.831 2048.1 583.395 Q2046.29 586.937 2046.29 594.067 Q2046.29 601.173 2048.1 604.738 Q2049.92 608.28 2053.54 608.28 Q2057.17 608.28 2058.98 604.738 Q2060.8 601.173 2060.8 594.067 Q2060.8 586.937 2058.98 583.395 Q2057.17 579.831 2053.54 579.831 M2053.54 576.127 Q2059.35 576.127 2062.4 580.733 Q2065.48 585.317 2065.48 594.067 Q2065.48 602.794 2062.4 607.4 Q2059.35 611.983 2053.54 611.983 Q2047.73 611.983 2044.65 607.4 Q2041.59 602.794 2041.59 594.067 Q2041.59 585.317 2044.65 580.733 Q2047.73 576.127 2053.54 576.127 Z\" fill=\"#4c4c4c\" fill-rule=\"nonzero\" fill-opacity=\"1\" /><path clip-path=\"url(#clip020)\" d=\"M2073.7 605.432 L2078.58 605.432 L2078.58 611.312 L2073.7 611.312 L2073.7 605.432 Z\" fill=\"#4c4c4c\" fill-rule=\"nonzero\" fill-opacity=\"1\" /><path clip-path=\"url(#clip020)\" d=\"M2101.61 580.826 L2089.81 599.275 L2101.61 599.275 L2101.61 580.826 M2100.39 576.752 L2106.27 576.752 L2106.27 599.275 L2111.2 599.275 L2111.2 603.164 L2106.27 603.164 L2106.27 611.312 L2101.61 611.312 L2101.61 603.164 L2086.01 603.164 L2086.01 598.65 L2100.39 576.752 Z\" fill=\"#4c4c4c\" fill-rule=\"nonzero\" fill-opacity=\"1\" /><path clip-path=\"url(#clip020)\" d=\"M2053.54 322.261 Q2049.92 322.261 2048.1 325.826 Q2046.29 329.367 2046.29 336.497 Q2046.29 343.603 2048.1 347.168 Q2049.92 350.71 2053.54 350.71 Q2057.17 350.71 2058.98 347.168 Q2060.8 343.603 2060.8 336.497 Q2060.8 329.367 2058.98 325.826 Q2057.17 322.261 2053.54 322.261 M2053.54 318.557 Q2059.35 318.557 2062.4 323.164 Q2065.48 327.747 2065.48 336.497 Q2065.48 345.224 2062.4 349.83 Q2059.35 354.414 2053.54 354.414 Q2047.73 354.414 2044.65 349.83 Q2041.59 345.224 2041.59 336.497 Q2041.59 327.747 2044.65 323.164 Q2047.73 318.557 2053.54 318.557 Z\" fill=\"#4c4c4c\" fill-rule=\"nonzero\" fill-opacity=\"1\" /><path clip-path=\"url(#clip020)\" d=\"M2073.7 347.863 L2078.58 347.863 L2078.58 353.742 L2073.7 353.742 L2073.7 347.863 Z\" fill=\"#4c4c4c\" fill-rule=\"nonzero\" fill-opacity=\"1\" /><path clip-path=\"url(#clip020)\" d=\"M2088.81 319.182 L2107.17 319.182 L2107.17 323.117 L2093.1 323.117 L2093.1 331.59 Q2094.11 331.242 2095.13 331.08 Q2096.15 330.895 2097.17 330.895 Q2102.96 330.895 2106.34 334.066 Q2109.72 337.238 2109.72 342.654 Q2109.72 348.233 2106.24 351.335 Q2102.77 354.414 2096.45 354.414 Q2094.28 354.414 2092.01 354.043 Q2089.76 353.673 2087.35 352.932 L2087.35 348.233 Q2089.44 349.367 2091.66 349.923 Q2093.88 350.478 2096.36 350.478 Q2100.36 350.478 2102.7 348.372 Q2105.04 346.265 2105.04 342.654 Q2105.04 339.043 2102.7 336.937 Q2100.36 334.83 2096.36 334.83 Q2094.48 334.83 2092.61 335.247 Q2090.76 335.664 2088.81 336.543 L2088.81 319.182 Z\" fill=\"#4c4c4c\" fill-rule=\"nonzero\" fill-opacity=\"1\" /><path clip-path=\"url(#clip020)\" d=\"M2053.54 64.6912 Q2049.92 64.6912 2048.1 68.256 Q2046.29 71.7977 2046.29 78.9273 Q2046.29 86.0337 2048.1 89.5985 Q2049.92 93.1402 2053.54 93.1402 Q2057.17 93.1402 2058.98 89.5985 Q2060.8 86.0337 2060.8 78.9273 Q2060.8 71.7977 2058.98 68.256 Q2057.17 64.6912 2053.54 64.6912 M2053.54 60.9875 Q2059.35 60.9875 2062.4 65.594 Q2065.48 70.1773 2065.48 78.9273 Q2065.48 87.6541 2062.4 92.2605 Q2059.35 96.8438 2053.54 96.8438 Q2047.73 96.8438 2044.65 92.2605 Q2041.59 87.6541 2041.59 78.9273 Q2041.59 70.1773 2044.65 65.594 Q2047.73 60.9875 2053.54 60.9875 Z\" fill=\"#4c4c4c\" fill-rule=\"nonzero\" fill-opacity=\"1\" /><path clip-path=\"url(#clip020)\" d=\"M2073.7 90.2929 L2078.58 90.2929 L2078.58 96.1725 L2073.7 96.1725 L2073.7 90.2929 Z\" fill=\"#4c4c4c\" fill-rule=\"nonzero\" fill-opacity=\"1\" /><path clip-path=\"url(#clip020)\" d=\"M2099.35 77.0291 Q2096.2 77.0291 2094.35 79.1819 Q2092.52 81.3347 2092.52 85.0846 Q2092.52 88.8115 2094.35 90.9874 Q2096.2 93.1402 2099.35 93.1402 Q2102.49 93.1402 2104.32 90.9874 Q2106.17 88.8115 2106.17 85.0846 Q2106.17 81.3347 2104.32 79.1819 Q2102.49 77.0291 2099.35 77.0291 M2108.63 62.3764 L2108.63 66.6357 Q2106.87 65.8023 2105.06 65.3625 Q2103.28 64.9227 2101.52 64.9227 Q2096.89 64.9227 2094.44 68.0477 Q2092.01 71.1727 2091.66 77.4921 Q2093.03 75.4782 2095.09 74.4134 Q2097.15 73.3254 2099.62 73.3254 Q2104.83 73.3254 2107.84 76.4967 Q2110.87 79.6449 2110.87 85.0846 Q2110.87 90.4087 2107.72 93.6263 Q2104.58 96.8438 2099.35 96.8438 Q2093.35 96.8438 2090.18 92.2605 Q2087.01 87.6541 2087.01 78.9273 Q2087.01 70.7329 2090.9 65.8718 Q2094.79 60.9875 2101.34 60.9875 Q2103.1 60.9875 2104.88 61.3348 Q2106.68 61.682 2108.63 62.3764 Z\" fill=\"#4c4c4c\" fill-rule=\"nonzero\" fill-opacity=\"1\" /><polyline clip-path=\"url(#clip020)\" style=\"stroke:#000000; stroke-linecap:round; stroke-linejoin:round; stroke-width:4; stroke-opacity:1; fill:none\" points=\"2005.59,1351.04 2005.59,1112.8 2029.59,1112.8 2005.59,1112.8 2005.59,855.231 2029.59,855.231 2005.59,855.231 2005.59,597.661 2029.59,597.661 2005.59,597.661 2005.59,340.091 2029.59,340.091 2005.59,340.091 2005.59,82.5213 2029.59,82.5213 2005.59,82.5213 2005.59,47.2441 \"/>\n",
       "</svg>\n"
      ]
     },
     "metadata": {},
     "output_type": "display_data"
    }
   ],
   "source": [
    "result = coarse_fine_data_fusion(\n",
    "    coarse_images[:,:,12:17], \n",
    "    fine_images[:,:,12:17], \n",
    "    target_times = [4]\n",
    ")\n",
    "\n",
    "plot(result.mean[:,:,1])"
   ]
  },
  {
   "cell_type": "code",
   "execution_count": 22,
   "metadata": {},
   "outputs": [
    {
     "ename": "UndefVarError",
     "evalue": "UndefVarError: cell_size not defined",
     "output_type": "error",
     "traceback": [
      "UndefVarError: cell_size not defined\n",
      "\n",
      "Stacktrace:\n",
      " [1] top-level scope\n",
      "   @ ~/Projects/STARS.jl/examples/Salton Sea General Demo Time Dimension.ipynb:1"
     ]
    }
   ],
   "source": [
    "coarse_cell_width, coarse_cell_height = cell_size(coarse_images)"
   ]
  },
  {
   "cell_type": "code",
   "execution_count": 23,
   "metadata": {},
   "outputs": [
    {
     "ename": "UndefVarError",
     "evalue": "UndefVarError: coarse_cell_width not defined",
     "output_type": "error",
     "traceback": [
      "UndefVarError: coarse_cell_width not defined\n",
      "\n",
      "Stacktrace:\n",
      " [1] top-level scope\n",
      "   @ ~/Projects/STARS.jl/examples/Salton Sea General Demo Time Dimension.ipynb:1"
     ]
    }
   ],
   "source": [
    "result = data_fusion(\n",
    "    coarse_images[:,:,12:17], \n",
    "    fine_images[:,:,12:17], \n",
    "    target_times = [4],\n",
    "    buffer_distance = coarse_cell_width / 2.0\n",
    ")\n",
    "\n",
    "plot(result.mean[:,:,1])"
   ]
  },
  {
   "cell_type": "code",
   "execution_count": 12,
   "metadata": {},
   "outputs": [
    {
     "ename": "UndefVarError",
     "evalue": "UndefVarError: data_fusion not defined",
     "output_type": "error",
     "traceback": [
      "UndefVarError: data_fusion not defined\n",
      "\n",
      "Stacktrace:\n",
      " [1] top-level scope\n",
      "   @ ~/Projects/STARS.jl/examples/Salton Sea General Demo Time Dimension.ipynb:1"
     ]
    }
   ],
   "source": [
    "result = data_fusion(\n",
    "    coarse_images[:,:,12:17], \n",
    "    fine_images[:,:,12:17], \n",
    "    target_times = [1]\n",
    ")\n",
    "\n",
    "plot(result.mean[:,:,1])"
   ]
  },
  {
   "cell_type": "code",
   "execution_count": 13,
   "metadata": {},
   "outputs": [
    {
     "ename": "UndefVarError",
     "evalue": "UndefVarError: data_fusion not defined",
     "output_type": "error",
     "traceback": [
      "UndefVarError: data_fusion not defined\n",
      "\n",
      "Stacktrace:\n",
      " [1] top-level scope\n",
      "   @ ~/Projects/STARS.jl/examples/Salton Sea General Demo Time Dimension.ipynb:1"
     ]
    }
   ],
   "source": [
    "result = data_fusion(\n",
    "    coarse_images[:,:,12:17], \n",
    "    fine_images[:,:,12:17], \n",
    "    target_times = [\"2020-10-15\"]\n",
    ")\n",
    "\n",
    "plot(result.mean[:,:,1])"
   ]
  },
  {
   "attachments": {},
   "cell_type": "markdown",
   "metadata": {},
   "source": [
    "#### Fuse for collection of times, currently only works for contiguous times"
   ]
  },
  {
   "cell_type": "code",
   "execution_count": 14,
   "metadata": {},
   "outputs": [
    {
     "ename": "UndefVarError",
     "evalue": "UndefVarError: data_fusion not defined",
     "output_type": "error",
     "traceback": [
      "UndefVarError: data_fusion not defined\n",
      "\n",
      "Stacktrace:\n",
      " [1] top-level scope\n",
      "   @ ~/Projects/STARS.jl/examples/Salton Sea General Demo Time Dimension.ipynb:1"
     ]
    }
   ],
   "source": [
    "result = data_fusion(\n",
    "    coarse_images[:,:,12:17],\n",
    "    fine_images[:,:,12:17], \n",
    "    target_times = 3:5\n",
    ");"
   ]
  },
  {
   "cell_type": "code",
   "execution_count": 15,
   "metadata": {},
   "outputs": [
    {
     "ename": "UndefVarError",
     "evalue": "UndefVarError: result not defined",
     "output_type": "error",
     "traceback": [
      "UndefVarError: result not defined\n",
      "\n",
      "Stacktrace:\n",
      " [1] top-level scope\n",
      "   @ ~/Projects/STARS.jl/examples/Salton Sea General Demo Time Dimension.ipynb:1"
     ]
    }
   ],
   "source": [
    "plot(result.mean[:,:,2])"
   ]
  },
  {
   "cell_type": "code",
   "execution_count": 16,
   "metadata": {},
   "outputs": [
    {
     "ename": "UndefVarError",
     "evalue": "UndefVarError: result not defined",
     "output_type": "error",
     "traceback": [
      "UndefVarError: result not defined\n",
      "\n",
      "Stacktrace:\n",
      " [1] top-level scope\n",
      "   @ ~/Projects/STARS.jl/examples/Salton Sea General Demo Time Dimension.ipynb:1"
     ]
    }
   ],
   "source": [
    "plot(result.mean_bias[:,:,2])"
   ]
  },
  {
   "attachments": {},
   "cell_type": "markdown",
   "metadata": {},
   "source": [
    "#### Streaming example"
   ]
  },
  {
   "attachments": {},
   "cell_type": "markdown",
   "metadata": {},
   "source": [
    "#### No lag"
   ]
  },
  {
   "cell_type": "code",
   "execution_count": 17,
   "metadata": {},
   "outputs": [
    {
     "ename": "UndefVarError",
     "evalue": "UndefVarError: spatio_temporal_data_fusion_general not defined",
     "output_type": "error",
     "traceback": [
      "UndefVarError: spatio_temporal_data_fusion_general not defined\n",
      "\n",
      "Stacktrace:\n",
      " [1] top-level scope\n",
      "   @ ~/Projects/STARS.jl/examples/Salton Sea General Demo Time Dimension.ipynb:3"
     ]
    }
   ],
   "source": [
    "mkpath(\"./streaming_demo\")\n",
    "\n",
    "result = spatio_temporal_data_fusion_general(\n",
    "    coarse_images[:,:,12:12], \n",
    "    fine_images[:,:,12:12], \n",
    "    target_times = [1]\n",
    ")\n",
    "\n",
    "write(\"./streaming_demo/fused_target_\" * string(coarse_dates[12]) * \".tif\", result.mean[:,:,1])\n",
    "write(\"./streaming_demo/fused_target_UQ_\" * string(coarse_dates[12]) * \".tif\", result.SD[:,:,1])\n",
    "write(\"./streaming_demo/coarse_bias_\" * string(coarse_dates[12]) * \".tif\", result.mean_bias[:,:,1])\n",
    "write(\"./streaming_demo/coarse_bias_UQ_\" * string(coarse_dates[12]) * \".tif\", result.SD_bias[:,:,1])"
   ]
  },
  {
   "cell_type": "code",
   "execution_count": 18,
   "metadata": {},
   "outputs": [
    {
     "ename": "ArgumentError",
     "evalue": "ArgumentError: file \"./streaming_demo/fused_target_2020-10-12.tif\" not found",
     "output_type": "error",
     "traceback": [
      "ArgumentError: file \"./streaming_demo/fused_target_2020-10-12.tif\" not found\n",
      "\n",
      "Stacktrace:\n",
      " [1] _filenotfound_error(filename::String)\n",
      "   @ Rasters ~/.julia/packages/Rasters/fANS1/src/utils.jl:126\n",
      " [2] _open(f::Function, ::Type{Rasters.GDALfile}, filename::String; write::Bool, kw::Base.Pairs{Symbol, Union{}, Tuple{}, NamedTuple{(), Tuple{}}})\n",
      "   @ Rasters ~/.julia/packages/Rasters/fANS1/src/sources/gdal.jl:300\n",
      " [3] _open(f::Function, ::Type{Rasters.GDALfile}, filename::String)\n",
      "   @ Rasters ~/.julia/packages/Rasters/fANS1/src/sources/gdal.jl:292\n",
      " [4] _open(f::Function, filename::String; kw::Base.Pairs{Symbol, Union{}, Tuple{}, NamedTuple{(), Tuple{}}})\n",
      "   @ Rasters ~/.julia/packages/Rasters/fANS1/src/convenience.jl:20\n",
      " [5] _open\n",
      "   @ ~/.julia/packages/Rasters/fANS1/src/convenience.jl:19 [inlined]\n",
      " [6] #Raster#50\n",
      "   @ ~/.julia/packages/Rasters/fANS1/src/array.jl:259 [inlined]\n",
      " [7] top-level scope\n",
      "   @ ~/Projects/STARS.jl/examples/Salton Sea General Demo Time Dimension.ipynb:3"
     ]
    }
   ],
   "source": [
    "i = 13\n",
    "# read past fused mean/sd's for prior\n",
    "prior = DataFusionState(\n",
    "    read(Raster(\"./streaming_demo/fused_target_\" * string(coarse_dates[i-1]) * \".tif\", missingval = NaN)),\n",
    "    read(Raster(\"./streaming_demo/fused_target_UQ_\" * string(coarse_dates[i-1]) * \".tif\", missingval = NaN)),\n",
    "    read(Raster(\"./streaming_demo/coarse_bias_\" * string(coarse_dates[i-1]) * \".tif\", missingval = NaN)),\n",
    "    read(Raster(\"./streaming_demo/coarse_bias_UQ_\" * string(coarse_dates[i-1]) * \".tif\", missingval = NaN))\n",
    ")\n",
    "\n",
    "# fuse\n",
    "result = spatio_temporal_data_fusion_general(\n",
    "    coarse_images[:,:,i:i], \n",
    "    fine_images[:,:,i:i], \n",
    "    prior = prior,\n",
    "    target_times = [1]\n",
    ")"
   ]
  },
  {
   "cell_type": "code",
   "execution_count": 19,
   "metadata": {},
   "outputs": [
    {
     "ename": "ArgumentError",
     "evalue": "ArgumentError: file \"./streaming_demo/fused_target_2020-10-12.tif\" not found",
     "output_type": "error",
     "traceback": [
      "ArgumentError: file \"./streaming_demo/fused_target_2020-10-12.tif\" not found\n",
      "\n",
      "Stacktrace:\n",
      " [1] _filenotfound_error(filename::String)\n",
      "   @ Rasters ~/.julia/packages/Rasters/fANS1/src/utils.jl:126\n",
      " [2] _open(f::Function, ::Type{Rasters.GDALfile}, filename::String; write::Bool, kw::Base.Pairs{Symbol, Union{}, Tuple{}, NamedTuple{(), Tuple{}}})\n",
      "   @ Rasters ~/.julia/packages/Rasters/fANS1/src/sources/gdal.jl:300\n",
      " [3] _open(f::Function, ::Type{Rasters.GDALfile}, filename::String)\n",
      "   @ Rasters ~/.julia/packages/Rasters/fANS1/src/sources/gdal.jl:292\n",
      " [4] _open(f::Function, filename::String; kw::Base.Pairs{Symbol, Union{}, Tuple{}, NamedTuple{(), Tuple{}}})\n",
      "   @ Rasters ~/.julia/packages/Rasters/fANS1/src/convenience.jl:20\n",
      " [5] _open\n",
      "   @ ~/.julia/packages/Rasters/fANS1/src/convenience.jl:19 [inlined]\n",
      " [6] #Raster#50\n",
      "   @ ~/.julia/packages/Rasters/fANS1/src/array.jl:259 [inlined]\n",
      " [7] top-level scope\n",
      "   @ ~/Projects/STARS.jl/examples/Salton Sea General Demo Time Dimension.ipynb:4"
     ]
    }
   ],
   "source": [
    "### Now run online \n",
    "for i in 13:17 \n",
    "    # read past fused mean/sd's for prior\n",
    "    prior = DataFusionState(\n",
    "        Raster(\"./streaming_demo/fused_target_\" * string(coarse_dates[i-1]) * \".tif\", missingval = NaN),\n",
    "        Raster(\"./streaming_demo/fused_target_UQ_\" * string(coarse_dates[i-1]) * \".tif\", missingval = NaN),\n",
    "        Raster(\"./streaming_demo/coarse_bias_\" * string(coarse_dates[i-1]) * \".tif\", missingval = NaN),\n",
    "        Raster(\"./streaming_demo/coarse_bias_UQ_\" * string(coarse_dates[i-1]) * \".tif\", missingval = NaN)\n",
    "    )\n",
    "\n",
    "    # fuse\n",
    "    result = data_fusion(\n",
    "        coarse_images[:,:,i:i], \n",
    "        fine_images[:,:,i:i], \n",
    "        prior = prior,\n",
    "        target_times = [1]\n",
    "    )\n",
    "\n",
    "    write(\"./streaming_demo/fused_target_\" * string(coarse_dates[i]) * \".tif\", result.mean[:,:,1])\n",
    "    write(\"./streaming_demo/fused_target_UQ_\" * string(coarse_dates[i]) * \".tif\", result.SD[:,:,1])\n",
    "    write(\"./streaming_demo/coarse_bias_\" * string(coarse_dates[i]) * \".tif\", result.mean_bias[:,:,1])\n",
    "    write(\"./streaming_demo/coarse_bias_UQ_\" * string(coarse_dates[i]) * \".tif\", result.SD_bias[:,:,1])\n",
    "end"
   ]
  },
  {
   "attachments": {},
   "cell_type": "markdown",
   "metadata": {},
   "source": [
    "#### Two day lag"
   ]
  },
  {
   "cell_type": "code",
   "execution_count": 20,
   "metadata": {},
   "outputs": [
    {
     "ename": "UndefVarError",
     "evalue": "UndefVarError: data_fusion not defined",
     "output_type": "error",
     "traceback": [
      "UndefVarError: data_fusion not defined\n",
      "\n",
      "Stacktrace:\n",
      " [1] top-level scope\n",
      "   @ ~/Projects/STARS.jl/examples/Salton Sea General Demo Time Dimension.ipynb:3"
     ]
    }
   ],
   "source": [
    "mkpath(\"./streaming_demo_2daylag\")\n",
    "\n",
    "result = data_fusion(\n",
    "    coarse_images[:,:,12:14],\n",
    "    fine_images[:,:,12:14], \n",
    "    target_times = 1:3, \n",
    "    smooth = false\n",
    ")\n",
    "\n",
    "write(\"./streaming_demo_2daylag/fused_target_\" * string(coarse_dates[12]) * \".tif\", result.mean[:,:,1])\n",
    "write(\"./streaming_demo_2daylag/fused_target_UQ_\" * string(coarse_dates[12]) * \".tif\", result.SD[:,:,1])\n",
    "write(\"./streaming_demo_2daylag/coarse_bias_\" * string(coarse_dates[12]) * \".tif\", result.mean_bias[:,:,1])\n",
    "write(\"./streaming_demo_2daylag/coarse_bias_UQ_\" * string(coarse_dates[12])*\".tif\", result.SD_bias[:,:,1])\n",
    "\n",
    "write(\"./streaming_demo_2daylag/fused_target_\" * string(coarse_dates[13]) * \".tif\", result.mean[:,:,2])\n",
    "write(\"./streaming_demo_2daylag/fused_target_UQ_\" * string(coarse_dates[13]) * \".tif\", result.SD[:,:,2])\n",
    "write(\"./streaming_demo_2daylag/coarse_bias_\" * string(coarse_dates[13]) * \".tif\", result.mean_bias[:,:,2])\n",
    "write(\"./streaming_demo_2daylag/coarse_bias_UQ_\" * string(coarse_dates[13]) * \".tif\", result.SD_bias[:,:,2])\n",
    "\n",
    "write(\"./streaming_demo_2daylag/fused_target_\" * string(coarse_dates[14]) * \".tif\", result.mean[:,:,3])\n",
    "write(\"./streaming_demo_2daylag/fused_target_UQ_\" * string(coarse_dates[14]) * \".tif\", result.SD[:,:,3])\n",
    "write(\"./streaming_demo_2daylag/coarse_bias_\" * string(coarse_dates[14]) * \".tif\", result.mean_bias[:,:,3])\n",
    "write(\"./streaming_demo_2daylag/coarse_bias_UQ_\" * string(coarse_dates[14]) * \".tif\", result.SD_bias[:,:,3])"
   ]
  },
  {
   "cell_type": "code",
   "execution_count": 21,
   "metadata": {},
   "outputs": [
    {
     "ename": "ArgumentError",
     "evalue": "ArgumentError: file \"./streaming_demo_2daylag/fused_target_2020-10-12.tif\" not found",
     "output_type": "error",
     "traceback": [
      "ArgumentError: file \"./streaming_demo_2daylag/fused_target_2020-10-12.tif\" not found\n",
      "\n",
      "Stacktrace:\n",
      " [1] _filenotfound_error(filename::String)\n",
      "   @ Rasters ~/.julia/packages/Rasters/fANS1/src/utils.jl:126\n",
      " [2] _open(f::Function, ::Type{Rasters.GDALfile}, filename::String; write::Bool, kw::Base.Pairs{Symbol, Union{}, Tuple{}, NamedTuple{(), Tuple{}}})\n",
      "   @ Rasters ~/.julia/packages/Rasters/fANS1/src/sources/gdal.jl:300\n",
      " [3] _open(f::Function, ::Type{Rasters.GDALfile}, filename::String)\n",
      "   @ Rasters ~/.julia/packages/Rasters/fANS1/src/sources/gdal.jl:292\n",
      " [4] _open(f::Function, filename::String; kw::Base.Pairs{Symbol, Union{}, Tuple{}, NamedTuple{(), Tuple{}}})\n",
      "   @ Rasters ~/.julia/packages/Rasters/fANS1/src/convenience.jl:20\n",
      " [5] _open\n",
      "   @ ~/.julia/packages/Rasters/fANS1/src/convenience.jl:19 [inlined]\n",
      " [6] #Raster#50\n",
      "   @ ~/.julia/packages/Rasters/fANS1/src/array.jl:259 [inlined]\n",
      " [7] top-level scope\n",
      "   @ ~/Projects/STARS.jl/examples/Salton Sea General Demo Time Dimension.ipynb:7"
     ]
    }
   ],
   "source": [
    "mkpath(\"./streaming_demo_2daylag\")\n",
    "\n",
    "### Now run online \n",
    "\n",
    "for i in 15:20 \n",
    "    # read past fused mean/sd's for prior\n",
    "    prior = DataFusionState(\n",
    "        Raster(\"./streaming_demo_2daylag/fused_target_\" * string(coarse_dates[i-3]) * \".tif\", missingval = NaN),\n",
    "        Raster(\"./streaming_demo_2daylag/fused_target_UQ_\" * string(coarse_dates[i-3]) * \".tif\", missingval = NaN),\n",
    "        Raster(\"./streaming_demo_2daylag/coarse_bias_\" * string(coarse_dates[i-3])*\".tif\", missingval = NaN),\n",
    "        Raster(\"./streaming_demo_2daylag/coarse_bias_UQ_\"*string(coarse_dates[i-3])*\".tif\", missingval = NaN)\n",
    "    )\n",
    "    \n",
    "    # fuse\n",
    "    result = data_fusion(\n",
    "        coarse_images[:,:,(i-2):i], \n",
    "        fine_images[:,:,(i-2):i], \n",
    "        prior = prior,\n",
    "        target_times = [3],\n",
    "        smooth = false\n",
    "    )\n",
    "\n",
    "    write(\"./streaming_demo_2daylag/fused_target_\" * string(coarse_dates[i]) * \".tif\", result.mean[:,:,1])\n",
    "    write(\"./streaming_demo_2daylag/fused_target_UQ_\" * string(coarse_dates[i]) * \".tif\", result.SD[:,:,1])\n",
    "    write(\"./streaming_demo_2daylag/coarse_bias_\" * string(coarse_dates[i]) * \".tif\", result.mean_bias[:,:,1])\n",
    "    write(\"./streaming_demo_2daylag/coarse_bias_UQ_\" * string(coarse_dates[i]) * \".tif\", result.SD_bias[:,:,1])\n",
    "\n",
    "end"
   ]
  },
  {
   "cell_type": "code",
   "execution_count": 22,
   "metadata": {},
   "outputs": [],
   "source": []
  }
 ],
 "metadata": {
  "kernelspec": {
   "display_name": "Julia 1.8.5",
   "language": "julia",
   "name": "julia-1.8"
  },
  "language_info": {
   "file_extension": ".jl",
   "mimetype": "application/julia",
   "name": "julia",
   "version": "1.8.5"
  },
  "orig_nbformat": 4
 },
 "nbformat": 4,
 "nbformat_minor": 2
}
