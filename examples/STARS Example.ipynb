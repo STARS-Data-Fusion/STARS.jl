{
 "cells": [
  {
   "cell_type": "code",
   "execution_count": 1,
   "metadata": {},
   "outputs": [],
   "source": [
    "import STARS.HLS.HLS_CMR_query\n",
    "using Dates\n",
    "using Logging\n",
    "logger = ConsoleLogger()\n",
    "global_logger(logger)\n",
    ";"
   ]
  },
  {
   "cell_type": "code",
   "execution_count": 2,
   "metadata": {},
   "outputs": [
    {
     "data": {
      "text/plain": [
       "\"~/data/STARS_HLS_download_testing\""
      ]
     },
     "metadata": {},
     "output_type": "display_data"
    }
   ],
   "source": [
    "tile = \"11SPS\"\n",
    "start_date = \"2022-10-01\"\n",
    "end_date = \"2022-10-10\"\n",
    "download_directory = \"~/data/STARS_HLS_download_testing\""
   ]
  },
  {
   "cell_type": "code",
   "execution_count": 3,
   "metadata": {},
   "outputs": [
    {
     "name": "stderr",
     "output_type": "stream",
     "text": [
      "\u001b[36m\u001b[1m[ \u001b[22m\u001b[39m\u001b[36m\u001b[1mInfo: \u001b[22m\u001b[39mCMR API query for \u001b[33mHLS Sentinel S30\u001b[39m at tile \u001b[33m11SPS\u001b[39m from \u001b[34m2022-10-01\u001b[39m to \u001b[34m2022-10-10\u001b[39m\n",
      "\u001b[36m\u001b[1m[ \u001b[22m\u001b[39m\u001b[36m\u001b[1mInfo: \u001b[22m\u001b[39mCMR API query for concept ID \u001b[33mC2021957295-LPCLOUD\u001b[39m at tile \u001b[33m11SPS\u001b[39m from \u001b[34m2022-10-01\u001b[39m to \u001b[34m2022-10-10\u001b[39m with URL: \u001b[34;4mhttps://cmr.earthdata.nasa.gov/search/granules.json?concept_id=C2021957295-LPCLOUD&temporal=2022-10-01T00:00:00Z/2022-10-10T23:59:59Z&page_size=2000&producer_granule_id=*.T11SPS.*&options[producer_granule_id][pattern]=true\u001b[39;24m\n"
     ]
    },
    {
     "name": "stderr",
     "output_type": "stream",
     "text": [
      "\u001b[36m\u001b[1m[ \u001b[22m\u001b[39m\u001b[36m\u001b[1mInfo: \u001b[22m\u001b[39mCMR API query for concept ID \u001b[33mC2021957295-LPCLOUD\u001b[39m at tile \u001b[33m11SPS\u001b[39m from \u001b[34m2022-10-01\u001b[39m to \u001b[34m2022-10-10\u001b[39m included \u001b[33m216\u001b[39m URLs\n",
      "\u001b[36m\u001b[1m[ \u001b[22m\u001b[39m\u001b[36m\u001b[1mInfo: \u001b[22m\u001b[39mCMR API query for \u001b[33mHLS Landsat L30\u001b[39m at tile \u001b[33m11SPS\u001b[39m from \u001b[34m2022-10-01\u001b[39m to \u001b[34m2022-10-10\u001b[39m\n"
     ]
    },
    {
     "name": "stderr",
     "output_type": "stream",
     "text": [
      "\u001b[36m\u001b[1m[ \u001b[22m\u001b[39m\u001b[36m\u001b[1mInfo: \u001b[22m\u001b[39mCMR API query for concept ID \u001b[33mC2021957657-LPCLOUD\u001b[39m at tile \u001b[33m11SPS\u001b[39m from \u001b[34m2022-10-01\u001b[39m to \u001b[34m2022-10-10\u001b[39m with URL: \u001b[34;4mhttps://cmr.earthdata.nasa.gov/search/granules.json?concept_id=C2021957657-LPCLOUD&temporal=2022-10-01T00:00:00Z/2022-10-10T23:59:59Z&page_size=2000&producer_granule_id=*.T11SPS.*&options[producer_granule_id][pattern]=true\u001b[39;24m\n"
     ]
    },
    {
     "name": "stderr",
     "output_type": "stream",
     "text": [
      "\u001b[36m\u001b[1m[ \u001b[22m\u001b[39m\u001b[36m\u001b[1mInfo: \u001b[22m\u001b[39mCMR API query for concept ID \u001b[33mC2021957657-LPCLOUD\u001b[39m at tile \u001b[33m11SPS\u001b[39m from \u001b[34m2022-10-01\u001b[39m to \u001b[34m2022-10-10\u001b[39m included \u001b[33m96\u001b[39m URLs\n"
     ]
    },
    {
     "data": {
      "text/html": [
       "<div><div style = \"float: left;\"><span>102×8 DataFrame</span></div><div style = \"float: right;\"><span style = \"font-style: italic;\">77 rows omitted</span></div><div style = \"clear: both;\"></div></div><div class = \"data-frame\" style = \"overflow-x: scroll;\"><table class = \"data-frame\" style = \"margin-bottom: 6px;\"><thead><tr class = \"header\"><th class = \"rowNumber\" style = \"font-weight: bold; text-align: right;\">Row</th><th style = \"text-align: left;\">granule_ID</th><th style = \"text-align: left;\">sensor</th><th style = \"text-align: left;\">tile</th><th style = \"text-align: left;\">date</th><th style = \"text-align: left;\">time</th><th style = \"text-align: left;\">band</th><th style = \"text-align: left;\">https</th><th style = \"text-align: left;\">s3</th></tr><tr class = \"subheader headerLastRow\"><th class = \"rowNumber\" style = \"font-weight: bold; text-align: right;\"></th><th title = \"Any\" style = \"text-align: left;\">Any</th><th title = \"Any\" style = \"text-align: left;\">Any</th><th title = \"Any\" style = \"text-align: left;\">Any</th><th title = \"Any\" style = \"text-align: left;\">Any</th><th title = \"Any\" style = \"text-align: left;\">Any</th><th title = \"Any\" style = \"text-align: left;\">Any</th><th title = \"Any\" style = \"text-align: left;\">Any</th><th title = \"Any\" style = \"text-align: left;\">Any</th></tr></thead><tbody><tr><td class = \"rowNumber\" style = \"font-weight: bold; text-align: right;\">1</td><td style = \"text-align: left;\">HLS.S30.T11SPS.2022275T182201.v2.0</td><td style = \"text-align: left;\">S30</td><td style = \"text-align: left;\">11SPS</td><td style = \"text-align: left;\">2022-10-02</td><td style = \"text-align: left;\">2022-10-02T18:22:01</td><td style = \"text-align: left;\">B8A</td><td style = \"text-align: left;\">https://data.lpdaac.earthdatacloud.nasa.gov/lp-prod-protected/HLSS30.020/HLS.S30.T11SPS.2022275T182201.v2.0/HLS.S30.T11SPS.2022275T182201.v2.0.B8A.tif</td><td style = \"text-align: left;\">s3://lp-prod-protected/HLSS30.020/HLS.S30.T11SPS.2022275T182201.v2.0/HLS.S30.T11SPS.2022275T182201.v2.0.B8A.tif</td></tr><tr><td class = \"rowNumber\" style = \"font-weight: bold; text-align: right;\">2</td><td style = \"text-align: left;\">HLS.S30.T11SPS.2022275T182201.v2.0</td><td style = \"text-align: left;\">S30</td><td style = \"text-align: left;\">11SPS</td><td style = \"text-align: left;\">2022-10-02</td><td style = \"text-align: left;\">2022-10-02T18:22:01</td><td style = \"text-align: left;\">B02</td><td style = \"text-align: left;\">https://data.lpdaac.earthdatacloud.nasa.gov/lp-prod-protected/HLSS30.020/HLS.S30.T11SPS.2022275T182201.v2.0/HLS.S30.T11SPS.2022275T182201.v2.0.B02.tif</td><td style = \"text-align: left;\">s3://lp-prod-protected/HLSS30.020/HLS.S30.T11SPS.2022275T182201.v2.0/HLS.S30.T11SPS.2022275T182201.v2.0.B02.tif</td></tr><tr><td class = \"rowNumber\" style = \"font-weight: bold; text-align: right;\">3</td><td style = \"text-align: left;\">HLS.S30.T11SPS.2022275T182201.v2.0</td><td style = \"text-align: left;\">S30</td><td style = \"text-align: left;\">11SPS</td><td style = \"text-align: left;\">2022-10-02</td><td style = \"text-align: left;\">2022-10-02T18:22:01</td><td style = \"text-align: left;\">VZA</td><td style = \"text-align: left;\">https://data.lpdaac.earthdatacloud.nasa.gov/lp-prod-protected/HLSS30.020/HLS.S30.T11SPS.2022275T182201.v2.0/HLS.S30.T11SPS.2022275T182201.v2.0.VZA.tif</td><td style = \"text-align: left;\">s3://lp-prod-protected/HLSS30.020/HLS.S30.T11SPS.2022275T182201.v2.0/HLS.S30.T11SPS.2022275T182201.v2.0.VZA.tif</td></tr><tr><td class = \"rowNumber\" style = \"font-weight: bold; text-align: right;\">4</td><td style = \"text-align: left;\">HLS.S30.T11SPS.2022275T182201.v2.0</td><td style = \"text-align: left;\">S30</td><td style = \"text-align: left;\">11SPS</td><td style = \"text-align: left;\">2022-10-02</td><td style = \"text-align: left;\">2022-10-02T18:22:01</td><td style = \"text-align: left;\">B10</td><td style = \"text-align: left;\">https://data.lpdaac.earthdatacloud.nasa.gov/lp-prod-protected/HLSS30.020/HLS.S30.T11SPS.2022275T182201.v2.0/HLS.S30.T11SPS.2022275T182201.v2.0.B10.tif</td><td style = \"text-align: left;\">s3://lp-prod-protected/HLSS30.020/HLS.S30.T11SPS.2022275T182201.v2.0/HLS.S30.T11SPS.2022275T182201.v2.0.B10.tif</td></tr><tr><td class = \"rowNumber\" style = \"font-weight: bold; text-align: right;\">5</td><td style = \"text-align: left;\">HLS.S30.T11SPS.2022275T182201.v2.0</td><td style = \"text-align: left;\">S30</td><td style = \"text-align: left;\">11SPS</td><td style = \"text-align: left;\">2022-10-02</td><td style = \"text-align: left;\">2022-10-02T18:22:01</td><td style = \"text-align: left;\">B04</td><td style = \"text-align: left;\">https://data.lpdaac.earthdatacloud.nasa.gov/lp-prod-protected/HLSS30.020/HLS.S30.T11SPS.2022275T182201.v2.0/HLS.S30.T11SPS.2022275T182201.v2.0.B04.tif</td><td style = \"text-align: left;\">s3://lp-prod-protected/HLSS30.020/HLS.S30.T11SPS.2022275T182201.v2.0/HLS.S30.T11SPS.2022275T182201.v2.0.B04.tif</td></tr><tr><td class = \"rowNumber\" style = \"font-weight: bold; text-align: right;\">6</td><td style = \"text-align: left;\">HLS.S30.T11SPS.2022275T182201.v2.0</td><td style = \"text-align: left;\">S30</td><td style = \"text-align: left;\">11SPS</td><td style = \"text-align: left;\">2022-10-02</td><td style = \"text-align: left;\">2022-10-02T18:22:01</td><td style = \"text-align: left;\">Fmask</td><td style = \"text-align: left;\">https://data.lpdaac.earthdatacloud.nasa.gov/lp-prod-protected/HLSS30.020/HLS.S30.T11SPS.2022275T182201.v2.0/HLS.S30.T11SPS.2022275T182201.v2.0.Fmask.tif</td><td style = \"text-align: left;\">s3://lp-prod-protected/HLSS30.020/HLS.S30.T11SPS.2022275T182201.v2.0/HLS.S30.T11SPS.2022275T182201.v2.0.Fmask.tif</td></tr><tr><td class = \"rowNumber\" style = \"font-weight: bold; text-align: right;\">7</td><td style = \"text-align: left;\">HLS.S30.T11SPS.2022275T182201.v2.0</td><td style = \"text-align: left;\">S30</td><td style = \"text-align: left;\">11SPS</td><td style = \"text-align: left;\">2022-10-02</td><td style = \"text-align: left;\">2022-10-02T18:22:01</td><td style = \"text-align: left;\">SAA</td><td style = \"text-align: left;\">https://data.lpdaac.earthdatacloud.nasa.gov/lp-prod-protected/HLSS30.020/HLS.S30.T11SPS.2022275T182201.v2.0/HLS.S30.T11SPS.2022275T182201.v2.0.SAA.tif</td><td style = \"text-align: left;\">s3://lp-prod-protected/HLSS30.020/HLS.S30.T11SPS.2022275T182201.v2.0/HLS.S30.T11SPS.2022275T182201.v2.0.SAA.tif</td></tr><tr><td class = \"rowNumber\" style = \"font-weight: bold; text-align: right;\">8</td><td style = \"text-align: left;\">HLS.S30.T11SPS.2022275T182201.v2.0</td><td style = \"text-align: left;\">S30</td><td style = \"text-align: left;\">11SPS</td><td style = \"text-align: left;\">2022-10-02</td><td style = \"text-align: left;\">2022-10-02T18:22:01</td><td style = \"text-align: left;\">VAA</td><td style = \"text-align: left;\">https://data.lpdaac.earthdatacloud.nasa.gov/lp-prod-protected/HLSS30.020/HLS.S30.T11SPS.2022275T182201.v2.0/HLS.S30.T11SPS.2022275T182201.v2.0.VAA.tif</td><td style = \"text-align: left;\">s3://lp-prod-protected/HLSS30.020/HLS.S30.T11SPS.2022275T182201.v2.0/HLS.S30.T11SPS.2022275T182201.v2.0.VAA.tif</td></tr><tr><td class = \"rowNumber\" style = \"font-weight: bold; text-align: right;\">9</td><td style = \"text-align: left;\">HLS.S30.T11SPS.2022275T182201.v2.0</td><td style = \"text-align: left;\">S30</td><td style = \"text-align: left;\">11SPS</td><td style = \"text-align: left;\">2022-10-02</td><td style = \"text-align: left;\">2022-10-02T18:22:01</td><td style = \"text-align: left;\">B03</td><td style = \"text-align: left;\">https://data.lpdaac.earthdatacloud.nasa.gov/lp-prod-protected/HLSS30.020/HLS.S30.T11SPS.2022275T182201.v2.0/HLS.S30.T11SPS.2022275T182201.v2.0.B03.tif</td><td style = \"text-align: left;\">s3://lp-prod-protected/HLSS30.020/HLS.S30.T11SPS.2022275T182201.v2.0/HLS.S30.T11SPS.2022275T182201.v2.0.B03.tif</td></tr><tr><td class = \"rowNumber\" style = \"font-weight: bold; text-align: right;\">10</td><td style = \"text-align: left;\">HLS.S30.T11SPS.2022275T182201.v2.0</td><td style = \"text-align: left;\">S30</td><td style = \"text-align: left;\">11SPS</td><td style = \"text-align: left;\">2022-10-02</td><td style = \"text-align: left;\">2022-10-02T18:22:01</td><td style = \"text-align: left;\">B06</td><td style = \"text-align: left;\">https://data.lpdaac.earthdatacloud.nasa.gov/lp-prod-protected/HLSS30.020/HLS.S30.T11SPS.2022275T182201.v2.0/HLS.S30.T11SPS.2022275T182201.v2.0.B06.tif</td><td style = \"text-align: left;\">s3://lp-prod-protected/HLSS30.020/HLS.S30.T11SPS.2022275T182201.v2.0/HLS.S30.T11SPS.2022275T182201.v2.0.B06.tif</td></tr><tr><td class = \"rowNumber\" style = \"font-weight: bold; text-align: right;\">11</td><td style = \"text-align: left;\">HLS.S30.T11SPS.2022275T182201.v2.0</td><td style = \"text-align: left;\">S30</td><td style = \"text-align: left;\">11SPS</td><td style = \"text-align: left;\">2022-10-02</td><td style = \"text-align: left;\">2022-10-02T18:22:01</td><td style = \"text-align: left;\">B07</td><td style = \"text-align: left;\">https://data.lpdaac.earthdatacloud.nasa.gov/lp-prod-protected/HLSS30.020/HLS.S30.T11SPS.2022275T182201.v2.0/HLS.S30.T11SPS.2022275T182201.v2.0.B07.tif</td><td style = \"text-align: left;\">s3://lp-prod-protected/HLSS30.020/HLS.S30.T11SPS.2022275T182201.v2.0/HLS.S30.T11SPS.2022275T182201.v2.0.B07.tif</td></tr><tr><td class = \"rowNumber\" style = \"font-weight: bold; text-align: right;\">12</td><td style = \"text-align: left;\">HLS.S30.T11SPS.2022275T182201.v2.0</td><td style = \"text-align: left;\">S30</td><td style = \"text-align: left;\">11SPS</td><td style = \"text-align: left;\">2022-10-02</td><td style = \"text-align: left;\">2022-10-02T18:22:01</td><td style = \"text-align: left;\">B12</td><td style = \"text-align: left;\">https://data.lpdaac.earthdatacloud.nasa.gov/lp-prod-protected/HLSS30.020/HLS.S30.T11SPS.2022275T182201.v2.0/HLS.S30.T11SPS.2022275T182201.v2.0.B12.tif</td><td style = \"text-align: left;\">s3://lp-prod-protected/HLSS30.020/HLS.S30.T11SPS.2022275T182201.v2.0/HLS.S30.T11SPS.2022275T182201.v2.0.B12.tif</td></tr><tr><td class = \"rowNumber\" style = \"font-weight: bold; text-align: right;\">13</td><td style = \"text-align: left;\">HLS.S30.T11SPS.2022275T182201.v2.0</td><td style = \"text-align: left;\">S30</td><td style = \"text-align: left;\">11SPS</td><td style = \"text-align: left;\">2022-10-02</td><td style = \"text-align: left;\">2022-10-02T18:22:01</td><td style = \"text-align: left;\">B08</td><td style = \"text-align: left;\">https://data.lpdaac.earthdatacloud.nasa.gov/lp-prod-protected/HLSS30.020/HLS.S30.T11SPS.2022275T182201.v2.0/HLS.S30.T11SPS.2022275T182201.v2.0.B08.tif</td><td style = \"text-align: left;\">s3://lp-prod-protected/HLSS30.020/HLS.S30.T11SPS.2022275T182201.v2.0/HLS.S30.T11SPS.2022275T182201.v2.0.B08.tif</td></tr><tr><td style = \"text-align: right;\">&vellip;</td><td style = \"text-align: right;\">&vellip;</td><td style = \"text-align: right;\">&vellip;</td><td style = \"text-align: right;\">&vellip;</td><td style = \"text-align: right;\">&vellip;</td><td style = \"text-align: right;\">&vellip;</td><td style = \"text-align: right;\">&vellip;</td><td style = \"text-align: right;\">&vellip;</td><td style = \"text-align: right;\">&vellip;</td></tr><tr><td class = \"rowNumber\" style = \"font-weight: bold; text-align: right;\">91</td><td style = \"text-align: left;\">HLS.S30.T11SPS.2022282T181251.v2.0</td><td style = \"text-align: left;\">S30</td><td style = \"text-align: left;\">11SPS</td><td style = \"text-align: left;\">2022-10-09</td><td style = \"text-align: left;\">2022-10-09T18:12:51</td><td style = \"text-align: left;\">B03</td><td style = \"text-align: left;\">https://data.lpdaac.earthdatacloud.nasa.gov/lp-prod-protected/HLSS30.020/HLS.S30.T11SPS.2022282T181251.v2.0/HLS.S30.T11SPS.2022282T181251.v2.0.B03.tif</td><td style = \"text-align: left;\">s3://lp-prod-protected/HLSS30.020/HLS.S30.T11SPS.2022282T181251.v2.0/HLS.S30.T11SPS.2022282T181251.v2.0.B03.tif</td></tr><tr><td class = \"rowNumber\" style = \"font-weight: bold; text-align: right;\">92</td><td style = \"text-align: left;\">HLS.S30.T11SPS.2022282T181251.v2.0</td><td style = \"text-align: left;\">S30</td><td style = \"text-align: left;\">11SPS</td><td style = \"text-align: left;\">2022-10-09</td><td style = \"text-align: left;\">2022-10-09T18:12:51</td><td style = \"text-align: left;\">B07</td><td style = \"text-align: left;\">https://data.lpdaac.earthdatacloud.nasa.gov/lp-prod-protected/HLSS30.020/HLS.S30.T11SPS.2022282T181251.v2.0/HLS.S30.T11SPS.2022282T181251.v2.0.B07.tif</td><td style = \"text-align: left;\">s3://lp-prod-protected/HLSS30.020/HLS.S30.T11SPS.2022282T181251.v2.0/HLS.S30.T11SPS.2022282T181251.v2.0.B07.tif</td></tr><tr><td class = \"rowNumber\" style = \"font-weight: bold; text-align: right;\">93</td><td style = \"text-align: left;\">HLS.S30.T11SPS.2022282T181251.v2.0</td><td style = \"text-align: left;\">S30</td><td style = \"text-align: left;\">11SPS</td><td style = \"text-align: left;\">2022-10-09</td><td style = \"text-align: left;\">2022-10-09T18:12:51</td><td style = \"text-align: left;\">B10</td><td style = \"text-align: left;\">https://data.lpdaac.earthdatacloud.nasa.gov/lp-prod-protected/HLSS30.020/HLS.S30.T11SPS.2022282T181251.v2.0/HLS.S30.T11SPS.2022282T181251.v2.0.B10.tif</td><td style = \"text-align: left;\">s3://lp-prod-protected/HLSS30.020/HLS.S30.T11SPS.2022282T181251.v2.0/HLS.S30.T11SPS.2022282T181251.v2.0.B10.tif</td></tr><tr><td class = \"rowNumber\" style = \"font-weight: bold; text-align: right;\">94</td><td style = \"text-align: left;\">HLS.S30.T11SPS.2022282T181251.v2.0</td><td style = \"text-align: left;\">S30</td><td style = \"text-align: left;\">11SPS</td><td style = \"text-align: left;\">2022-10-09</td><td style = \"text-align: left;\">2022-10-09T18:12:51</td><td style = \"text-align: left;\">B8A</td><td style = \"text-align: left;\">https://data.lpdaac.earthdatacloud.nasa.gov/lp-prod-protected/HLSS30.020/HLS.S30.T11SPS.2022282T181251.v2.0/HLS.S30.T11SPS.2022282T181251.v2.0.B8A.tif</td><td style = \"text-align: left;\">s3://lp-prod-protected/HLSS30.020/HLS.S30.T11SPS.2022282T181251.v2.0/HLS.S30.T11SPS.2022282T181251.v2.0.B8A.tif</td></tr><tr><td class = \"rowNumber\" style = \"font-weight: bold; text-align: right;\">95</td><td style = \"text-align: left;\">HLS.S30.T11SPS.2022282T181251.v2.0</td><td style = \"text-align: left;\">S30</td><td style = \"text-align: left;\">11SPS</td><td style = \"text-align: left;\">2022-10-09</td><td style = \"text-align: left;\">2022-10-09T18:12:51</td><td style = \"text-align: left;\">VZA</td><td style = \"text-align: left;\">https://data.lpdaac.earthdatacloud.nasa.gov/lp-prod-protected/HLSS30.020/HLS.S30.T11SPS.2022282T181251.v2.0/HLS.S30.T11SPS.2022282T181251.v2.0.VZA.tif</td><td style = \"text-align: left;\">s3://lp-prod-protected/HLSS30.020/HLS.S30.T11SPS.2022282T181251.v2.0/HLS.S30.T11SPS.2022282T181251.v2.0.VZA.tif</td></tr><tr><td class = \"rowNumber\" style = \"font-weight: bold; text-align: right;\">96</td><td style = \"text-align: left;\">HLS.S30.T11SPS.2022282T181251.v2.0</td><td style = \"text-align: left;\">S30</td><td style = \"text-align: left;\">11SPS</td><td style = \"text-align: left;\">2022-10-09</td><td style = \"text-align: left;\">2022-10-09T18:12:51</td><td style = \"text-align: left;\">B05</td><td style = \"text-align: left;\">https://data.lpdaac.earthdatacloud.nasa.gov/lp-prod-protected/HLSS30.020/HLS.S30.T11SPS.2022282T181251.v2.0/HLS.S30.T11SPS.2022282T181251.v2.0.B05.tif</td><td style = \"text-align: left;\">s3://lp-prod-protected/HLSS30.020/HLS.S30.T11SPS.2022282T181251.v2.0/HLS.S30.T11SPS.2022282T181251.v2.0.B05.tif</td></tr><tr><td class = \"rowNumber\" style = \"font-weight: bold; text-align: right;\">97</td><td style = \"text-align: left;\">HLS.S30.T11SPS.2022282T181251.v2.0</td><td style = \"text-align: left;\">S30</td><td style = \"text-align: left;\">11SPS</td><td style = \"text-align: left;\">2022-10-09</td><td style = \"text-align: left;\">2022-10-09T18:12:51</td><td style = \"text-align: left;\">B12</td><td style = \"text-align: left;\">https://data.lpdaac.earthdatacloud.nasa.gov/lp-prod-protected/HLSS30.020/HLS.S30.T11SPS.2022282T181251.v2.0/HLS.S30.T11SPS.2022282T181251.v2.0.B12.tif</td><td style = \"text-align: left;\">s3://lp-prod-protected/HLSS30.020/HLS.S30.T11SPS.2022282T181251.v2.0/HLS.S30.T11SPS.2022282T181251.v2.0.B12.tif</td></tr><tr><td class = \"rowNumber\" style = \"font-weight: bold; text-align: right;\">98</td><td style = \"text-align: left;\">HLS.S30.T11SPS.2022282T181251.v2.0</td><td style = \"text-align: left;\">S30</td><td style = \"text-align: left;\">11SPS</td><td style = \"text-align: left;\">2022-10-09</td><td style = \"text-align: left;\">2022-10-09T18:12:51</td><td style = \"text-align: left;\">B01</td><td style = \"text-align: left;\">https://data.lpdaac.earthdatacloud.nasa.gov/lp-prod-protected/HLSS30.020/HLS.S30.T11SPS.2022282T181251.v2.0/HLS.S30.T11SPS.2022282T181251.v2.0.B01.tif</td><td style = \"text-align: left;\">s3://lp-prod-protected/HLSS30.020/HLS.S30.T11SPS.2022282T181251.v2.0/HLS.S30.T11SPS.2022282T181251.v2.0.B01.tif</td></tr><tr><td class = \"rowNumber\" style = \"font-weight: bold; text-align: right;\">99</td><td style = \"text-align: left;\">HLS.S30.T11SPS.2022282T181251.v2.0</td><td style = \"text-align: left;\">S30</td><td style = \"text-align: left;\">11SPS</td><td style = \"text-align: left;\">2022-10-09</td><td style = \"text-align: left;\">2022-10-09T18:12:51</td><td style = \"text-align: left;\">VAA</td><td style = \"text-align: left;\">https://data.lpdaac.earthdatacloud.nasa.gov/lp-prod-protected/HLSS30.020/HLS.S30.T11SPS.2022282T181251.v2.0/HLS.S30.T11SPS.2022282T181251.v2.0.VAA.tif</td><td style = \"text-align: left;\">s3://lp-prod-protected/HLSS30.020/HLS.S30.T11SPS.2022282T181251.v2.0/HLS.S30.T11SPS.2022282T181251.v2.0.VAA.tif</td></tr><tr><td class = \"rowNumber\" style = \"font-weight: bold; text-align: right;\">100</td><td style = \"text-align: left;\">HLS.S30.T11SPS.2022282T181251.v2.0</td><td style = \"text-align: left;\">S30</td><td style = \"text-align: left;\">11SPS</td><td style = \"text-align: left;\">2022-10-09</td><td style = \"text-align: left;\">2022-10-09T18:12:51</td><td style = \"text-align: left;\">B02</td><td style = \"text-align: left;\">https://data.lpdaac.earthdatacloud.nasa.gov/lp-prod-protected/HLSS30.020/HLS.S30.T11SPS.2022282T181251.v2.0/HLS.S30.T11SPS.2022282T181251.v2.0.B02.tif</td><td style = \"text-align: left;\">s3://lp-prod-protected/HLSS30.020/HLS.S30.T11SPS.2022282T181251.v2.0/HLS.S30.T11SPS.2022282T181251.v2.0.B02.tif</td></tr><tr><td class = \"rowNumber\" style = \"font-weight: bold; text-align: right;\">101</td><td style = \"text-align: left;\">HLS.S30.T11SPS.2022282T181251.v2.0</td><td style = \"text-align: left;\">S30</td><td style = \"text-align: left;\">11SPS</td><td style = \"text-align: left;\">2022-10-09</td><td style = \"text-align: left;\">2022-10-09T18:12:51</td><td style = \"text-align: left;\">B04</td><td style = \"text-align: left;\">https://data.lpdaac.earthdatacloud.nasa.gov/lp-prod-protected/HLSS30.020/HLS.S30.T11SPS.2022282T181251.v2.0/HLS.S30.T11SPS.2022282T181251.v2.0.B04.tif</td><td style = \"text-align: left;\">s3://lp-prod-protected/HLSS30.020/HLS.S30.T11SPS.2022282T181251.v2.0/HLS.S30.T11SPS.2022282T181251.v2.0.B04.tif</td></tr><tr><td class = \"rowNumber\" style = \"font-weight: bold; text-align: right;\">102</td><td style = \"text-align: left;\">HLS.S30.T11SPS.2022282T181251.v2.0</td><td style = \"text-align: left;\">S30</td><td style = \"text-align: left;\">11SPS</td><td style = \"text-align: left;\">2022-10-09</td><td style = \"text-align: left;\">2022-10-09T18:12:51</td><td style = \"text-align: left;\">B06</td><td style = \"text-align: left;\">https://data.lpdaac.earthdatacloud.nasa.gov/lp-prod-protected/HLSS30.020/HLS.S30.T11SPS.2022282T181251.v2.0/HLS.S30.T11SPS.2022282T181251.v2.0.B06.tif</td><td style = \"text-align: left;\">s3://lp-prod-protected/HLSS30.020/HLS.S30.T11SPS.2022282T181251.v2.0/HLS.S30.T11SPS.2022282T181251.v2.0.B06.tif</td></tr></tbody></table></div>"
      ],
      "text/latex": [
       "\\begin{tabular}{r|cccccc}\n",
       "\t& granule\\_ID & sensor & tile & date & time & \\\\\n",
       "\t\\hline\n",
       "\t& Any & Any & Any & Any & Any & \\\\\n",
       "\t\\hline\n",
       "\t1 & HLS.S30.T11SPS.2022275T182201.v2.0 & S30 & 11SPS & 2022-10-02 & 2022-10-02T18:22:01 & $\\dots$ \\\\\n",
       "\t2 & HLS.S30.T11SPS.2022275T182201.v2.0 & S30 & 11SPS & 2022-10-02 & 2022-10-02T18:22:01 & $\\dots$ \\\\\n",
       "\t3 & HLS.S30.T11SPS.2022275T182201.v2.0 & S30 & 11SPS & 2022-10-02 & 2022-10-02T18:22:01 & $\\dots$ \\\\\n",
       "\t4 & HLS.S30.T11SPS.2022275T182201.v2.0 & S30 & 11SPS & 2022-10-02 & 2022-10-02T18:22:01 & $\\dots$ \\\\\n",
       "\t5 & HLS.S30.T11SPS.2022275T182201.v2.0 & S30 & 11SPS & 2022-10-02 & 2022-10-02T18:22:01 & $\\dots$ \\\\\n",
       "\t6 & HLS.S30.T11SPS.2022275T182201.v2.0 & S30 & 11SPS & 2022-10-02 & 2022-10-02T18:22:01 & $\\dots$ \\\\\n",
       "\t7 & HLS.S30.T11SPS.2022275T182201.v2.0 & S30 & 11SPS & 2022-10-02 & 2022-10-02T18:22:01 & $\\dots$ \\\\\n",
       "\t8 & HLS.S30.T11SPS.2022275T182201.v2.0 & S30 & 11SPS & 2022-10-02 & 2022-10-02T18:22:01 & $\\dots$ \\\\\n",
       "\t9 & HLS.S30.T11SPS.2022275T182201.v2.0 & S30 & 11SPS & 2022-10-02 & 2022-10-02T18:22:01 & $\\dots$ \\\\\n",
       "\t10 & HLS.S30.T11SPS.2022275T182201.v2.0 & S30 & 11SPS & 2022-10-02 & 2022-10-02T18:22:01 & $\\dots$ \\\\\n",
       "\t11 & HLS.S30.T11SPS.2022275T182201.v2.0 & S30 & 11SPS & 2022-10-02 & 2022-10-02T18:22:01 & $\\dots$ \\\\\n",
       "\t12 & HLS.S30.T11SPS.2022275T182201.v2.0 & S30 & 11SPS & 2022-10-02 & 2022-10-02T18:22:01 & $\\dots$ \\\\\n",
       "\t13 & HLS.S30.T11SPS.2022275T182201.v2.0 & S30 & 11SPS & 2022-10-02 & 2022-10-02T18:22:01 & $\\dots$ \\\\\n",
       "\t14 & HLS.S30.T11SPS.2022275T182201.v2.0 & S30 & 11SPS & 2022-10-02 & 2022-10-02T18:22:01 & $\\dots$ \\\\\n",
       "\t15 & HLS.S30.T11SPS.2022275T182201.v2.0 & S30 & 11SPS & 2022-10-02 & 2022-10-02T18:22:01 & $\\dots$ \\\\\n",
       "\t16 & HLS.S30.T11SPS.2022275T182201.v2.0 & S30 & 11SPS & 2022-10-02 & 2022-10-02T18:22:01 & $\\dots$ \\\\\n",
       "\t17 & HLS.S30.T11SPS.2022275T182201.v2.0 & S30 & 11SPS & 2022-10-02 & 2022-10-02T18:22:01 & $\\dots$ \\\\\n",
       "\t18 & HLS.S30.T11SPS.2022275T182201.v2.0 & S30 & 11SPS & 2022-10-02 & 2022-10-02T18:22:01 & $\\dots$ \\\\\n",
       "\t19 & HLS.S30.T11SPS.2022277T181209.v2.0 & S30 & 11SPS & 2022-10-04 & 2022-10-04T18:12:09 & $\\dots$ \\\\\n",
       "\t20 & HLS.S30.T11SPS.2022277T181209.v2.0 & S30 & 11SPS & 2022-10-04 & 2022-10-04T18:12:09 & $\\dots$ \\\\\n",
       "\t21 & HLS.S30.T11SPS.2022277T181209.v2.0 & S30 & 11SPS & 2022-10-04 & 2022-10-04T18:12:09 & $\\dots$ \\\\\n",
       "\t22 & HLS.S30.T11SPS.2022277T181209.v2.0 & S30 & 11SPS & 2022-10-04 & 2022-10-04T18:12:09 & $\\dots$ \\\\\n",
       "\t23 & HLS.S30.T11SPS.2022277T181209.v2.0 & S30 & 11SPS & 2022-10-04 & 2022-10-04T18:12:09 & $\\dots$ \\\\\n",
       "\t24 & HLS.S30.T11SPS.2022277T181209.v2.0 & S30 & 11SPS & 2022-10-04 & 2022-10-04T18:12:09 & $\\dots$ \\\\\n",
       "\t$\\dots$ & $\\dots$ & $\\dots$ & $\\dots$ & $\\dots$ & $\\dots$ &  \\\\\n",
       "\\end{tabular}\n"
      ],
      "text/plain": [
       "\u001b[1m102×8 DataFrame\u001b[0m\n",
       "\u001b[1m Row \u001b[0m│\u001b[1m granule_ID                        \u001b[0m\u001b[1m sensor \u001b[0m\u001b[1m tile  \u001b[0m\u001b[1m date       \u001b[0m\u001b[1m time     \u001b[0m ⋯\n",
       "     │\u001b[90m Any                               \u001b[0m\u001b[90m Any    \u001b[0m\u001b[90m Any   \u001b[0m\u001b[90m Any        \u001b[0m\u001b[90m Any      \u001b[0m ⋯\n",
       "─────┼──────────────────────────────────────────────────────────────────────────\n",
       "   1 │ HLS.S30.T11SPS.2022275T182201.v2…  S30     11SPS  2022-10-02  2022-10-0 ⋯\n",
       "   2 │ HLS.S30.T11SPS.2022275T182201.v2…  S30     11SPS  2022-10-02  2022-10-0\n",
       "   3 │ HLS.S30.T11SPS.2022275T182201.v2…  S30     11SPS  2022-10-02  2022-10-0\n",
       "   4 │ HLS.S30.T11SPS.2022275T182201.v2…  S30     11SPS  2022-10-02  2022-10-0\n",
       "   5 │ HLS.S30.T11SPS.2022275T182201.v2…  S30     11SPS  2022-10-02  2022-10-0 ⋯\n",
       "   6 │ HLS.S30.T11SPS.2022275T182201.v2…  S30     11SPS  2022-10-02  2022-10-0\n",
       "   7 │ HLS.S30.T11SPS.2022275T182201.v2…  S30     11SPS  2022-10-02  2022-10-0\n",
       "   8 │ HLS.S30.T11SPS.2022275T182201.v2…  S30     11SPS  2022-10-02  2022-10-0\n",
       "  ⋮  │                 ⋮                    ⋮       ⋮        ⋮                 ⋱\n",
       "  96 │ HLS.S30.T11SPS.2022282T181251.v2…  S30     11SPS  2022-10-09  2022-10-0 ⋯\n",
       "  97 │ HLS.S30.T11SPS.2022282T181251.v2…  S30     11SPS  2022-10-09  2022-10-0\n",
       "  98 │ HLS.S30.T11SPS.2022282T181251.v2…  S30     11SPS  2022-10-09  2022-10-0\n",
       "  99 │ HLS.S30.T11SPS.2022282T181251.v2…  S30     11SPS  2022-10-09  2022-10-0\n",
       " 100 │ HLS.S30.T11SPS.2022282T181251.v2…  S30     11SPS  2022-10-09  2022-10-0 ⋯\n",
       " 101 │ HLS.S30.T11SPS.2022282T181251.v2…  S30     11SPS  2022-10-09  2022-10-0\n",
       " 102 │ HLS.S30.T11SPS.2022282T181251.v2…  S30     11SPS  2022-10-09  2022-10-0\n",
       "\u001b[36m                                                   4 columns and 87 rows omitted\u001b[0m"
      ]
     },
     "metadata": {},
     "output_type": "display_data"
    }
   ],
   "source": [
    "listing = HLS_CMR_query(tile, start_date, end_date)"
   ]
  },
  {
   "cell_type": "code",
   "execution_count": 4,
   "metadata": {},
   "outputs": [
    {
     "data": {
      "text/plain": [
       "\"https://data.lpdaac.earthdatacloud.nasa.gov/lp-prod-protected/HLSS30.020/HLS.S30.T11SPS.2022275T182201.v2.0/HLS.S30.T11SPS.2022275T182201.v2.0.B8A.tif\""
      ]
     },
     "metadata": {},
     "output_type": "display_data"
    }
   ],
   "source": [
    "URL = String(listing[1, :https])"
   ]
  },
  {
   "cell_type": "code",
   "execution_count": 5,
   "metadata": {},
   "outputs": [
    {
     "data": {
      "text/plain": [
       "\"~/data/STARS_HLS_download_testing\""
      ]
     },
     "metadata": {},
     "output_type": "display_data"
    }
   ],
   "source": [
    "join(download_directory, )"
   ]
  },
  {
   "cell_type": "code",
   "execution_count": 6,
   "metadata": {},
   "outputs": [
    {
     "data": {
      "text/plain": [
       "\"HLS.S30.T11SPS.2022275T182201.v2.0.B8A.tif\""
      ]
     },
     "metadata": {},
     "output_type": "display_data"
    }
   ],
   "source": [
    "filename_base = String(split(URL, \"/\")[end])"
   ]
  },
  {
   "cell_type": "code",
   "execution_count": 7,
   "metadata": {},
   "outputs": [
    {
     "data": {
      "text/plain": [
       "\"~/data/STARS_HLS_download_testing\""
      ]
     },
     "metadata": {},
     "output_type": "display_data"
    }
   ],
   "source": [
    "download_directory"
   ]
  },
  {
   "cell_type": "code",
   "execution_count": 8,
   "metadata": {},
   "outputs": [
    {
     "data": {
      "text/plain": [
       "\"HLS.S30.T11SPS.2022275T182201.v2.0\""
      ]
     },
     "metadata": {},
     "output_type": "display_data"
    }
   ],
   "source": [
    "granule_ID = join(split(filename_base, \".\")[1:6], \".\")"
   ]
  },
  {
   "cell_type": "code",
   "execution_count": 9,
   "metadata": {},
   "outputs": [
    {
     "data": {
      "text/plain": [
       "2022-10-02"
      ]
     },
     "metadata": {},
     "output_type": "display_data"
    }
   ],
   "source": [
    "timestamp = replace(String(split(filename_base, \".\")[4]), \"T\" => \"\")\n",
    "year = parse(Int, timestamp[1:4])\n",
    "doy = parse(Int, timestamp[5:7])\n",
    "date = Date(year, 1, 1) + Day(doy - 1)"
   ]
  },
  {
   "cell_type": "code",
   "execution_count": 10,
   "metadata": {},
   "outputs": [
    {
     "data": {
      "text/plain": [
       "\"/Users/halverso/data/STARS_HLS_download_testing/2022.10.02/HLS.S30.T11SPS.2022275T182201.v2.0/HLS.S30.T11SPS.2022275T182201.v2.0.B8A.tif\""
      ]
     },
     "metadata": {},
     "output_type": "display_data"
    }
   ],
   "source": [
    "filepath = joinpath(\n",
    "    expanduser(download_directory), \n",
    "    Dates.format(date, \"yyyy.mm.dd\"),\n",
    "    granule_ID,\n",
    "    String(split(URL, \"/\")[end])\n",
    ")"
   ]
  },
  {
   "cell_type": "code",
   "execution_count": 11,
   "metadata": {},
   "outputs": [
    {
     "data": {
      "text/plain": [
       "generate_HLS_filename (generic function with 1 method)"
      ]
     },
     "metadata": {},
     "output_type": "display_data"
    }
   ],
   "source": [
    "function generate_HLS_filename(URL::String, download_directory::String)::String\n",
    "    filename_base = String(split(URL, \"/\")[end])\n",
    "    granule_ID = join(split(filename_base, \".\")[1:6], \".\")\n",
    "    timestamp = replace(String(split(filename_base, \".\")[4]), \"T\" => \"\")\n",
    "    year = parse(Int, timestamp[1:4])\n",
    "    doy = parse(Int, timestamp[5:7])\n",
    "    date = Date(year, 1, 1) + Day(doy - 1)\n",
    "\n",
    "    filename = joinpath(\n",
    "        expanduser(download_directory),\n",
    "        Dates.format(date, \"yyyy.mm.dd\"),\n",
    "        granule_ID,\n",
    "        String(split(URL, \"/\")[end])\n",
    "    )\n",
    "\n",
    "    return filename\n",
    "end"
   ]
  },
  {
   "cell_type": "code",
   "execution_count": 12,
   "metadata": {},
   "outputs": [
    {
     "data": {
      "text/plain": [
       "\"/Users/halverso/data/STARS_HLS_download_testing/2022.10.02/HLS.S30.T11SPS.2022275T182201.v2.0/HLS.S30.T11SPS.2022275T182201.v2.0.B8A.tif\""
      ]
     },
     "metadata": {},
     "output_type": "display_data"
    }
   ],
   "source": [
    "filename = generate_HLS_filename(URL, download_directory)"
   ]
  },
  {
   "cell_type": "code",
   "execution_count": 13,
   "metadata": {},
   "outputs": [
    {
     "data": {
      "text/plain": [
       "\"/Users/halverso/data/STARS_HLS_download_testing/2022.10.02/HLS.S30.T11SPS.2022275T182201.v2.0\""
      ]
     },
     "metadata": {},
     "output_type": "display_data"
    }
   ],
   "source": [
    "directory = dirname(filename)"
   ]
  },
  {
   "cell_type": "code",
   "execution_count": 14,
   "metadata": {},
   "outputs": [
    {
     "data": {
      "text/plain": [
       "\"/Users/halverso/data/STARS_HLS_download_testing/2022.10.02/HLS.S30.T11SPS.2022275T182201.v2.0\""
      ]
     },
     "metadata": {},
     "output_type": "display_data"
    }
   ],
   "source": [
    "mkpath(directory)"
   ]
  },
  {
   "cell_type": "code",
   "execution_count": 15,
   "metadata": {},
   "outputs": [
    {
     "ename": "Downloads.RequestError",
     "evalue": "HTTP/1.1 401 Unauthorized while requesting https://data.lpdaac.earthdatacloud.nasa.gov/lp-prod-protected/HLSS30.020/HLS.S30.T11SPS.2022275T182201.v2.0/HLS.S30.T11SPS.2022275T182201.v2.0.B8A.tif",
     "output_type": "error",
     "traceback": [
      "HTTP/1.1 401 Unauthorized while requesting https://data.lpdaac.earthdatacloud.nasa.gov/lp-prod-protected/HLSS30.020/HLS.S30.T11SPS.2022275T182201.v2.0/HLS.S30.T11SPS.2022275T182201.v2.0.B8A.tif\n",
      "\n",
      "Stacktrace:\n",
      "  [1] #3\n",
      "    @ /Applications/Julia-1.8.app/Contents/Resources/julia/share/julia/stdlib/v1.8/Downloads/src/Downloads.jl:243 [inlined]\n",
      "  [2] open(f::Downloads.var\"#3#4\"{Nothing, Vector{Pair{String, String}}, Float64, Nothing, Bool, Nothing, Nothing, String}, args::String; kwargs::Base.Pairs{Symbol, Bool, Tuple{Symbol, Symbol}, NamedTuple{(:write, :lock), Tuple{Bool, Bool}}})\n",
      "    @ Base ./io.jl:384\n",
      "  [3] #open_nolock#1\n",
      "    @ /Applications/Julia-1.8.app/Contents/Resources/julia/share/julia/stdlib/v1.8/ArgTools/src/ArgTools.jl:35 [inlined]\n",
      "  [4] arg_write(f::Function, arg::String)\n",
      "    @ ArgTools /Applications/Julia-1.8.app/Contents/Resources/julia/share/julia/stdlib/v1.8/ArgTools/src/ArgTools.jl:103\n",
      "  [5] #download#2\n",
      "    @ /Applications/Julia-1.8.app/Contents/Resources/julia/share/julia/stdlib/v1.8/Downloads/src/Downloads.jl:230 [inlined]\n",
      "  [6] download(url::String, output::String)\n",
      "    @ Downloads /Applications/Julia-1.8.app/Contents/Resources/julia/share/julia/stdlib/v1.8/Downloads/src/Downloads.jl:219\n",
      "  [7] #invokelatest#2\n",
      "    @ ./essentials.jl:729 [inlined]\n",
      "  [8] invokelatest\n",
      "    @ ./essentials.jl:726 [inlined]\n",
      "  [9] do_download(url::String, path::String)\n",
      "    @ Base ./download.jl:24\n",
      " [10] download(url::String, path::String)\n",
      "    @ Base ./download.jl:19\n",
      " [11] top-level scope\n",
      "    @ ~/Projects/STARS.jl/examples/STARS Example.ipynb:1"
     ]
    }
   ],
   "source": [
    "download(URL, filename)"
   ]
  },
  {
   "cell_type": "code",
   "execution_count": null,
   "metadata": {},
   "outputs": [],
   "source": []
  }
 ],
 "metadata": {
  "kernelspec": {
   "display_name": "Julia 1.8.5",
   "language": "julia",
   "name": "julia-1.8"
  },
  "language_info": {
   "file_extension": ".jl",
   "mimetype": "application/julia",
   "name": "julia",
   "version": "1.8.5"
  },
  "orig_nbformat": 4
 },
 "nbformat": 4,
 "nbformat_minor": 2
}
